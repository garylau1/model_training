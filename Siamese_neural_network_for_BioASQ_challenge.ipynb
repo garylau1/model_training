{
  "cells": [
    {
      "cell_type": "markdown",
      "metadata": {
        "id": "view-in-github",
        "colab_type": "text"
      },
      "source": [
        "<a href=\"https://colab.research.google.com/github/garylau1/model_training/blob/main/Siamese_neural_network_for_BioASQ_challenge.ipynb\" target=\"_parent\"><img src=\"https://colab.research.google.com/assets/colab-badge.svg\" alt=\"Open In Colab\"/></a>"
      ]
    },
    {
      "cell_type": "markdown",
      "metadata": {
        "id": "S9pWsPAt0dCh"
      },
      "source": [
        "Find complex answers to medical questions\n",
        "\n",
        "\n"
      ]
    },
    {
      "cell_type": "markdown",
      "metadata": {
        "id": "YW5l3E6r8Qwm"
      },
      "source": [
        "# Overall Task Review\n",
        "\n",
        "You will work on a task of \"query-focused summarisation\" on medical questions where the goal is, given a medical question and a list of sentences extracted from relevant medical publications, to determine which of these sentences from the list can be used as part of the answer to the question. Assignment 3 is divided into two parts. Part 1 will help you get familar with the data, and Part 2 requires you to implement deep neural networks.\n",
        "\n",
        "We will use data that has been derived from the **BioASQ challenge** (http://www.bioasq.org/), after some data manipulation to make it easier to process for this assignment. The BioASQ challenge organises several \"shared tasks\", including a task on biomedical semantic question answering which we are using here. The data are in the file `bioasq10_labelled.csv`, which is part of the zip file provided. Each row of the file has a question, a sentence text, and a label that indicates whether the sentence text is part of the answer to the question (1) or not (0)."
      ]
    },
    {
      "cell_type": "markdown",
      "metadata": {
        "id": "b_Eji1qY8Qwm"
      },
      "source": [
        "# Data Review\n",
        "\n",
        "The following code uses pandas to store the file `bioasq10_labelled.csv` in a data frame and show the first rows of data. For this code to run, first you need to unzip the file `data.zip`:"
      ]
    },
    {
      "cell_type": "code",
      "execution_count": null,
      "metadata": {
        "id": "7F-iu1CC8Qwn"
      },
      "outputs": [],
      "source": [
        "\n",
        "\n",
        "from keras.layers import LSTM, SimpleRNN\n",
        "\n",
        "import random\n",
        "random.seed(1234)\n",
        "\n",
        "from keras.preprocessing import sequence\n",
        "from tensorflow.keras.preprocessing import text as TT\n",
        "import tensorflow.keras.backend as K\n",
        "from keras.models import Model, Sequential\n",
        "from keras.layers import  Input, Embedding, LSTM, Bidirectional, Dense, Lambda\n",
        "from keras.initializers import Constant\n",
        "import pandas as pd\n",
        "import numpy as np\n"
      ]
    },
    {
      "cell_type": "markdown",
      "metadata": {
        "id": "SsEqFlSS8Qwp"
      },
      "source": [
        "The columns of the CSV file are:\n",
        "\n",
        "* `qid`: an ID for a question. Several rows may have the same question ID, as we can see above.\n",
        "* `sentid`: an ID for a sentence.\n",
        "* `question`: The text of the question. In the above example, the first rows all have the same question: \"Is Hirschsprung disease a mendelian or a multifactorial disorder?\"\n",
        "* `sentence text`: The text of the sentence.\n",
        "* `label`: 1 if the sentence is a part of the answer, 0 if the sentence is not part of the answer."
      ]
    },
    {
      "cell_type": "markdown",
      "metadata": {
        "id": "4qGQP1eO8Qwq"
      },
      "source": [
        "# Now Let's get started for the Part 2 tasks\n",
        "\n",
        "Use the provided files `training.csv`, `dev_test.csv`, and `test.csv` in the data.zip file for all the tasks below."
      ]
    },
    {
      "cell_type": "markdown",
      "metadata": {
        "id": "9VTTgRnN0dC4"
      },
      "source": [
        "# Task 1 (5 marks): Simple Siamese NN\n",
        "\n",
        "Implement a simple TensorFlow-Keras neural model that has the following sequence of layers:\n",
        "\n",
        "1. An input layer that will accept the tf.idf of triplet data. The input of Siamese network is a triplet, consisting of anchor (i.e., the question), positive answer, negative answer.\n",
        "2. 3 hidden layers and a relu activation function. You need to determine the size of the hidden layers.\n",
        "3. Implement a class that serves as a distance layer. It returns the squared Euclidean distance between anchor and positive answer, as well as that between anchor and negative answer\n",
        "4. Implement a function that prepares raw data in csv files into triplets. Note that it is important to keep the similar number of positive pairs and negative pairs. For example, if a question has 10 anwsers, then we at most can have 10 positive pairs and it is good to associate this question with 10~20 negative sentences.\n",
        "\n",
        "\n",
        "Train the model with the training data and use the `dev_test` set to determine a good size of the hidden layer.\n",
        "\n",
        "With the model that you have trained, implement a summariser that returns the $n$ sentences with highest predicted score. Use the following function signature:\n",
        "\n",
        "```{python}\n",
        "def nn_summariser(csvfile, questionids, n=1):\n",
        "   \"\"\"Return the IDs of the n sentences that have the highest predicted score.\n",
        "      The input questionids is a list of question ids.\n",
        "      The output is a list of lists of sentence ids\n",
        "   \"\"\"\n",
        "\n",
        "```\n",
        "\n",
        "Report the final results using the test set. Remember: use the test set to report the final results of the best system only.\n",
        "\n",
        "The breakdown of marks is as follows:\n",
        "\n",
        "* **1 mark** if the NN model has the correct layers, the correct activation functions, and the correct loss function.\n",
        "* **1 mark** if the code passes input to the model correctly.\n",
        "* **1 mark** if the code returns the IDs of the $n$ sentences that have the highest prediction score in the given question.\n",
        "* **1 mark** if the notebook reports the F1 scores of the test sets and comments on the results.\n",
        "* **1 mark** for good coding and documentation in this task. In particular, the code and results must include evidence that shows your choice of best size of the hidden layer. The explanations must be clear and concise. To make this task less time-consuming, use $n=1$."
      ]
    },
    {
      "cell_type": "markdown",
      "metadata": {
        "id": "0DXhWqelAYva"
      },
      "source": [
        "#### Data preprocessing:\n",
        "\n",
        "- In this part we implement a function that prepares raw data in csv files into triplets by creating a function random_triplet_generator.We keep the exact same number of positive pairs and negative pairs:"
      ]
    },
    {
      "cell_type": "code",
      "execution_count": null,
      "metadata": {
        "id": "NGaVOR-Q7U7x"
      },
      "outputs": [],
      "source": [
        "def random_triplet_generator(x):\n",
        "  # we create a function for preparing triplets with set of anchor,positive and negative texts.\n",
        "  data = pd.read_csv(x)\n",
        "  positive_data=data[data[\"label\"]==1]                   #this part is mainly for anchor and the positive part.\n",
        "  a_input=positive_data[\"question\"].to_list()\n",
        "  p_input=positive_data[\"sentence text\"].to_list()\n",
        "\n",
        "  a_input=np.array(a_input)\n",
        "  p_input=np.array(p_input)\n",
        "\n",
        "  negative_data=data[data[\"label\"]==0]                 #this part is mainly for negative part.\n",
        "  n_input= negative_data[\"sentence text\"].to_list()\n",
        "  n_input=np.array(n_input)\n",
        "  import random\n",
        "\n",
        "  random.seed(10)\n",
        "  ind = [i for i in range(len(a_input))]                # we create two index lists ind and ind_2 to randomly shuffle the data for preventing overfitting\n",
        "  random.shuffle(ind)\n",
        "\n",
        "  random.seed(1212)\n",
        "  ind_2 = [i for i in range(len(n_input))]\n",
        "  random.shuffle(ind_2)\n",
        "\n",
        "\n",
        "  a_input=a_input[ind].tolist()                       #  These are the randomly triplet set we created\n",
        "  n_input=n_input[ind_2].tolist()\n",
        "  p_input=p_input[ind].tolist()\n",
        "\n",
        "  return (a_input,p_input,n_input[0:len(a_input)])   #we need three pairs of data the same length.#\n",
        "\n",
        "# this is the triplet data set with the same length of both positive and  negative texts\n",
        "\n"
      ]
    },
    {
      "cell_type": "code",
      "execution_count": null,
      "metadata": {
        "id": "dBbfpymFWqiE"
      },
      "outputs": [],
      "source": [
        "a_input,p_input,n_input=random_triplet_generator('training.csv')                   #we created a set of triplet in train,dev_test and test sets\n",
        "a_input_test,p_input_test,n_input_test=random_triplet_generator('dev_test.csv')\n",
        "a_input_test2,p_input_test2,n_input_test2=random_triplet_generator('test.csv')"
      ]
    },
    {
      "cell_type": "markdown",
      "metadata": {
        "id": "FAdnJGihAwGR"
      },
      "source": [
        "### tf.idf vector:\n",
        "- We create the tf.idf of triplet data for our train,set and dev_set :"
      ]
    },
    {
      "cell_type": "code",
      "execution_count": null,
      "metadata": {
        "id": "TacCB2qa7VjQ"
      },
      "outputs": [],
      "source": [
        "\n",
        "MAX_LEN=7000               #we only use the first MAX_LEN numbers of  higheest tfidf score to train our models\n",
        "#EPOCH=9\n",
        "batch_size = 40           #set our batch size\n",
        "\n",
        "from tkinter import Text\n",
        "\n",
        "import numpy as np\n",
        "\n",
        "from sklearn.feature_extraction.text import TfidfVectorizer         #\n",
        "\n",
        "\n",
        "\n",
        "tfidf=TfidfVectorizer(stop_words=\"english\",max_features=MAX_LEN)      # We convert into tfidf for each questions and answers\n",
        "#firstly we create the TfidfVectorizer object with max_features\n",
        "\n",
        "tfidf.fit(a_input+p_input+n_input)           #we fit the tfidf\n",
        "\n",
        "\n",
        "a_input=tfidf.transform(a_input).toarray()                  #convert our questions and answers triplet into tfidf vectors\n",
        "n_input=tfidf.transform(n_input).toarray()\n",
        "p_input=tfidf.transform(p_input).toarray()\n",
        "\n",
        "a_input_test=tfidf.transform(a_input_test).toarray()\n",
        "n_input_test=tfidf.transform(n_input_test).toarray()\n",
        "p_input_test=tfidf.transform(p_input_test).toarray()\n",
        "\n",
        "a_input_test2=tfidf.transform(a_input_test2).toarray()\n",
        "n_input_test2=tfidf.transform(n_input_test2).toarray()\n",
        "p_input_test2=tfidf.transform(p_input_test2).toarray()\n",
        "\n",
        "\n"
      ]
    },
    {
      "cell_type": "markdown",
      "metadata": {
        "id": "LF-HnqmvBGM5"
      },
      "source": [
        "#### We create our model with the requirement:\n",
        "\n",
        "- The input of Siamese network is a triplet, consisting of anchor (i.e., the question), positive answer, negative answer.\n",
        "- 3 hidden layers and a relu activation function.\n",
        "- Implement a class that serves as a distance layer. It returns the squared Euclidean distance between anchor and positive answer, as well as that between anchor and negative answer"
      ]
    },
    {
      "cell_type": "code",
      "execution_count": null,
      "metadata": {
        "id": "uY6sDbUn0dC6"
      },
      "outputs": [],
      "source": [
        "first_sent_in_a = Input(shape=(MAX_LEN,))   #we create the input with the max_len input shape to fit our model\n",
        "second_sent_in_p = Input(shape=(MAX_LEN,))\n",
        "third_sent_in_n = Input(shape=(MAX_LEN,))\n",
        "\n",
        "from keras.models import Model, Sequential\n",
        "import tensorflow as tf\n",
        "from keras.layers import  Input, Embedding, LSTM, Bidirectional, Dense, Lambda\n",
        "from tensorflow.keras.layers import Layer\n",
        "\n",
        "def siamese_network_generator(x,y,z):  #we create a function for building the siamese_network with 3 inputs of the hidden layers\n",
        "    first_sent_in_a = Input(shape=(MAX_LEN,))   #we create the input with the max_len input shape to fit our model\n",
        "    second_sent_in_p = Input(shape=(MAX_LEN,))\n",
        "    third_sent_in_n = Input(shape=(MAX_LEN,))\n",
        "\n",
        "\n",
        "    model = Sequential([\n",
        "      Dense(x, activation='relu'),\n",
        "        Dense(y, activation='relu'),     #we have three hidden layers into the model\n",
        "         Dense(z, activation='relu')\n",
        "    ])\n",
        "\n",
        "    encoded_1 = model(first_sent_in_a)         #these are the output where the datas passed through 3 hidden layers\n",
        "    encoded_2 = model(second_sent_in_p)\n",
        "    encoded_3 = model(third_sent_in_n)\n",
        "\n",
        "\n",
        "    class distance_layer(Layer):   #create a distance layer as required\n",
        "\n",
        "\n",
        "        def __init__(self, **kwargs):\n",
        "            super().__init__(**kwargs)   #we need inheritance from the superclass layer.\n",
        "\n",
        "        def call(self, anchor, positive, negative):\n",
        "            ap_distance = tf.reduce_sum(tf.square(anchor - positive), -1)    #we caluclate the distance between the lists of positive(negative) and anchor vector\n",
        "            an_distance = tf.reduce_sum(tf.square(anchor - negative), -1)\n",
        "            return (ap_distance, an_distance)  #Returns the squared Euclidean distance between anchor and positive answer, as well as that between anchor and negative answer\n",
        "\n",
        "\n",
        "    loss_layer = distance_layer()(encoded_1, encoded_2, encoded_3)  #this is the output\n",
        "\n",
        "    siamese_network = Model([first_sent_in_a, second_sent_in_p, third_sent_in_n], loss_layer)  #we define our siamese_network here\n",
        "\n",
        "    return siamese_network"
      ]
    },
    {
      "cell_type": "code",
      "execution_count": null,
      "metadata": {
        "colab": {
          "base_uri": "https://localhost:8080/"
        },
        "id": "ltEBppsNBczr",
        "outputId": "8770da38-4d5f-4b78-e1e9-84eac60ff686"
      },
      "outputs": [
        {
          "name": "stdout",
          "output_type": "stream",
          "text": [
            "Model: \"model\"\n",
            "__________________________________________________________________________________________________\n",
            " Layer (type)                   Output Shape         Param #     Connected to                     \n",
            "==================================================================================================\n",
            " input_4 (InputLayer)           [(None, 7000)]       0           []                               \n",
            "                                                                                                  \n",
            " input_5 (InputLayer)           [(None, 7000)]       0           []                               \n",
            "                                                                                                  \n",
            " input_6 (InputLayer)           [(None, 7000)]       0           []                               \n",
            "                                                                                                  \n",
            " sequential (Sequential)        (None, 32)           373837      ['input_4[0][0]',                \n",
            "                                                                  'input_5[0][0]',                \n",
            "                                                                  'input_6[0][0]']                \n",
            "                                                                                                  \n",
            " distance_layer (distance_layer  ((None,),           0           ['sequential[0][0]',             \n",
            " )                               (None,))                         'sequential[1][0]',             \n",
            "                                                                  'sequential[2][0]']             \n",
            "                                                                                                  \n",
            "==================================================================================================\n",
            "Total params: 373,837\n",
            "Trainable params: 373,837\n",
            "Non-trainable params: 0\n",
            "__________________________________________________________________________________________________\n"
          ]
        }
      ],
      "source": [
        "siamese_network=siamese_network_generator(53,32,32)\n",
        "\n",
        "siamese_network.summary()  #this is an example of how we create the layers of this model"
      ]
    },
    {
      "cell_type": "code",
      "execution_count": null,
      "metadata": {
        "id": "WWEel4GoawIV"
      },
      "outputs": [],
      "source": [
        "import matplotlib.pyplot as plt\n",
        "import numpy as np\n",
        "\n",
        "import random\n",
        "import tensorflow as tf\n",
        "from pathlib import Path\n",
        "from keras import applications\n",
        "from keras import layers\n",
        "from keras import losses\n",
        "\n",
        "from keras import optimizers\n",
        "from keras import metrics\n",
        "from keras import Model\n",
        "from keras.applications import resnet\n",
        "\n",
        "\n",
        "class SiameseModel(Model):\n",
        "# next we define our custom model class as our task is not traditional classification task\n",
        "#there are lot of thing needed to be changed\n",
        "  def __init__(self, siamese_network, margin=0.00000000000000000005):   #we choose such value;if the margin value is too large,the lost will not decrease after long period.\n",
        "    super().__init__()\n",
        "    self.siamese_network = siamese_network                                              # We create a build and create those object\n",
        "    self.loss_tracker = metrics.Mean(name=\"loss\")                  #We define our own metrics with the loss function \"triplet_lost\"  we define below\n",
        "    self.margin = margin                                          #this is the margin value defined for our triplet loss\n",
        "  def call(self, inputs):\n",
        "    return self.siamese_network(inputs)\n",
        "  @tf.function\n",
        "  def train_step(self, data):                         #we define our custom training step with trainable_weights\n",
        "    with tf.GradientTape() as tape:\n",
        "        loss = self.triplet_lost(data)\n",
        "        trainable_vars = self.siamese_network.trainable_weights\n",
        "        gradients = tape.gradient(loss, trainable_vars)\n",
        "        self.optimizer.apply_gradients(                                     #we use gradient descent to keep track of each steps\n",
        "            zip(gradients, trainable_vars)\n",
        "        )\n",
        "        self.loss_tracker.update_state(loss)\n",
        "        return {\"loss\": self.loss_tracker.result()}                           # return the loss for each steps\n",
        "  @tf.function\n",
        "  def test_step(self, data):\n",
        "        loss = self.triplet_lost(data)\n",
        "                                                                                    #we do the same thing for test step\n",
        "        self.loss_tracker.update_state(loss)\n",
        "        return {\"loss_3\": self.loss_tracker.result()}                             #the loss function loss_3 is for triplet validation dataset or test set (depended on situation)\n",
        "  @tf.function\n",
        "  def triplet_lost(self, data):\n",
        "\n",
        "\n",
        "        ap_distance, an_distance = self.siamese_network(data)                  # we defined the triplet loss fucntion inside our custom fit\n",
        "\n",
        "        loss=(tf.maximum(ap_distance - an_distance + self.margin, 0.0))\n",
        "        loss=tf.reduce_sum(loss,0)\n",
        "\n",
        "        return loss\n",
        "  @property\n",
        "  def metrics(self):\n",
        "\n",
        "    return [self.loss_tracker]                              #we need our loss tracker\n",
        "\n",
        "          #print out the detail of model we created\n"
      ]
    },
    {
      "cell_type": "markdown",
      "metadata": {
        "id": "uSjRTNjTBUep"
      },
      "source": [
        "#### Finding the best hyperparamters\n",
        "\n",
        "- In this part we search for different input of parameters and find the best paramters for least validation loss\n",
        "\n",
        "- to simplify the process,we choose different hidden sizes to test the performance but we use the same number of hidden sizes in all 3 hidden layers and we set a fix learning rate with a small margin value(because the validation lost didnt go down after lone period)\n",
        "\n",
        "- We set very small margins due to higher one gives no result.we just make it simple by looking at whether ap_distance is smaller than an_distance only"
      ]
    },
    {
      "cell_type": "code",
      "execution_count": null,
      "metadata": {
        "id": "NTYp74CbnJi2"
      },
      "outputs": [],
      "source": [
        "from tensorflow.keras import callbacks\n",
        "# we set a  function evluate the validation loss by puting different hyperparamters\n",
        "def validation_evaluation(num_1,num_2,num_3,learning_rate,alpha):   #this function gives a input of parameters for each layers,learning rate and margin values\n",
        "  siamese_model = SiameseModel(siamese_network_generator(num_1,num_2,num_3),alpha)\n",
        "  siamese_model.compile(optimizer=optimizers.Adam(learning_rate))\n",
        "  callback = callbacks.EarlyStopping(monitor='loss',patience=2)\n",
        "  siamese_model.fit([a_input, p_input,n_input],epochs=10, batch_size = 80,validation_data=[a_input_test[0:1000], p_input_test[0:1000],n_input_test[0:1000]],callbacks=[callback])\n",
        "  return (siamese_model.evaluate([a_input_test,p_input_test,n_input_test],batch_size = 80),[num_1,num_2,num_3,learning_rate,alpha]) #the output is a the evaluation score\n",
        "# we use 1000 datas for our validation set because it involved approxmiately 1/10 of the training data~"
      ]
    },
    {
      "cell_type": "code",
      "execution_count": null,
      "metadata": {
        "colab": {
          "base_uri": "https://localhost:8080/"
        },
        "id": "eeQ4QdK8wj7_",
        "outputId": "a0e414fc-c2fb-4786-de02-dd58d24cf18a"
      },
      "outputs": [
        {
          "name": "stdout",
          "output_type": "stream",
          "text": [
            "Epoch 1/10\n",
            "138/143 [===========================>..] - ETA: 0s - loss: 1.3482e-04WARNING:tensorflow:`evaluate()` received a value for `sample_weight`, but `weighted_metrics` were not provided.  Did you mean to pass metrics to `weighted_metrics` in `compile()`?  If this is intentional you can pass `weighted_metrics=[]` to `compile()` in order to silence this warning.\n",
            "143/143 [==============================] - 1s 7ms/step - loss: 1.3027e-04 - val_loss_3: 2.1970e-08\n",
            "Epoch 2/10\n",
            "139/143 [============================>.] - ETA: 0s - loss: 3.8916e-06WARNING:tensorflow:`evaluate()` received a value for `sample_weight`, but `weighted_metrics` were not provided.  Did you mean to pass metrics to `weighted_metrics` in `compile()`?  If this is intentional you can pass `weighted_metrics=[]` to `compile()` in order to silence this warning.\n",
            "143/143 [==============================] - 1s 4ms/step - loss: 4.2398e-06 - val_loss_3: 4.8059e-07\n",
            "Epoch 3/10\n",
            "132/143 [==========================>...] - ETA: 0s - loss: 6.3172e-06WARNING:tensorflow:`evaluate()` received a value for `sample_weight`, but `weighted_metrics` were not provided.  Did you mean to pass metrics to `weighted_metrics` in `compile()`?  If this is intentional you can pass `weighted_metrics=[]` to `compile()` in order to silence this warning.\n",
            "143/143 [==============================] - 1s 4ms/step - loss: 5.9712e-06 - val_loss_3: 6.5951e-07\n",
            "Epoch 4/10\n",
            "134/143 [===========================>..] - ETA: 0s - loss: 2.6643e-07WARNING:tensorflow:`evaluate()` received a value for `sample_weight`, but `weighted_metrics` were not provided.  Did you mean to pass metrics to `weighted_metrics` in `compile()`?  If this is intentional you can pass `weighted_metrics=[]` to `compile()` in order to silence this warning.\n",
            "143/143 [==============================] - 1s 4ms/step - loss: 2.5449e-07 - val_loss_3: 9.3379e-09\n",
            "Epoch 5/10\n",
            "136/143 [===========================>..] - ETA: 0s - loss: 8.0659e-09WARNING:tensorflow:`evaluate()` received a value for `sample_weight`, but `weighted_metrics` were not provided.  Did you mean to pass metrics to `weighted_metrics` in `compile()`?  If this is intentional you can pass `weighted_metrics=[]` to `compile()` in order to silence this warning.\n",
            "143/143 [==============================] - 1s 4ms/step - loss: 1.2284e-08 - val_loss_3: 4.7572e-09\n",
            "Epoch 6/10\n",
            "135/143 [===========================>..] - ETA: 0s - loss: 7.2205e-09WARNING:tensorflow:`evaluate()` received a value for `sample_weight`, but `weighted_metrics` were not provided.  Did you mean to pass metrics to `weighted_metrics` in `compile()`?  If this is intentional you can pass `weighted_metrics=[]` to `compile()` in order to silence this warning.\n",
            "143/143 [==============================] - 1s 4ms/step - loss: 6.9285e-09 - val_loss_3: 2.9484e-09\n",
            "Epoch 7/10\n",
            "134/143 [===========================>..] - ETA: 0s - loss: 4.6285e-09WARNING:tensorflow:`evaluate()` received a value for `sample_weight`, but `weighted_metrics` were not provided.  Did you mean to pass metrics to `weighted_metrics` in `compile()`?  If this is intentional you can pass `weighted_metrics=[]` to `compile()` in order to silence this warning.\n",
            "143/143 [==============================] - 1s 4ms/step - loss: 4.5327e-09 - val_loss_3: 2.3696e-09\n",
            "Epoch 8/10\n",
            "138/143 [===========================>..] - ETA: 0s - loss: 3.4639e-09WARNING:tensorflow:`evaluate()` received a value for `sample_weight`, but `weighted_metrics` were not provided.  Did you mean to pass metrics to `weighted_metrics` in `compile()`?  If this is intentional you can pass `weighted_metrics=[]` to `compile()` in order to silence this warning.\n",
            "143/143 [==============================] - 1s 4ms/step - loss: 3.3799e-09 - val_loss_3: 1.7987e-09\n",
            "Epoch 9/10\n",
            "139/143 [============================>.] - ETA: 0s - loss: 2.6262e-09WARNING:tensorflow:`evaluate()` received a value for `sample_weight`, but `weighted_metrics` were not provided.  Did you mean to pass metrics to `weighted_metrics` in `compile()`?  If this is intentional you can pass `weighted_metrics=[]` to `compile()` in order to silence this warning.\n",
            "143/143 [==============================] - 1s 4ms/step - loss: 2.5632e-09 - val_loss_3: 1.4073e-09\n",
            "Epoch 10/10\n",
            "139/143 [============================>.] - ETA: 0s - loss: 2.1022e-09WARNING:tensorflow:`evaluate()` received a value for `sample_weight`, but `weighted_metrics` were not provided.  Did you mean to pass metrics to `weighted_metrics` in `compile()`?  If this is intentional you can pass `weighted_metrics=[]` to `compile()` in order to silence this warning.\n",
            "143/143 [==============================] - 1s 4ms/step - loss: 2.0540e-09 - val_loss_3: 1.2230e-09\n",
            "49/49 [==============================] - 0s 2ms/step - loss_3: 1.6160e-09\n",
            "Epoch 1/10\n",
            "141/143 [============================>.] - ETA: 0s - loss: 4.7537e-04WARNING:tensorflow:`evaluate()` received a value for `sample_weight`, but `weighted_metrics` were not provided.  Did you mean to pass metrics to `weighted_metrics` in `compile()`?  If this is intentional you can pass `weighted_metrics=[]` to `compile()` in order to silence this warning.\n",
            "143/143 [==============================] - 1s 6ms/step - loss: 4.6882e-04 - val_loss_3: 9.9682e-06\n",
            "Epoch 2/10\n",
            "136/143 [===========================>..] - ETA: 0s - loss: 1.3191e-05WARNING:tensorflow:`evaluate()` received a value for `sample_weight`, but `weighted_metrics` were not provided.  Did you mean to pass metrics to `weighted_metrics` in `compile()`?  If this is intentional you can pass `weighted_metrics=[]` to `compile()` in order to silence this warning.\n",
            "143/143 [==============================] - 1s 4ms/step - loss: 1.2768e-05 - val_loss_3: 3.7406e-06\n",
            "Epoch 3/10\n",
            "140/143 [============================>.] - ETA: 0s - loss: 2.1778e-06WARNING:tensorflow:`evaluate()` received a value for `sample_weight`, but `weighted_metrics` were not provided.  Did you mean to pass metrics to `weighted_metrics` in `compile()`?  If this is intentional you can pass `weighted_metrics=[]` to `compile()` in order to silence this warning.\n",
            "143/143 [==============================] - 1s 4ms/step - loss: 2.2259e-06 - val_loss_3: 1.9833e-06\n",
            "Epoch 4/10\n",
            "141/143 [============================>.] - ETA: 0s - loss: 1.6151e-06WARNING:tensorflow:`evaluate()` received a value for `sample_weight`, but `weighted_metrics` were not provided.  Did you mean to pass metrics to `weighted_metrics` in `compile()`?  If this is intentional you can pass `weighted_metrics=[]` to `compile()` in order to silence this warning.\n",
            "143/143 [==============================] - 1s 4ms/step - loss: 1.5977e-06 - val_loss_3: 2.4158e-06\n",
            "Epoch 5/10\n",
            "141/143 [============================>.] - ETA: 0s - loss: 7.4147e-07WARNING:tensorflow:`evaluate()` received a value for `sample_weight`, but `weighted_metrics` were not provided.  Did you mean to pass metrics to `weighted_metrics` in `compile()`?  If this is intentional you can pass `weighted_metrics=[]` to `compile()` in order to silence this warning.\n",
            "143/143 [==============================] - 1s 4ms/step - loss: 7.3231e-07 - val_loss_3: 1.5846e-06\n",
            "Epoch 6/10\n",
            "140/143 [============================>.] - ETA: 0s - loss: 1.7807e-06WARNING:tensorflow:`evaluate()` received a value for `sample_weight`, but `weighted_metrics` were not provided.  Did you mean to pass metrics to `weighted_metrics` in `compile()`?  If this is intentional you can pass `weighted_metrics=[]` to `compile()` in order to silence this warning.\n",
            "143/143 [==============================] - 1s 4ms/step - loss: 1.8624e-06 - val_loss_3: 7.6206e-06\n",
            "Epoch 7/10\n",
            "139/143 [============================>.] - ETA: 0s - loss: 7.9409e-07WARNING:tensorflow:`evaluate()` received a value for `sample_weight`, but `weighted_metrics` were not provided.  Did you mean to pass metrics to `weighted_metrics` in `compile()`?  If this is intentional you can pass `weighted_metrics=[]` to `compile()` in order to silence this warning.\n",
            "143/143 [==============================] - 1s 4ms/step - loss: 7.7788e-07 - val_loss_3: 1.1932e-06\n",
            "49/49 [==============================] - 0s 2ms/step - loss_3: 1.7019e-06\n",
            "Epoch 1/10\n",
            "138/143 [===========================>..] - ETA: 0s - loss: 6.3779e-04WARNING:tensorflow:`evaluate()` received a value for `sample_weight`, but `weighted_metrics` were not provided.  Did you mean to pass metrics to `weighted_metrics` in `compile()`?  If this is intentional you can pass `weighted_metrics=[]` to `compile()` in order to silence this warning.\n"
          ]
        },
        {
          "name": "stdout",
          "output_type": "stream",
          "text": [
            "143/143 [==============================] - 1s 7ms/step - loss: 6.1584e-04 - val_loss_3: 9.8262e-06\n",
            "Epoch 2/10\n",
            "136/143 [===========================>..] - ETA: 0s - loss: 8.8863e-06WARNING:tensorflow:`evaluate()` received a value for `sample_weight`, but `weighted_metrics` were not provided.  Did you mean to pass metrics to `weighted_metrics` in `compile()`?  If this is intentional you can pass `weighted_metrics=[]` to `compile()` in order to silence this warning.\n",
            "143/143 [==============================] - 1s 5ms/step - loss: 8.5710e-06 - val_loss_3: 3.3007e-06\n",
            "Epoch 3/10\n",
            "140/143 [============================>.] - ETA: 0s - loss: 5.3278e-06WARNING:tensorflow:`evaluate()` received a value for `sample_weight`, but `weighted_metrics` were not provided.  Did you mean to pass metrics to `weighted_metrics` in `compile()`?  If this is intentional you can pass `weighted_metrics=[]` to `compile()` in order to silence this warning.\n",
            "143/143 [==============================] - 1s 5ms/step - loss: 5.2835e-06 - val_loss_3: 2.9161e-06\n",
            "Epoch 4/10\n",
            "142/143 [============================>.] - ETA: 0s - loss: 2.6047e-06WARNING:tensorflow:`evaluate()` received a value for `sample_weight`, but `weighted_metrics` were not provided.  Did you mean to pass metrics to `weighted_metrics` in `compile()`?  If this is intentional you can pass `weighted_metrics=[]` to `compile()` in order to silence this warning.\n",
            "143/143 [==============================] - 1s 5ms/step - loss: 2.5876e-06 - val_loss_3: 2.4903e-06\n",
            "Epoch 5/10\n",
            "132/143 [==========================>...] - ETA: 0s - loss: 8.5712e-07WARNING:tensorflow:`evaluate()` received a value for `sample_weight`, but `weighted_metrics` were not provided.  Did you mean to pass metrics to `weighted_metrics` in `compile()`?  If this is intentional you can pass `weighted_metrics=[]` to `compile()` in order to silence this warning.\n",
            "143/143 [==============================] - 1s 5ms/step - loss: 8.2848e-07 - val_loss_3: 2.3758e-06\n",
            "Epoch 6/10\n",
            "133/143 [==========================>...] - ETA: 0s - loss: 1.2387e-07WARNING:tensorflow:`evaluate()` received a value for `sample_weight`, but `weighted_metrics` were not provided.  Did you mean to pass metrics to `weighted_metrics` in `compile()`?  If this is intentional you can pass `weighted_metrics=[]` to `compile()` in order to silence this warning.\n",
            "143/143 [==============================] - 1s 5ms/step - loss: 1.2217e-07 - val_loss_3: 1.6091e-06\n",
            "Epoch 7/10\n",
            "132/143 [==========================>...] - ETA: 0s - loss: 6.0185e-08WARNING:tensorflow:`evaluate()` received a value for `sample_weight`, but `weighted_metrics` were not provided.  Did you mean to pass metrics to `weighted_metrics` in `compile()`?  If this is intentional you can pass `weighted_metrics=[]` to `compile()` in order to silence this warning.\n",
            "143/143 [==============================] - 1s 5ms/step - loss: 5.9358e-08 - val_loss_3: 1.3786e-06\n",
            "Epoch 8/10\n",
            "140/143 [============================>.] - ETA: 0s - loss: 2.8865e-08WARNING:tensorflow:`evaluate()` received a value for `sample_weight`, but `weighted_metrics` were not provided.  Did you mean to pass metrics to `weighted_metrics` in `compile()`?  If this is intentional you can pass `weighted_metrics=[]` to `compile()` in order to silence this warning.\n",
            "143/143 [==============================] - 1s 5ms/step - loss: 2.9370e-08 - val_loss_3: 1.2094e-06\n",
            "Epoch 9/10\n",
            "143/143 [==============================] - ETA: 0s - loss: 2.5029e-08WARNING:tensorflow:`evaluate()` received a value for `sample_weight`, but `weighted_metrics` were not provided.  Did you mean to pass metrics to `weighted_metrics` in `compile()`?  If this is intentional you can pass `weighted_metrics=[]` to `compile()` in order to silence this warning.\n",
            "143/143 [==============================] - 1s 5ms/step - loss: 2.5029e-08 - val_loss_3: 1.1888e-06\n",
            "Epoch 10/10\n",
            "133/143 [==========================>...] - ETA: 0s - loss: 1.1771e-08WARNING:tensorflow:`evaluate()` received a value for `sample_weight`, but `weighted_metrics` were not provided.  Did you mean to pass metrics to `weighted_metrics` in `compile()`?  If this is intentional you can pass `weighted_metrics=[]` to `compile()` in order to silence this warning.\n",
            "143/143 [==============================] - 1s 5ms/step - loss: 1.2442e-08 - val_loss_3: 1.1277e-06\n",
            "49/49 [==============================] - 0s 2ms/step - loss_3: 8.5016e-06\n",
            "Epoch 1/10\n",
            "143/143 [==============================] - ETA: 0s - loss: 7.9119e-04WARNING:tensorflow:`evaluate()` received a value for `sample_weight`, but `weighted_metrics` were not provided.  Did you mean to pass metrics to `weighted_metrics` in `compile()`?  If this is intentional you can pass `weighted_metrics=[]` to `compile()` in order to silence this warning.\n",
            "143/143 [==============================] - 2s 8ms/step - loss: 7.9119e-04 - val_loss_3: 1.0197e-05\n",
            "Epoch 2/10\n",
            "137/143 [===========================>..] - ETA: 0s - loss: 1.3606e-05WARNING:tensorflow:`evaluate()` received a value for `sample_weight`, but `weighted_metrics` were not provided.  Did you mean to pass metrics to `weighted_metrics` in `compile()`?  If this is intentional you can pass `weighted_metrics=[]` to `compile()` in order to silence this warning.\n",
            "143/143 [==============================] - 1s 6ms/step - loss: 1.3381e-05 - val_loss_3: 3.0342e-06\n",
            "Epoch 3/10\n",
            "135/143 [===========================>..] - ETA: 0s - loss: 8.3776e-06WARNING:tensorflow:`evaluate()` received a value for `sample_weight`, but `weighted_metrics` were not provided.  Did you mean to pass metrics to `weighted_metrics` in `compile()`?  If this is intentional you can pass `weighted_metrics=[]` to `compile()` in order to silence this warning.\n",
            "143/143 [==============================] - 1s 6ms/step - loss: 8.0495e-06 - val_loss_3: 4.8583e-06\n",
            "Epoch 4/10\n",
            "143/143 [==============================] - ETA: 0s - loss: 2.2148e-06WARNING:tensorflow:`evaluate()` received a value for `sample_weight`, but `weighted_metrics` were not provided.  Did you mean to pass metrics to `weighted_metrics` in `compile()`?  If this is intentional you can pass `weighted_metrics=[]` to `compile()` in order to silence this warning.\n",
            "143/143 [==============================] - 1s 6ms/step - loss: 2.2148e-06 - val_loss_3: 2.1712e-06\n",
            "Epoch 5/10\n",
            "135/143 [===========================>..] - ETA: 0s - loss: 4.8891e-07WARNING:tensorflow:`evaluate()` received a value for `sample_weight`, but `weighted_metrics` were not provided.  Did you mean to pass metrics to `weighted_metrics` in `compile()`?  If this is intentional you can pass `weighted_metrics=[]` to `compile()` in order to silence this warning.\n",
            "143/143 [==============================] - 1s 6ms/step - loss: 4.8400e-07 - val_loss_3: 3.3129e-06\n",
            "Epoch 6/10\n",
            "136/143 [===========================>..] - ETA: 0s - loss: 4.8299e-07WARNING:tensorflow:`evaluate()` received a value for `sample_weight`, but `weighted_metrics` were not provided.  Did you mean to pass metrics to `weighted_metrics` in `compile()`?  If this is intentional you can pass `weighted_metrics=[]` to `compile()` in order to silence this warning.\n",
            "143/143 [==============================] - 1s 6ms/step - loss: 4.6464e-07 - val_loss_3: 2.0442e-06\n",
            "Epoch 7/10\n",
            "136/143 [===========================>..] - ETA: 0s - loss: 2.4287e-05WARNING:tensorflow:`evaluate()` received a value for `sample_weight`, but `weighted_metrics` were not provided.  Did you mean to pass metrics to `weighted_metrics` in `compile()`?  If this is intentional you can pass `weighted_metrics=[]` to `compile()` in order to silence this warning.\n",
            "143/143 [==============================] - 1s 6ms/step - loss: 2.3334e-05 - val_loss_3: 9.7676e-06\n",
            "Epoch 8/10\n",
            "135/143 [===========================>..] - ETA: 0s - loss: 9.7224e-06WARNING:tensorflow:`evaluate()` received a value for `sample_weight`, but `weighted_metrics` were not provided.  Did you mean to pass metrics to `weighted_metrics` in `compile()`?  If this is intentional you can pass `weighted_metrics=[]` to `compile()` in order to silence this warning.\n",
            "143/143 [==============================] - 1s 6ms/step - loss: 9.9842e-06 - val_loss_3: 4.5429e-06\n",
            "49/49 [==============================] - 0s 3ms/step - loss_3: 1.1090e-05\n",
            "Epoch 1/10\n"
          ]
        },
        {
          "name": "stdout",
          "output_type": "stream",
          "text": [
            "136/143 [===========================>..] - ETA: 0s - loss: 0.0025WARNING:tensorflow:`evaluate()` received a value for `sample_weight`, but `weighted_metrics` were not provided.  Did you mean to pass metrics to `weighted_metrics` in `compile()`?  If this is intentional you can pass `weighted_metrics=[]` to `compile()` in order to silence this warning.\n",
            "143/143 [==============================] - 2s 10ms/step - loss: 0.0023 - val_loss_3: 1.0657e-04\n",
            "Epoch 2/10\n",
            "135/143 [===========================>..] - ETA: 0s - loss: 4.9028e-05WARNING:tensorflow:`evaluate()` received a value for `sample_weight`, but `weighted_metrics` were not provided.  Did you mean to pass metrics to `weighted_metrics` in `compile()`?  If this is intentional you can pass `weighted_metrics=[]` to `compile()` in order to silence this warning.\n",
            "143/143 [==============================] - 1s 7ms/step - loss: 4.7482e-05 - val_loss_3: 3.2508e-05\n",
            "Epoch 3/10\n",
            "138/143 [===========================>..] - ETA: 0s - loss: 1.1403e-05WARNING:tensorflow:`evaluate()` received a value for `sample_weight`, but `weighted_metrics` were not provided.  Did you mean to pass metrics to `weighted_metrics` in `compile()`?  If this is intentional you can pass `weighted_metrics=[]` to `compile()` in order to silence this warning.\n",
            "143/143 [==============================] - 1s 8ms/step - loss: 1.1120e-05 - val_loss_3: 2.7458e-05\n",
            "Epoch 4/10\n",
            "136/143 [===========================>..] - ETA: 0s - loss: 4.7165e-06WARNING:tensorflow:`evaluate()` received a value for `sample_weight`, but `weighted_metrics` were not provided.  Did you mean to pass metrics to `weighted_metrics` in `compile()`?  If this is intentional you can pass `weighted_metrics=[]` to `compile()` in order to silence this warning.\n",
            "143/143 [==============================] - 1s 8ms/step - loss: 4.5574e-06 - val_loss_3: 2.6226e-05\n",
            "Epoch 5/10\n",
            "138/143 [===========================>..] - ETA: 0s - loss: 3.1159e-06WARNING:tensorflow:`evaluate()` received a value for `sample_weight`, but `weighted_metrics` were not provided.  Did you mean to pass metrics to `weighted_metrics` in `compile()`?  If this is intentional you can pass `weighted_metrics=[]` to `compile()` in order to silence this warning.\n",
            "143/143 [==============================] - 1s 7ms/step - loss: 3.0284e-06 - val_loss_3: 2.5769e-05\n",
            "Epoch 6/10\n",
            "143/143 [==============================] - ETA: 0s - loss: 4.0897e-06WARNING:tensorflow:`evaluate()` received a value for `sample_weight`, but `weighted_metrics` were not provided.  Did you mean to pass metrics to `weighted_metrics` in `compile()`?  If this is intentional you can pass `weighted_metrics=[]` to `compile()` in order to silence this warning.\n",
            "143/143 [==============================] - 1s 7ms/step - loss: 4.0897e-06 - val_loss_3: 3.4624e-05\n",
            "Epoch 7/10\n",
            "138/143 [===========================>..] - ETA: 0s - loss: 2.7507e-05WARNING:tensorflow:`evaluate()` received a value for `sample_weight`, but `weighted_metrics` were not provided.  Did you mean to pass metrics to `weighted_metrics` in `compile()`?  If this is intentional you can pass `weighted_metrics=[]` to `compile()` in order to silence this warning.\n",
            "143/143 [==============================] - 1s 7ms/step - loss: 2.6885e-05 - val_loss_3: 6.9561e-05\n",
            "49/49 [==============================] - 0s 4ms/step - loss_3: 8.3092e-05\n",
            "Epoch 1/10\n",
            "136/143 [===========================>..] - ETA: 0s - loss: 0.0018WARNING:tensorflow:`evaluate()` received a value for `sample_weight`, but `weighted_metrics` were not provided.  Did you mean to pass metrics to `weighted_metrics` in `compile()`?  If this is intentional you can pass `weighted_metrics=[]` to `compile()` in order to silence this warning.\n",
            "143/143 [==============================] - 2s 9ms/step - loss: 0.0017 - val_loss_3: 3.8126e-05\n",
            "Epoch 2/10\n",
            "136/143 [===========================>..] - ETA: 0s - loss: 1.9935e-05WARNING:tensorflow:`evaluate()` received a value for `sample_weight`, but `weighted_metrics` were not provided.  Did you mean to pass metrics to `weighted_metrics` in `compile()`?  If this is intentional you can pass `weighted_metrics=[]` to `compile()` in order to silence this warning.\n",
            "143/143 [==============================] - 1s 7ms/step - loss: 1.9276e-05 - val_loss_3: 1.2067e-05\n",
            "Epoch 3/10\n",
            "137/143 [===========================>..] - ETA: 0s - loss: 4.2594e-06WARNING:tensorflow:`evaluate()` received a value for `sample_weight`, but `weighted_metrics` were not provided.  Did you mean to pass metrics to `weighted_metrics` in `compile()`?  If this is intentional you can pass `weighted_metrics=[]` to `compile()` in order to silence this warning.\n",
            "143/143 [==============================] - 1s 7ms/step - loss: 4.1415e-06 - val_loss_3: 9.5995e-06\n",
            "Epoch 4/10\n",
            "137/143 [===========================>..] - ETA: 0s - loss: 1.0499e-06WARNING:tensorflow:`evaluate()` received a value for `sample_weight`, but `weighted_metrics` were not provided.  Did you mean to pass metrics to `weighted_metrics` in `compile()`?  If this is intentional you can pass `weighted_metrics=[]` to `compile()` in order to silence this warning.\n",
            "143/143 [==============================] - 1s 7ms/step - loss: 1.0376e-06 - val_loss_3: 8.8412e-06\n",
            "Epoch 5/10\n",
            "137/143 [===========================>..] - ETA: 0s - loss: 2.6291e-07WARNING:tensorflow:`evaluate()` received a value for `sample_weight`, but `weighted_metrics` were not provided.  Did you mean to pass metrics to `weighted_metrics` in `compile()`?  If this is intentional you can pass `weighted_metrics=[]` to `compile()` in order to silence this warning.\n",
            "143/143 [==============================] - 1s 7ms/step - loss: 2.7495e-07 - val_loss_3: 8.2059e-06\n",
            "Epoch 6/10\n",
            "136/143 [===========================>..] - ETA: 0s - loss: 5.9182e-06WARNING:tensorflow:`evaluate()` received a value for `sample_weight`, but `weighted_metrics` were not provided.  Did you mean to pass metrics to `weighted_metrics` in `compile()`?  If this is intentional you can pass `weighted_metrics=[]` to `compile()` in order to silence this warning.\n",
            "143/143 [==============================] - 1s 8ms/step - loss: 5.6409e-06 - val_loss_3: 7.1041e-05\n",
            "Epoch 7/10\n",
            "139/143 [============================>.] - ETA: 0s - loss: 2.3444e-07WARNING:tensorflow:`evaluate()` received a value for `sample_weight`, but `weighted_metrics` were not provided.  Did you mean to pass metrics to `weighted_metrics` in `compile()`?  If this is intentional you can pass `weighted_metrics=[]` to `compile()` in order to silence this warning.\n",
            "143/143 [==============================] - 1s 7ms/step - loss: 1.0627e-06 - val_loss_3: 1.5401e-04\n",
            "49/49 [==============================] - 0s 3ms/step - loss_3: 9.3071e-05\n",
            "Epoch 1/10\n",
            "137/143 [===========================>..] - ETA: 0s - loss: 0.0046WARNING:tensorflow:`evaluate()` received a value for `sample_weight`, but `weighted_metrics` were not provided.  Did you mean to pass metrics to `weighted_metrics` in `compile()`?  If this is intentional you can pass `weighted_metrics=[]` to `compile()` in order to silence this warning.\n",
            "143/143 [==============================] - 2s 13ms/step - loss: 0.0044 - val_loss_3: 2.0805e-04\n",
            "Epoch 2/10\n",
            "143/143 [==============================] - ETA: 0s - loss: 7.6557e-05WARNING:tensorflow:`evaluate()` received a value for `sample_weight`, but `weighted_metrics` were not provided.  Did you mean to pass metrics to `weighted_metrics` in `compile()`?  If this is intentional you can pass `weighted_metrics=[]` to `compile()` in order to silence this warning.\n",
            "143/143 [==============================] - 1s 9ms/step - loss: 7.6557e-05 - val_loss_3: 8.7032e-05\n",
            "Epoch 3/10\n",
            "141/143 [============================>.] - ETA: 0s - loss: 1.7284e-05WARNING:tensorflow:`evaluate()` received a value for `sample_weight`, but `weighted_metrics` were not provided.  Did you mean to pass metrics to `weighted_metrics` in `compile()`?  If this is intentional you can pass `weighted_metrics=[]` to `compile()` in order to silence this warning.\n",
            "143/143 [==============================] - 1s 9ms/step - loss: 1.7246e-05 - val_loss_3: 8.5756e-05\n",
            "Epoch 4/10\n",
            "139/143 [============================>.] - ETA: 0s - loss: 1.2883e-05WARNING:tensorflow:`evaluate()` received a value for `sample_weight`, but `weighted_metrics` were not provided.  Did you mean to pass metrics to `weighted_metrics` in `compile()`?  If this is intentional you can pass `weighted_metrics=[]` to `compile()` in order to silence this warning.\n"
          ]
        },
        {
          "name": "stdout",
          "output_type": "stream",
          "text": [
            "143/143 [==============================] - 1s 9ms/step - loss: 1.2761e-05 - val_loss_3: 1.0435e-04\n",
            "Epoch 5/10\n",
            "139/143 [============================>.] - ETA: 0s - loss: 9.1703e-06WARNING:tensorflow:`evaluate()` received a value for `sample_weight`, but `weighted_metrics` were not provided.  Did you mean to pass metrics to `weighted_metrics` in `compile()`?  If this is intentional you can pass `weighted_metrics=[]` to `compile()` in order to silence this warning.\n",
            "143/143 [==============================] - 1s 8ms/step - loss: 9.5911e-06 - val_loss_3: 1.4970e-04\n",
            "Epoch 6/10\n",
            "141/143 [============================>.] - ETA: 0s - loss: 2.8014e-05WARNING:tensorflow:`evaluate()` received a value for `sample_weight`, but `weighted_metrics` were not provided.  Did you mean to pass metrics to `weighted_metrics` in `compile()`?  If this is intentional you can pass `weighted_metrics=[]` to `compile()` in order to silence this warning.\n",
            "143/143 [==============================] - 1s 9ms/step - loss: 2.7669e-05 - val_loss_3: 1.2963e-04\n",
            "Epoch 7/10\n",
            "143/143 [==============================] - ETA: 0s - loss: 5.2238e-05WARNING:tensorflow:`evaluate()` received a value for `sample_weight`, but `weighted_metrics` were not provided.  Did you mean to pass metrics to `weighted_metrics` in `compile()`?  If this is intentional you can pass `weighted_metrics=[]` to `compile()` in order to silence this warning.\n",
            "143/143 [==============================] - 1s 9ms/step - loss: 5.2238e-05 - val_loss_3: 2.3326e-04\n",
            "49/49 [==============================] - 0s 4ms/step - loss_3: 2.4980e-04\n",
            "Epoch 1/10\n",
            "143/143 [==============================] - ETA: 0s - loss: 0.0036WARNING:tensorflow:`evaluate()` received a value for `sample_weight`, but `weighted_metrics` were not provided.  Did you mean to pass metrics to `weighted_metrics` in `compile()`?  If this is intentional you can pass `weighted_metrics=[]` to `compile()` in order to silence this warning.\n",
            "143/143 [==============================] - 2s 13ms/step - loss: 0.0036 - val_loss_3: 2.7351e-04\n",
            "Epoch 2/10\n",
            "139/143 [============================>.] - ETA: 0s - loss: 9.5741e-05WARNING:tensorflow:`evaluate()` received a value for `sample_weight`, but `weighted_metrics` were not provided.  Did you mean to pass metrics to `weighted_metrics` in `compile()`?  If this is intentional you can pass `weighted_metrics=[]` to `compile()` in order to silence this warning.\n",
            "143/143 [==============================] - 1s 10ms/step - loss: 9.4317e-05 - val_loss_3: 1.6399e-04\n",
            "Epoch 3/10\n",
            "142/143 [============================>.] - ETA: 0s - loss: 2.5043e-05WARNING:tensorflow:`evaluate()` received a value for `sample_weight`, but `weighted_metrics` were not provided.  Did you mean to pass metrics to `weighted_metrics` in `compile()`?  If this is intentional you can pass `weighted_metrics=[]` to `compile()` in order to silence this warning.\n",
            "143/143 [==============================] - 1s 9ms/step - loss: 2.5769e-05 - val_loss_3: 2.0509e-04\n",
            "Epoch 4/10\n",
            "138/143 [===========================>..] - ETA: 0s - loss: 2.7581e-05WARNING:tensorflow:`evaluate()` received a value for `sample_weight`, but `weighted_metrics` were not provided.  Did you mean to pass metrics to `weighted_metrics` in `compile()`?  If this is intentional you can pass `weighted_metrics=[]` to `compile()` in order to silence this warning.\n",
            "143/143 [==============================] - 1s 9ms/step - loss: 2.8032e-05 - val_loss_3: 3.0026e-04\n",
            "Epoch 5/10\n",
            "143/143 [==============================] - ETA: 0s - loss: 5.9480e-05WARNING:tensorflow:`evaluate()` received a value for `sample_weight`, but `weighted_metrics` were not provided.  Did you mean to pass metrics to `weighted_metrics` in `compile()`?  If this is intentional you can pass `weighted_metrics=[]` to `compile()` in order to silence this warning.\n",
            "143/143 [==============================] - 1s 9ms/step - loss: 5.9480e-05 - val_loss_3: 4.3941e-04\n",
            "49/49 [==============================] - 0s 4ms/step - loss_3: 4.9607e-04\n",
            "Epoch 1/10\n",
            "141/143 [============================>.] - ETA: 0s - loss: 0.0051WARNING:tensorflow:`evaluate()` received a value for `sample_weight`, but `weighted_metrics` were not provided.  Did you mean to pass metrics to `weighted_metrics` in `compile()`?  If this is intentional you can pass `weighted_metrics=[]` to `compile()` in order to silence this warning.\n",
            "143/143 [==============================] - 4s 18ms/step - loss: 0.0050 - val_loss_3: 4.7399e-04\n",
            "Epoch 2/10\n",
            "142/143 [============================>.] - ETA: 0s - loss: 1.3919e-04WARNING:tensorflow:`evaluate()` received a value for `sample_weight`, but `weighted_metrics` were not provided.  Did you mean to pass metrics to `weighted_metrics` in `compile()`?  If this is intentional you can pass `weighted_metrics=[]` to `compile()` in order to silence this warning.\n",
            "143/143 [==============================] - 3s 21ms/step - loss: 1.3901e-04 - val_loss_3: 2.9005e-04\n",
            "Epoch 3/10\n",
            "142/143 [============================>.] - ETA: 0s - loss: 3.3841e-05WARNING:tensorflow:`evaluate()` received a value for `sample_weight`, but `weighted_metrics` were not provided.  Did you mean to pass metrics to `weighted_metrics` in `compile()`?  If this is intentional you can pass `weighted_metrics=[]` to `compile()` in order to silence this warning.\n",
            "143/143 [==============================] - 3s 20ms/step - loss: 3.3776e-05 - val_loss_3: 2.4887e-04\n",
            "Epoch 4/10\n",
            "141/143 [============================>.] - ETA: 0s - loss: 3.9883e-05WARNING:tensorflow:`evaluate()` received a value for `sample_weight`, but `weighted_metrics` were not provided.  Did you mean to pass metrics to `weighted_metrics` in `compile()`?  If this is intentional you can pass `weighted_metrics=[]` to `compile()` in order to silence this warning.\n",
            "143/143 [==============================] - 3s 20ms/step - loss: 3.9698e-05 - val_loss_3: 3.0451e-04\n",
            "Epoch 5/10\n",
            "142/143 [============================>.] - ETA: 0s - loss: 3.9794e-05WARNING:tensorflow:`evaluate()` received a value for `sample_weight`, but `weighted_metrics` were not provided.  Did you mean to pass metrics to `weighted_metrics` in `compile()`?  If this is intentional you can pass `weighted_metrics=[]` to `compile()` in order to silence this warning.\n",
            "143/143 [==============================] - 3s 19ms/step - loss: 3.9834e-05 - val_loss_3: 3.8282e-04\n",
            "49/49 [==============================] - 1s 12ms/step - loss_3: 4.0270e-04\n",
            "Epoch 1/10\n",
            "142/143 [============================>.] - ETA: 0s - loss: 0.0066WARNING:tensorflow:`evaluate()` received a value for `sample_weight`, but `weighted_metrics` were not provided.  Did you mean to pass metrics to `weighted_metrics` in `compile()`?  If this is intentional you can pass `weighted_metrics=[]` to `compile()` in order to silence this warning.\n",
            "143/143 [==============================] - 4s 24ms/step - loss: 0.0066 - val_loss_3: 8.2332e-04\n",
            "Epoch 2/10\n",
            "141/143 [============================>.] - ETA: 0s - loss: 2.0647e-04WARNING:tensorflow:`evaluate()` received a value for `sample_weight`, but `weighted_metrics` were not provided.  Did you mean to pass metrics to `weighted_metrics` in `compile()`?  If this is intentional you can pass `weighted_metrics=[]` to `compile()` in order to silence this warning.\n",
            "143/143 [==============================] - 3s 22ms/step - loss: 2.0473e-04 - val_loss_3: 4.0588e-04\n",
            "Epoch 3/10\n",
            "142/143 [============================>.] - ETA: 0s - loss: 6.6509e-05WARNING:tensorflow:`evaluate()` received a value for `sample_weight`, but `weighted_metrics` were not provided.  Did you mean to pass metrics to `weighted_metrics` in `compile()`?  If this is intentional you can pass `weighted_metrics=[]` to `compile()` in order to silence this warning.\n",
            "143/143 [==============================] - 3s 22ms/step - loss: 6.6062e-05 - val_loss_3: 4.7694e-04\n",
            "Epoch 4/10\n",
            "142/143 [============================>.] - ETA: 0s - loss: 8.8114e-05WARNING:tensorflow:`evaluate()` received a value for `sample_weight`, but `weighted_metrics` were not provided.  Did you mean to pass metrics to `weighted_metrics` in `compile()`?  If this is intentional you can pass `weighted_metrics=[]` to `compile()` in order to silence this warning.\n",
            "143/143 [==============================] - 3s 21ms/step - loss: 8.7639e-05 - val_loss_3: 7.6059e-04\n"
          ]
        },
        {
          "name": "stdout",
          "output_type": "stream",
          "text": [
            "Epoch 5/10\n",
            "142/143 [============================>.] - ETA: 0s - loss: 1.8224e-04WARNING:tensorflow:`evaluate()` received a value for `sample_weight`, but `weighted_metrics` were not provided.  Did you mean to pass metrics to `weighted_metrics` in `compile()`?  If this is intentional you can pass `weighted_metrics=[]` to `compile()` in order to silence this warning.\n",
            "143/143 [==============================] - 3s 22ms/step - loss: 1.8152e-04 - val_loss_3: 0.0013\n",
            "49/49 [==============================] - 1s 12ms/step - loss_3: 0.0014\n",
            "Epoch 1/10\n",
            "143/143 [==============================] - ETA: 0s - loss: 0.0053WARNING:tensorflow:`evaluate()` received a value for `sample_weight`, but `weighted_metrics` were not provided.  Did you mean to pass metrics to `weighted_metrics` in `compile()`?  If this is intentional you can pass `weighted_metrics=[]` to `compile()` in order to silence this warning.\n",
            "143/143 [==============================] - 3s 21ms/step - loss: 0.0053 - val_loss_3: 3.2440e-04\n",
            "Epoch 2/10\n",
            "141/143 [============================>.] - ETA: 0s - loss: 8.6895e-05WARNING:tensorflow:`evaluate()` received a value for `sample_weight`, but `weighted_metrics` were not provided.  Did you mean to pass metrics to `weighted_metrics` in `compile()`?  If this is intentional you can pass `weighted_metrics=[]` to `compile()` in order to silence this warning.\n",
            "143/143 [==============================] - 2s 14ms/step - loss: 8.6013e-05 - val_loss_3: 1.8436e-04\n",
            "Epoch 3/10\n",
            "140/143 [============================>.] - ETA: 0s - loss: 2.9137e-05WARNING:tensorflow:`evaluate()` received a value for `sample_weight`, but `weighted_metrics` were not provided.  Did you mean to pass metrics to `weighted_metrics` in `compile()`?  If this is intentional you can pass `weighted_metrics=[]` to `compile()` in order to silence this warning.\n",
            "143/143 [==============================] - 2s 15ms/step - loss: 2.9063e-05 - val_loss_3: 2.1295e-04\n",
            "Epoch 4/10\n",
            "141/143 [============================>.] - ETA: 0s - loss: 1.2129e-05WARNING:tensorflow:`evaluate()` received a value for `sample_weight`, but `weighted_metrics` were not provided.  Did you mean to pass metrics to `weighted_metrics` in `compile()`?  If this is intentional you can pass `weighted_metrics=[]` to `compile()` in order to silence this warning.\n",
            "143/143 [==============================] - 2s 15ms/step - loss: 1.2717e-05 - val_loss_3: 1.7761e-04\n",
            "Epoch 5/10\n",
            "141/143 [============================>.] - ETA: 0s - loss: 2.5135e-05WARNING:tensorflow:`evaluate()` received a value for `sample_weight`, but `weighted_metrics` were not provided.  Did you mean to pass metrics to `weighted_metrics` in `compile()`?  If this is intentional you can pass `weighted_metrics=[]` to `compile()` in order to silence this warning.\n",
            "143/143 [==============================] - 2s 14ms/step - loss: 2.4887e-05 - val_loss_3: 2.4393e-04\n",
            "Epoch 6/10\n",
            "141/143 [============================>.] - ETA: 0s - loss: 2.3835e-05WARNING:tensorflow:`evaluate()` received a value for `sample_weight`, but `weighted_metrics` were not provided.  Did you mean to pass metrics to `weighted_metrics` in `compile()`?  If this is intentional you can pass `weighted_metrics=[]` to `compile()` in order to silence this warning.\n",
            "143/143 [==============================] - 2s 14ms/step - loss: 2.4042e-05 - val_loss_3: 3.6224e-04\n",
            "49/49 [==============================] - 0s 7ms/step - loss_3: 3.5721e-04\n",
            "Epoch 1/10\n",
            "140/143 [============================>.] - ETA: 0s - loss: 0.0094WARNING:tensorflow:`evaluate()` received a value for `sample_weight`, but `weighted_metrics` were not provided.  Did you mean to pass metrics to `weighted_metrics` in `compile()`?  If this is intentional you can pass `weighted_metrics=[]` to `compile()` in order to silence this warning.\n",
            "143/143 [==============================] - 3s 16ms/step - loss: 0.0092 - val_loss_3: 0.0013\n",
            "Epoch 2/10\n",
            "143/143 [==============================] - ETA: 0s - loss: 3.3791e-04WARNING:tensorflow:`evaluate()` received a value for `sample_weight`, but `weighted_metrics` were not provided.  Did you mean to pass metrics to `weighted_metrics` in `compile()`?  If this is intentional you can pass `weighted_metrics=[]` to `compile()` in order to silence this warning.\n",
            "143/143 [==============================] - 2s 14ms/step - loss: 3.3791e-04 - val_loss_3: 8.0795e-04\n",
            "Epoch 3/10\n",
            "141/143 [============================>.] - ETA: 0s - loss: 1.4068e-04WARNING:tensorflow:`evaluate()` received a value for `sample_weight`, but `weighted_metrics` were not provided.  Did you mean to pass metrics to `weighted_metrics` in `compile()`?  If this is intentional you can pass `weighted_metrics=[]` to `compile()` in order to silence this warning.\n",
            "143/143 [==============================] - 2s 14ms/step - loss: 1.3937e-04 - val_loss_3: 6.7904e-04\n",
            "Epoch 4/10\n",
            "139/143 [============================>.] - ETA: 0s - loss: 1.0083e-04WARNING:tensorflow:`evaluate()` received a value for `sample_weight`, but `weighted_metrics` were not provided.  Did you mean to pass metrics to `weighted_metrics` in `compile()`?  If this is intentional you can pass `weighted_metrics=[]` to `compile()` in order to silence this warning.\n",
            "143/143 [==============================] - 2s 14ms/step - loss: 1.0085e-04 - val_loss_3: 9.7961e-04\n",
            "Epoch 5/10\n",
            "142/143 [============================>.] - ETA: 0s - loss: 9.1841e-05WARNING:tensorflow:`evaluate()` received a value for `sample_weight`, but `weighted_metrics` were not provided.  Did you mean to pass metrics to `weighted_metrics` in `compile()`?  If this is intentional you can pass `weighted_metrics=[]` to `compile()` in order to silence this warning.\n",
            "143/143 [==============================] - 2s 13ms/step - loss: 9.1672e-05 - val_loss_3: 0.0011\n",
            "Epoch 6/10\n",
            "140/143 [============================>.] - ETA: 0s - loss: 2.9313e-04WARNING:tensorflow:`evaluate()` received a value for `sample_weight`, but `weighted_metrics` were not provided.  Did you mean to pass metrics to `weighted_metrics` in `compile()`?  If this is intentional you can pass `weighted_metrics=[]` to `compile()` in order to silence this warning.\n",
            "143/143 [==============================] - 2s 14ms/step - loss: 3.0023e-04 - val_loss_3: 0.0018\n",
            "Epoch 7/10\n",
            "142/143 [============================>.] - ETA: 0s - loss: 9.4678e-04WARNING:tensorflow:`evaluate()` received a value for `sample_weight`, but `weighted_metrics` were not provided.  Did you mean to pass metrics to `weighted_metrics` in `compile()`?  If this is intentional you can pass `weighted_metrics=[]` to `compile()` in order to silence this warning.\n",
            "143/143 [==============================] - 2s 13ms/step - loss: 9.4764e-04 - val_loss_3: 0.0020\n",
            "49/49 [==============================] - 0s 7ms/step - loss_3: 0.0020\n",
            "Epoch 1/10\n",
            "142/143 [============================>.] - ETA: 0s - loss: 0.0106WARNING:tensorflow:`evaluate()` received a value for `sample_weight`, but `weighted_metrics` were not provided.  Did you mean to pass metrics to `weighted_metrics` in `compile()`?  If this is intentional you can pass `weighted_metrics=[]` to `compile()` in order to silence this warning.\n",
            "143/143 [==============================] - 3s 16ms/step - loss: 0.0105 - val_loss_3: 0.0012\n",
            "Epoch 2/10\n",
            "141/143 [============================>.] - ETA: 0s - loss: 3.1397e-04WARNING:tensorflow:`evaluate()` received a value for `sample_weight`, but `weighted_metrics` were not provided.  Did you mean to pass metrics to `weighted_metrics` in `compile()`?  If this is intentional you can pass `weighted_metrics=[]` to `compile()` in order to silence this warning.\n",
            "143/143 [==============================] - 2s 13ms/step - loss: 3.1209e-04 - val_loss_3: 8.2642e-04\n",
            "Epoch 3/10\n",
            "143/143 [==============================] - ETA: 0s - loss: 1.3338e-04WARNING:tensorflow:`evaluate()` received a value for `sample_weight`, but `weighted_metrics` were not provided.  Did you mean to pass metrics to `weighted_metrics` in `compile()`?  If this is intentional you can pass `weighted_metrics=[]` to `compile()` in order to silence this warning.\n",
            "143/143 [==============================] - 2s 13ms/step - loss: 1.3338e-04 - val_loss_3: 7.4139e-04\n",
            "Epoch 4/10\n"
          ]
        },
        {
          "name": "stdout",
          "output_type": "stream",
          "text": [
            "140/143 [============================>.] - ETA: 0s - loss: 1.2318e-04WARNING:tensorflow:`evaluate()` received a value for `sample_weight`, but `weighted_metrics` were not provided.  Did you mean to pass metrics to `weighted_metrics` in `compile()`?  If this is intentional you can pass `weighted_metrics=[]` to `compile()` in order to silence this warning.\n",
            "143/143 [==============================] - 2s 14ms/step - loss: 1.2201e-04 - val_loss_3: 0.0011\n",
            "Epoch 5/10\n",
            "140/143 [============================>.] - ETA: 0s - loss: 2.7826e-04WARNING:tensorflow:`evaluate()` received a value for `sample_weight`, but `weighted_metrics` were not provided.  Did you mean to pass metrics to `weighted_metrics` in `compile()`?  If this is intentional you can pass `weighted_metrics=[]` to `compile()` in order to silence this warning.\n",
            "143/143 [==============================] - 2s 14ms/step - loss: 2.8762e-04 - val_loss_3: 0.0018\n",
            "Epoch 6/10\n",
            "142/143 [============================>.] - ETA: 0s - loss: 0.0018WARNING:tensorflow:`evaluate()` received a value for `sample_weight`, but `weighted_metrics` were not provided.  Did you mean to pass metrics to `weighted_metrics` in `compile()`?  If this is intentional you can pass `weighted_metrics=[]` to `compile()` in order to silence this warning.\n",
            "143/143 [==============================] - 2s 13ms/step - loss: 0.0018 - val_loss_3: 0.0017\n",
            "49/49 [==============================] - 0s 5ms/step - loss_3: 0.0019\n",
            "Epoch 1/10\n",
            "141/143 [============================>.] - ETA: 0s - loss: 0.0120WARNING:tensorflow:`evaluate()` received a value for `sample_weight`, but `weighted_metrics` were not provided.  Did you mean to pass metrics to `weighted_metrics` in `compile()`?  If this is intentional you can pass `weighted_metrics=[]` to `compile()` in order to silence this warning.\n",
            "143/143 [==============================] - 3s 15ms/step - loss: 0.0119 - val_loss_3: 0.0016\n",
            "Epoch 2/10\n",
            "140/143 [============================>.] - ETA: 0s - loss: 4.3300e-04WARNING:tensorflow:`evaluate()` received a value for `sample_weight`, but `weighted_metrics` were not provided.  Did you mean to pass metrics to `weighted_metrics` in `compile()`?  If this is intentional you can pass `weighted_metrics=[]` to `compile()` in order to silence this warning.\n",
            "143/143 [==============================] - 2s 14ms/step - loss: 4.2978e-04 - val_loss_3: 7.4762e-04\n",
            "Epoch 3/10\n",
            "140/143 [============================>.] - ETA: 0s - loss: 1.2695e-04WARNING:tensorflow:`evaluate()` received a value for `sample_weight`, but `weighted_metrics` were not provided.  Did you mean to pass metrics to `weighted_metrics` in `compile()`?  If this is intentional you can pass `weighted_metrics=[]` to `compile()` in order to silence this warning.\n",
            "143/143 [==============================] - 2s 17ms/step - loss: 1.2689e-04 - val_loss_3: 7.3903e-04\n",
            "Epoch 4/10\n",
            "141/143 [============================>.] - ETA: 0s - loss: 8.6046e-05WARNING:tensorflow:`evaluate()` received a value for `sample_weight`, but `weighted_metrics` were not provided.  Did you mean to pass metrics to `weighted_metrics` in `compile()`?  If this is intentional you can pass `weighted_metrics=[]` to `compile()` in order to silence this warning.\n",
            "143/143 [==============================] - 2s 16ms/step - loss: 8.8000e-05 - val_loss_3: 0.0011\n",
            "Epoch 5/10\n",
            "141/143 [============================>.] - ETA: 0s - loss: 1.6314e-04WARNING:tensorflow:`evaluate()` received a value for `sample_weight`, but `weighted_metrics` were not provided.  Did you mean to pass metrics to `weighted_metrics` in `compile()`?  If this is intentional you can pass `weighted_metrics=[]` to `compile()` in order to silence this warning.\n",
            "143/143 [==============================] - 2s 15ms/step - loss: 1.6671e-04 - val_loss_3: 0.0021\n",
            "Epoch 6/10\n",
            "141/143 [============================>.] - ETA: 0s - loss: 0.0022WARNING:tensorflow:`evaluate()` received a value for `sample_weight`, but `weighted_metrics` were not provided.  Did you mean to pass metrics to `weighted_metrics` in `compile()`?  If this is intentional you can pass `weighted_metrics=[]` to `compile()` in order to silence this warning.\n",
            "143/143 [==============================] - 2s 15ms/step - loss: 0.0023 - val_loss_3: 0.0064\n",
            "49/49 [==============================] - 0s 5ms/step - loss_3: 0.0075\n",
            "Epoch 1/10\n",
            "140/143 [============================>.] - ETA: 0s - loss: 0.0116WARNING:tensorflow:`evaluate()` received a value for `sample_weight`, but `weighted_metrics` were not provided.  Did you mean to pass metrics to `weighted_metrics` in `compile()`?  If this is intentional you can pass `weighted_metrics=[]` to `compile()` in order to silence this warning.\n",
            "143/143 [==============================] - 3s 18ms/step - loss: 0.0114 - val_loss_3: 0.0015\n",
            "Epoch 2/10\n",
            "141/143 [============================>.] - ETA: 0s - loss: 3.7821e-04WARNING:tensorflow:`evaluate()` received a value for `sample_weight`, but `weighted_metrics` were not provided.  Did you mean to pass metrics to `weighted_metrics` in `compile()`?  If this is intentional you can pass `weighted_metrics=[]` to `compile()` in order to silence this warning.\n",
            "143/143 [==============================] - 2s 15ms/step - loss: 3.7906e-04 - val_loss_3: 8.9985e-04\n",
            "Epoch 3/10\n",
            "142/143 [============================>.] - ETA: 0s - loss: 1.5404e-04WARNING:tensorflow:`evaluate()` received a value for `sample_weight`, but `weighted_metrics` were not provided.  Did you mean to pass metrics to `weighted_metrics` in `compile()`?  If this is intentional you can pass `weighted_metrics=[]` to `compile()` in order to silence this warning.\n",
            "143/143 [==============================] - 2s 14ms/step - loss: 1.5323e-04 - val_loss_3: 8.7491e-04\n",
            "Epoch 4/10\n",
            "141/143 [============================>.] - ETA: 0s - loss: 2.1410e-04WARNING:tensorflow:`evaluate()` received a value for `sample_weight`, but `weighted_metrics` were not provided.  Did you mean to pass metrics to `weighted_metrics` in `compile()`?  If this is intentional you can pass `weighted_metrics=[]` to `compile()` in order to silence this warning.\n",
            "143/143 [==============================] - 2s 14ms/step - loss: 2.1396e-04 - val_loss_3: 0.0019\n",
            "Epoch 5/10\n",
            "141/143 [============================>.] - ETA: 0s - loss: 0.0012WARNING:tensorflow:`evaluate()` received a value for `sample_weight`, but `weighted_metrics` were not provided.  Did you mean to pass metrics to `weighted_metrics` in `compile()`?  If this is intentional you can pass `weighted_metrics=[]` to `compile()` in order to silence this warning.\n",
            "143/143 [==============================] - 2s 14ms/step - loss: 0.0013 - val_loss_3: 0.0067\n",
            "49/49 [==============================] - 0s 5ms/step - loss_3: 0.0064\n"
          ]
        }
      ],
      "source": [
        "# we have three trial with different hyperparameters\n",
        "score_list=[]                         # We want to see determine best performance of each model\n",
        "for i in range(16,256,16):    #to be simple: I only use the same hyperparamters for each layers #we have done for 10 different numbers\n",
        "  score_list.append(validation_evaluation(i,i,i,0.005,0.000000000005))\n",
        "\n",
        "#set very small margins due to higher one gives no result #we just make it simple by looking at\n",
        "  #if ap_distance is smaller than an_distance only"
      ]
    },
    {
      "cell_type": "code",
      "execution_count": null,
      "metadata": {
        "colab": {
          "base_uri": "https://localhost:8080/"
        },
        "id": "Mfo_40tz_Wjm",
        "outputId": "e0347279-0f6a-45d2-b531-b579929e305b"
      },
      "outputs": [
        {
          "data": {
            "text/plain": [
              "[16, 16, 16, 0.005, 5e-12]"
            ]
          },
          "execution_count": 10,
          "metadata": {},
          "output_type": "execute_result"
        }
      ],
      "source": [
        "minimum_lost=100000\n",
        "\n",
        "for i , j in (score_list):   # we search for the best minimum losts with the best_praramters\n",
        "  if i<minimum_lost:\n",
        "    best_praramters=j\n",
        "    minimum_lost=i\n",
        "\n",
        "best_praramters     #we select the best hyperparameters from the value with minimum lost."
      ]
    },
    {
      "cell_type": "markdown",
      "metadata": {
        "id": "921Zsg-OB9Mw"
      },
      "source": [
        "#### we retrain the model using best hyperparameters and make prediction"
      ]
    },
    {
      "cell_type": "code",
      "execution_count": null,
      "metadata": {
        "colab": {
          "base_uri": "https://localhost:8080/"
        },
        "id": "ZdcS7KVHe08G",
        "outputId": "efabf450-0c05-4b4b-e12c-64b9567cbd72"
      },
      "outputs": [
        {
          "name": "stdout",
          "output_type": "stream",
          "text": [
            "Epoch 1/10\n",
            "141/143 [============================>.] - ETA: 0s - loss: 0.1975WARNING:tensorflow:`evaluate()` received a value for `sample_weight`, but `weighted_metrics` were not provided.  Did you mean to pass metrics to `weighted_metrics` in `compile()`?  If this is intentional you can pass `weighted_metrics=[]` to `compile()` in order to silence this warning.\n",
            "143/143 [==============================] - 1s 6ms/step - loss: 0.1963 - val_loss_3: 0.2243\n",
            "Epoch 2/10\n",
            "138/143 [===========================>..] - ETA: 0s - loss: 0.0398WARNING:tensorflow:`evaluate()` received a value for `sample_weight`, but `weighted_metrics` were not provided.  Did you mean to pass metrics to `weighted_metrics` in `compile()`?  If this is intentional you can pass `weighted_metrics=[]` to `compile()` in order to silence this warning.\n",
            "143/143 [==============================] - 1s 4ms/step - loss: 0.0398 - val_loss_3: 0.2653\n",
            "Epoch 3/10\n",
            "138/143 [===========================>..] - ETA: 0s - loss: 0.0173WARNING:tensorflow:`evaluate()` received a value for `sample_weight`, but `weighted_metrics` were not provided.  Did you mean to pass metrics to `weighted_metrics` in `compile()`?  If this is intentional you can pass `weighted_metrics=[]` to `compile()` in order to silence this warning.\n",
            "143/143 [==============================] - 1s 4ms/step - loss: 0.0172 - val_loss_3: 0.2864\n",
            "Epoch 4/10\n",
            "139/143 [============================>.] - ETA: 0s - loss: 0.0153WARNING:tensorflow:`evaluate()` received a value for `sample_weight`, but `weighted_metrics` were not provided.  Did you mean to pass metrics to `weighted_metrics` in `compile()`?  If this is intentional you can pass `weighted_metrics=[]` to `compile()` in order to silence this warning.\n",
            "143/143 [==============================] - 1s 4ms/step - loss: 0.0154 - val_loss_3: 0.3192\n",
            "Epoch 5/10\n",
            "136/143 [===========================>..] - ETA: 0s - loss: 0.0147WARNING:tensorflow:`evaluate()` received a value for `sample_weight`, but `weighted_metrics` were not provided.  Did you mean to pass metrics to `weighted_metrics` in `compile()`?  If this is intentional you can pass `weighted_metrics=[]` to `compile()` in order to silence this warning.\n",
            "143/143 [==============================] - 1s 4ms/step - loss: 0.0151 - val_loss_3: 0.3441\n",
            "Epoch 6/10\n",
            "143/143 [==============================] - ETA: 0s - loss: 0.0113WARNING:tensorflow:`evaluate()` received a value for `sample_weight`, but `weighted_metrics` were not provided.  Did you mean to pass metrics to `weighted_metrics` in `compile()`?  If this is intentional you can pass `weighted_metrics=[]` to `compile()` in order to silence this warning.\n",
            "143/143 [==============================] - 1s 4ms/step - loss: 0.0113 - val_loss_3: 0.3566\n",
            "Epoch 7/10\n",
            "128/143 [=========================>....] - ETA: 0s - loss: 0.0124WARNING:tensorflow:`evaluate()` received a value for `sample_weight`, but `weighted_metrics` were not provided.  Did you mean to pass metrics to `weighted_metrics` in `compile()`?  If this is intentional you can pass `weighted_metrics=[]` to `compile()` in order to silence this warning.\n",
            "143/143 [==============================] - 1s 4ms/step - loss: 0.0134 - val_loss_3: 0.3588\n",
            "Epoch 8/10\n",
            "131/143 [==========================>...] - ETA: 0s - loss: 0.0137WARNING:tensorflow:`evaluate()` received a value for `sample_weight`, but `weighted_metrics` were not provided.  Did you mean to pass metrics to `weighted_metrics` in `compile()`?  If this is intentional you can pass `weighted_metrics=[]` to `compile()` in order to silence this warning.\n",
            "143/143 [==============================] - 1s 4ms/step - loss: 0.0138 - val_loss_3: 0.3711\n",
            "286/286 [==============================] - 1s 2ms/step\n"
          ]
        },
        {
          "data": {
            "text/plain": [
              "(array([0.01161807, 0.02046644, 0.00955711, ..., 0.00878781, 0.02620158,\n",
              "        0.01148407], dtype=float32),\n",
              " array([0.0485378 , 0.07154507, 0.06493345, ..., 0.10847147, 0.1692521 ,\n",
              "        0.0499534 ], dtype=float32))"
            ]
          },
          "execution_count": 11,
          "metadata": {},
          "output_type": "execute_result"
        }
      ],
      "source": [
        "# retrain the model using best hyperparameters and make prediction\n",
        "\n",
        "siamese_model = SiameseModel(siamese_network_generator(best_praramters[0],best_praramters[1],best_praramters[2]),0.005)\n",
        "siamese_model.compile(optimizer=optimizers.Adam(learning_rate=0.005))\n",
        "callback = callbacks.EarlyStopping(monitor='loss',patience=2)\n",
        "siamese_model.fit([a_input, p_input,n_input],epochs=10, batch_size = 80,validation_data=[a_input_test[0:1000], p_input_test[0:1000],n_input_test[0:1000]],callbacks=[callback])\n",
        "#We fit our model and run it\n",
        "\n",
        "siamese_model.predict([a_input,p_input,n_input],batch_size=40)  #the output is supposed to be two set of distances"
      ]
    },
    {
      "cell_type": "code",
      "execution_count": null,
      "metadata": {
        "id": "aHrdS357QgJk"
      },
      "outputs": [],
      "source": [
        "from sklearn.metrics import f1_score\n",
        "import numpy as np\n",
        "\n"
      ]
    },
    {
      "cell_type": "markdown",
      "metadata": {
        "id": "dblOz19OCD8I"
      },
      "source": [
        "#### Implement a summariser that returns the  n sentences with highest predicted score.\n",
        "\n",
        " - Our code returns the IDs of the  n  sentences that have the highest prediction score in the given question."
      ]
    },
    {
      "cell_type": "code",
      "execution_count": null,
      "metadata": {
        "id": "hhXaYArwekJX"
      },
      "outputs": [],
      "source": [
        "def nn_summariser(csvfile, questionids, n=1):\n",
        "  qid_list=questionids   # The input questionids is a list of question ids.\n",
        "  test_2 = pd.read_csv(csvfile)   #input file we want\n",
        "  total=[]\n",
        "  for qid in qid_list:\n",
        "    anchorinput=list(test_2.loc[(test_2[\"qid\"]==qid) & (test_2[\"sentid\"]==0)][\"question\"])  # anchorinput is question with id qid\n",
        "\n",
        "    positiveinput=list(test_2.loc[(test_2[\"qid\"]==qid) & (test_2[\"sentid\"]==0)][\"sentence text\"]) #it doesnt matter and I can fit with random object\n",
        "\n",
        "    negativeinput=(list(test_2.loc[(test_2[\"qid\"]==qid)][\"sentence text\"]))   #these are all answers relaed to this specific question id =qid(including those label 1 or 0)\n",
        "\n",
        "    positiveinput=positiveinput*len(negativeinput)     #we need to increase the length until it matches other inputs\n",
        "    anchorinput=anchorinput*len(negativeinput)         #we need to increase the length until it matches other inputs\n",
        "\n",
        "    a_input=tfidf.transform(anchorinput).toarray()           #We transform those answers and question qid into array\n",
        "    n_input=tfidf.transform(negativeinput).toarray()\n",
        "    p_input=tfidf.transform(positiveinput).toarray()\n",
        "\n",
        "    ap_distance_test,an_distance_test = siamese_model.predict([a_input,p_input,n_input],batch_size=40)\n",
        "    #this an_distance gives us lists of questions with different predicted scores\n",
        "\n",
        "    list(np.argsort(an_distance_test))    #only see one output which is enough in this task and we give the lists of sentence ids with highest predicted score\n",
        "    total.append(list(np.argsort(an_distance_test))[0:n])  #return the list of n answer_index of this question id into the list and append into our final list\n",
        "    #We do for every single qid and give the list of the list\n",
        "  return total\n"
      ]
    },
    {
      "cell_type": "code",
      "execution_count": null,
      "metadata": {
        "colab": {
          "base_uri": "https://localhost:8080/"
        },
        "id": "KJ-Dgkvmfe32",
        "outputId": "2cf53987-4fe9-44de-b34b-ec4b8395ad7b"
      },
      "outputs": [
        {
          "name": "stdout",
          "output_type": "stream",
          "text": [
            "1/1 [==============================] - 0s 21ms/step\n",
            "2/2 [==============================] - 0s 2ms/step\n",
            "1/1 [==============================] - 0s 19ms/step\n"
          ]
        },
        {
          "data": {
            "text/plain": [
              "[[24, 28, 25, 7], [40, 45, 44, 38], [0, 5, 3, 6]]"
            ]
          },
          "execution_count": 14,
          "metadata": {},
          "output_type": "execute_result"
        }
      ],
      "source": [
        "nn_summariser(\"test.csv\",[6,3987,4220],4)  #our testing result  #here we use n=4"
      ]
    },
    {
      "cell_type": "markdown",
      "metadata": {
        "id": "ZR15kL2kCg5o"
      },
      "source": [
        "#### We caluclate the F1 score:"
      ]
    },
    {
      "cell_type": "code",
      "execution_count": null,
      "metadata": {
        "id": "KBVMn7LLPxvj"
      },
      "outputs": [],
      "source": [
        "#lets make a list of lebals which allow us to caluclate the F1 score in test_score\n",
        "\n",
        "def labels(x,n):\n",
        "    test_3 = pd.read_csv(x)\n",
        "    total_predict=[]\n",
        "    total_true=[]\n",
        "    for qid in list(test_3[\"qid\"].unique())[0:n]:\n",
        "      #uni_id=test_3.loc[(test_3[\"qid\"]==qid)]\n",
        "\n",
        "      anchorinput=list(test_3.loc[(test_3[\"qid\"]==qid) & (test_3[\"sentid\"]==0)][\"question\"])*len(test_3.loc[(test_3[\"qid\"]==qid)])  ##e need to increase the length until it matches other inputs\n",
        "\n",
        "      positiveinput=(list(test_3.loc[(test_3[\"qid\"]==qid)][\"sentence text\"]))   #(positiveinput and negativeinput) can be the same(no difference)  #we use one set of distances only\n",
        "\n",
        "      negativeinput=(list(test_3.loc[(test_3[\"qid\"]==qid)][\"sentence text\"]))\n",
        "\n",
        "      a_input=tfidf.transform(anchorinput).toarray()                       #transform into tfidfvector\n",
        "      n_input=tfidf.transform(negativeinput).toarray()\n",
        "      p_input=tfidf.transform(positiveinput).toarray()\n",
        "\n",
        "\n",
        "      ap_distance_test,an_distance_test = siamese_model.predict([a_input,p_input,n_input],batch_size=40)  #we obtain a set of distances for each answers related to\n",
        "      #the same question\n",
        "      thershold=0.5  #this is out chosen thershold to caluclate the F1 score\n",
        "\n",
        "      y_predict=list(ap_distance_test<thershold)       #predict label 1(0) when the distance is less(more) than thershold\n",
        "\n",
        "      total_predict=total_predict+y_predict            #add the list of predict label for the same question into total_predict\n",
        "      total_true=total_true+list(test_3.loc[(test_3[\"qid\"]==qid)][\"label\"])    #add the list of ground label for the same question into true_total\n",
        "\n",
        "\n",
        "    return (total_predict,total_true)  #turn both value for caluclating F1 score\n"
      ]
    },
    {
      "cell_type": "code",
      "execution_count": null,
      "metadata": {
        "colab": {
          "base_uri": "https://localhost:8080/"
        },
        "id": "tt3LWQELg4kM",
        "outputId": "a21f2909-e850-43d6-96e3-8ca105dfeb58"
      },
      "outputs": [
        {
          "name": "stdout",
          "output_type": "stream",
          "text": [
            "1/1 [==============================] - 0s 17ms/step\n",
            "1/1 [==============================] - 0s 17ms/step\n",
            "1/1 [==============================] - 0s 17ms/step\n",
            "1/1 [==============================] - 0s 17ms/step\n",
            "1/1 [==============================] - 0s 17ms/step\n",
            "1/1 [==============================] - 0s 18ms/step\n",
            "1/1 [==============================] - 0s 18ms/step\n",
            "1/1 [==============================] - 0s 18ms/step\n",
            "2/2 [==============================] - 0s 998us/step\n",
            "1/1 [==============================] - 0s 18ms/step\n",
            "1/1 [==============================] - 0s 16ms/step\n",
            "1/1 [==============================] - 0s 18ms/step\n",
            "1/1 [==============================] - 0s 17ms/step\n",
            "1/1 [==============================] - 0s 18ms/step\n",
            "1/1 [==============================] - 0s 17ms/step\n",
            "1/1 [==============================] - 0s 17ms/step\n",
            "1/1 [==============================] - 0s 18ms/step\n",
            "2/2 [==============================] - 0s 2ms/step\n",
            "1/1 [==============================] - 0s 17ms/step\n",
            "1/1 [==============================] - 0s 17ms/step\n",
            "1/1 [==============================] - 0s 18ms/step\n",
            "1/1 [==============================] - 0s 18ms/step\n",
            "1/1 [==============================] - 0s 18ms/step\n",
            "1/1 [==============================] - 0s 18ms/step\n",
            "1/1 [==============================] - 0s 17ms/step\n",
            "1/1 [==============================] - 0s 18ms/step\n",
            "1/1 [==============================] - 0s 17ms/step\n",
            "1/1 [==============================] - 0s 17ms/step\n",
            "1/1 [==============================] - 0s 17ms/step\n",
            "1/1 [==============================] - 0s 17ms/step\n",
            "2/2 [==============================] - 0s 2ms/step\n",
            "1/1 [==============================] - 0s 18ms/step\n",
            "1/1 [==============================] - 0s 18ms/step\n",
            "1/1 [==============================] - 0s 18ms/step\n",
            "1/1 [==============================] - 0s 17ms/step\n",
            "1/1 [==============================] - 0s 17ms/step\n",
            "1/1 [==============================] - 0s 17ms/step\n",
            "1/1 [==============================] - 0s 17ms/step\n",
            "1/1 [==============================] - 0s 20ms/step\n",
            "1/1 [==============================] - 0s 17ms/step\n",
            "1/1 [==============================] - 0s 18ms/step\n",
            "1/1 [==============================] - 0s 16ms/step\n",
            "1/1 [==============================] - 0s 17ms/step\n",
            "1/1 [==============================] - 0s 16ms/step\n",
            "1/1 [==============================] - 0s 17ms/step\n",
            "1/1 [==============================] - 0s 16ms/step\n",
            "1/1 [==============================] - 0s 22ms/step\n",
            "1/1 [==============================] - 0s 19ms/step\n",
            "1/1 [==============================] - 0s 18ms/step\n",
            "1/1 [==============================] - 0s 17ms/step\n"
          ]
        }
      ],
      "source": [
        "total_true_1,total_predict_1=labels(\"test.csv\",50) #We use 50 random datas to calucluate our F1 score.\n",
        "\n"
      ]
    },
    {
      "cell_type": "code",
      "execution_count": null,
      "metadata": {
        "id": "cXJqIoMM-9a6"
      },
      "outputs": [],
      "source": [
        "from sklearn.metrics import f1_score\n",
        "import numpy as np\n",
        "\n",
        "f1_score_1=f1_score(total_true_1, total_predict_1) #this is the final F1 score"
      ]
    },
    {
      "cell_type": "markdown",
      "metadata": {
        "id": "fvBGu5cdCmaw"
      },
      "source": [
        "- We will dicuss our results in the next part when we compare with task 2."
      ]
    },
    {
      "cell_type": "markdown",
      "metadata": {
        "id": "rtZmuIWEhri2"
      },
      "source": [
        "# Task 2 (5 marks): Recurrent NN\n",
        "\n",
        "Implement a more complex Siamese neural network that is composed of the following layers:\n",
        "\n",
        "* An embedding layer that generates embedding vectors of the sentence text with 35 dimensions.\n",
        "* A LSTM layer. You need to determine the size of this LSTM layer, and the text length limit (if needed).\n",
        "* 3 hidden layers and a relu activation function. You need to determine the size of the hidden layers.\n",
        "\n",
        "Train the model with the training data, use the `dev_test` set to determine a good size of the LSTM layer and an appropriate length limit (if needed), and report the final results using the test set. Again, remember to use the test set only after you have determined the optimal parameters of the LSTM layer.\n",
        "\n",
        "Based on your experiments, comment on whether this system is better than the systems developed in the previous tasks.\n",
        "\n",
        "The breakdown of marks is as follows:\n",
        "\n",
        "* **1 mark** if the NN model has the correct layers, the correct activation functions, and the correct loss function.\n",
        "* **1 mark** if the code passes the sentence text to the model correctly. The documentation needs to explain what decisions had to be made to process long sentences. In particular, did you need to truncate the input text, and how did you determine the length limit?\n",
        "* **1 mark** if the code returns the IDs of the *n* sentences that have the highest prediction score in the given question.\n",
        "* **1 mark** if the notebook reports the F1 scores of the test sets and comments on the results.\n",
        "* **1 mark** for good coding and documentation in this task. In particular, the code and results must include evidence that shows your choice of best size of the LSTM layer (and length limit) and hidden layers. The explanations must be clear and concise. To make this task less time-consuming, use $n=1$."
      ]
    },
    {
      "cell_type": "markdown",
      "metadata": {
        "id": "mM8qQESsCvDH"
      },
      "source": [
        "### Creating our tf.idf vector:\n",
        "- We create the tf.idf of triplet data for our train,set and dev_set. Due to the runnning time becomes so low when we add a  LSTM layers and embeeding layers,we decide to use 300 words with highest tfidf score."
      ]
    },
    {
      "cell_type": "code",
      "execution_count": null,
      "metadata": {
        "id": "hAYCHFT9kTYY"
      },
      "outputs": [],
      "source": [
        "MAX_LEN=300    #we only use the first MAX_LEN numbers of  higheest tfidf score to train our models\n",
        "#EPOCH=9\n",
        "batch_size = 40    #set our batch size\n",
        "\n",
        "a_input,p_input,n_input=random_triplet_generator('training.csv')  #we created a set of triplet in train,dev_test and test sets\n",
        "a_input_test,p_input_test,n_input_test=random_triplet_generator('dev_test.csv')\n",
        "a_input_test2,p_input_test2,n_input_test2=random_triplet_generator('test.csv')\n",
        "\n",
        "from sklearn.feature_extraction.text import TfidfVectorizer\n",
        "\n",
        "tfidf=TfidfVectorizer()\n",
        "\n",
        "tfidf=TfidfVectorizer(stop_words=\"english\",max_features=MAX_LEN)      # We convert into tfidf for each questions and answers\n",
        "\n",
        "tfidf.fit(a_input+p_input+n_input)  #we fit the tfidf\n",
        "\n",
        "\n",
        "a_input=tfidf.transform(a_input).toarray()\n",
        "n_input=tfidf.transform(n_input).toarray()       #convert our questions and answers triplet into tfidf vectors\n",
        "p_input=tfidf.transform(p_input).toarray()\n",
        "\n",
        "a_input_test=tfidf.transform(a_input_test).toarray()\n",
        "n_input_test=tfidf.transform(n_input_test).toarray()\n",
        "p_input_test=tfidf.transform(p_input_test).toarray()\n",
        "\n",
        "a_input_test2=tfidf.transform(a_input_test2).toarray()\n",
        "n_input_test2=tfidf.transform(n_input_test2).toarray()\n",
        "p_input_test2=tfidf.transform(p_input_test2).toarray()\n",
        "\n",
        "\n"
      ]
    },
    {
      "cell_type": "markdown",
      "metadata": {
        "id": "8l0ti0LoC8Ho"
      },
      "source": [
        "#### We create our model with the requirement:\n",
        "-  An embedding layer that generates embedding vectors of the sentence text with 35 dimensions.\n",
        "- A LSTM layer.we set the contraint of the input text with 300.\n",
        "- 3 hidden layers and a relu activation function."
      ]
    },
    {
      "cell_type": "code",
      "execution_count": null,
      "metadata": {
        "colab": {
          "base_uri": "https://localhost:8080/"
        },
        "id": "RzmFmMLUu2ry",
        "outputId": "e9bffa3d-c15d-498b-f972-ad4ae004ee75"
      },
      "outputs": [
        {
          "name": "stdout",
          "output_type": "stream",
          "text": [
            "Model: \"model_17\"\n",
            "__________________________________________________________________________________________________\n",
            " Layer (type)                   Output Shape         Param #     Connected to                     \n",
            "==================================================================================================\n",
            " input_58 (InputLayer)          [(None, 300)]        0           []                               \n",
            "                                                                                                  \n",
            " input_59 (InputLayer)          [(None, 300)]        0           []                               \n",
            "                                                                                                  \n",
            " input_60 (InputLayer)          [(None, 300)]        0           []                               \n",
            "                                                                                                  \n",
            " embedding_1 (Embedding)        (None, 300, 35)      10535       ['input_58[0][0]',               \n",
            "                                                                  'input_59[0][0]',               \n",
            "                                                                  'input_60[0][0]']               \n",
            "                                                                                                  \n",
            " lstm (LSTM)                    (None, 36)           10368       ['embedding_1[0][0]',            \n",
            "                                                                  'embedding_1[1][0]',            \n",
            "                                                                  'embedding_1[2][0]']            \n",
            "                                                                                                  \n",
            " sequential_17 (Sequential)     (None, 26)           2366        ['lstm[0][0]',                   \n",
            "                                                                  'lstm[1][0]',                   \n",
            "                                                                  'lstm[2][0]']                   \n",
            "                                                                                                  \n",
            " triplet_loss_layer (TripletLos  ((None,),           0           ['sequential_17[0][0]',          \n",
            " sLayer)                         (None,))                         'sequential_17[1][0]',          \n",
            "                                                                  'sequential_17[2][0]']          \n",
            "                                                                                                  \n",
            "==================================================================================================\n",
            "Total params: 23,269\n",
            "Trainable params: 23,269\n",
            "Non-trainable params: 0\n",
            "__________________________________________________________________________________________________\n"
          ]
        }
      ],
      "source": [
        "\n",
        "\n",
        "from keras.models import Model, Sequential\n",
        "\n",
        "from keras.layers import  Input, Embedding, LSTM, Bidirectional, Dense, Lambda\n",
        "from tensorflow.keras.layers import Layer\n",
        "\n",
        "#we create the input with the max_len input shape to fit our model\n",
        "\n",
        "# add three layers(hidden one)\n",
        "\n",
        "def siamese_network_generator(x,y,z,w):  #we create a function for building the siamese_network with 4 inputs of the hidden/LSTM layers\n",
        "    embed_size=35\n",
        "    first_sent_in_a = Input(shape=(MAX_LEN,))\n",
        "    second_sent_in_p = Input(shape=(MAX_LEN,))\n",
        "    third_sent_in_n = Input(shape=(MAX_LEN,))\n",
        "\n",
        "    embedding_layer =  Embedding(input_dim=MAX_LEN+1, output_dim=embed_size, input_length=MAX_LEN, trainable=True)\n",
        "#An embedding layer that generates embedding vectors of the sentence text with 35 dimensions.\n",
        "#Max_len +1 : we might have some known words which are not in dataset.\n",
        "\n",
        "\n",
        "    simpleLSTM = LSTM(units=w, return_sequences=False) #w is the units of LSTM\n",
        "#A LSTM layer. You need to determine the size of this LSTM layer, and the text length limit (if needed).\n",
        "\n",
        "\n",
        "    first_sent_encoded_a = simpleLSTM(embedding_layer(first_sent_in_a) )  #get representation for first sentense\n",
        "    second_sent_encoded_p = simpleLSTM(embedding_layer(second_sent_in_p))\n",
        "    third_sent_encoded_n = simpleLSTM(embedding_layer(third_sent_in_n))\n",
        "\n",
        "\n",
        "    model = Sequential([\n",
        "      Dense(x, activation='relu'),                        #we have three hidden layers into the model\n",
        "        Dense(y, activation='relu'),\n",
        "         Dense(z, activation='relu')\n",
        "    ])\n",
        "\n",
        "    encoded_1 = model(first_sent_encoded_a )\n",
        "    encoded_2 = model(second_sent_encoded_p)    #these are the output where the datas passed through 3 hidden layers\n",
        "    encoded_3 = model(third_sent_encoded_n)\n",
        "\n",
        "\n",
        "    class TripletLossLayer(Layer):              #create a distance layer as required\n",
        "        def __init__(self, **kwargs):\n",
        "            super().__init__(**kwargs)\n",
        "\n",
        "        def call(self, anchor, positive, negative):\n",
        "            ap_distance = tf.reduce_sum(tf.square(anchor - positive), -1)\n",
        "            an_distance = tf.reduce_sum(tf.square(anchor - negative), -1)         #we need inheritance from the superclass layer.\n",
        "            return (ap_distance, an_distance)\n",
        "        #we caluclate the distance between the lists of positive(negative) and anchor vector\n",
        " #Returns the squared Euclidean distance between anchor and positive answer, as well as that between anchor and negative answer\n",
        "    loss_layer = TripletLossLayer()(encoded_1, encoded_2, encoded_3)\n",
        "\n",
        "    siamese_network = Model([first_sent_in_a, second_sent_in_p, third_sent_in_n], loss_layer)\n",
        "\n",
        "    return siamese_network\n",
        " #we define our siamese_network here\n",
        "\n",
        "\n",
        "class LSTMSiameseModel(Model):\n",
        "# next we define our custom model class as our task is not traditional classification task\n",
        "#there are lot of thing needed to be changed\n",
        "\n",
        "    def __init__(self, siamese_network, margin=0.000000000000001):\n",
        "        super().__init__()\n",
        "        self.siamese_network = siamese_network   # We create a build and create those object\n",
        "        self.margin = margin                     #We define our own metrics with the loss function \"triplet_lost\" we define below\n",
        "        self.loss_tracker = metrics.Mean(name=\"loss\")\n",
        "\n",
        "    def call(self, inputs):\n",
        "        return self.siamese_network(inputs) # #this is the margin value defined for our triplet loss\n",
        "    #@tf.function\n",
        "    def train_step(self, data):\n",
        "\n",
        "        with tf.GradientTape() as tape: #we define our custom training step with trainable_weights\n",
        "            loss = self.triplet_lost(data)\n",
        "\n",
        "        gradients = tape.gradient(loss, self.siamese_network.trainable_weights)  #we use gradient descent to keep track of each steps\n",
        "\n",
        "        self.optimizer.apply_gradients(\n",
        "            zip(gradients, self.siamese_network.trainable_weights)\n",
        "        )\n",
        "\n",
        "        self.loss_tracker.update_state(loss)\n",
        "        return {\"loss\": self.loss_tracker.result()}   # return the loss for each steps\n",
        "    #@tf.function\n",
        "    def test_step(self, data):            #we do the same thing for test step\n",
        "        loss = self.triplet_lost(data)\n",
        "        self.loss_tracker.update_state(loss)\n",
        "        return {\"loss_3\": self.loss_tracker.result()}\n",
        "    #@tf.function\n",
        "    def triplet_lost(self, data):         #the loss function loss_3 is for triplet validation dataset or test set (depended on situation)\n",
        "\n",
        "\n",
        "        ap_distance, an_distance = self.siamese_network(data)   # we defined the triplet lost fucntion inside our custom fit\n",
        "\n",
        "        loss=(tf.maximum(ap_distance - an_distance + self.margin, 0.0))\n",
        "\n",
        "\n",
        "        return loss\n",
        "\n",
        "    @property\n",
        "    def metrics(self):\n",
        "                                       #we need our loss tracker\n",
        "        return [self.loss_tracker]\n",
        "\n",
        "siamese_network=siamese_network_generator(26,26,26,36)\n",
        "siamese_network.summary()                       #print out the detail of model we created\n"
      ]
    },
    {
      "cell_type": "markdown",
      "metadata": {
        "id": "V2jIiXaODqJm"
      },
      "source": [
        "#### Finding the best hyperparamters\n",
        "\n",
        "- In this part we search for different input of parameters and find the best paramters for least validation loss\n",
        "\n",
        "- to simplify the process,we choose different hidden sizes to test the performance but we use the same number of hidden sizes in all 3 hidden layers and we set a fix learning rate with a small margin value(because the validation lost didnt go down after lone period)\n",
        "\n",
        "- the w paramters in validation_evaluation is our LSTM hidden sizes\n",
        "\n"
      ]
    },
    {
      "cell_type": "code",
      "execution_count": null,
      "metadata": {
        "id": "ixn8KEvdCZLQ"
      },
      "outputs": [],
      "source": [
        "from tensorflow.keras import callbacks\n",
        "# we set a  function evluate the validation loss by puting different hyperparamters\n",
        "def validation_evaluation_(num_1,num_2,num_3,learning_rate,alpha,w):   #this function gives a input of parameters for each layers,learning rate and margin values\n",
        "  siamese_model = LSTMSiameseModel(siamese_network_generator(num_1,num_2,num_3,w),alpha)\n",
        "  siamese_model.compile(optimizer=optimizers.Adam(learning_rate))\n",
        "  callback = callbacks.EarlyStopping(monitor='loss',patience=2)\n",
        "\n",
        "  siamese_model.fit([a_input, p_input,n_input],epochs=10, batch_size = 80,validation_data=[a_input_test[0:1000], p_input_test[0:1000],n_input_test[0:1000]],callbacks=[callback])\n",
        "  return (siamese_model.evaluate([a_input_test,p_input_test,n_input_test],batch_size = 80),[num_1,num_2,num_3,learning_rate,alpha]) #the output is a the evaluation score\n",
        "  # we use 1000 data (approxmiate to be 1/10 of our our dataset)\n"
      ]
    },
    {
      "cell_type": "code",
      "execution_count": null,
      "metadata": {
        "colab": {
          "base_uri": "https://localhost:8080/"
        },
        "id": "xN3CxVMov1tQ",
        "outputId": "6020b75f-9f39-4302-9cf2-08231735bf6c"
      },
      "outputs": [
        {
          "name": "stdout",
          "output_type": "stream",
          "text": [
            "Epoch 1/10\n",
            "143/143 [==============================] - ETA: 0s - loss: 1.6104e-09WARNING:tensorflow:`evaluate()` received a value for `sample_weight`, but `weighted_metrics` were not provided.  Did you mean to pass metrics to `weighted_metrics` in `compile()`?  If this is intentional you can pass `weighted_metrics=[]` to `compile()` in order to silence this warning.\n",
            "143/143 [==============================] - 22s 130ms/step - loss: 1.6104e-09 - val_loss_3: 7.2807e-11\n",
            "Epoch 2/10\n",
            "143/143 [==============================] - ETA: 0s - loss: 1.4789e-09WARNING:tensorflow:`evaluate()` received a value for `sample_weight`, but `weighted_metrics` were not provided.  Did you mean to pass metrics to `weighted_metrics` in `compile()`?  If this is intentional you can pass `weighted_metrics=[]` to `compile()` in order to silence this warning.\n",
            "143/143 [==============================] - 12s 83ms/step - loss: 1.4789e-09 - val_loss_3: 8.0660e-10\n",
            "Epoch 3/10\n",
            "143/143 [==============================] - ETA: 0s - loss: 1.0844e-09WARNING:tensorflow:`evaluate()` received a value for `sample_weight`, but `weighted_metrics` were not provided.  Did you mean to pass metrics to `weighted_metrics` in `compile()`?  If this is intentional you can pass `weighted_metrics=[]` to `compile()` in order to silence this warning.\n",
            "143/143 [==============================] - 12s 82ms/step - loss: 1.0844e-09 - val_loss_3: 7.5455e-11\n",
            "Epoch 4/10\n",
            "143/143 [==============================] - ETA: 0s - loss: 2.5434e-10WARNING:tensorflow:`evaluate()` received a value for `sample_weight`, but `weighted_metrics` were not provided.  Did you mean to pass metrics to `weighted_metrics` in `compile()`?  If this is intentional you can pass `weighted_metrics=[]` to `compile()` in order to silence this warning.\n",
            "143/143 [==============================] - 12s 84ms/step - loss: 2.5434e-10 - val_loss_3: 1.2454e-11\n",
            "Epoch 5/10\n",
            "143/143 [==============================] - ETA: 0s - loss: 3.8459e-11WARNING:tensorflow:`evaluate()` received a value for `sample_weight`, but `weighted_metrics` were not provided.  Did you mean to pass metrics to `weighted_metrics` in `compile()`?  If this is intentional you can pass `weighted_metrics=[]` to `compile()` in order to silence this warning.\n",
            "143/143 [==============================] - 12s 84ms/step - loss: 3.8459e-11 - val_loss_3: 7.0685e-12\n",
            "Epoch 6/10\n",
            "143/143 [==============================] - ETA: 0s - loss: 1.2017e-11WARNING:tensorflow:`evaluate()` received a value for `sample_weight`, but `weighted_metrics` were not provided.  Did you mean to pass metrics to `weighted_metrics` in `compile()`?  If this is intentional you can pass `weighted_metrics=[]` to `compile()` in order to silence this warning.\n",
            "143/143 [==============================] - 12s 81ms/step - loss: 1.2017e-11 - val_loss_3: 5.6773e-12\n",
            "Epoch 7/10\n",
            "143/143 [==============================] - ETA: 0s - loss: 8.3344e-12WARNING:tensorflow:`evaluate()` received a value for `sample_weight`, but `weighted_metrics` were not provided.  Did you mean to pass metrics to `weighted_metrics` in `compile()`?  If this is intentional you can pass `weighted_metrics=[]` to `compile()` in order to silence this warning.\n",
            "143/143 [==============================] - 12s 84ms/step - loss: 8.3344e-12 - val_loss_3: 5.2354e-12\n",
            "Epoch 8/10\n",
            "143/143 [==============================] - ETA: 0s - loss: 6.7443e-12WARNING:tensorflow:`evaluate()` received a value for `sample_weight`, but `weighted_metrics` were not provided.  Did you mean to pass metrics to `weighted_metrics` in `compile()`?  If this is intentional you can pass `weighted_metrics=[]` to `compile()` in order to silence this warning.\n",
            "143/143 [==============================] - 12s 86ms/step - loss: 6.7443e-12 - val_loss_3: 5.0715e-12\n",
            "Epoch 9/10\n",
            "143/143 [==============================] - ETA: 0s - loss: 5.9690e-12WARNING:tensorflow:`evaluate()` received a value for `sample_weight`, but `weighted_metrics` were not provided.  Did you mean to pass metrics to `weighted_metrics` in `compile()`?  If this is intentional you can pass `weighted_metrics=[]` to `compile()` in order to silence this warning.\n",
            "143/143 [==============================] - 12s 82ms/step - loss: 5.9690e-12 - val_loss_3: 5.0226e-12\n",
            "Epoch 10/10\n",
            "143/143 [==============================] - ETA: 0s - loss: 5.6060e-12WARNING:tensorflow:`evaluate()` received a value for `sample_weight`, but `weighted_metrics` were not provided.  Did you mean to pass metrics to `weighted_metrics` in `compile()`?  If this is intentional you can pass `weighted_metrics=[]` to `compile()` in order to silence this warning.\n",
            "143/143 [==============================] - 13s 89ms/step - loss: 5.6060e-12 - val_loss_3: 5.0139e-12\n",
            "49/49 [==============================] - 2s 27ms/step - loss_3: 5.0015e-12\n",
            "Epoch 1/10\n",
            "143/143 [==============================] - ETA: 0s - loss: 8.6884e-09WARNING:tensorflow:`evaluate()` received a value for `sample_weight`, but `weighted_metrics` were not provided.  Did you mean to pass metrics to `weighted_metrics` in `compile()`?  If this is intentional you can pass `weighted_metrics=[]` to `compile()` in order to silence this warning.\n",
            "143/143 [==============================] - 32s 203ms/step - loss: 8.6884e-09 - val_loss_3: 1.2843e-09\n",
            "Epoch 2/10\n",
            "143/143 [==============================] - ETA: 0s - loss: 7.2541e-10WARNING:tensorflow:`evaluate()` received a value for `sample_weight`, but `weighted_metrics` were not provided.  Did you mean to pass metrics to `weighted_metrics` in `compile()`?  If this is intentional you can pass `weighted_metrics=[]` to `compile()` in order to silence this warning.\n",
            "143/143 [==============================] - 26s 178ms/step - loss: 7.2541e-10 - val_loss_3: 1.7913e-09\n",
            "Epoch 3/10\n",
            "143/143 [==============================] - ETA: 0s - loss: 9.2290e-09WARNING:tensorflow:`evaluate()` received a value for `sample_weight`, but `weighted_metrics` were not provided.  Did you mean to pass metrics to `weighted_metrics` in `compile()`?  If this is intentional you can pass `weighted_metrics=[]` to `compile()` in order to silence this warning.\n",
            "143/143 [==============================] - 25s 175ms/step - loss: 9.2290e-09 - val_loss_3: 5.9713e-10\n",
            "Epoch 4/10\n",
            "143/143 [==============================] - ETA: 0s - loss: 1.3770e-09WARNING:tensorflow:`evaluate()` received a value for `sample_weight`, but `weighted_metrics` were not provided.  Did you mean to pass metrics to `weighted_metrics` in `compile()`?  If this is intentional you can pass `weighted_metrics=[]` to `compile()` in order to silence this warning.\n",
            "143/143 [==============================] - 25s 177ms/step - loss: 1.3770e-09 - val_loss_3: 4.9646e-09\n",
            "49/49 [==============================] - 4s 56ms/step - loss_3: 4.0637e-09\n",
            "Epoch 1/10\n",
            "143/143 [==============================] - ETA: 0s - loss: 6.2065e-09WARNING:tensorflow:`evaluate()` received a value for `sample_weight`, but `weighted_metrics` were not provided.  Did you mean to pass metrics to `weighted_metrics` in `compile()`?  If this is intentional you can pass `weighted_metrics=[]` to `compile()` in order to silence this warning.\n",
            "143/143 [==============================] - 31s 191ms/step - loss: 6.2065e-09 - val_loss_3: 3.8917e-10\n",
            "Epoch 2/10\n",
            "143/143 [==============================] - ETA: 0s - loss: 2.9805e-09WARNING:tensorflow:`evaluate()` received a value for `sample_weight`, but `weighted_metrics` were not provided.  Did you mean to pass metrics to `weighted_metrics` in `compile()`?  If this is intentional you can pass `weighted_metrics=[]` to `compile()` in order to silence this warning.\n",
            "143/143 [==============================] - 20s 136ms/step - loss: 2.9805e-09 - val_loss_3: 4.1087e-09\n",
            "Epoch 3/10\n",
            "143/143 [==============================] - ETA: 0s - loss: 1.1490e-08WARNING:tensorflow:`evaluate()` received a value for `sample_weight`, but `weighted_metrics` were not provided.  Did you mean to pass metrics to `weighted_metrics` in `compile()`?  If this is intentional you can pass `weighted_metrics=[]` to `compile()` in order to silence this warning.\n",
            "143/143 [==============================] - 19s 136ms/step - loss: 1.1490e-08 - val_loss_3: 1.4841e-10\n",
            "Epoch 4/10\n"
          ]
        },
        {
          "name": "stdout",
          "output_type": "stream",
          "text": [
            "143/143 [==============================] - ETA: 0s - loss: 7.9354e-09WARNING:tensorflow:`evaluate()` received a value for `sample_weight`, but `weighted_metrics` were not provided.  Did you mean to pass metrics to `weighted_metrics` in `compile()`?  If this is intentional you can pass `weighted_metrics=[]` to `compile()` in order to silence this warning.\n",
            "143/143 [==============================] - 19s 131ms/step - loss: 7.9354e-09 - val_loss_3: 1.2781e-10\n",
            "49/49 [==============================] - 2s 31ms/step - loss_3: 1.0964e-10\n",
            "Epoch 1/10\n",
            "143/143 [==============================] - ETA: 0s - loss: 1.3744e-08WARNING:tensorflow:`evaluate()` received a value for `sample_weight`, but `weighted_metrics` were not provided.  Did you mean to pass metrics to `weighted_metrics` in `compile()`?  If this is intentional you can pass `weighted_metrics=[]` to `compile()` in order to silence this warning.\n",
            "143/143 [==============================] - 28s 173ms/step - loss: 1.3744e-08 - val_loss_3: 2.0267e-10\n",
            "Epoch 2/10\n",
            "143/143 [==============================] - ETA: 0s - loss: 6.2857e-09WARNING:tensorflow:`evaluate()` received a value for `sample_weight`, but `weighted_metrics` were not provided.  Did you mean to pass metrics to `weighted_metrics` in `compile()`?  If this is intentional you can pass `weighted_metrics=[]` to `compile()` in order to silence this warning.\n",
            "143/143 [==============================] - 23s 162ms/step - loss: 6.2857e-09 - val_loss_3: 3.6003e-09\n",
            "Epoch 3/10\n",
            "143/143 [==============================] - ETA: 0s - loss: 4.9745e-09WARNING:tensorflow:`evaluate()` received a value for `sample_weight`, but `weighted_metrics` were not provided.  Did you mean to pass metrics to `weighted_metrics` in `compile()`?  If this is intentional you can pass `weighted_metrics=[]` to `compile()` in order to silence this warning.\n",
            "143/143 [==============================] - 23s 163ms/step - loss: 4.9745e-09 - val_loss_3: 1.0914e-10\n",
            "Epoch 4/10\n",
            "143/143 [==============================] - ETA: 0s - loss: 1.0155e-08WARNING:tensorflow:`evaluate()` received a value for `sample_weight`, but `weighted_metrics` were not provided.  Did you mean to pass metrics to `weighted_metrics` in `compile()`?  If this is intentional you can pass `weighted_metrics=[]` to `compile()` in order to silence this warning.\n",
            "143/143 [==============================] - 23s 164ms/step - loss: 1.0155e-08 - val_loss_3: 4.2470e-11\n",
            "Epoch 5/10\n",
            "143/143 [==============================] - ETA: 0s - loss: 4.0347e-08WARNING:tensorflow:`evaluate()` received a value for `sample_weight`, but `weighted_metrics` were not provided.  Did you mean to pass metrics to `weighted_metrics` in `compile()`?  If this is intentional you can pass `weighted_metrics=[]` to `compile()` in order to silence this warning.\n",
            "143/143 [==============================] - 28s 199ms/step - loss: 4.0347e-08 - val_loss_3: 1.7114e-08\n",
            "49/49 [==============================] - 7s 121ms/step - loss_3: 1.3893e-08\n",
            "Epoch 1/10\n",
            "143/143 [==============================] - ETA: 0s - loss: 1.1393e-08WARNING:tensorflow:`evaluate()` received a value for `sample_weight`, but `weighted_metrics` were not provided.  Did you mean to pass metrics to `weighted_metrics` in `compile()`?  If this is intentional you can pass `weighted_metrics=[]` to `compile()` in order to silence this warning.\n",
            "143/143 [==============================] - 34s 214ms/step - loss: 1.1393e-08 - val_loss_3: 6.4281e-09\n",
            "Epoch 2/10\n",
            "143/143 [==============================] - ETA: 0s - loss: 9.2724e-09WARNING:tensorflow:`evaluate()` received a value for `sample_weight`, but `weighted_metrics` were not provided.  Did you mean to pass metrics to `weighted_metrics` in `compile()`?  If this is intentional you can pass `weighted_metrics=[]` to `compile()` in order to silence this warning.\n",
            "143/143 [==============================] - 28s 193ms/step - loss: 9.2724e-09 - val_loss_3: 6.5888e-10\n",
            "Epoch 3/10\n",
            "143/143 [==============================] - ETA: 0s - loss: 9.7651e-10WARNING:tensorflow:`evaluate()` received a value for `sample_weight`, but `weighted_metrics` were not provided.  Did you mean to pass metrics to `weighted_metrics` in `compile()`?  If this is intentional you can pass `weighted_metrics=[]` to `compile()` in order to silence this warning.\n",
            "143/143 [==============================] - 27s 192ms/step - loss: 9.7651e-10 - val_loss_3: 9.6195e-10\n",
            "Epoch 4/10\n",
            "143/143 [==============================] - ETA: 0s - loss: 2.3203e-09WARNING:tensorflow:`evaluate()` received a value for `sample_weight`, but `weighted_metrics` were not provided.  Did you mean to pass metrics to `weighted_metrics` in `compile()`?  If this is intentional you can pass `weighted_metrics=[]` to `compile()` in order to silence this warning.\n",
            "143/143 [==============================] - 28s 199ms/step - loss: 2.3203e-09 - val_loss_3: 3.3667e-08\n",
            "Epoch 5/10\n",
            "143/143 [==============================] - ETA: 0s - loss: 2.6669e-08WARNING:tensorflow:`evaluate()` received a value for `sample_weight`, but `weighted_metrics` were not provided.  Did you mean to pass metrics to `weighted_metrics` in `compile()`?  If this is intentional you can pass `weighted_metrics=[]` to `compile()` in order to silence this warning.\n",
            "143/143 [==============================] - 28s 196ms/step - loss: 2.6669e-08 - val_loss_3: 4.3852e-09\n",
            "49/49 [==============================] - 4s 66ms/step - loss_3: 3.6722e-09\n",
            "Epoch 1/10\n",
            "143/143 [==============================] - ETA: 0s - loss: 6.3579e-09WARNING:tensorflow:`evaluate()` received a value for `sample_weight`, but `weighted_metrics` were not provided.  Did you mean to pass metrics to `weighted_metrics` in `compile()`?  If this is intentional you can pass `weighted_metrics=[]` to `compile()` in order to silence this warning.\n",
            "143/143 [==============================] - 53s 348ms/step - loss: 6.3579e-09 - val_loss_3: 6.2130e-09\n",
            "Epoch 2/10\n",
            "143/143 [==============================] - ETA: 0s - loss: 1.3791e-08WARNING:tensorflow:`evaluate()` received a value for `sample_weight`, but `weighted_metrics` were not provided.  Did you mean to pass metrics to `weighted_metrics` in `compile()`?  If this is intentional you can pass `weighted_metrics=[]` to `compile()` in order to silence this warning.\n",
            "143/143 [==============================] - 45s 315ms/step - loss: 1.3791e-08 - val_loss_3: 8.2390e-10\n",
            "Epoch 3/10\n",
            "143/143 [==============================] - ETA: 0s - loss: 1.1527e-08WARNING:tensorflow:`evaluate()` received a value for `sample_weight`, but `weighted_metrics` were not provided.  Did you mean to pass metrics to `weighted_metrics` in `compile()`?  If this is intentional you can pass `weighted_metrics=[]` to `compile()` in order to silence this warning.\n",
            "143/143 [==============================] - 45s 318ms/step - loss: 1.1527e-08 - val_loss_3: 1.7820e-09\n",
            "49/49 [==============================] - 6s 117ms/step - loss_3: 1.4422e-09\n"
          ]
        }
      ],
      "source": [
        "# we have three trial with different hyperparameters\n",
        "score_list=[]                         # We want to see determine best performance of each model\n",
        "for i in [16,32,64]:    #to be simple: I only use the same hyperparamters for each layers and we use different neurons w for LSTM layers\n",
        "    for w in [16,32]:  #we choose a smaller values due to memory problem\n",
        "        score_list.append((validation_evaluation_(i,i,i,0.005,0.000000000005,w),i,w)) #set very small margins due to higher one gives no result #we just make it simple by looking at\n",
        "  #if ap_distance is smaller than an_distance only\n"
      ]
    },
    {
      "cell_type": "code",
      "execution_count": null,
      "metadata": {
        "id": "fW4LEvBdXb0N"
      },
      "outputs": [],
      "source": [
        "scored_list=[]\n",
        "for i ,j ,k in score_list:\n",
        "    scored_list.append((i[0],i[1][0],k))  #to make a clear list"
      ]
    },
    {
      "cell_type": "code",
      "execution_count": null,
      "metadata": {
        "id": "JLjJT1KJXb0N",
        "outputId": "8144c541-20f1-424d-a345-e37b62098277"
      },
      "outputs": [
        {
          "data": {
            "text/plain": [
              "[(4.993807884573487e-12, 16, 16),\n",
              " (3.509061485829079e-09, 16, 32),\n",
              " (9.369448966678462e-11, 32, 16),\n",
              " (1.2203935639831798e-08, 32, 32),\n",
              " (3.1017435286884165e-09, 64, 16),\n",
              " (1.2703317286977267e-09, 64, 32)]"
            ]
          },
          "execution_count": 43,
          "metadata": {},
          "output_type": "execute_result"
        }
      ],
      "source": [
        "scored_list"
      ]
    },
    {
      "cell_type": "code",
      "execution_count": null,
      "metadata": {
        "id": "WE5BjNQjXb0N",
        "outputId": "49b003ec-a6ef-49e5-8afd-dfcaef774363"
      },
      "outputs": [
        {
          "name": "stdout",
          "output_type": "stream",
          "text": [
            "best_hidden parameters: 16 16 16\n",
            "best_LSTM units: 16\n"
          ]
        }
      ],
      "source": [
        "minimum_lost=100000\n",
        "\n",
        "for i , j ,w in (scored_list):\n",
        "  if i<minimum_lost:\n",
        "    best_praramters=(j,w)\n",
        "    minimum_lost=i      # we search for the best minimum losts with the best_praramters\n",
        "\n",
        "print (\"best_hidden parameters:\",best_praramters[0],best_praramters[0],best_praramters[0])\n",
        "\n",
        "print (\"best_LSTM units:\",best_praramters[1])"
      ]
    },
    {
      "cell_type": "markdown",
      "metadata": {
        "id": "dOxH5FZdDx3O"
      },
      "source": [
        "#### we retrain the model using best hyperparameters and make prediction"
      ]
    },
    {
      "cell_type": "code",
      "execution_count": null,
      "metadata": {
        "colab": {
          "base_uri": "https://localhost:8080/"
        },
        "id": "lAa6kDRtEGnM",
        "outputId": "5034b786-ed5f-4940-d0ee-f286b737101d"
      },
      "outputs": [
        {
          "name": "stdout",
          "output_type": "stream",
          "text": [
            "Epoch 1/10\n",
            "143/143 [==============================] - ETA: 0s - loss: 1.0178e-08WARNING:tensorflow:`evaluate()` received a value for `sample_weight`, but `weighted_metrics` were not provided.  Did you mean to pass metrics to `weighted_metrics` in `compile()`?  If this is intentional you can pass `weighted_metrics=[]` to `compile()` in order to silence this warning.\n",
            "143/143 [==============================] - 43s 274ms/step - loss: 1.0178e-08 - val_loss_3: 1.2687e-08\n",
            "Epoch 2/10\n",
            "143/143 [==============================] - ETA: 0s - loss: 6.4221e-09WARNING:tensorflow:`evaluate()` received a value for `sample_weight`, but `weighted_metrics` were not provided.  Did you mean to pass metrics to `weighted_metrics` in `compile()`?  If this is intentional you can pass `weighted_metrics=[]` to `compile()` in order to silence this warning.\n",
            "143/143 [==============================] - 39s 274ms/step - loss: 6.4221e-09 - val_loss_3: 2.1514e-11\n",
            "Epoch 3/10\n",
            "143/143 [==============================] - ETA: 0s - loss: 1.3160e-08WARNING:tensorflow:`evaluate()` received a value for `sample_weight`, but `weighted_metrics` were not provided.  Did you mean to pass metrics to `weighted_metrics` in `compile()`?  If this is intentional you can pass `weighted_metrics=[]` to `compile()` in order to silence this warning.\n",
            "143/143 [==============================] - 38s 269ms/step - loss: 1.3160e-08 - val_loss_3: 8.4988e-10\n",
            "286/286 [==============================] - 12s 38ms/step\n"
          ]
        },
        {
          "data": {
            "text/plain": [
              "(array([0.0000000e+00, 3.0253577e-15, 2.0832516e-08, ..., 0.0000000e+00,\n",
              "        0.0000000e+00, 1.0580784e-07], dtype=float32),\n",
              " array([0.0000000e+00, 4.8017146e-15, 2.0832516e-08, ..., 0.0000000e+00,\n",
              "        0.0000000e+00, 1.0579440e-07], dtype=float32))"
            ]
          },
          "execution_count": 51,
          "metadata": {},
          "output_type": "execute_result"
        }
      ],
      "source": [
        "minimum_lost=100000\n",
        "\n",
        "for i , j ,w in (scored_list):\n",
        "  if i<minimum_lost:\n",
        "    best_praramters=(j,w)\n",
        "    minimum_lost=i      # we search for the best minimum losts with the best_praramters\n",
        "\n",
        "best_praramters #this is the one we obatin\n",
        "LSTMsiamese_model=LSTMSiameseModel(siamese_network_generator(best_praramters[0],best_praramters[0],best_praramters[0],best_praramters[1]),0.000000000005)\n",
        "\n",
        "LSTMsiamese_model.compile(optimizer=optimizers.Adam(learning_rate=0.005))\n",
        "callback = callbacks.EarlyStopping(monitor='loss',patience=1)\n",
        "LSTMsiamese_model.fit([a_input, p_input,n_input],epochs=10, batch_size = 80,validation_data=[a_input_test[0:1000], p_input_test[0:1000],n_input_test[0:1000]],callbacks=[callback])\n",
        "\n",
        "\n",
        "\n",
        "#We fit our model and run it\n",
        "\n",
        "LSTMsiamese_model.predict([a_input,p_input,n_input],batch_size=40)  #the output is supposed to be two set of distances"
      ]
    },
    {
      "cell_type": "code",
      "execution_count": null,
      "metadata": {
        "colab": {
          "base_uri": "https://localhost:8080/"
        },
        "id": "nFQH3y9slQGs",
        "outputId": "c5e4b535-a07b-44e3-f3f2-772ffe74c6ad"
      },
      "outputs": [
        {
          "name": "stdout",
          "output_type": "stream",
          "text": [
            "97/97 [==============================] - 4s 40ms/step\n"
          ]
        },
        {
          "data": {
            "text/plain": [
              "(array([5.6066263e-15, 0.0000000e+00, 0.0000000e+00, ..., 0.0000000e+00,\n",
              "        0.0000000e+00, 0.0000000e+00], dtype=float32),\n",
              " array([5.6066263e-15, 0.0000000e+00, 0.0000000e+00, ..., 0.0000000e+00,\n",
              "        0.0000000e+00, 0.0000000e+00], dtype=float32))"
            ]
          },
          "execution_count": 52,
          "metadata": {},
          "output_type": "execute_result"
        }
      ],
      "source": [
        "LSTMsiamese_model.predict([a_input_test, p_input_test,n_input_test],batch_size=40)  #some test inputs"
      ]
    },
    {
      "cell_type": "markdown",
      "metadata": {
        "id": "lZe5HtnLD1Hm"
      },
      "source": [
        "#### Implement a LSTMnn_summariser that returns the  n sentences with highest predicted score.\n",
        "\n",
        " - Our code returns the IDs of the  n  sentences that have the highest prediction score in the given question."
      ]
    },
    {
      "cell_type": "code",
      "execution_count": null,
      "metadata": {
        "id": "H-BXol95PIi2"
      },
      "outputs": [],
      "source": [
        "def LSTMnn_summariser(csvfile, questionids, n=1):\n",
        "  qid_list=questionids\n",
        "  test_2 = pd.read_csv(csvfile)\n",
        "  total=[]\n",
        "  for qid in qid_list:\n",
        "    anchorinput=list(test_2.loc[(test_2[\"qid\"]==qid) & (test_2[\"sentid\"]==0)][\"question\"])  #it doesnt matter and I can fit with random object\n",
        "\n",
        "    positiveinput=list(test_2.loc[(test_2[\"qid\"]==qid) & (test_2[\"sentid\"]==0)][\"sentence text\"])\n",
        "    #these are all answers relaed to this specific question id =qid(including those label 1 or 0)\n",
        "\n",
        "    negativeinput=(list(test_2.loc[(test_2[\"qid\"]==qid)][\"sentence text\"]))\n",
        "\n",
        "    positiveinput=positiveinput*len(negativeinput)   #we need to increase the length until it matches other inputs\n",
        "    anchorinput=anchorinput*len(negativeinput)       #we need to increase the length until it matches other inputs\n",
        "\n",
        "    a_input=tfidf.transform(anchorinput).toarray()  #We transform those answers and question qid into array\n",
        "    n_input=tfidf.transform(negativeinput).toarray()\n",
        "    p_input=tfidf.transform(positiveinput).toarray()\n",
        "\n",
        "    ap_distance_test,an_distance_test = LSTMsiamese_model.predict([a_input,p_input,n_input],batch_size=40)\n",
        "     #this an_distance gives us lists of questions with different predicted scores\n",
        "    #only see one output which is enough in this task and we give the lists of sentence ids with highest predicted score\n",
        "\n",
        "    total.append(list(np.argsort(an_distance_test))[0:n])  #return the list of answer_index which has minimums\n",
        "    #return the list of n answer_index of this question id into the list and append into our final list\n",
        "\n",
        "  return total #We do for every single qid and give the list of the list"
      ]
    },
    {
      "cell_type": "code",
      "execution_count": null,
      "metadata": {
        "colab": {
          "base_uri": "https://localhost:8080/"
        },
        "id": "AJQoL3YHvG2s",
        "outputId": "aae436c3-4f10-46d7-fc65-decdc0dbd359"
      },
      "outputs": [
        {
          "name": "stdout",
          "output_type": "stream",
          "text": [
            "1/1 [==============================] - 0s 51ms/step\n",
            "2/2 [==============================] - 0s 29ms/step\n",
            "1/1 [==============================] - 0s 45ms/step\n",
            "1/1 [==============================] - 0s 46ms/step\n"
          ]
        },
        {
          "data": {
            "text/plain": [
              "[[0, 29, 28, 27], [0, 27, 28, 29], [0, 1, 2, 3], [0, 1, 4, 5]]"
            ]
          },
          "execution_count": 54,
          "metadata": {},
          "output_type": "execute_result"
        }
      ],
      "source": [
        "LSTMnn_summariser(\"test.csv\",[6,3987,4220,7],4) #example n=4 only"
      ]
    },
    {
      "cell_type": "code",
      "execution_count": null,
      "metadata": {
        "id": "uIl3OyKAXb0O",
        "outputId": "70a40e44-8f26-408b-8d64-8c6780e42080"
      },
      "outputs": [
        {
          "name": "stdout",
          "output_type": "stream",
          "text": [
            "1/1 [==============================] - 0s 47ms/step\n",
            "2/2 [==============================] - 0s 28ms/step\n",
            "1/1 [==============================] - 0s 42ms/step\n",
            "1/1 [==============================] - 0s 41ms/step\n"
          ]
        },
        {
          "data": {
            "text/plain": [
              "[[0], [0], [0], [0]]"
            ]
          },
          "execution_count": 55,
          "metadata": {},
          "output_type": "execute_result"
        }
      ],
      "source": [
        "LSTMnn_summariser(\"test.csv\",[6,3987,4220,7],1) #example n=1 only"
      ]
    },
    {
      "cell_type": "code",
      "execution_count": null,
      "metadata": {
        "id": "UJ9Q_h3DOlS3"
      },
      "outputs": [],
      "source": [
        "def LSTMlabels(x,n):\n",
        "    test_3 = pd.read_csv(x)\n",
        "    total_predict=[]\n",
        "    total_true=[]\n",
        "    for qid in list(test_3[\"qid\"].unique())[0:n]:\n",
        "      #uni_id=test_3.loc[(test_3[\"qid\"]==qid)]\n",
        "\n",
        "      anchorinput=list(test_3.loc[(test_3[\"qid\"]==qid) & (test_3[\"sentid\"]==0)][\"question\"])*len(test_3.loc[(test_3[\"qid\"]==qid)])\n",
        "\n",
        "      positiveinput=(list(test_3.loc[(test_3[\"qid\"]==qid)][\"sentence text\"]))   #they can be the same-no difference  #we use one set of distances only\n",
        "\n",
        "      negativeinput=(list(test_3.loc[(test_3[\"qid\"]==qid)][\"sentence text\"]))\n",
        "\n",
        "      a_input=tfidf.transform(anchorinput).toarray()   #\n",
        "      n_input=tfidf.transform(negativeinput).toarray()\n",
        "      p_input=tfidf.transform(positiveinput).toarray()\n",
        "\n",
        "\n",
        "      ap_distance_test,an_distance_test = LSTMsiamese_model.predict([a_input,p_input,n_input],batch_size=40)\n",
        "      thershold=0.5\n",
        "\n",
        "      y_predict=list(ap_distance_test<thershold)       #predict label 1 when the distance is less than thershold\n",
        "\n",
        "      total_predict=total_predict+y_predict            # add into the final list of the predict label of id= qid\n",
        "      total_true=total_true+list(test_3.loc[(test_3[\"qid\"]==qid)][\"label\"])    #add the list of true label related to id= qid\n",
        "\n",
        "\n",
        "    return (total_predict,total_true)"
      ]
    },
    {
      "cell_type": "code",
      "execution_count": null,
      "metadata": {
        "colab": {
          "base_uri": "https://localhost:8080/"
        },
        "id": "Cuu3-Dg09YHx",
        "outputId": "5fd1497c-7b61-4aca-c964-33ca80c8829a"
      },
      "outputs": [
        {
          "name": "stdout",
          "output_type": "stream",
          "text": [
            "1/1 [==============================] - 0s 42ms/step\n",
            "1/1 [==============================] - 0s 40ms/step\n",
            "1/1 [==============================] - 0s 41ms/step\n",
            "1/1 [==============================] - 0s 37ms/step\n",
            "1/1 [==============================] - 0s 39ms/step\n",
            "1/1 [==============================] - 0s 42ms/step\n",
            "1/1 [==============================] - 0s 42ms/step\n",
            "1/1 [==============================] - 0s 40ms/step\n",
            "2/2 [==============================] - 0s 23ms/step\n",
            "1/1 [==============================] - 0s 36ms/step\n",
            "1/1 [==============================] - 0s 39ms/step\n",
            "1/1 [==============================] - 0s 41ms/step\n",
            "1/1 [==============================] - 0s 41ms/step\n",
            "1/1 [==============================] - 0s 40ms/step\n",
            "1/1 [==============================] - 0s 38ms/step\n",
            "1/1 [==============================] - 0s 35ms/step\n",
            "1/1 [==============================] - 0s 32ms/step\n",
            "2/2 [==============================] - 0s 19ms/step\n",
            "1/1 [==============================] - 0s 38ms/step\n",
            "1/1 [==============================] - 0s 32ms/step\n",
            "1/1 [==============================] - 0s 36ms/step\n",
            "1/1 [==============================] - 0s 35ms/step\n",
            "1/1 [==============================] - 0s 33ms/step\n",
            "1/1 [==============================] - 0s 34ms/step\n",
            "1/1 [==============================] - 0s 34ms/step\n",
            "1/1 [==============================] - 0s 35ms/step\n",
            "1/1 [==============================] - 0s 34ms/step\n",
            "1/1 [==============================] - 0s 32ms/step\n",
            "1/1 [==============================] - 0s 34ms/step\n",
            "1/1 [==============================] - 0s 35ms/step\n"
          ]
        }
      ],
      "source": [
        "from sklearn.metrics import f1_score\n",
        "import numpy as np\n",
        "test_2 = pd.read_csv(\"test.csv\")\n",
        "\n",
        "\n",
        "#lets make a list of lebals which allow us to caluclate the F1 score in test_score\n",
        "\n",
        "\n",
        "\n",
        "\n",
        "total_true,total_predict=LSTMlabels(\"test.csv\",30)  #second paramter: use smaller number of test set data to do F1 score\n",
        "\n",
        "f1_score_2=f1_score(total_true, total_predict)\n",
        "\n",
        "#f1_score_1\n",
        "f1_score_2"
      ]
    },
    {
      "cell_type": "markdown",
      "metadata": {
        "id": "H_gvceRMECEl"
      },
      "source": [
        "- We plot the graph below and give an analysis:"
      ]
    },
    {
      "cell_type": "code",
      "execution_count": null,
      "metadata": {
        "colab": {
          "base_uri": "https://localhost:8080/",
          "height": 487
        },
        "id": "byCM7CtIKmoK",
        "outputId": "92c206e8-af6c-432e-b098-73a174b94e42"
      },
      "outputs": [
        {
          "data": {
            "image/png": "[encoded data removed]",
            "text/plain": [
              "<Figure size 1000x500 with 1 Axes>"
            ]
          },
          "metadata": {},
          "output_type": "display_data"
        }
      ],
      "source": [
        "import numpy as np\n",
        "import matplotlib.pyplot as plt\n",
        "\n",
        "\n",
        "# creating the dataset\n",
        "data = {'Simplemodel_1':f1_score_1, 'LSTMCmodel_2':f1_score_2}\n",
        "keys = list(data.keys())\n",
        "values = list(data.values())\n",
        "\n",
        "fig = plt.figure(figsize = (10, 5))\n",
        "axes = plt.axes()\n",
        "axes.set_ylim([0.2, 0.9])\n",
        "# creating the bar plot\n",
        "plt.bar(keys, values\n",
        "        )\n",
        "\n",
        "plt.title('F1 for task 1 VS F1 for task 2')\n",
        "plt.xlabel(\"Classifier\")\n",
        "plt.ylabel(\"The F1 of accuracy\")\n",
        "\n",
        "plt.show()"
      ]
    },
    {
      "cell_type": "code",
      "execution_count": null,
      "metadata": {
        "id": "JBX7DjZdXb0P",
        "outputId": "4abae019-5c81-4ccf-f36d-e338ad2804dc"
      },
      "outputs": [
        {
          "name": "stdout",
          "output_type": "stream",
          "text": [
            "Our F1_score in simple model : 0.39581351094196005\n",
            "Our F1_score in LSTMCmodel : 0.37387964148527525\n"
          ]
        }
      ],
      "source": [
        "print (\"Our F1_score in simple model :\",f1_score_1)  #report F1 scores for both tasks\n",
        "print (\"Our F1_score in LSTMCmodel :\",f1_score_2)"
      ]
    },
    {
      "cell_type": "markdown",
      "metadata": {
        "id": "5eTAcSFAJapv"
      },
      "source": [
        "### Comment in case 1 and case 2:\n",
        "\n",
        "- From the graph,We see the performance in both cases didnt performing well as we can see the F1 scores in both models .Due to the limit of the colab and the notebook structure,the memory will lost very quickly if I use too mnay hyperparamters or use too many inputs.I think this is the main reason why the performace is low.It is hard to turn thoese hyperparamters because the sped will become very slow and it is not feasible to do it.\n",
        "\n",
        "- In Case 1,it looks like that the model is too simple and it cannot capture the pattern.\n",
        "\n",
        "- In case 2,it look like we cannot find the good hyperparamters within limited resource and time.\n",
        "\n",
        "- Thershold of F1 score is not easy to choose:it seems it is unlikely we can plug a thershold =0.5(as suggested by some literature) and caluclate the result since the distances structure have complicated relationship (for example if all ap_distance and np_distance are greater less than 0.5,then there is no point to choose such F1 score thershold. Also the distances might depends on the margins values in lost function).In order to explore F1 score,we need to have more time but We have two weeks to do these task which makes this hard to acheieve.\n",
        "\n",
        "\n"
      ]
    },
    {
      "cell_type": "markdown",
      "metadata": {
        "id": "Gft_D1A6mhLE"
      },
      "source": []
    },
    {
      "cell_type": "markdown",
      "metadata": {
        "id": "pSlPG7MN8Qws"
      },
      "source": [
        "# Task 3 (5 marks): Transformer\n",
        "\n",
        "Implement a simple Transformer neural network that is composed of the following layers:\n",
        "\n",
        "* Use BERT as feature extractor for each token.\n",
        "* A few of transformer encoder layers, hidden dimension 768. You need to determine how many layers to use between 1~3.\n",
        "* A few of transformer decoder layers, hidden dimension 768. You need to determine how many layers to use between 1~3.\n",
        "* 1 hidden layer with size 512.\n",
        "* The final output layer with one cell for binary classification to predict whether two inputs are related or not.\n",
        "\n",
        "Note that each input for this model should be a concatenation of a positive pair (i.e. question + one answer) or a negative pair (i.e. question + not related sentence). The format is usually like [CLS]+ question + [SEP] + a positive/negative sentence.\n",
        "\n",
        "Train the model with the training data, use the dev_test set to determine a good size of the transformer layers, and report the final results using the test set. Again, remember to use the test set only after you have determined the optimal parameters of the transformer layers.\n",
        "\n",
        "Based on your experiments, comment on whether this system is better than the systems developed in the previous tasks.\n",
        "\n",
        "The breakdown of marks is as follows:\n",
        "\n",
        "* **1 mark** if the model has the correct layers, the correct activation functions, and the correct loss function.\n",
        "* **1 mark** if the code passes the sentence text to the model correctly. The documentation needs to explain how to handle length difference for a batch of data\n",
        "* **1 mark** if the code returns the IDs of the *n* sentences that have the highest prediction score in the given question.\n",
        "* **1 mark** if the notebook reports the F1 scores of the test sets and comments on the results.\n",
        "* **1 mark** for good coding and documentation in this task. In particular, the code and results must include evidence that shows your choice of best size of the transformer layers. The explanations must be clear and concise. To make this task less time-consuming, use $n=1$."
      ]
    },
    {
      "cell_type": "code",
      "execution_count": null,
      "metadata": {
        "id": "LKSi6k-dqOdB",
        "outputId": "87f269ce-a349-4698-bd84-69da3bde3482"
      },
      "outputs": [
        {
          "name": "stdout",
          "output_type": "stream",
          "text": [
            "Collecting transformers\n",
            "  Downloading transformers-4.41.1-py3-none-any.whl (9.1 MB)\n",
            "     ---------------------------------------- 9.1/9.1 MB 29.1 MB/s eta 0:00:00\n",
            "Collecting safetensors>=0.4.1\n",
            "  Downloading safetensors-0.4.3-cp39-none-win_amd64.whl (287 kB)\n",
            "     ------------------------------------- 287.9/287.9 kB 17.4 MB/s eta 0:00:00\n",
            "Requirement already satisfied: pyyaml>=5.1 in c:\\mqu\\sci\\anaconda3\\lib\\site-packages (from transformers) (6.0)\n",
            "Collecting huggingface-hub<1.0,>=0.23.0\n",
            "  Downloading huggingface_hub-0.23.1-py3-none-any.whl (401 kB)\n",
            "     ---------------------------------------- 401.3/401.3 kB ? eta 0:00:00\n",
            "Requirement already satisfied: tqdm>=4.27 in c:\\mqu\\sci\\anaconda3\\lib\\site-packages (from transformers) (4.64.1)\n",
            "Requirement already satisfied: filelock in c:\\mqu\\sci\\anaconda3\\lib\\site-packages (from transformers) (3.6.0)\n",
            "Requirement already satisfied: regex!=2019.12.17 in c:\\mqu\\sci\\anaconda3\\lib\\site-packages (from transformers) (2022.7.9)\n",
            "Collecting tokenizers<0.20,>=0.19\n",
            "  Downloading tokenizers-0.19.1-cp39-none-win_amd64.whl (2.2 MB)\n",
            "     ---------------------------------------- 2.2/2.2 MB 47.0 MB/s eta 0:00:00\n",
            "Requirement already satisfied: requests in c:\\mqu\\sci\\anaconda3\\lib\\site-packages (from transformers) (2.28.1)\n",
            "Requirement already satisfied: numpy>=1.17 in c:\\mqu\\sci\\anaconda3\\lib\\site-packages (from transformers) (1.21.5)\n",
            "Requirement already satisfied: packaging>=20.0 in c:\\mqu\\sci\\anaconda3\\lib\\site-packages (from transformers) (21.3)\n",
            "Requirement already satisfied: typing-extensions>=3.7.4.3 in c:\\mqu\\sci\\anaconda3\\lib\\site-packages (from huggingface-hub<1.0,>=0.23.0->transformers) (4.3.0)\n",
            "Collecting fsspec>=2023.5.0\n",
            "  Downloading fsspec-2024.5.0-py3-none-any.whl (316 kB)\n",
            "     ------------------------------------- 316.1/316.1 kB 20.4 MB/s eta 0:00:00\n",
            "Requirement already satisfied: pyparsing!=3.0.5,>=2.0.2 in c:\\mqu\\sci\\anaconda3\\lib\\site-packages (from packaging>=20.0->transformers) (3.0.9)\n",
            "Requirement already satisfied: colorama in c:\\mqu\\sci\\anaconda3\\lib\\site-packages (from tqdm>=4.27->transformers) (0.4.5)\n",
            "Requirement already satisfied: urllib3<1.27,>=1.21.1 in c:\\mqu\\sci\\anaconda3\\lib\\site-packages (from requests->transformers) (1.26.11)\n",
            "Requirement already satisfied: idna<4,>=2.5 in c:\\mqu\\sci\\anaconda3\\lib\\site-packages (from requests->transformers) (3.3)\n",
            "Requirement already satisfied: certifi>=2017.4.17 in c:\\mqu\\sci\\anaconda3\\lib\\site-packages (from requests->transformers) (2022.9.14)\n",
            "Requirement already satisfied: charset-normalizer<3,>=2 in c:\\mqu\\sci\\anaconda3\\lib\\site-packages (from requests->transformers) (2.0.4)\n",
            "Installing collected packages: safetensors, fsspec, huggingface-hub, tokenizers, transformers\n",
            "  Attempting uninstall: fsspec\n",
            "    Found existing installation: fsspec 2022.7.1\n",
            "    Uninstalling fsspec-2022.7.1:\n",
            "      Successfully uninstalled fsspec-2022.7.1\n",
            "Successfully installed fsspec-2024.5.0 huggingface-hub-0.23.1 safetensors-0.4.3 tokenizers-0.19.1 transformers-4.41.1\n"
          ]
        }
      ],
      "source": [
        "!pip install transformers"
      ]
    },
    {
      "cell_type": "markdown",
      "metadata": {
        "id": "5qdY1KePEae-"
      },
      "source": [
        "#### Use BERT as feature extractor for each token\n",
        "\n",
        "- in this part we create a dataset for question+ answers pair and label\n",
        "- we convert into Bert_dataset format and use BertTokenizer to get out inputs."
      ]
    },
    {
      "cell_type": "code",
      "execution_count": null,
      "metadata": {
        "id": "gRA9948OcI6i"
      },
      "outputs": [],
      "source": [
        "import pandas as pd\n",
        "import numpy as np\n",
        "import tensorflow as tf\n",
        "from transformers import BertTokenizer, TFBertModel\n",
        "from sklearn.metrics import precision_score, recall_score, f1_score\n",
        "\n",
        "\n",
        "\n",
        "def Bert_dataset(x,num):                             #we create a Bert_dataset to do this part: ach input for this model should be a concatenation of a positive pair (i.e. question + one answer)\n",
        "#or a negative pair (i.e. question + not related sentence). The format is usually like [CLS]+ question + [SEP] + a positive/negative sentence\n",
        "#num is the number of random sample we want\n",
        "  data=pd.read_csv(x).sample(num)\n",
        "  question_input=data[\"question\"].to_list()\n",
        "  answers_input=data[\"sentence text\"].to_list()\n",
        "#The format is usually like [CLS]+ question + [SEP] + a positive/negative sentence\n",
        "\n",
        "  question_encoded= [\"[CLS]\"+\" \"+x+\" \"+\"[SEP]\"+\" \" for x in question_input]\n",
        "\n",
        "  answers_encoded= [x+\" \"+\"[SEP]\" for x in answers_input]\n",
        "\n",
        "  answers_encoded= [x+\" \"+\"[SEP]\" for x in answers_input]\n",
        "  w=[]\n",
        "  for last, first in zip(question_encoded, answers_encoded):\n",
        "    w.append(last+first)\n",
        "#We also write out our label\n",
        "  label=data[\"label\"].to_list()\n",
        "\n",
        "\n",
        "\n",
        "  return (w,label)\n",
        "#we use a function Bert_dataset to return the pair of random X and Y_label we need\n",
        "\n",
        "\n"
      ]
    },
    {
      "cell_type": "code",
      "execution_count": null,
      "metadata": {
        "colab": {
          "base_uri": "https://localhost:8080/"
        },
        "id": "cY9qmAxN7Rk8",
        "outputId": "2f154340-7a91-46f0-f1d6-7f7b859603bc"
      },
      "outputs": [
        {
          "data": {
            "text/plain": [
              "(['[CLS] What is marked by DNaseI hypersensitive sites? [SEP] BACKGROUND: Mapping DNaseI hypersensitive sites is commonly used to identify regulatory regions in the genome. [SEP]',\n",
              "  '[CLS] Which genes have been proposed as potential candidates for gene therapy of heart failure? [SEP] therapeutic activation of YAP or its downstream targets, potentially through AAV-mediated gene therapy, may be a strategy to improve outcome after MI [SEP]',\n",
              "  '[CLS] Is there an association between FGFR3 mutation and plagiocephaly? [SEP] Between January and December of 1996, patients with a diagnosis of plagiocephaly at the Children&apos;s Hospital of Philadelphia were evaluated for the FGFR3 mutation [SEP]',\n",
              "  '[CLS] What is the inheritance of hypophosphatemic rickets? [SEP] The study of this family tree strongly suggests an x-linked dominant inheritance. [SEP]',\n",
              "  \"[CLS] What is the function of Oseltamivir when administered during flu? [SEP] Oseltamivir (has known by its brand name 'Tamiflu') is a prodrug, requiring ester hydrolysis for conversion to the active form, Oseltamivir carboxylate. [SEP]\",\n",
              "  '[CLS] What is the gold standard treatment for Iatrogenic male incontinence? [SEP] The initial treatment for SUI that persists after 12 months consists of conservative measures such as pelvic floor muscle exercises and behavioral therapy. [SEP]',\n",
              "  '[CLS] Velocardial facial syndrome, otherwise known as Di George syndrome  is caused by a deletion in chromosome 21, yes or no? [SEP] [Microdeletion of the chromosome 22q11 in children: apropos of a series of 49 patients].<AbstractText Label=\"UNLABELLED\">Most of the children with Di George syndrome and 60% of patients with velocardiofacial syndrome exhibit a microdeletion within chromosome 22q11. [SEP]'],\n",
              " [1, 0, 0, 0, 1, 0, 1])"
            ]
          },
          "execution_count": 6,
          "metadata": {},
          "output_type": "execute_result"
        }
      ],
      "source": [
        "Bert_dataset(\"training.csv\",7) #testing example"
      ]
    },
    {
      "cell_type": "code",
      "execution_count": null,
      "metadata": {
        "id": "3DS9wzvW8ZJD"
      },
      "outputs": [],
      "source": [
        "train_pairs, train_labels = Bert_dataset('training.csv',5000)   #due to the limit of the memory and other tech issues,we use 5000 datas to train the model only\n",
        "dev_test_pairs, dev_test_labels = Bert_dataset('dev_test.csv',500)  #create the pair of positive,negative and anchor\n",
        "test_pairs, test_labels = Bert_dataset('test.csv',500)"
      ]
    },
    {
      "cell_type": "code",
      "execution_count": null,
      "metadata": {
        "id": "nicMrL979qQ2"
      },
      "outputs": [],
      "source": [
        "def BertTokenizer_pairs(x, MAX_LEN):                           #we need to tokenize them using Berttokenizer\n",
        "    Berttokenizer = BertTokenizer.from_pretrained('bert-base-uncased')\n",
        "    output = Berttokenizer(x, return_tensors='tf', max_length=MAX_LEN, padding=True, truncation=True)  #to handle different batch of data,we us padding and truncation\n",
        "    return output"
      ]
    },
    {
      "cell_type": "code",
      "execution_count": null,
      "metadata": {
        "id": "gqEbLcvZ9qgG"
      },
      "outputs": [],
      "source": [
        "MAX_LEN=128  #we set the len to be 128 for the max length for Berttokenizer\n",
        "\n",
        "#these are out input of three sets of data we need\n",
        "\n",
        "train_inputs = BertTokenizer_pairs(train_pairs, MAX_LEN)\n",
        "dev_test_inputs = BertTokenizer_pairs(dev_test_pairs, MAX_LEN)\n",
        "test_inputs = BertTokenizer_pairs(test_pairs, MAX_LEN)\n"
      ]
    },
    {
      "cell_type": "markdown",
      "metadata": {
        "id": "MgzHjQVGEwSF"
      },
      "source": [
        "#### This is the model and part of it I generate from Ai:\n",
        "\n",
        "- We build up a TransformerEncoderLayer and TransformerDecoderLayer subclass\n",
        "\n",
        "- Next we build up the whole model which fits the requirements."
      ]
    },
    {
      "cell_type": "code",
      "execution_count": null,
      "metadata": {
        "id": "ZMliPOW9f7ya"
      },
      "outputs": [],
      "source": [
        "# Custom Transformer layers\n",
        "class TransformerEncoderLayer(tf.keras.layers.Layer):\n",
        "    def __init__(self, hidden_dim, num_heads, ff_dim):\n",
        "        super(TransformerEncoderLayer, self).__init__()  #super (): we inherit from othe super class layer.\n",
        "        self.attention = tf.keras.layers.MultiHeadAttention(num_heads=num_heads, key_dim=hidden_dim)  #we set the MultiHeadAttention head with hidden dimention\n",
        "        self.ffn = tf.keras.Sequential([\n",
        "            tf.keras.layers.Dense(ff_dim, activation='relu'),  #we have to create a feed forward loop and ff_dim are the dimentions\n",
        "            tf.keras.layers.Dense(hidden_dim),\n",
        "            tf.keras.layers.Dense(hidden_dim),\n",
        "        ])\n",
        "        self.layernorm1 = tf.keras.layers.LayerNormalization(epsilon=1e-6)  #these are the LayerNormalization\n",
        "        self.layernorm2 = tf.keras.layers.LayerNormalization(epsilon=1e-6)\n",
        "\n",
        "\n",
        "    def call(self, inputs):\n",
        "        attn_output = self.attention(inputs, inputs)  #We let our pair of same inputs go into attention layers and it goes into the first LayerNormalization\n",
        "\n",
        "\n",
        "        out1 = self.layernorm1(inputs + attn_output)\n",
        "        #We let our pair of same inputs go into attention layers and it goes into the first LayerNormalization\n",
        "        ffn_output = self.ffn(out1)\n",
        "        # we feed into feedforward layer\n",
        "        return self.layernorm2(out1 + ffn_output)  # feed the last output from attention layers with the output from feedforward layer to get final output\n",
        "\n",
        "class TransformerDecoderLayer(tf.keras.layers.Layer):\n",
        "    def __init__(self, hidden_dim, num_heads, ff_dim):\n",
        "        super(TransformerDecoderLayer, self).__init__()  #super (): we inherit from othe super class layer.\n",
        "        self.attention1 = tf.keras.layers.MultiHeadAttention(num_heads=num_heads, key_dim=hidden_dim)\n",
        "        self.attention2 = tf.keras.layers.MultiHeadAttention(num_heads=num_heads, key_dim=hidden_dim)  #we set the MultiHeadAttentions head with hidden dimention\n",
        "        self.ffn = tf.keras.Sequential([\n",
        "            tf.keras.layers.Dense(ff_dim, activation='relu'), #we have to create a feed forward loop and ff_dim are the dimentions\n",
        "            tf.keras.layers.Dense(hidden_dim),\n",
        "        ])\n",
        "        self.layernorm1 = tf.keras.layers.LayerNormalization(epsilon=1e-6) #these are the LayerNormalization\n",
        "        self.layernorm2 = tf.keras.layers.LayerNormalization(epsilon=1e-6)\n",
        "        self.layernorm3 = tf.keras.layers.LayerNormalization(epsilon=1e-6)\n",
        "\n",
        "\n",
        "    def call(self, inputs, enc_outputs):\n",
        "        attn1 = self.attention1(inputs, inputs)   #We let our pair of same inputs go into attention layers and it goes into the first LayerNormalization\n",
        "\n",
        "        out1 = self.layernorm1(inputs + attn1)  #We let our pair of same inputs go into attention layers and it goes into the first LayerNormalization\n",
        "        attn2 = self.attention2(out1, enc_outputs)   #we use our output in encoding layer and feed into second self-attention layer\n",
        "\n",
        "        out2 = self.layernorm2(out1 + attn2)  #combine together and give output\n",
        "        ffn_output = self.ffn(out2)   #pass through the feedforword loop\n",
        "\n",
        "        return self.layernorm3(out2 + ffn_output)  # feed the last out2 with the output from feedforward layer to get final output\n",
        "\n",
        "class TransformerModel(tf.keras.Model):\n",
        "  #we build up our final model\n",
        "    def __init__(self, num_encoder_layers, num_decoder_layers, hidden_dim, ff_dim, hidden_layer_size, **kwargs):\n",
        "        super(TransformerModel, self).__init__(**kwargs)\n",
        "        self.bert = TFBertModel.from_pretrained('bert-base-uncased')\n",
        "        #this is the pretrained model we use\n",
        "        self.encoder_layers = [TransformerEncoderLayer(hidden_dim, 4, ff_dim) for _ in range(num_encoder_layers)] #we loop through the number of encoders and decoders\n",
        "        # the number depends on our choice\n",
        "        self.decoder_layers = [TransformerDecoderLayer(hidden_dim, 4, ff_dim) for _ in range(num_decoder_layers)]\n",
        "        self.hidden_layer = tf.keras.layers.Dense(hidden_layer_size, activation='relu')\n",
        "        self.output_layer = tf.keras.layers.Dense(1, activation='sigmoid')  #1 hidden layer with certain sizes\n",
        "        #final output layer for classifcation: The final output layer with one cell for binary classification to predict whether two inputs are related or not.\n",
        "    def call(self, inputs, training=False):\n",
        "        bert_outputs = self.bert(inputs)[0]   #call the inputs[0]\n",
        "\n",
        "        enc_output = bert_outputs      #the output of the encoder is the input of the decoder\n",
        "        for encoder in self.encoder_layers:\n",
        "            enc_output = encoder(enc_output, training=training)   #the data are loop through the number of encoders and decoders\n",
        "\n",
        "        dec_output = enc_output\n",
        "        for decoder in self.decoder_layers:\n",
        "            dec_output = decoder(dec_output, enc_output, training=training)\n",
        "\n",
        "        hidden_output = self.hidden_layer(tf.reduce_mean(dec_output, axis=1))  #it pass the hidden layers\n",
        "        output = self.output_layer(hidden_output)  #this return the output\n",
        "        return output\n",
        "\n",
        "# These are the paramters we define\n",
        "\n",
        "\n",
        "hidden_dim = 768  #this is the required numbers\n",
        "ff_dim = 64    #this is the numbers suggested by professor\n",
        "hidden_layer_size = 64\n",
        "\n"
      ]
    },
    {
      "cell_type": "markdown",
      "metadata": {
        "id": "BnwcCZjGFGw9"
      },
      "source": [
        "#### Finding the best hyperparamters\n",
        "\n",
        "- In this part we search for different input of parameters and find the best paramters for encoding and decoding layers\n",
        "\n",
        "\n",
        "- Due to the memory problem,we cannot do too many thing and I just create an example to show this method works"
      ]
    },
    {
      "cell_type": "code",
      "execution_count": null,
      "metadata": {
        "id": "dLF5M5W0uQAy"
      },
      "outputs": [],
      "source": [
        "# we train our model\n",
        "\n",
        "\n",
        "\n",
        "# we create our dataset objects with traning ,vdalidation and test_dataset in our model\n",
        "train_dataset = tf.data.Dataset.from_tensor_slices((train_inputs['input_ids'], train_labels)).batch(32)\n",
        "dev_test_dataset = tf.data.Dataset.from_tensor_slices((dev_test_inputs['input_ids'], dev_test_labels)).batch(32)\n",
        "test_dataset = tf.data.Dataset.from_tensor_slices((test_inputs['input_ids'], test_labels)).batch(32)\n",
        "\n",
        "def transformer_tuning(num_encoder_layers, num_decoder_layers):\n",
        "    train_dataset = tf.data.Dataset.from_tensor_slices((train_inputs['input_ids'], train_labels)).batch(32)\n",
        "    dev_test_dataset = tf.data.Dataset.from_tensor_slices((dev_test_inputs['input_ids'], dev_test_labels)).batch(32)\n",
        "    test_dataset = tf.data.Dataset.from_tensor_slices((test_inputs['input_ids'], test_labels)).batch(32)\n",
        "    transformer_model = TransformerModel(num_encoder_layers, num_decoder_layers,768, 64, 64)\n",
        "    transformer_model.compile(optimizer=tf.keras.optimizers.Adam(learning_rate=1e-5), loss='binary_crossentropy', metrics=['accuracy'])\n",
        "# we train it with several epoches\n",
        "    epochs = 2\n",
        "    transformer_model.fit(train_dataset, validation_data=dev_test_dataset, epochs=epochs)\n",
        "\n",
        "    return (transformer_model.evaluate(test_dataset)[0],i)\n",
        "\n"
      ]
    },
    {
      "cell_type": "code",
      "execution_count": null,
      "metadata": {
        "colab": {
          "base_uri": "https://localhost:8080/"
        },
        "id": "-MbT2HKjvGkw",
        "outputId": "14bb1973-9e9f-486b-dafd-5d61ad9a27e5"
      },
      "outputs": [
        {
          "name": "stderr",
          "output_type": "stream",
          "text": [
            "Some weights of the PyTorch model were not used when initializing the TF 2.0 model TFBertModel: ['cls.predictions.transform.dense.weight', 'cls.predictions.transform.LayerNorm.bias', 'cls.seq_relationship.bias', 'cls.predictions.transform.LayerNorm.weight', 'cls.predictions.bias', 'cls.predictions.transform.dense.bias', 'cls.seq_relationship.weight']\n",
            "- This IS expected if you are initializing TFBertModel from a PyTorch model trained on another task or with another architecture (e.g. initializing a TFBertForSequenceClassification model from a BertForPreTraining model).\n",
            "- This IS NOT expected if you are initializing TFBertModel from a PyTorch model that you expect to be exactly identical (e.g. initializing a TFBertForSequenceClassification model from a BertForSequenceClassification model).\n",
            "All the weights of TFBertModel were initialized from the PyTorch model.\n",
            "If your task is similar to the task the model of the checkpoint was trained on, you can already use TFBertModel for predictions without further training.\n"
          ]
        },
        {
          "name": "stdout",
          "output_type": "stream",
          "text": [
            "Epoch 1/2\n"
          ]
        },
        {
          "name": "stderr",
          "output_type": "stream",
          "text": [
            "WARNING:tensorflow:Gradients do not exist for variables ['tf_bert_model_8/bert/pooler/dense/kernel:0', 'tf_bert_model_8/bert/pooler/dense/bias:0'] when minimizing the loss. If you're using `model.compile()`, did you forget to provide a `loss` argument?\n",
            "WARNING:tensorflow:Gradients do not exist for variables ['tf_bert_model_8/bert/pooler/dense/kernel:0', 'tf_bert_model_8/bert/pooler/dense/bias:0'] when minimizing the loss. If you're using `model.compile()`, did you forget to provide a `loss` argument?\n",
            "WARNING:tensorflow:Gradients do not exist for variables ['tf_bert_model_8/bert/pooler/dense/kernel:0', 'tf_bert_model_8/bert/pooler/dense/bias:0'] when minimizing the loss. If you're using `model.compile()`, did you forget to provide a `loss` argument?\n",
            "WARNING:tensorflow:Gradients do not exist for variables ['tf_bert_model_8/bert/pooler/dense/kernel:0', 'tf_bert_model_8/bert/pooler/dense/bias:0'] when minimizing the loss. If you're using `model.compile()`, did you forget to provide a `loss` argument?\n"
          ]
        },
        {
          "name": "stdout",
          "output_type": "stream",
          "text": [
            "157/157 [==============================] - 272s 1s/step - loss: 0.6357 - accuracy: 0.6800 - val_loss: 0.6101 - val_accuracy: 0.6840\n",
            "Epoch 2/2\n",
            "157/157 [==============================] - 182s 1s/step - loss: 0.5930 - accuracy: 0.6966 - val_loss: 0.6112 - val_accuracy: 0.6680\n",
            "16/16 [==============================] - 6s 355ms/step - loss: 0.6222 - accuracy: 0.6660\n"
          ]
        },
        {
          "name": "stderr",
          "output_type": "stream",
          "text": [
            "Some weights of the PyTorch model were not used when initializing the TF 2.0 model TFBertModel: ['cls.predictions.transform.dense.weight', 'cls.predictions.transform.LayerNorm.bias', 'cls.seq_relationship.bias', 'cls.predictions.transform.LayerNorm.weight', 'cls.predictions.bias', 'cls.predictions.transform.dense.bias', 'cls.seq_relationship.weight']\n",
            "- This IS expected if you are initializing TFBertModel from a PyTorch model trained on another task or with another architecture (e.g. initializing a TFBertForSequenceClassification model from a BertForPreTraining model).\n",
            "- This IS NOT expected if you are initializing TFBertModel from a PyTorch model that you expect to be exactly identical (e.g. initializing a TFBertForSequenceClassification model from a BertForSequenceClassification model).\n",
            "All the weights of TFBertModel were initialized from the PyTorch model.\n",
            "If your task is similar to the task the model of the checkpoint was trained on, you can already use TFBertModel for predictions without further training.\n"
          ]
        },
        {
          "name": "stdout",
          "output_type": "stream",
          "text": [
            "Epoch 1/2\n"
          ]
        },
        {
          "name": "stderr",
          "output_type": "stream",
          "text": [
            "WARNING:tensorflow:Gradients do not exist for variables ['tf_bert_model_9/bert/pooler/dense/kernel:0', 'tf_bert_model_9/bert/pooler/dense/bias:0'] when minimizing the loss. If you're using `model.compile()`, did you forget to provide a `loss` argument?\n",
            "WARNING:tensorflow:Gradients do not exist for variables ['tf_bert_model_9/bert/pooler/dense/kernel:0', 'tf_bert_model_9/bert/pooler/dense/bias:0'] when minimizing the loss. If you're using `model.compile()`, did you forget to provide a `loss` argument?\n",
            "WARNING:tensorflow:Gradients do not exist for variables ['tf_bert_model_9/bert/pooler/dense/kernel:0', 'tf_bert_model_9/bert/pooler/dense/bias:0'] when minimizing the loss. If you're using `model.compile()`, did you forget to provide a `loss` argument?\n",
            "WARNING:tensorflow:Gradients do not exist for variables ['tf_bert_model_9/bert/pooler/dense/kernel:0', 'tf_bert_model_9/bert/pooler/dense/bias:0'] when minimizing the loss. If you're using `model.compile()`, did you forget to provide a `loss` argument?\n"
          ]
        },
        {
          "name": "stdout",
          "output_type": "stream",
          "text": [
            "157/157 [==============================] - 301s 1s/step - loss: 0.6324 - accuracy: 0.6796 - val_loss: 0.6107 - val_accuracy: 0.6840\n",
            "Epoch 2/2\n",
            "157/157 [==============================] - 226s 1s/step - loss: 0.6025 - accuracy: 0.6882 - val_loss: 0.6093 - val_accuracy: 0.6820\n",
            "16/16 [==============================] - 7s 462ms/step - loss: 0.6159 - accuracy: 0.6720\n"
          ]
        }
      ],
      "source": [
        "# we have three trial with different hyperparameters\n",
        "score_list=[]                         # We want to see determine best performance of each model\n",
        "for i in [1,2,3]:   #to be simple: I only use the same hyperparamters for each layers # in this task we use 2 layers but it works for 3 layers\n",
        "  score_list.append(transformer_tuning(i,i))"
      ]
    },
    {
      "cell_type": "code",
      "execution_count": null,
      "metadata": {
        "colab": {
          "base_uri": "https://localhost:8080/"
        },
        "id": "Y-va_b6vyAKI",
        "outputId": "76d1a990-9ec8-425e-c72a-160d3b0ec199"
      },
      "outputs": [
        {
          "data": {
            "text/plain": [
              "2"
            ]
          },
          "execution_count": 65,
          "metadata": {},
          "output_type": "execute_result"
        }
      ],
      "source": [
        "minimum_lost=100000\n",
        "\n",
        "for i , j in (score_list):   # we search for the best validation minimum losts with the best_praramters\n",
        "  if i<=minimum_lost:\n",
        "    best_praramters=j\n",
        "    minimum_lost=i\n",
        "\n",
        "best_praramters   #this is the best number of it"
      ]
    },
    {
      "cell_type": "markdown",
      "metadata": {
        "id": "_ajaUna2Fua8"
      },
      "source": [
        "#### we retrain the model using best hyperparameters and make prediction\n",
        "\n",
        "- We get the F1 score using inbuit method\n",
        "\n",
        "-Implement a bb_summariser that returns the  n sentences with highest predicted score.\n",
        "\n",
        " - Our code returns the IDs of the  n  sentences that have the highest prediction score in the given question."
      ]
    },
    {
      "cell_type": "code",
      "execution_count": null,
      "metadata": {
        "colab": {
          "base_uri": "https://localhost:8080/"
        },
        "id": "BO2Gh-A0vpnu",
        "outputId": "4a377b2c-51bf-416a-ecd0-a0a02059f032"
      },
      "outputs": [
        {
          "name": "stderr",
          "output_type": "stream",
          "text": [
            "Some weights of the PyTorch model were not used when initializing the TF 2.0 model TFBertModel: ['cls.predictions.transform.dense.weight', 'cls.predictions.transform.LayerNorm.bias', 'cls.seq_relationship.bias', 'cls.predictions.transform.LayerNorm.weight', 'cls.predictions.bias', 'cls.predictions.transform.dense.bias', 'cls.seq_relationship.weight']\n",
            "- This IS expected if you are initializing TFBertModel from a PyTorch model trained on another task or with another architecture (e.g. initializing a TFBertForSequenceClassification model from a BertForPreTraining model).\n",
            "- This IS NOT expected if you are initializing TFBertModel from a PyTorch model that you expect to be exactly identical (e.g. initializing a TFBertForSequenceClassification model from a BertForSequenceClassification model).\n",
            "All the weights of TFBertModel were initialized from the PyTorch model.\n",
            "If your task is similar to the task the model of the checkpoint was trained on, you can already use TFBertModel for predictions without further training.\n"
          ]
        },
        {
          "name": "stdout",
          "output_type": "stream",
          "text": [
            "Epoch 1/2\n"
          ]
        },
        {
          "name": "stderr",
          "output_type": "stream",
          "text": [
            "WARNING:tensorflow:Gradients do not exist for variables ['tf_bert_model_10/bert/pooler/dense/kernel:0', 'tf_bert_model_10/bert/pooler/dense/bias:0'] when minimizing the loss. If you're using `model.compile()`, did you forget to provide a `loss` argument?\n",
            "WARNING:tensorflow:Gradients do not exist for variables ['tf_bert_model_10/bert/pooler/dense/kernel:0', 'tf_bert_model_10/bert/pooler/dense/bias:0'] when minimizing the loss. If you're using `model.compile()`, did you forget to provide a `loss` argument?\n",
            "WARNING:tensorflow:Gradients do not exist for variables ['tf_bert_model_10/bert/pooler/dense/kernel:0', 'tf_bert_model_10/bert/pooler/dense/bias:0'] when minimizing the loss. If you're using `model.compile()`, did you forget to provide a `loss` argument?\n",
            "WARNING:tensorflow:Gradients do not exist for variables ['tf_bert_model_10/bert/pooler/dense/kernel:0', 'tf_bert_model_10/bert/pooler/dense/bias:0'] when minimizing the loss. If you're using `model.compile()`, did you forget to provide a `loss` argument?\n"
          ]
        },
        {
          "name": "stdout",
          "output_type": "stream",
          "text": [
            "157/157 [==============================] - 308s 1s/step - loss: 0.6282 - accuracy: 0.6848 - val_loss: 0.6105 - val_accuracy: 0.6840\n",
            "Epoch 2/2\n",
            "157/157 [==============================] - 223s 1s/step - loss: 0.5973 - accuracy: 0.6916 - val_loss: 0.6076 - val_accuracy: 0.6860\n",
            "16/16 [==============================] - 7s 465ms/step - loss: 0.6188 - accuracy: 0.6800\n",
            "Test Accuracy: 0.6800000071525574\n",
            "16/16 [==============================] - 23s 445ms/step\n",
            "F1 Score: 0.0909090909090909\n"
          ]
        }
      ],
      "source": [
        "# we train our model\n",
        "transformer_model = TransformerModel(best_praramters, best_praramters, hidden_dim, ff_dim, hidden_layer_size)\n",
        "transformer_model.compile(optimizer=tf.keras.optimizers.Adam(learning_rate=1e-5), loss='binary_crossentropy', metrics=['accuracy'])\n",
        "\n",
        "# we create our dataset objects with traning ,vdalidation and test_dataset in our model\n",
        "train_dataset = tf.data.Dataset.from_tensor_slices((train_inputs['input_ids'], train_labels)).batch(32)\n",
        "dev_test_dataset = tf.data.Dataset.from_tensor_slices((dev_test_inputs['input_ids'], dev_test_labels)).batch(32)\n",
        "test_dataset = tf.data.Dataset.from_tensor_slices((test_inputs['input_ids'], test_labels)).batch(32)\n",
        "\n",
        "# we train it with several epoches\n",
        "epochs = 2\n",
        "transformer_model.fit(train_dataset, validation_data=dev_test_dataset, epochs=epochs)\n",
        "\n",
        "#evaluation\n",
        "test_loss, test_accuracy = transformer_model.evaluate(test_dataset)\n",
        "print(f'Test Accuracy: {test_accuracy}')\n",
        "\n",
        "#we compare our F1 score with a test_prediction thershold\n",
        "test_predictions = transformer_model.predict(test_inputs['input_ids']).flatten()\n",
        "test_predictions = (test_predictions > 0.5).astype(int)   #these booleans value will be our predicted label\n",
        "\n",
        "#we need the ground true labels to compare to true labels in F1 score\n",
        "y_true = np.array(test_labels)\n",
        "#caluclate our F1 score\n",
        "f1 = f1_score(y_true, test_predictions)\n",
        "\n",
        "\n",
        "print(f'F1 Score: {f1}')"
      ]
    },
    {
      "cell_type": "code",
      "execution_count": null,
      "metadata": {
        "id": "XiKgUNAK0csa"
      },
      "outputs": [],
      "source": [
        "def bb_summariser(csvfile, questionids, n=1):\n",
        "  qid_list=questionids   # The input questionids is a list of question ids.\n",
        "  test_2 = pd.read_csv(csvfile)   #input file we want\n",
        "  total=[]\n",
        "\n",
        "  data=pd.read_csv(csvfile)\n",
        "  for qid in qid_list:\n",
        "      target=data.loc[(data[\"qid\"]==qid)]\n",
        "\n",
        "      answers_input=target[\"sentence text\"].to_list()\n",
        "      answers_input\n",
        "      answers_encoded= [x+\" \"+\"[SEP]\" for x in answers_input]\n",
        "\n",
        "      question_input=target[\"question\"].to_list()\n",
        "      question_encoded= [\"[CLS]\"+\" \"+x+\" \"+\"[SEP]\"+\" \" for x in question_input]\n",
        "\n",
        "      label=target[\"label\"].to_list()\n",
        "\n",
        "      w=[]\n",
        "      for last, first in zip(question_encoded, answers_encoded):\n",
        "          w.append(last+first)\n",
        "\n",
        "      qid_inputs=BertTokenizer_pairs(w, MAX_LEN)\n",
        "      value=transformer_model.predict(qid_inputs['input_ids']).flatten()\n",
        "\n",
        "      list_=list(np.argsort(value))[::-1]\n",
        "\n",
        "      total.append(list_[0:n])\n",
        "\n",
        "  return total"
      ]
    },
    {
      "cell_type": "code",
      "execution_count": null,
      "metadata": {
        "colab": {
          "base_uri": "https://localhost:8080/"
        },
        "id": "RAuG14ge4ZCN",
        "outputId": "32e96df4-0ad4-4222-b2e9-b11da655c0dc"
      },
      "outputs": [
        {
          "name": "stdout",
          "output_type": "stream",
          "text": [
            "1/1 [==============================] - 17s 17s/step\n",
            "1/1 [==============================] - 0s 79ms/step\n"
          ]
        },
        {
          "data": {
            "text/plain": [
              "[[28, 16, 29], [0, 1, 4]]"
            ]
          },
          "execution_count": 69,
          "metadata": {},
          "output_type": "execute_result"
        }
      ],
      "source": [
        "bb_summariser(\"test.csv\",[6,4220],3) # return the highest prediction score based on accuracy. #we use some examples only #inputs are list of iD  #output are the top n sentenses gives\n",
        "#best accuracy  #I dont have enough RAM to use all texts #but my codes show it works"
      ]
    },
    {
      "cell_type": "markdown",
      "metadata": {
        "id": "uGCuT0srF8EZ"
      },
      "source": [
        "- We plot all results below"
      ]
    },
    {
      "cell_type": "code",
      "execution_count": null,
      "metadata": {
        "id": "7MCzLPEJXb0T",
        "outputId": "e596f0fc-7754-4afc-a1cb-0988ca6295bb"
      },
      "outputs": [
        {
          "name": "stdout",
          "output_type": "stream",
          "text": [
            "Our F1 score in transformer is 0.0909090909090909\n"
          ]
        }
      ],
      "source": [
        "f1_score_3=0.0909090909090909\n",
        "print (\"Our F1 score in transformer is\",f1_score_3)"
      ]
    },
    {
      "cell_type": "code",
      "execution_count": null,
      "metadata": {
        "colab": {
          "base_uri": "https://localhost:8080/",
          "height": 487
        },
        "id": "w0JxmlJltTBm",
        "outputId": "ef1a99df-5f2b-4617-9f4e-1919a741afce"
      },
      "outputs": [
        {
          "data": {
            "image/png": "[encoded data removed]",
            "text/plain": [
              "<Figure size 1000x500 with 1 Axes>"
            ]
          },
          "metadata": {},
          "output_type": "display_data"
        }
      ],
      "source": [
        "import numpy as np\n",
        "import matplotlib.pyplot as plt\n",
        "\n",
        "\n",
        "# creating the dataset\n",
        "data = {'Simplemodel_1':f1_score_1, 'LSTMCmodel_2':f1_score_2,'Transformer model':f1_score_3}\n",
        "keys = list(data.keys())\n",
        "values = list(data.values())\n",
        "\n",
        "fig = plt.figure(figsize = (10, 5))\n",
        "axes = plt.axes()\n",
        "axes.set_ylim([0.2, 0.7])\n",
        "# creating the bar plot\n",
        "plt.bar(keys, values\n",
        "        )\n",
        "\n",
        "plt.title('F1 for all tasks')\n",
        "plt.xlabel(\"Classifier\")\n",
        "plt.ylabel(\"The F1 of accuracy\")\n",
        "\n",
        "plt.show()"
      ]
    },
    {
      "cell_type": "markdown",
      "metadata": {
        "id": "3XqjdmRptwCC"
      },
      "source": [
        "### comment of the result:\n",
        "\n",
        "- in this task we have tune our models and from the graph we can see the F1 score is very low.It might due to the fact that we didnt choose a proper thereshold value which causes more time to figure out.\n",
        "\n",
        "- In this task we use fewer data (round thorusand ) and fewer layers due to memory problem. It is clearly the codes are runned sccuessfully however we need to have more exploration of best hyperparamters in future\n",
        "\n",
        "- it seems the transformer is not useful under this construction and I spend lot of hours to run and test it\n",
        "- if we have more time,we can build up a better one\n",
        "\n",
        "- In conclusion: few data and few layers (or didnt get the correct layers) might be the problem.\n",
        "\n"
      ]
    },
    {
      "cell_type": "markdown",
      "metadata": {
        "id": "ppkBsuB_0dC9"
      },
      "source": [
        "# Submission\n",
        "\n",
        "Your submission should consist of this Jupyter notebook with all your code and explanations inserted into the notebook as text cells. **The notebook should contain the output of the runs. All code should run. Code with syntax errors or code without output will not be assessed.**\n",
        "\n",
        "**Do not submit multiple files.**\n",
        "\n",
        "Examine the text cells of this notebook so that you can have an idea of how to format text for good visual impact. You can also read this useful [guide to the MarkDown notation](https://daringfireball.net/projects/markdown/syntax),  which explains the format of the text cells."
      ]
    },
    {
      "cell_type": "markdown",
      "metadata": {
        "id": "f_8MeiWq_jHk"
      },
      "source": [
        "- Question 3: Part of the transformer codes are from AI /other source\n",
        "- Question 1 and 2: for the part in building up the custom model(e.g custom training loop) ,i actually try to understand the code from this website:\n",
        "\n",
        "https://keras.io/examples/vision/siamese_network/\n"
      ]
    },
    {
      "cell_type": "code",
      "execution_count": null,
      "metadata": {
        "id": "yKUv_s1I0GSE"
      },
      "outputs": [],
      "source": []
    }
  ],
  "metadata": {
    "accelerator": "GPU",
    "colab": {
      "gpuType": "T4",
      "provenance": [],
      "include_colab_link": true
    },
    "interpreter": {
      "hash": "a7b63e7410c98f344f02082f10d790581d1dba1eeb1c8fe30f342f6109f0429e"
    },
    "kernelspec": {
      "display_name": "Python 3 (ipykernel)",
      "language": "python",
      "name": "python3"
    },
    "language_info": {
      "codemirror_mode": {
        "name": "ipython",
        "version": 3
      },
      "file_extension": ".py",
      "mimetype": "text/x-python",
      "name": "python",
      "nbconvert_exporter": "python",
      "pygments_lexer": "ipython3",
      "version": "3.9.13"
    }
  },
  "nbformat": 4,
  "nbformat_minor": 0
}