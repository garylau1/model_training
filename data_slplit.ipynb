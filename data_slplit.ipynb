{
  "nbformat": 4,
  "nbformat_minor": 0,
  "metadata": {
    "colab": {
      "provenance": [],
      "authorship_tag": "ABX9TyPyryzd51JycC0ZQwoIyL/d",
      "include_colab_link": true
    },
    "kernelspec": {
      "name": "python3",
      "display_name": "Python 3"
    },
    "language_info": {
      "name": "python"
    }
  },
  "cells": [
    {
      "cell_type": "markdown",
      "metadata": {
        "id": "view-in-github",
        "colab_type": "text"
      },
      "source": [
        "<a href=\"https://colab.research.google.com/github/garylau1/model_training/blob/main/data_slplit.ipynb\" target=\"_parent\"><img src=\"https://colab.research.google.com/assets/colab-badge.svg\" alt=\"Open In Colab\"/></a>"
      ]
    },
    {
      "cell_type": "markdown",
      "source": [
        "In this workbook we would suggest a way to split the training and testing data from a folder:"
      ],
      "metadata": {
        "id": "xiVYSlwy5HYD"
      }
    },
    {
      "cell_type": "code",
      "execution_count": 1,
      "metadata": {
        "colab": {
          "base_uri": "https://localhost:8080/"
        },
        "id": "b_lWg3hpk2s_",
        "outputId": "75cc78a5-3a91-4246-b494-020dbfedad77"
      },
      "outputs": [
        {
          "output_type": "stream",
          "name": "stdout",
          "text": [
            "2.3.1+cu121\n"
          ]
        }
      ],
      "source": [
        "# Import torch\n",
        "import torch\n",
        "from torch import nn\n",
        "\n",
        "# Exercises require PyTorch > 1.10.0\n",
        "print(torch.__version__)\n",
        "\n",
        "# Setup device agnostic code\n",
        "device = \"cuda\" if torch.cuda.is_available() else \"cpu\"\n",
        "device\n",
        "\n",
        "import os\n",
        "\n",
        "from pathlib import Path\n",
        "import requests\n",
        "import zipfile\n",
        "\n",
        "data_path=Path(\"data_set\")"
      ]
    },
    {
      "cell_type": "code",
      "source": [
        "!git clone https://github.com/kavishsanghvi/fauna-image-classification-using-convolutional-neural-network.git\n",
        "\n"
      ],
      "metadata": {
        "colab": {
          "base_uri": "https://localhost:8080/"
        },
        "id": "74kzhCznk4sf",
        "outputId": "eb8a3273-cb86-4697-e203-85363fdbd9ae"
      },
      "execution_count": 2,
      "outputs": [
        {
          "output_type": "stream",
          "name": "stdout",
          "text": [
            "Cloning into 'fauna-image-classification-using-convolutional-neural-network'...\n",
            "remote: Enumerating objects: 17032, done.\u001b[K\n",
            "remote: Counting objects: 100% (30/30), done.\u001b[K\n",
            "remote: Compressing objects: 100% (27/27), done.\u001b[K\n",
            "remote: Total 17032 (delta 13), reused 11 (delta 3), pack-reused 17002\u001b[K\n",
            "Receiving objects: 100% (17032/17032), 329.97 MiB | 29.42 MiB/s, done.\n",
            "Resolving deltas: 100% (15/15), done.\n",
            "Updating files: 100% (17820/17820), done.\n"
          ]
        }
      ]
    },
    {
      "cell_type": "code",
      "source": [
        "import os\n",
        "\n",
        "for i in list(os.listdir(\"/content/fauna-image-classification-using-convolutional-neural-network/data/test\")):\n",
        "  if (i[-1:-4:-1])==\"gpj\" or (i[-1:-5:-1])==\"gepj\" :\n",
        "      os.remove(str(\"/content/fauna-image-classification-using-convolutional-neural-network/data/test\")+\"/\"+i)"
      ],
      "metadata": {
        "id": "YVFYLglnngz9"
      },
      "execution_count": 3,
      "outputs": []
    },
    {
      "cell_type": "code",
      "source": [
        "data_path=Path(\"data_set\")\n",
        "\n",
        "if not data_path.is_dir():\n",
        "\n",
        "    data_path.mkdir(parents=True,exist_ok=True)\n",
        "\n",
        "\n",
        "whole_paths=Path(\"/content/fauna-image-classification-using-convolutional-neural-network/data\")\n",
        "\n"
      ],
      "metadata": {
        "id": "D1bGpxaTk6RI"
      },
      "execution_count": 4,
      "outputs": []
    },
    {
      "cell_type": "code",
      "source": [
        "list_path=list(whole_paths.glob(\"*/*/*.jpeg\"))\n",
        "import random\n",
        "list_path2=random.sample(list_path,k=20)\n",
        "list_path2"
      ],
      "metadata": {
        "colab": {
          "base_uri": "https://localhost:8080/"
        },
        "id": "BsycRpJknTz1",
        "outputId": "8e0e1569-df9f-4193-f809-7f9c3ce5008c"
      },
      "execution_count": 5,
      "outputs": [
        {
          "output_type": "execute_result",
          "data": {
            "text/plain": [
              "[PosixPath('/content/fauna-image-classification-using-convolutional-neural-network/data/train/butterflies/OIP-iNc60Aypb1lmyCXqXbU-PAHaKq.jpeg'),\n",
              " PosixPath('/content/fauna-image-classification-using-convolutional-neural-network/data/train/chickens/OIP-6MjetA7kf_9eSKhGupjlhQHaEw.jpeg'),\n",
              " PosixPath('/content/fauna-image-classification-using-convolutional-neural-network/data/train/horses/OIP-H7N9zmHoqy-lnjCuNgdvbAAAAA.jpeg'),\n",
              " PosixPath('/content/fauna-image-classification-using-convolutional-neural-network/data/train/chickens/OIP-5L1_hLwThlZ4L1SRAW_cGQAAAA.jpeg'),\n",
              " PosixPath('/content/fauna-image-classification-using-convolutional-neural-network/data/train/spiders/OIP-1JpWGZ4ws7XjdOnbrSCR5wHaFj.jpeg'),\n",
              " PosixPath('/content/fauna-image-classification-using-convolutional-neural-network/data/train/horses/OIP-a7Ei-Lt4B3v76tTgLXs_vAHaHa.jpeg'),\n",
              " PosixPath('/content/fauna-image-classification-using-convolutional-neural-network/data/validation/spiders/OIP-rGVXcvpFO66pbIriUrysmgHaEL.jpeg'),\n",
              " PosixPath('/content/fauna-image-classification-using-convolutional-neural-network/data/validation/spiders/OIP-wb4IoFgar01kaXxMl93yxgAAAA.jpeg'),\n",
              " PosixPath('/content/fauna-image-classification-using-convolutional-neural-network/data/train/spiders/OIP--m4jnueJjrxYnNCSc1bsnwHaGI.jpeg'),\n",
              " PosixPath('/content/fauna-image-classification-using-convolutional-neural-network/data/train/spiders/OIP-FXgDq6uJO8Bt5wP11db47gHaFD.jpeg'),\n",
              " PosixPath('/content/fauna-image-classification-using-convolutional-neural-network/data/validation/spiders/OIP-Wcgb60EOBb1MgbX0zc9kggAAAA.jpeg'),\n",
              " PosixPath('/content/fauna-image-classification-using-convolutional-neural-network/data/train/spiders/OIP-kMBQDbGvusbQK55zOxA7uAHaL1.jpeg'),\n",
              " PosixPath('/content/fauna-image-classification-using-convolutional-neural-network/data/train/horses/OIP-q_u8bQykdtczcuRBlk3bhgHaF0.jpeg'),\n",
              " PosixPath('/content/fauna-image-classification-using-convolutional-neural-network/data/validation/chickens/OIP-vdryy69mIIW35L6v5AOwyQHaFj.jpeg'),\n",
              " PosixPath('/content/fauna-image-classification-using-convolutional-neural-network/data/test/butterflies/OIP-x2S3w9PMWd1RD2vZq9orEgHaJm.jpeg'),\n",
              " PosixPath('/content/fauna-image-classification-using-convolutional-neural-network/data/train/horses/OIP-RnvhMydLzwp2ZJjQRLhh3AHaEx.jpeg'),\n",
              " PosixPath('/content/fauna-image-classification-using-convolutional-neural-network/data/train/spiders/OIP-GpYL7QtIn_0xfhMS-3CkVwHaFo.jpeg'),\n",
              " PosixPath('/content/fauna-image-classification-using-convolutional-neural-network/data/train/chickens/OIP-BKNHngY76s9W4RWh1INgcQHaGl.jpeg'),\n",
              " PosixPath('/content/fauna-image-classification-using-convolutional-neural-network/data/test/butterflies/OIP-WWSkj9NVhLmqJkRv62Wt_wHaGG.jpeg'),\n",
              " PosixPath('/content/fauna-image-classification-using-convolutional-neural-network/data/train/spiders/OIP-90VFYiqIObXPk-2G6qHXLgHaEK.jpeg')]"
            ]
          },
          "metadata": {},
          "execution_count": 5
        }
      ]
    },
    {
      "cell_type": "code",
      "source": [
        "def train_set_split(data_path_1,amount_1,path):\n",
        "  import pathlib\n",
        "  import random\n",
        "  import shutil\n",
        "  number_to_sample = round(amount_1 * len(path))\n",
        "  target_list=random.sample(list_path,k=number_to_sample)\n",
        "  # Setup the directories\n",
        "\n",
        "\n",
        "  Total={}\n",
        "\n",
        "  train_list=target_list[:round(0.9*len(target_list))]\n",
        "  test_list=target_list[round(0.9*len(target_list)):]\n",
        "  train_dir=data_path_1/f\"{amount_1}%_of_data\"/\"train\"\n",
        "  test_dir=data_path_1/f\"{amount_1}%_of_data\"/\"test\"\n",
        "\n",
        "  Total[train_dir]=train_list\n",
        "  Total[test_dir]=test_list\n",
        "  print (Total.keys())\n",
        "  for image_dir in Total.keys():\n",
        "    if not image_dir.is_dir():\n",
        "      image_dir.mkdir(parents=True,exist_ok=True)\n",
        "\n",
        "\n",
        "    for image_location in Total[image_dir]:\n",
        "      target_folder=image_dir/(f\"{image_location.parent.stem}\")\n",
        "      if not target_folder.is_dir():\n",
        "\n",
        "        target_folder.mkdir(parents=True,exist_ok=True)\n",
        "\n",
        "      shutil.copy2(image_location, target_folder)\n",
        "\n",
        "\n",
        "  file_name = data_path_1/f\"{amount_1}%_of_zipfile\"\n",
        "\n",
        "# Make the directories\n",
        "  file_name.mkdir(parents=True, exist_ok=True)\n",
        "\n",
        "  # Zip pizza_steak_sushi images\n",
        "  copied_stuff = data_path_1/f\"{amount_1}%_of_data\"\n",
        "  shutil.make_archive(file_name/\"our_file\",\n",
        "                        format=\"zip\",\n",
        "                        root_dir=copied_stuff)\n",
        "\n",
        "  return len(train_list),len(test_list),file_name\n",
        "\n",
        "\n"
      ],
      "metadata": {
        "id": "AEB0tU9qlENw"
      },
      "execution_count": 6,
      "outputs": []
    },
    {
      "cell_type": "code",
      "source": [
        "a,b,file_name=train_set_split(data_path,0.2,list_path)\n",
        "file_name"
      ],
      "metadata": {
        "colab": {
          "base_uri": "https://localhost:8080/"
        },
        "id": "e12PC8fyywcA",
        "outputId": "b8256cc7-c319-43bb-cc61-e5c7cb424589"
      },
      "execution_count": 9,
      "outputs": [
        {
          "output_type": "stream",
          "name": "stdout",
          "text": [
            "dict_keys([PosixPath('data_set/0.2%_of_data/train'), PosixPath('data_set/0.2%_of_data/test')])\n"
          ]
        },
        {
          "output_type": "execute_result",
          "data": {
            "text/plain": [
              "PosixPath('data_set/0.2%_of_zipfile')"
            ]
          },
          "metadata": {},
          "execution_count": 9
        }
      ]
    },
    {
      "cell_type": "code",
      "source": [
        "#!apt-get install git\n",
        "#!git clone https://ffffBGLBEUOyUNJ8Fawwecom/gaddau1/mddddng.git\n",
        "#%cd model_training\n",
        "#!cp /content/data_set/0.2%_of_zipfile/our_file.zip .\n",
        "#!git config --global user.email \"gary.tzewewcom\"\n",
        "#!git config --global user.name \"gwew\n",
        "#!git add our_file.zip\n",
        "#!git commit -m \"this is new one\"\n",
        "\n",
        "#!git push origin main"
      ],
      "metadata": {
        "colab": {
          "base_uri": "https://localhost:8080/"
        },
        "id": "jLUbWTOc1HjT",
        "outputId": "3160963d-2155-4232-9bab-84d43e06c7d9"
      },
      "execution_count": 14,
      "outputs": [
        {
          "output_type": "stream",
          "name": "stdout",
          "text": [
            "Reading package lists... Done\n",
            "Building dependency tree... Done\n",
            "Reading state information... Done\n",
            "git is already the newest version (1:2.34.1-1ubuntu1.11).\n",
            "0 upgraded, 0 newly installed, 0 to remove and 45 not upgraded.\n",
            "Cloning into 'model_training'...\n",
            "remote: Enumerating objects: 42, done.\u001b[K\n",
            "remote: Counting objects: 100% (18/18), done.\u001b[K\n",
            "remote: Compressing objects: 100% (16/16), done.\u001b[K\n",
            "remote: Total 42 (delta 12), reused 7 (delta 2), pack-reused 24\u001b[K\n",
            "Receiving objects: 100% (42/42), 95.25 MiB | 38.13 MiB/s, done.\n",
            "Resolving deltas: 100% (18/18), done.\n",
            "/content/model_training/model_training/model_training/model_training\n",
            "/bin/bash: -c: line 1: unexpected EOF while looking for matching `\"'\n",
            "/bin/bash: -c: line 2: syntax error: unexpected end of file\n",
            "[main 4c7388b] this is new one\n",
            " 1 file changed, 0 insertions(+), 0 deletions(-)\n",
            "Enumerating objects: 5, done.\n",
            "Counting objects: 100% (5/5), done.\n",
            "Delta compression using up to 2 threads\n",
            "Compressing objects: 100% (3/3), done.\n",
            "Writing objects: 100% (3/3), 43.67 MiB | 17.09 MiB/s, done.\n",
            "Total 3 (delta 1), reused 0 (delta 0), pack-reused 0\n",
            "remote: Resolving deltas: 100% (1/1), completed with 1 local object.\u001b[K\n",
            "To https://github.com/garylau1/model_training.git\n",
            "   1698d00..4c7388b  main -> main\n"
          ]
        }
      ]
    },
    {
      "cell_type": "code",
      "source": [
        "str(file_name)"
      ],
      "metadata": {
        "colab": {
          "base_uri": "https://localhost:8080/",
          "height": 35
        },
        "id": "mpC5HHVE6Rgd",
        "outputId": "26bcb400-f5f4-4e0c-abfb-15a3153b7771"
      },
      "execution_count": 12,
      "outputs": [
        {
          "output_type": "execute_result",
          "data": {
            "text/plain": [
              "'data_set/0.2%_of_zipfile'"
            ],
            "application/vnd.google.colaboratory.intrinsic+json": {
              "type": "string"
            }
          },
          "metadata": {},
          "execution_count": 12
        }
      ]
    },
    {
      "cell_type": "code",
      "source": [],
      "metadata": {
        "id": "LLbSTX248Dce"
      },
      "execution_count": null,
      "outputs": []
    }
  ]
}