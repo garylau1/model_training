{
  "nbformat": 4,
  "nbformat_minor": 0,
  "metadata": {
    "colab": {
      "provenance": [],
      "authorship_tag": "ABX9TyMAuQJEjDBdYb0usMgDN5Qa",
      "include_colab_link": true
    },
    "kernelspec": {
      "name": "python3",
      "display_name": "Python 3"
    },
    "language_info": {
      "name": "python"
    }
  },
  "cells": [
    {
      "cell_type": "markdown",
      "metadata": {
        "id": "view-in-github",
        "colab_type": "text"
      },
      "source": [
        "<a href=\"https://colab.research.google.com/github/garylau1/model_training/blob/main/data_slplit.ipynb\" target=\"_parent\"><img src=\"https://colab.research.google.com/assets/colab-badge.svg\" alt=\"Open In Colab\"/></a>"
      ]
    },
    {
      "cell_type": "code",
      "execution_count": 1,
      "metadata": {
        "colab": {
          "base_uri": "https://localhost:8080/"
        },
        "id": "b_lWg3hpk2s_",
        "outputId": "2b021a99-3d54-40de-aab5-426741743e34"
      },
      "outputs": [
        {
          "output_type": "stream",
          "name": "stdout",
          "text": [
            "2.3.1+cu121\n"
          ]
        }
      ],
      "source": [
        "# Import torch\n",
        "import torch\n",
        "from torch import nn\n",
        "\n",
        "# Exercises require PyTorch > 1.10.0\n",
        "print(torch.__version__)\n",
        "\n",
        "# Setup device agnostic code\n",
        "device = \"cuda\" if torch.cuda.is_available() else \"cpu\"\n",
        "device\n",
        "\n",
        "import os\n",
        "\n",
        "from pathlib import Path\n",
        "import requests\n",
        "import zipfile\n",
        "\n",
        "data_path=Path(\"data_set\")"
      ]
    },
    {
      "cell_type": "code",
      "source": [
        "!git clone https://github.com/kavishsanghvi/fauna-image-classification-using-convolutional-neural-network.git\n",
        "\n"
      ],
      "metadata": {
        "colab": {
          "base_uri": "https://localhost:8080/"
        },
        "id": "74kzhCznk4sf",
        "outputId": "274af617-41c6-4b3c-9338-c2e13e6ec5b6"
      },
      "execution_count": 2,
      "outputs": [
        {
          "output_type": "stream",
          "name": "stdout",
          "text": [
            "Cloning into 'fauna-image-classification-using-convolutional-neural-network'...\n",
            "remote: Enumerating objects: 17032, done.\u001b[K\n",
            "remote: Counting objects: 100% (30/30), done.\u001b[K\n",
            "remote: Compressing objects: 100% (27/27), done.\u001b[K\n",
            "remote: Total 17032 (delta 13), reused 11 (delta 3), pack-reused 17002\u001b[K\n",
            "Receiving objects: 100% (17032/17032), 329.97 MiB | 27.56 MiB/s, done.\n",
            "Resolving deltas: 100% (15/15), done.\n",
            "Updating files: 100% (17820/17820), done.\n"
          ]
        }
      ]
    },
    {
      "cell_type": "code",
      "source": [
        "import os\n",
        "\n",
        "for i in list(os.listdir(\"/content/fauna-image-classification-using-convolutional-neural-network/data/test\")):\n",
        "  if (i[-1:-4:-1])==\"gpj\" or (i[-1:-5:-1])==\"gepj\" :\n",
        "      os.remove(str(\"/content/fauna-image-classification-using-convolutional-neural-network/data/test\")+\"/\"+i)"
      ],
      "metadata": {
        "id": "YVFYLglnngz9"
      },
      "execution_count": 3,
      "outputs": []
    },
    {
      "cell_type": "code",
      "source": [
        "data_path=Path(\"data_set\")\n",
        "\n",
        "if not data_path.is_dir():\n",
        "\n",
        "    data_path.mkdir(parents=True,exist_ok=True)\n",
        "\n",
        "\n",
        "whole_paths=Path(\"/content/fauna-image-classification-using-convolutional-neural-network/data\")\n",
        "\n"
      ],
      "metadata": {
        "id": "D1bGpxaTk6RI"
      },
      "execution_count": 4,
      "outputs": []
    },
    {
      "cell_type": "code",
      "source": [
        "list_path=list(whole_paths.glob(\"*/*/*.jpeg\"))\n",
        "import random\n",
        "list_path2=random.sample(list_path,k=20)\n",
        "list_path2"
      ],
      "metadata": {
        "colab": {
          "base_uri": "https://localhost:8080/"
        },
        "id": "BsycRpJknTz1",
        "outputId": "4a21dceb-d87a-410a-9217-a687f69a8758"
      },
      "execution_count": 5,
      "outputs": [
        {
          "output_type": "execute_result",
          "data": {
            "text/plain": [
              "[PosixPath('/content/fauna-image-classification-using-convolutional-neural-network/data/train/horses/OIP-3PigPp05Pt9MnVIzZdkI0AHaFj.jpeg'),\n",
              " PosixPath('/content/fauna-image-classification-using-convolutional-neural-network/data/train/butterflies/OIP-C1BNhwad0E38ODDHpKr3uQHaFj.jpeg'),\n",
              " PosixPath('/content/fauna-image-classification-using-convolutional-neural-network/data/train/spiders/OIP-7sUlVno4kXrCJGy9v6AeMQAAAA.jpeg'),\n",
              " PosixPath('/content/fauna-image-classification-using-convolutional-neural-network/data/train/chickens/OIP-R6bwEvi7kba6UoMMsKO9kgHaEK.jpeg'),\n",
              " PosixPath('/content/fauna-image-classification-using-convolutional-neural-network/data/train/spiders/OIP-JKtPIRSmGMHMEoi4LCwZYgHaGF.jpeg'),\n",
              " PosixPath('/content/fauna-image-classification-using-convolutional-neural-network/data/validation/spiders/OIP-vhSdMi2uQrA-qoSOH4dF0AHaHp.jpeg'),\n",
              " PosixPath('/content/fauna-image-classification-using-convolutional-neural-network/data/train/butterflies/OIP-9ZwRJ9mFx1D8b2NJZdKl7QHaFj.jpeg'),\n",
              " PosixPath('/content/fauna-image-classification-using-convolutional-neural-network/data/train/elephants/OIP-HHwlX82soupqbntSzTz1KgHaIB.jpeg'),\n",
              " PosixPath('/content/fauna-image-classification-using-convolutional-neural-network/data/train/squirells/OIP-cT8e_0b0zgf9zO6TSnPRAwHaFj.jpeg'),\n",
              " PosixPath('/content/fauna-image-classification-using-convolutional-neural-network/data/train/butterflies/OIP-0SLZTSG08Ar-epysCY43xwHaGa.jpeg'),\n",
              " PosixPath('/content/fauna-image-classification-using-convolutional-neural-network/data/validation/spiders/OIP-uICHwaOhmz6MvwkNcIksngHaFL.jpeg'),\n",
              " PosixPath('/content/fauna-image-classification-using-convolutional-neural-network/data/test/butterflies/OIP-WU3IhZu3oZCUFvYxU9cdsgHaGQ.jpeg'),\n",
              " PosixPath('/content/fauna-image-classification-using-convolutional-neural-network/data/train/spiders/OIP-54meq11_Iyo3HYWA3Qh_fQHaE9.jpeg'),\n",
              " PosixPath('/content/fauna-image-classification-using-convolutional-neural-network/data/validation/spiders/OIP-sG5vXfz3pKsIyXrXWLY7OAHaEw.jpeg'),\n",
              " PosixPath('/content/fauna-image-classification-using-convolutional-neural-network/data/train/butterflies/OIP-AwZVEle-AECJq2lv3Xbd2AHaHa.jpeg'),\n",
              " PosixPath('/content/fauna-image-classification-using-convolutional-neural-network/data/train/chickens/167.jpeg'),\n",
              " PosixPath('/content/fauna-image-classification-using-convolutional-neural-network/data/train/chickens/OIP-80JmuJ1TPXIBgv-HPaoE3AHaFj.jpeg'),\n",
              " PosixPath('/content/fauna-image-classification-using-convolutional-neural-network/data/train/squirells/OIP-CvaJrVqRzqD481i9-HpWcgAAAA.jpeg'),\n",
              " PosixPath('/content/fauna-image-classification-using-convolutional-neural-network/data/validation/spiders/OIP-QUCCFSvJLbXXr2pAEu4ZQgHaEK.jpeg'),\n",
              " PosixPath('/content/fauna-image-classification-using-convolutional-neural-network/data/train/horses/OIP--v2M4dNO-UVypF77vUD06gHaE7.jpeg')]"
            ]
          },
          "metadata": {},
          "execution_count": 5
        }
      ]
    },
    {
      "cell_type": "code",
      "source": [
        "def train_set_split(data_path_1,amount_1,path):\n",
        "\n",
        "  import random\n",
        "  import shutil\n",
        "  number_to_sample = round(amount_1 * len(path))\n",
        "  target_list=random.sample(list_path,k=number_to_sample)\n",
        "\n",
        "  Total={}\n",
        "\n",
        "  train_list=target_list[:round(0.9*len(target_list))]\n",
        "  test_list=target_list[round(0.9*len(target_list)):]\n",
        "  train_dir=data_path/f\"{amount_1}%_of_data\"/\"train\"\n",
        "  test_dir=data_path/f\"{amount_1}%_of_data\"/\"test\"\n",
        "\n",
        "  Total[train_dir]=train_list\n",
        "  Total[test_dir]=test_list\n",
        "  print (Total.keys())\n",
        "  for image_dir in Total.keys():\n",
        "    if not image_dir.is_dir():\n",
        "      image_dir.mkdir(parents=True,exist_ok=True)\n",
        "\n",
        "\n",
        "    for image_location in Total[image_dir]:\n",
        "      target_folder=image_dir/(f\"{image_location.parent.stem}\")\n",
        "      if not target_folder.is_dir():\n",
        "\n",
        "        target_folder.mkdir(parents=True,exist_ok=True)\n",
        "\n",
        "      shutil.copy2(image_location, target_folder)\n",
        "\n",
        "  return len(train_list),len(test_list),test_dir\n",
        "\n",
        "\n"
      ],
      "metadata": {
        "id": "AEB0tU9qlENw"
      },
      "execution_count": 6,
      "outputs": []
    },
    {
      "cell_type": "code",
      "source": [
        "train_set_split(data_path,1,list_path)"
      ],
      "metadata": {
        "colab": {
          "base_uri": "https://localhost:8080/"
        },
        "id": "e12PC8fyywcA",
        "outputId": "4e7aa281-0570-423b-f8ae-f1921be737e6"
      },
      "execution_count": 11,
      "outputs": [
        {
          "output_type": "stream",
          "name": "stdout",
          "text": [
            "dict_keys([PosixPath('data_set/1%_of_data/train'), PosixPath('data_set/1%_of_data/test')])\n"
          ]
        },
        {
          "output_type": "execute_result",
          "data": {
            "text/plain": [
              "(14900, 1655, PosixPath('data_set/1%_of_data/test'))"
            ]
          },
          "metadata": {},
          "execution_count": 11
        }
      ]
    },
    {
      "cell_type": "code",
      "source": [],
      "metadata": {
        "id": "iUfItTtV0oYg"
      },
      "execution_count": null,
      "outputs": []
    }
  ]
}