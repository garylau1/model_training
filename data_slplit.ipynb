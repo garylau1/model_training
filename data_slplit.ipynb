{
  "nbformat": 4,
  "nbformat_minor": 0,
  "metadata": {
    "colab": {
      "provenance": [],
      "authorship_tag": "ABX9TyNN/+wbtuFZPD2YO2bbg7o2",
      "include_colab_link": true
    },
    "kernelspec": {
      "name": "python3",
      "display_name": "Python 3"
    },
    "language_info": {
      "name": "python"
    }
  },
  "cells": [
    {
      "cell_type": "markdown",
      "metadata": {
        "id": "view-in-github",
        "colab_type": "text"
      },
      "source": [
        "<a href=\"https://colab.research.google.com/github/garylau1/model_training/blob/main/data_slplit.ipynb\" target=\"_parent\"><img src=\"https://colab.research.google.com/assets/colab-badge.svg\" alt=\"Open In Colab\"/></a>"
      ]
    },
    {
      "cell_type": "markdown",
      "source": [
        "In this workbook we would suggest a way to split the training and testing data from a folder:"
      ],
      "metadata": {
        "id": "xiVYSlwy5HYD"
      }
    },
    {
      "cell_type": "code",
      "execution_count": 1,
      "metadata": {
        "colab": {
          "base_uri": "https://localhost:8080/"
        },
        "id": "b_lWg3hpk2s_",
        "outputId": "6b2f59c2-7202-414b-b17a-43dd60090091"
      },
      "outputs": [
        {
          "output_type": "stream",
          "name": "stdout",
          "text": [
            "2.3.1+cu121\n"
          ]
        }
      ],
      "source": [
        "# Import torch\n",
        "import torch\n",
        "from torch import nn\n",
        "\n",
        "# Exercises require PyTorch > 1.10.0\n",
        "print(torch.__version__)\n",
        "\n",
        "# Setup device agnostic code\n",
        "device = \"cuda\" if torch.cuda.is_available() else \"cpu\"\n",
        "device\n",
        "\n",
        "import os\n",
        "\n",
        "from pathlib import Path\n",
        "import requests\n",
        "import zipfile\n",
        "\n",
        "data_path=Path(\"data_set\")"
      ]
    },
    {
      "cell_type": "code",
      "source": [
        "!git clone https://github.com/kavishsanghvi/fauna-image-classification-using-convolutional-neural-network.git\n",
        "\n"
      ],
      "metadata": {
        "colab": {
          "base_uri": "https://localhost:8080/"
        },
        "id": "74kzhCznk4sf",
        "outputId": "4a131835-8fe5-4d56-f347-38a131f651e9"
      },
      "execution_count": 2,
      "outputs": [
        {
          "output_type": "stream",
          "name": "stdout",
          "text": [
            "Cloning into 'fauna-image-classification-using-convolutional-neural-network'...\n",
            "remote: Enumerating objects: 17032, done.\u001b[K\n",
            "remote: Counting objects: 100% (30/30), done.\u001b[K\n",
            "remote: Compressing objects: 100% (27/27), done.\u001b[K\n",
            "remote: Total 17032 (delta 13), reused 11 (delta 3), pack-reused 17002\u001b[K\n",
            "Receiving objects: 100% (17032/17032), 329.97 MiB | 29.12 MiB/s, done.\n",
            "Resolving deltas: 100% (15/15), done.\n",
            "Updating files: 100% (17820/17820), done.\n"
          ]
        }
      ]
    },
    {
      "cell_type": "code",
      "source": [
        "import os\n",
        "\n",
        "for i in list(os.listdir(\"/content/fauna-image-classification-using-convolutional-neural-network/data/test\")):\n",
        "  if (i[-1:-4:-1])==\"gpj\" or (i[-1:-5:-1])==\"gepj\" :\n",
        "      os.remove(str(\"/content/fauna-image-classification-using-convolutional-neural-network/data/test\")+\"/\"+i)"
      ],
      "metadata": {
        "id": "YVFYLglnngz9"
      },
      "execution_count": 3,
      "outputs": []
    },
    {
      "cell_type": "code",
      "source": [
        "data_path=Path(\"data_set\")\n",
        "\n",
        "if not data_path.is_dir():\n",
        "\n",
        "    data_path.mkdir(parents=True,exist_ok=True)\n",
        "\n",
        "\n",
        "whole_paths=Path(\"/content/fauna-image-classification-using-convolutional-neural-network/data\")\n",
        "\n"
      ],
      "metadata": {
        "id": "D1bGpxaTk6RI"
      },
      "execution_count": 4,
      "outputs": []
    },
    {
      "cell_type": "code",
      "source": [
        "list_path=list(whole_paths.glob(\"*/*/*.jpeg\"))\n",
        "import random\n",
        "list_path2=random.sample(list_path,k=20)\n",
        "list_path2"
      ],
      "metadata": {
        "colab": {
          "base_uri": "https://localhost:8080/"
        },
        "id": "BsycRpJknTz1",
        "outputId": "497d2b04-7856-4cfa-8003-9758d0f40091"
      },
      "execution_count": 5,
      "outputs": [
        {
          "output_type": "execute_result",
          "data": {
            "text/plain": [
              "[PosixPath('/content/fauna-image-classification-using-convolutional-neural-network/data/train/horses/OIP-oKwZqGUiJvFupyGSEClj3QHaGC.jpeg'),\n",
              " PosixPath('/content/fauna-image-classification-using-convolutional-neural-network/data/train/butterflies/OIP-9K_49sl81D1Xn9VMQ5G9NAHaF8.jpeg'),\n",
              " PosixPath('/content/fauna-image-classification-using-convolutional-neural-network/data/train/butterflies/OIP-pFUnBx-vJx25T5msvefa8QHaFP.jpeg'),\n",
              " PosixPath('/content/fauna-image-classification-using-convolutional-neural-network/data/train/chickens/OIP-r7DZq1EAMqKpSkE5JTlucQHaEK.jpeg'),\n",
              " PosixPath('/content/fauna-image-classification-using-convolutional-neural-network/data/validation/butterflies/OIP-tvbkdgRCRwOyanj11vD2XgHaE6.jpeg'),\n",
              " PosixPath('/content/fauna-image-classification-using-convolutional-neural-network/data/train/spiders/OIP-FxydUyngNlHwAjNdvvpyYwHaFw.jpeg'),\n",
              " PosixPath('/content/fauna-image-classification-using-convolutional-neural-network/data/validation/horses/OIP-YNdo4JVO8Zv-razWemwX8wHaFj.jpeg'),\n",
              " PosixPath('/content/fauna-image-classification-using-convolutional-neural-network/data/train/chickens/OIP-mwUrNmVOftCvS6_JhyQE-QHaFA.jpeg'),\n",
              " PosixPath('/content/fauna-image-classification-using-convolutional-neural-network/data/train/spiders/OIP-C_S6AB6uXQ7NIizx4M11jQHaFG.jpeg'),\n",
              " PosixPath('/content/fauna-image-classification-using-convolutional-neural-network/data/validation/spiders/OIP-RpvkpbRdk0lr4VWhi1UYNAHaG7.jpeg'),\n",
              " PosixPath('/content/fauna-image-classification-using-convolutional-neural-network/data/train/horses/OIP--1hNp1smpwT06GTxZbUVwgHaFi.jpeg'),\n",
              " PosixPath('/content/fauna-image-classification-using-convolutional-neural-network/data/train/chickens/807.jpeg'),\n",
              " PosixPath('/content/fauna-image-classification-using-convolutional-neural-network/data/validation/chickens/OIP-WgPzfsAlsGZzSlp6E5pUiwHaFj.jpeg'),\n",
              " PosixPath('/content/fauna-image-classification-using-convolutional-neural-network/data/train/squirells/OIP-Lh8-RCfR1SGbr5EgwTMd3wHaEh.jpeg'),\n",
              " PosixPath('/content/fauna-image-classification-using-convolutional-neural-network/data/train/spiders/OIP-cO451atPzUMJAiqmYEjjaAHaFi.jpeg'),\n",
              " PosixPath('/content/fauna-image-classification-using-convolutional-neural-network/data/test/spiders/OIP-Yu32H_EhSqQXohNmDnEsSwHaIK.jpeg'),\n",
              " PosixPath('/content/fauna-image-classification-using-convolutional-neural-network/data/test/squirells/OIP-yB4QSPjlcdYGQwizOZAJogHaE8.jpeg'),\n",
              " PosixPath('/content/fauna-image-classification-using-convolutional-neural-network/data/train/butterflies/OIP-LU1pLNp_tO4EWo2e2HNABwHaFk.jpeg'),\n",
              " PosixPath('/content/fauna-image-classification-using-convolutional-neural-network/data/train/elephants/OIP-5EMIXsZj3BUwB5zI90D7NwHaG4.jpeg'),\n",
              " PosixPath('/content/fauna-image-classification-using-convolutional-neural-network/data/train/butterflies/OIP-i-he-GYqRN6V55STHoYwtAHaGb.jpeg')]"
            ]
          },
          "metadata": {},
          "execution_count": 5
        }
      ]
    },
    {
      "cell_type": "code",
      "source": [
        "def train_set_split(data_path_1,amount_1,path):\n",
        "  import pathlib\n",
        "  import random\n",
        "  import shutil\n",
        "  number_to_sample = round(amount_1 * len(path))\n",
        "  target_list=random.sample(list_path,k=number_to_sample)\n",
        "\n",
        "  Total={}\n",
        "\n",
        "  train_list=target_list[:round(0.9*len(target_list))]\n",
        "  test_list=target_list[round(0.9*len(target_list)):]\n",
        "  train_dir=data_path_1/f\"{amount_1}%_of_data\"/\"train\"\n",
        "  test_dir=data_path_1/f\"{amount_1}%_of_data\"/\"test\"\n",
        "\n",
        "  Total[train_dir]=train_list\n",
        "  Total[test_dir]=test_list\n",
        "  print (Total.keys())\n",
        "  for image_dir in Total.keys():\n",
        "    if not image_dir.is_dir():\n",
        "      image_dir.mkdir(parents=True,exist_ok=True)\n",
        "\n",
        "\n",
        "    for image_location in Total[image_dir]:\n",
        "      target_folder=image_dir/(f\"{image_location.parent.stem}\")\n",
        "      if not target_folder.is_dir():\n",
        "\n",
        "        target_folder.mkdir(parents=True,exist_ok=True)\n",
        "\n",
        "      shutil.copy2(image_location, target_folder)\n",
        "\n",
        "  target_dir_name = data_path_1/f\"{amount_1}%_of_zipfile\"\n",
        "\n",
        "\n",
        "# Setup the directories\n",
        "  target_dir = target_dir_name\n",
        "\n",
        "# Make the directories\n",
        "  target_dir.mkdir(parents=True, exist_ok=True)\n",
        "\n",
        "  # Zip pizza_steak_sushi images\n",
        "  zip_file = target_dir/f\"{amount_1}%_of_data\"\n",
        "  shutil.make_archive(zip_file,\n",
        "                      format=\"zip\",\n",
        "                      root_dir=target_dir)\n",
        "\n",
        "  return len(train_list),len(test_list),test_dir\n",
        "\n",
        "\n"
      ],
      "metadata": {
        "id": "AEB0tU9qlENw"
      },
      "execution_count": 7,
      "outputs": []
    },
    {
      "cell_type": "code",
      "source": [
        "train_set_split(data_path,1,list_path)"
      ],
      "metadata": {
        "colab": {
          "base_uri": "https://localhost:8080/"
        },
        "id": "e12PC8fyywcA",
        "outputId": "074a6001-a83d-4c87-b241-32206289639b"
      },
      "execution_count": 9,
      "outputs": [
        {
          "output_type": "stream",
          "name": "stdout",
          "text": [
            "dict_keys([PosixPath('data_set/1%_of_data/train'), PosixPath('data_set/1%_of_data/test')])\n"
          ]
        },
        {
          "output_type": "execute_result",
          "data": {
            "text/plain": [
              "(14900, 1655, PosixPath('data_set/1%_of_data/test'))"
            ]
          },
          "metadata": {},
          "execution_count": 9
        }
      ]
    },
    {
      "cell_type": "code",
      "source": [],
      "metadata": {
        "id": "iuoOWFPc2Lio"
      },
      "execution_count": 7,
      "outputs": []
    },
    {
      "cell_type": "code",
      "source": [],
      "metadata": {
        "id": "iUfItTtV0oYg"
      },
      "execution_count": 7,
      "outputs": []
    }
  ]
}