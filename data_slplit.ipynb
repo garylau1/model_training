{
  "nbformat": 4,
  "nbformat_minor": 0,
  "metadata": {
    "colab": {
      "provenance": [],
      "authorship_tag": "ABX9TyMX7p1C/m+AcKxgw1FeDYu8",
      "include_colab_link": true
    },
    "kernelspec": {
      "name": "python3",
      "display_name": "Python 3"
    },
    "language_info": {
      "name": "python"
    }
  },
  "cells": [
    {
      "cell_type": "markdown",
      "metadata": {
        "id": "view-in-github",
        "colab_type": "text"
      },
      "source": [
        "<a href=\"https://colab.research.google.com/github/garylau1/model_training/blob/main/data_slplit.ipynb\" target=\"_parent\"><img src=\"https://colab.research.google.com/assets/colab-badge.svg\" alt=\"Open In Colab\"/></a>"
      ]
    },
    {
      "cell_type": "markdown",
      "source": [
        "In this workbook we would suggest a way to split the training and testing data from a folder:"
      ],
      "metadata": {
        "id": "xiVYSlwy5HYD"
      }
    },
    {
      "cell_type": "code",
      "execution_count": 1,
      "metadata": {
        "colab": {
          "base_uri": "https://localhost:8080/"
        },
        "id": "b_lWg3hpk2s_",
        "outputId": "4ec20c37-04c0-4763-9fcf-7e7e3a547351"
      },
      "outputs": [
        {
          "output_type": "stream",
          "name": "stdout",
          "text": [
            "2.3.1+cu121\n"
          ]
        }
      ],
      "source": [
        "# Import torch\n",
        "import torch\n",
        "from torch import nn\n",
        "\n",
        "# Exercises require PyTorch > 1.10.0\n",
        "print(torch.__version__)\n",
        "\n",
        "# Setup device agnostic code\n",
        "device = \"cuda\" if torch.cuda.is_available() else \"cpu\"\n",
        "device\n",
        "\n",
        "import os\n",
        "\n",
        "from pathlib import Path\n",
        "import requests\n",
        "import zipfile\n",
        "\n",
        "data_path=Path(\"data_set\")"
      ]
    },
    {
      "cell_type": "code",
      "source": [
        "!git clone https://github.com/kavishsanghvi/fauna-image-classification-using-convolutional-neural-network.git\n",
        "\n"
      ],
      "metadata": {
        "colab": {
          "base_uri": "https://localhost:8080/"
        },
        "id": "74kzhCznk4sf",
        "outputId": "95aa59e3-8672-406e-8386-14b77f4ad64d"
      },
      "execution_count": 2,
      "outputs": [
        {
          "output_type": "stream",
          "name": "stdout",
          "text": [
            "Cloning into 'fauna-image-classification-using-convolutional-neural-network'...\n",
            "remote: Enumerating objects: 17032, done.\u001b[K\n",
            "remote: Counting objects: 100% (30/30), done.\u001b[K\n",
            "remote: Compressing objects: 100% (27/27), done.\u001b[K\n",
            "remote: Total 17032 (delta 13), reused 11 (delta 3), pack-reused 17002\u001b[K\n",
            "Receiving objects: 100% (17032/17032), 329.97 MiB | 26.43 MiB/s, done.\n",
            "Resolving deltas: 100% (15/15), done.\n",
            "Updating files: 100% (17820/17820), done.\n"
          ]
        }
      ]
    },
    {
      "cell_type": "code",
      "source": [
        "import os\n",
        "\n",
        "for i in list(os.listdir(\"/content/fauna-image-classification-using-convolutional-neural-network/data/test\")):\n",
        "  if (i[-1:-4:-1])==\"gpj\" or (i[-1:-5:-1])==\"gepj\" :\n",
        "      os.remove(str(\"/content/fauna-image-classification-using-convolutional-neural-network/data/test\")+\"/\"+i)"
      ],
      "metadata": {
        "id": "YVFYLglnngz9"
      },
      "execution_count": 3,
      "outputs": []
    },
    {
      "cell_type": "code",
      "source": [
        "data_path=Path(\"data_set\")\n",
        "\n",
        "if not data_path.is_dir():\n",
        "\n",
        "    data_path.mkdir(parents=True,exist_ok=True)\n",
        "\n",
        "\n",
        "whole_paths=Path(\"/content/fauna-image-classification-using-convolutional-neural-network/data\")\n",
        "\n"
      ],
      "metadata": {
        "id": "D1bGpxaTk6RI"
      },
      "execution_count": 4,
      "outputs": []
    },
    {
      "cell_type": "code",
      "source": [
        "list_path=list(whole_paths.glob(\"*/*/*.jpeg\"))\n",
        "import random\n",
        "list_path2=random.sample(list_path,k=20)\n",
        "list_path2"
      ],
      "metadata": {
        "colab": {
          "base_uri": "https://localhost:8080/"
        },
        "id": "BsycRpJknTz1",
        "outputId": "ef25b864-4021-4674-fc26-0dd8020b9aa9"
      },
      "execution_count": 5,
      "outputs": [
        {
          "output_type": "execute_result",
          "data": {
            "text/plain": [
              "[PosixPath('/content/fauna-image-classification-using-convolutional-neural-network/data/train/elephants/OIP-Mg6gYtXGSKCnqQi3XoKdkAHaEr.jpeg'),\n",
              " PosixPath('/content/fauna-image-classification-using-convolutional-neural-network/data/train/butterflies/OIP-1hw0LHZoBJwcwqQWXnRekQHaEo.jpeg'),\n",
              " PosixPath('/content/fauna-image-classification-using-convolutional-neural-network/data/train/horses/OIP-T2pjUHOO-K2dFnK1Tm4TcAHaJM.jpeg'),\n",
              " PosixPath('/content/fauna-image-classification-using-convolutional-neural-network/data/train/butterflies/OIP-FUtONfvqkmW2wVWIMABqnwHaHa.jpeg'),\n",
              " PosixPath('/content/fauna-image-classification-using-convolutional-neural-network/data/train/elephants/OIP-HE8E3Hhxm1ekmyZLw8xI_QHaFj.jpeg'),\n",
              " PosixPath('/content/fauna-image-classification-using-convolutional-neural-network/data/train/chickens/1010.jpeg'),\n",
              " PosixPath('/content/fauna-image-classification-using-convolutional-neural-network/data/test/horses/OIP-uDeXRJm1PVHAHxV4rJdPlwHaHr.jpeg'),\n",
              " PosixPath('/content/fauna-image-classification-using-convolutional-neural-network/data/train/elephants/OIP-J5OfUJjTVLFMjI2p0OOsCgHaFj.jpeg'),\n",
              " PosixPath('/content/fauna-image-classification-using-convolutional-neural-network/data/test/spiders/OIP-Zy5oMbMztd6lcmqR5NjpyAHaGJ.jpeg'),\n",
              " PosixPath('/content/fauna-image-classification-using-convolutional-neural-network/data/train/squirells/OIP-LgwyOmfAZug1i4_4iMkhSAHaHa.jpeg'),\n",
              " PosixPath('/content/fauna-image-classification-using-convolutional-neural-network/data/train/squirells/OIP-c9til5b5hxHM-YYqYO-ajwHaGV.jpeg'),\n",
              " PosixPath('/content/fauna-image-classification-using-convolutional-neural-network/data/validation/butterflies/OIP-t8Wnz_y3QGXpk0h3i5vg3gHaGy.jpeg'),\n",
              " PosixPath('/content/fauna-image-classification-using-convolutional-neural-network/data/validation/spiders/OIP-uCWPd9Q7HcjW6B2nWkugewHaE7.jpeg'),\n",
              " PosixPath('/content/fauna-image-classification-using-convolutional-neural-network/data/train/butterflies/OIP-Hm9KJqAsxPyTftXtcoiVOQHaFj.jpeg'),\n",
              " PosixPath('/content/fauna-image-classification-using-convolutional-neural-network/data/train/spiders/OIP-5ebcgEviujB-5G6_gBlH8wHaGQ.jpeg'),\n",
              " PosixPath('/content/fauna-image-classification-using-convolutional-neural-network/data/train/squirells/OIP-l35c-pG7MZPq74CC1F2flAHaE8.jpeg'),\n",
              " PosixPath('/content/fauna-image-classification-using-convolutional-neural-network/data/train/squirells/OIP-i5myI2bjwxzvCF0s_Y8ZwQHaE5.jpeg'),\n",
              " PosixPath('/content/fauna-image-classification-using-convolutional-neural-network/data/train/horses/OIP-of1eJh68UDGTIx1JBGj6sAAAAA.jpeg'),\n",
              " PosixPath('/content/fauna-image-classification-using-convolutional-neural-network/data/train/chickens/OIP-GMTxpS9bbxoGyvaE5Nn_wgHaFf.jpeg'),\n",
              " PosixPath('/content/fauna-image-classification-using-convolutional-neural-network/data/train/spiders/OIP-dOyft88ZMzW6PdvMHNgLdAHaE8.jpeg')]"
            ]
          },
          "metadata": {},
          "execution_count": 5
        }
      ]
    },
    {
      "cell_type": "code",
      "source": [
        "def train_set_split(data_path_1,amount_1,path):\n",
        "  import pathlib\n",
        "  import random\n",
        "  import shutil\n",
        "  number_to_sample = round(amount_1 * len(path))\n",
        "  target_list=random.sample(list_path,k=number_to_sample)\n",
        "  # Setup the directories\n",
        "\n",
        "\n",
        "  Total={}\n",
        "\n",
        "  train_list=target_list[:round(0.9*len(target_list))]\n",
        "  test_list=target_list[round(0.9*len(target_list)):]\n",
        "  train_dir=data_path_1/f\"{amount_1}%_of_data\"/\"train\"\n",
        "  test_dir=data_path_1/f\"{amount_1}%_of_data\"/\"test\"\n",
        "\n",
        "  Total[train_dir]=train_list\n",
        "  Total[test_dir]=test_list\n",
        "  print (Total.keys())\n",
        "  for image_dir in Total.keys():\n",
        "    if not image_dir.is_dir():\n",
        "      image_dir.mkdir(parents=True,exist_ok=True)\n",
        "\n",
        "\n",
        "    for image_location in Total[image_dir]:\n",
        "      target_folder=image_dir/(f\"{image_location.parent.stem}\")\n",
        "      if not target_folder.is_dir():\n",
        "\n",
        "        target_folder.mkdir(parents=True,exist_ok=True)\n",
        "\n",
        "      shutil.copy2(image_location, target_folder)\n",
        "\n",
        "\n",
        "  file_name = data_path_1/f\"{amount_1}%_of_zipfile\"\n",
        "\n",
        "# Make the directories\n",
        "  file_name.mkdir(parents=True, exist_ok=True)\n",
        "\n",
        "  # Zip pizza_steak_sushi images\n",
        "  copied_stuff = data_path_1/f\"{amount_1}%_of_data\"\n",
        "  shutil.make_archive(file_name/\"our_file\",\n",
        "                        format=\"zip\",\n",
        "                        root_dir=copied_stuff)\n",
        "\n",
        "  return len(train_list),len(test_list),test_dir\n",
        "\n",
        "\n"
      ],
      "metadata": {
        "id": "AEB0tU9qlENw"
      },
      "execution_count": 6,
      "outputs": []
    },
    {
      "cell_type": "code",
      "source": [
        "train_set_split(data_path,0.01,list_path)"
      ],
      "metadata": {
        "colab": {
          "base_uri": "https://localhost:8080/"
        },
        "id": "e12PC8fyywcA",
        "outputId": "5138fe78-279b-4f3c-ff8a-f56784e71a1c"
      },
      "execution_count": 7,
      "outputs": [
        {
          "output_type": "stream",
          "name": "stdout",
          "text": [
            "dict_keys([PosixPath('data_set/0.01%_of_data/train'), PosixPath('data_set/0.01%_of_data/test')])\n"
          ]
        },
        {
          "output_type": "execute_result",
          "data": {
            "text/plain": [
              "(149, 17, PosixPath('data_set/0.01%_of_data/test'))"
            ]
          },
          "metadata": {},
          "execution_count": 7
        }
      ]
    },
    {
      "cell_type": "code",
      "source": [],
      "metadata": {
        "id": "iuoOWFPc2Lio"
      },
      "execution_count": 7,
      "outputs": []
    },
    {
      "cell_type": "code",
      "source": [],
      "metadata": {
        "id": "iUfItTtV0oYg"
      },
      "execution_count": 7,
      "outputs": []
    }
  ]
}