{
  "nbformat": 4,
  "nbformat_minor": 0,
  "metadata": {
    "colab": {
      "provenance": [],
      "authorship_tag": "ABX9TyMVDl5tjOSo6+YWe0PGI9AL",
      "include_colab_link": true
    },
    "kernelspec": {
      "name": "python3",
      "display_name": "Python 3"
    },
    "language_info": {
      "name": "python"
    }
  },
  "cells": [
    {
      "cell_type": "markdown",
      "metadata": {
        "id": "view-in-github",
        "colab_type": "text"
      },
      "source": [
        "<a href=\"https://colab.research.google.com/github/garylau1/model_training/blob/main/data_slplit.ipynb\" target=\"_parent\"><img src=\"https://colab.research.google.com/assets/colab-badge.svg\" alt=\"Open In Colab\"/></a>"
      ]
    },
    {
      "cell_type": "markdown",
      "source": [
        "In this workbook we would suggest a way to split the training and testing data from a folder:"
      ],
      "metadata": {
        "id": "xiVYSlwy5HYD"
      }
    },
    {
      "cell_type": "code",
      "execution_count": 1,
      "metadata": {
        "colab": {
          "base_uri": "https://localhost:8080/"
        },
        "id": "b_lWg3hpk2s_",
        "outputId": "cce06575-5391-43c8-e32a-6df11536306d"
      },
      "outputs": [
        {
          "output_type": "stream",
          "name": "stdout",
          "text": [
            "2.3.1+cu121\n"
          ]
        }
      ],
      "source": [
        "# Import torch\n",
        "import torch\n",
        "from torch import nn\n",
        "\n",
        "# Exercises require PyTorch > 1.10.0\n",
        "print(torch.__version__)\n",
        "\n",
        "# Setup device agnostic code\n",
        "device = \"cuda\" if torch.cuda.is_available() else \"cpu\"\n",
        "device\n",
        "\n",
        "import os\n",
        "\n",
        "from pathlib import Path\n",
        "import requests\n",
        "import zipfile\n",
        "\n",
        "data_path=Path(\"data_set\")"
      ]
    },
    {
      "cell_type": "code",
      "source": [
        "!git clone https://github.com/kavishsanghvi/fauna-image-classification-using-convolutional-neural-network.git\n",
        "\n"
      ],
      "metadata": {
        "colab": {
          "base_uri": "https://localhost:8080/"
        },
        "id": "74kzhCznk4sf",
        "outputId": "115c3a15-369c-4c80-dfec-491e11b59533"
      },
      "execution_count": 4,
      "outputs": [
        {
          "output_type": "stream",
          "name": "stdout",
          "text": [
            "Cloning into 'fauna-image-classification-using-convolutional-neural-network'...\n",
            "remote: Enumerating objects: 17032, done.\u001b[K\n",
            "remote: Counting objects: 100% (30/30), done.\u001b[K\n",
            "remote: Compressing objects: 100% (27/27), done.\u001b[K\n",
            "remote: Total 17032 (delta 13), reused 11 (delta 3), pack-reused 17002\u001b[K\n",
            "Receiving objects: 100% (17032/17032), 329.97 MiB | 24.89 MiB/s, done.\n",
            "Resolving deltas: 100% (15/15), done.\n",
            "Updating files: 100% (17820/17820), done.\n"
          ]
        }
      ]
    },
    {
      "cell_type": "code",
      "source": [
        "import os\n",
        "\n",
        "for i in list(os.listdir(\"/content/fauna-image-classification-using-convolutional-neural-network/data/test\")):\n",
        "  if (i[-1:-4:-1])==\"gpj\" or (i[-1:-5:-1])==\"gepj\" :\n",
        "      os.remove(str(\"/content/fauna-image-classification-using-convolutional-neural-network/data/test\")+\"/\"+i)"
      ],
      "metadata": {
        "id": "YVFYLglnngz9"
      },
      "execution_count": 5,
      "outputs": []
    },
    {
      "cell_type": "code",
      "source": [
        "data_path=Path(\"data_set\")\n",
        "\n",
        "if not data_path.is_dir():\n",
        "\n",
        "    data_path.mkdir(parents=True,exist_ok=True)\n",
        "\n",
        "\n",
        "whole_paths=Path(\"/content/fauna-image-classification-using-convolutional-neural-network/data\")\n",
        "\n"
      ],
      "metadata": {
        "id": "D1bGpxaTk6RI"
      },
      "execution_count": 6,
      "outputs": []
    },
    {
      "cell_type": "code",
      "source": [
        "list_path=list(whole_paths.glob(\"*/*/*.jpeg\"))\n",
        "import random\n",
        "list_path2=random.sample(list_path,k=20)\n",
        "list_path2"
      ],
      "metadata": {
        "colab": {
          "base_uri": "https://localhost:8080/"
        },
        "id": "BsycRpJknTz1",
        "outputId": "49fbba96-d68a-4d81-fc7d-2cd11aec4086"
      },
      "execution_count": 7,
      "outputs": [
        {
          "output_type": "execute_result",
          "data": {
            "text/plain": [
              "[PosixPath('/content/fauna-image-classification-using-convolutional-neural-network/data/train/butterflies/OIP-1k5CHCKSejY2wDB3Tx0dXQHaFq.jpeg'),\n",
              " PosixPath('/content/fauna-image-classification-using-convolutional-neural-network/data/train/squirells/OIP-Tdb0JYARtIeMroK3agFr8QHaE8.jpeg'),\n",
              " PosixPath('/content/fauna-image-classification-using-convolutional-neural-network/data/train/squirells/OIP-JlcdAynYElrwyuPq6jaT0gHaIt.jpeg'),\n",
              " PosixPath('/content/fauna-image-classification-using-convolutional-neural-network/data/validation/chickens/OIP-UQNnPXAWuePwVklLR0ye8wHaFj.jpeg'),\n",
              " PosixPath('/content/fauna-image-classification-using-convolutional-neural-network/data/train/butterflies/OIP-DoiylDBC6pX6wD-62lW_DQHaE8.jpeg'),\n",
              " PosixPath('/content/fauna-image-classification-using-convolutional-neural-network/data/train/horses/OIP-JFZaad4LzvXLIcom6-PipAHaJ4.jpeg'),\n",
              " PosixPath('/content/fauna-image-classification-using-convolutional-neural-network/data/validation/chickens/OIP-WqdAaLaKavY87N89Vhct-QAAAA.jpeg'),\n",
              " PosixPath('/content/fauna-image-classification-using-convolutional-neural-network/data/train/spiders/OIP-ESGL-AHPA3QXZj0yXzuV_gHaE8.jpeg'),\n",
              " PosixPath('/content/fauna-image-classification-using-convolutional-neural-network/data/train/elephants/OIP-IBXQe08YV1fKHib_fNzFMAHaEK.jpeg'),\n",
              " PosixPath('/content/fauna-image-classification-using-convolutional-neural-network/data/train/chickens/OIP-JZQA6VhwTnxao6LrWCvXTwHaFj.jpeg'),\n",
              " PosixPath('/content/fauna-image-classification-using-convolutional-neural-network/data/validation/spiders/OIP-sQ0utGCyJcAyqg6D0KqWxQHaLl.jpeg'),\n",
              " PosixPath('/content/fauna-image-classification-using-convolutional-neural-network/data/train/butterflies/OIP-HnssZSKncsXlfiJOgvCWQAHaFi.jpeg'),\n",
              " PosixPath('/content/fauna-image-classification-using-convolutional-neural-network/data/train/squirells/OIP-B0m3jGR-4NW2k7RzbJxJaQAAAA.jpeg'),\n",
              " PosixPath('/content/fauna-image-classification-using-convolutional-neural-network/data/test/spiders/OIP-YHiOUZCimTWatJOEG3z_2wHaGo.jpeg'),\n",
              " PosixPath('/content/fauna-image-classification-using-convolutional-neural-network/data/train/spiders/OIP-E5zolQnxkNZoglB9Da8OHAHaE7.jpeg'),\n",
              " PosixPath('/content/fauna-image-classification-using-convolutional-neural-network/data/test/butterflies/OIP-ZK6SNpltCqkBcm62YAVh8QHaIK.jpeg'),\n",
              " PosixPath('/content/fauna-image-classification-using-convolutional-neural-network/data/train/horses/OIP-NnLSg7mPxfkMfyLvGsY9owHaFj.jpeg'),\n",
              " PosixPath('/content/fauna-image-classification-using-convolutional-neural-network/data/train/spiders/OIP-lmK48OjKo6f3scOlsqJOTAHaFj.jpeg'),\n",
              " PosixPath('/content/fauna-image-classification-using-convolutional-neural-network/data/train/spiders/OIP-8MsIGi07TOL_Xw503dVRkgHaHR.jpeg'),\n",
              " PosixPath('/content/fauna-image-classification-using-convolutional-neural-network/data/train/horses/OIP-bolBAaSNACpyxXj2Ysd92wHaIX.jpeg')]"
            ]
          },
          "metadata": {},
          "execution_count": 7
        }
      ]
    },
    {
      "cell_type": "code",
      "source": [
        "def train_set_split(data_path_1,amount_1,path):\n",
        "  import pathlib\n",
        "  import random\n",
        "  import shutil\n",
        "  number_to_sample = round(amount_1 * len(path))\n",
        "  target_list=random.sample(list_path,k=number_to_sample)\n",
        "  # Setup the directories\n",
        "\n",
        "\n",
        "  Total={}\n",
        "\n",
        "  train_list=target_list[:round(0.9*len(target_list))]\n",
        "  test_list=target_list[round(0.9*len(target_list)):]\n",
        "  train_dir=data_path_1/f\"{amount_1}%_of_data\"/\"train\"\n",
        "  test_dir=data_path_1/f\"{amount_1}%_of_data\"/\"test\"\n",
        "\n",
        "  Total[train_dir]=train_list\n",
        "  Total[test_dir]=test_list\n",
        "  print (Total.keys())\n",
        "  for image_dir in Total.keys():\n",
        "    if not image_dir.is_dir():\n",
        "      image_dir.mkdir(parents=True,exist_ok=True)\n",
        "\n",
        "\n",
        "    for image_location in Total[image_dir]:\n",
        "      target_folder=image_dir/(f\"{image_location.parent.stem}\")\n",
        "      if not target_folder.is_dir():\n",
        "\n",
        "        target_folder.mkdir(parents=True,exist_ok=True)\n",
        "\n",
        "      shutil.copy2(image_location, target_folder)\n",
        "\n",
        "\n",
        "  target_dir_name = data_path_1/f\"{amount_1}%_of_zipfile\"\n",
        "\n",
        "# Make the directories\n",
        "  target_dir_name.mkdir(parents=True, exist_ok=True)\n",
        "\n",
        "  # Zip pizza_steak_sushi images\n",
        "  zip_file = data_path_1/f\"{amount_1}%_of_data\"\n",
        "  shutil.make_archive(target_dir_name,\n",
        "                        format=\"zip\",\n",
        "                        root_dir=zip_file)\n",
        "\n",
        "  return len(train_list),len(test_list),test_dir\n",
        "\n",
        "\n"
      ],
      "metadata": {
        "id": "AEB0tU9qlENw"
      },
      "execution_count": 8,
      "outputs": []
    },
    {
      "cell_type": "code",
      "source": [
        "train_set_split(data_path,0.01,list_path)"
      ],
      "metadata": {
        "colab": {
          "base_uri": "https://localhost:8080/"
        },
        "id": "e12PC8fyywcA",
        "outputId": "7d1df501-07c6-4269-9075-c2ad6b9ded66"
      },
      "execution_count": 10,
      "outputs": [
        {
          "output_type": "stream",
          "name": "stdout",
          "text": [
            "dict_keys([PosixPath('data_set/0.01%_of_data/train'), PosixPath('data_set/0.01%_of_data/test')])\n"
          ]
        },
        {
          "output_type": "execute_result",
          "data": {
            "text/plain": [
              "(149, 17, PosixPath('data_set/0.01%_of_data/test'))"
            ]
          },
          "metadata": {},
          "execution_count": 10
        }
      ]
    },
    {
      "cell_type": "code",
      "source": [],
      "metadata": {
        "id": "iuoOWFPc2Lio"
      },
      "execution_count": 9,
      "outputs": []
    },
    {
      "cell_type": "code",
      "source": [],
      "metadata": {
        "id": "iUfItTtV0oYg"
      },
      "execution_count": 9,
      "outputs": []
    }
  ]
}