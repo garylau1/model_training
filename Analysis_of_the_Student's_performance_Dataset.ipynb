{
  "cells": [
    {
      "cell_type": "markdown",
      "metadata": {
        "id": "view-in-github",
        "colab_type": "text"
      },
      "source": [
        "<a href=\"https://colab.research.google.com/github/garylau1/model_training/blob/main/Analysis_of_the_Student's_performance_Dataset.ipynb\" target=\"_parent\"><img src=\"https://colab.research.google.com/assets/colab-badge.svg\" alt=\"Open In Colab\"/></a>"
      ]
    },
    {
      "cell_type": "markdown",
      "id": "c5c764c5",
      "metadata": {
        "id": "c5c764c5"
      },
      "source": [
        "### Our purpose and the goal to the analysis :\n",
        "\n",
        "#### Analysis of the Student's performance Dataset\n",
        "\n",
        "In this Portfolio task,we analysis a dataset which is obtained in a survey of the students in a portuguese course of a secondary school.It contained some social, gender,final grade and study information about students.\n",
        "\n",
        "Our highest goal and the purpose of this task is to build a model to predict students final grades using other features.To build a simple model for analysis,we can try to make a new column called \"final result\" of our data such that all results of G3 <=11 to be 0 and all results of G3 > 11 to be 1.\n",
        "\n",
        "In this task we would use three prediction techniques(KNN model,logistic model and  multinomial Naive Bayes) to compare their performances.\n",
        "\n",
        "\n",
        "\n",
        "\n",
        "The data is from a website called Kaggle and I download the dataset as CSV file named 'student-mat.csv'.The The header of the csv file is shown below.\n",
        "\n",
        "\n",
        "| school | sex | age | address | famsize\t| Pstatus | Medu | Fedu | Mjob\t| Fjob\t| reason | guardian | traveltime | studytime | \tfailures | schoolsup | famsup | paid | activities | nursery | higher | internet | romantic | famrel | freetime | goout | Dalc | Walc | health | absences | G1 | G2 | G3 |\n",
        "\n",
        "And we have the source of our data:\n",
        "https://www.kaggle.com/datasets/uciml/student-alcohol-consumption/\n",
        "\n"
      ]
    },
    {
      "cell_type": "markdown",
      "id": "5a324e21",
      "metadata": {
        "id": "5a324e21"
      },
      "source": [
        "#### Description of Fields\n",
        "\n",
        "In this part we introduce the content of our dataset.\n",
        "\n",
        "\n",
        "Attributes for both student-mat.csv (Math course) datasets:\n",
        "\n",
        "school - student's school (binary: 'GP' - Gabriel Pereira or 'MS' - Mousinho da Silveira)\n",
        "\n",
        "sex - student's sex (binary: 'F' - female or 'M' - male)\n",
        "\n",
        "age - student's age (numeric: from 15 to 22)\n",
        "\n",
        "address - student's home address type (binary: 'U' - urban or 'R' - rural)\n",
        "\n",
        "famsize - family size (binary: 'LE3' - less or equal to 3 or 'GT3' - greater than 3)\n",
        "\n",
        "Pstatus - parent's cohabitation status (binary: 'T' - living together or 'A' - apart)\n",
        "\n",
        "Medu - mother's education (numeric: 0 - none, 1 - primary education (4th grade), 2 – 5th to 9th grade, 3 – secondary education or 4 – higher education)\n",
        "\n",
        "Fedu - father's education (numeric: 0 - none, 1 - primary education (4th grade), 2 – 5th to 9th grade, 3 – secondary education or 4 – higher education)\n",
        "\n",
        "Mjob - mother's job (nominal: 'teacher', 'health' care related, civil 'services' (e.g. administrative or police), 'at_home' or 'other')\n",
        "\n",
        "Fjob - father's job (nominal: 'teacher', 'health' care related, civil 'services' (e.g. administrative or police), 'at_home' or 'other')\n",
        "\n",
        "reason - reason to choose this school (nominal: close to 'home', school 'reputation', 'course' preference or 'other')\n",
        "\n",
        "guardian - student's guardian (nominal: 'mother', 'father' or 'other')\n",
        "\n",
        "traveltime - home to school travel time (numeric: 1 - <15 min., 2 - 15 to 30 min., 3 - 30 min. to 1 hour, or 4 - >1 hour)\n",
        "\n",
        "studytime - weekly study time (numeric: 1 - <2 hours, 2 - 2 to 5 hours, 3 - 5 to 10 hours, or 4 - >10 hours)\n",
        "\n",
        "failures - number of past class failures (numeric: n if 1<=n<3, else 4)\n",
        "\n",
        "schoolsup - extra educational support (binary: yes or no)\n",
        "\n",
        "famsup - family educational support (binary: yes or no)\n",
        "\n",
        "paid - extra paid classes within the course subject (Portuguese) (binary: yes or no)\n",
        "\n",
        "activities - extra-curricular activities (binary: yes or no)\n",
        "\n",
        "nursery - attended nursery school (binary: yes or no)\n",
        "\n",
        "higher - wants to take higher education (binary: yes or no)\n",
        "\n",
        "internet - Internet access at home (binary: yes or no)\n",
        "\n",
        "romantic - with a romantic relationship (binary: yes or no)\n",
        "\n",
        "famrel - quality of family relationships (numeric: from 1 - very bad to 5 - excellent)\n",
        "\n",
        "freetime - free time after school (numeric: from 1 - very low to 5 - very high)\n",
        "\n",
        "goout - going out with friends (numeric: from 1 - very low to 5 - very high)\n",
        "\n",
        "Dalc - workday alcohol consumption (numeric: from 1 - very low to 5 - very high)\n",
        "\n",
        "Walc - weekend alcohol consumption (numeric: from 1 - very low to 5 - very high)\n",
        "\n",
        "health - current health status (numeric: from 1 - very bad to 5 - very good)\n",
        "\n",
        "absences - number of school absences (numeric: from 0 to 93)\n",
        "\n",
        "These grades are related with the portuguese :\n",
        "\n",
        "\n",
        "G1 - first period grade (numeric: from 0 to 20)\n",
        "\n",
        "G2 - second period grade (numeric: from 0 to 20)\n",
        "\n",
        "G3 - final grade (numeric: from 0 to 20, output target)\n",
        "\n",
        "\n",
        "reference:\n",
        "https://www.kaggle.com/datasets/uciml/student-alcohol-consumption/"
      ]
    },
    {
      "cell_type": "code",
      "execution_count": null,
      "id": "c1df660a",
      "metadata": {
        "id": "c1df660a"
      },
      "outputs": [],
      "source": [
        "import pandas as pd\n",
        "import numpy as np\n",
        "import seaborn as sns\n",
        "import matplotlib.pyplot as plt\n",
        "%matplotlib inline\n",
        "from sklearn.model_selection import train_test_split\n",
        "from sklearn import linear_model\n",
        "from sklearn.metrics import r2_score\n",
        "from sklearn.linear_model import LogisticRegression\n",
        "from sklearn.metrics import confusion_matrix, accuracy_score\n",
        "from sklearn.feature_selection import RFE\n",
        "import warnings\n",
        "warnings.filterwarnings(\"ignore\")\n",
        "\n",
        "\n",
        "from sklearn.preprocessing import OrdinalEncoder\n",
        "\n",
        "import numpy as np\n",
        "import matplotlib.pyplot as plt\n",
        "from sklearn.model_selection import train_test_split\n",
        "from sklearn.datasets import make_classification\n",
        "from sklearn.neighbors import KNeighborsClassifier\n",
        "from sklearn.metrics import accuracy_score\n",
        "\n",
        "from sklearn.model_selection import cross_val_score\n",
        "from sklearn.model_selection import GridSearchCV\n",
        "\n",
        "import warnings\n",
        "warnings.filterwarnings(\"ignore\")"
      ]
    },
    {
      "cell_type": "markdown",
      "id": "a903e90a",
      "metadata": {
        "id": "a903e90a"
      },
      "source": [
        "### PART 1\n",
        "#### Explore and prepare the data.\n",
        "#### For example, remove abnormal instanaces and replace missing values."
      ]
    },
    {
      "cell_type": "code",
      "execution_count": null,
      "id": "07add1aa",
      "metadata": {
        "id": "07add1aa",
        "outputId": "a48611ea-7a90-4353-9293-474105941cae"
      },
      "outputs": [
        {
          "data": {
            "text/html": [
              "<div>\n",
              "<style scoped>\n",
              "    .dataframe tbody tr th:only-of-type {\n",
              "        vertical-align: middle;\n",
              "    }\n",
              "\n",
              "    .dataframe tbody tr th {\n",
              "        vertical-align: top;\n",
              "    }\n",
              "\n",
              "    .dataframe thead th {\n",
              "        text-align: right;\n",
              "    }\n",
              "</style>\n",
              "<table border=\"1\" class=\"dataframe\">\n",
              "  <thead>\n",
              "    <tr style=\"text-align: right;\">\n",
              "      <th></th>\n",
              "      <th>school</th>\n",
              "      <th>sex</th>\n",
              "      <th>age</th>\n",
              "      <th>address</th>\n",
              "      <th>famsize</th>\n",
              "      <th>Pstatus</th>\n",
              "      <th>Medu</th>\n",
              "      <th>Fedu</th>\n",
              "      <th>Mjob</th>\n",
              "      <th>Fjob</th>\n",
              "      <th>...</th>\n",
              "      <th>famrel</th>\n",
              "      <th>freetime</th>\n",
              "      <th>goout</th>\n",
              "      <th>Dalc</th>\n",
              "      <th>Walc</th>\n",
              "      <th>health</th>\n",
              "      <th>absences</th>\n",
              "      <th>G1</th>\n",
              "      <th>G2</th>\n",
              "      <th>G3</th>\n",
              "    </tr>\n",
              "  </thead>\n",
              "  <tbody>\n",
              "    <tr>\n",
              "      <th>0</th>\n",
              "      <td>GP</td>\n",
              "      <td>F</td>\n",
              "      <td>18</td>\n",
              "      <td>U</td>\n",
              "      <td>GT3</td>\n",
              "      <td>A</td>\n",
              "      <td>4</td>\n",
              "      <td>4</td>\n",
              "      <td>at_home</td>\n",
              "      <td>teacher</td>\n",
              "      <td>...</td>\n",
              "      <td>4</td>\n",
              "      <td>3</td>\n",
              "      <td>4</td>\n",
              "      <td>1</td>\n",
              "      <td>1</td>\n",
              "      <td>3</td>\n",
              "      <td>4</td>\n",
              "      <td>0</td>\n",
              "      <td>11</td>\n",
              "      <td>11</td>\n",
              "    </tr>\n",
              "    <tr>\n",
              "      <th>1</th>\n",
              "      <td>GP</td>\n",
              "      <td>F</td>\n",
              "      <td>17</td>\n",
              "      <td>U</td>\n",
              "      <td>GT3</td>\n",
              "      <td>T</td>\n",
              "      <td>1</td>\n",
              "      <td>1</td>\n",
              "      <td>at_home</td>\n",
              "      <td>other</td>\n",
              "      <td>...</td>\n",
              "      <td>5</td>\n",
              "      <td>3</td>\n",
              "      <td>3</td>\n",
              "      <td>1</td>\n",
              "      <td>1</td>\n",
              "      <td>3</td>\n",
              "      <td>2</td>\n",
              "      <td>9</td>\n",
              "      <td>11</td>\n",
              "      <td>11</td>\n",
              "    </tr>\n",
              "    <tr>\n",
              "      <th>2</th>\n",
              "      <td>GP</td>\n",
              "      <td>F</td>\n",
              "      <td>15</td>\n",
              "      <td>U</td>\n",
              "      <td>LE3</td>\n",
              "      <td>T</td>\n",
              "      <td>1</td>\n",
              "      <td>1</td>\n",
              "      <td>at_home</td>\n",
              "      <td>other</td>\n",
              "      <td>...</td>\n",
              "      <td>4</td>\n",
              "      <td>3</td>\n",
              "      <td>2</td>\n",
              "      <td>2</td>\n",
              "      <td>3</td>\n",
              "      <td>3</td>\n",
              "      <td>6</td>\n",
              "      <td>12</td>\n",
              "      <td>13</td>\n",
              "      <td>12</td>\n",
              "    </tr>\n",
              "    <tr>\n",
              "      <th>3</th>\n",
              "      <td>GP</td>\n",
              "      <td>F</td>\n",
              "      <td>15</td>\n",
              "      <td>U</td>\n",
              "      <td>GT3</td>\n",
              "      <td>T</td>\n",
              "      <td>4</td>\n",
              "      <td>2</td>\n",
              "      <td>health</td>\n",
              "      <td>services</td>\n",
              "      <td>...</td>\n",
              "      <td>3</td>\n",
              "      <td>2</td>\n",
              "      <td>2</td>\n",
              "      <td>1</td>\n",
              "      <td>1</td>\n",
              "      <td>5</td>\n",
              "      <td>0</td>\n",
              "      <td>14</td>\n",
              "      <td>14</td>\n",
              "      <td>14</td>\n",
              "    </tr>\n",
              "    <tr>\n",
              "      <th>4</th>\n",
              "      <td>GP</td>\n",
              "      <td>F</td>\n",
              "      <td>16</td>\n",
              "      <td>U</td>\n",
              "      <td>GT3</td>\n",
              "      <td>T</td>\n",
              "      <td>3</td>\n",
              "      <td>3</td>\n",
              "      <td>other</td>\n",
              "      <td>other</td>\n",
              "      <td>...</td>\n",
              "      <td>4</td>\n",
              "      <td>3</td>\n",
              "      <td>2</td>\n",
              "      <td>1</td>\n",
              "      <td>2</td>\n",
              "      <td>5</td>\n",
              "      <td>0</td>\n",
              "      <td>11</td>\n",
              "      <td>13</td>\n",
              "      <td>13</td>\n",
              "    </tr>\n",
              "    <tr>\n",
              "      <th>5</th>\n",
              "      <td>GP</td>\n",
              "      <td>M</td>\n",
              "      <td>16</td>\n",
              "      <td>U</td>\n",
              "      <td>LE3</td>\n",
              "      <td>T</td>\n",
              "      <td>4</td>\n",
              "      <td>3</td>\n",
              "      <td>services</td>\n",
              "      <td>other</td>\n",
              "      <td>...</td>\n",
              "      <td>5</td>\n",
              "      <td>4</td>\n",
              "      <td>2</td>\n",
              "      <td>1</td>\n",
              "      <td>2</td>\n",
              "      <td>5</td>\n",
              "      <td>6</td>\n",
              "      <td>12</td>\n",
              "      <td>12</td>\n",
              "      <td>13</td>\n",
              "    </tr>\n",
              "    <tr>\n",
              "      <th>6</th>\n",
              "      <td>GP</td>\n",
              "      <td>M</td>\n",
              "      <td>16</td>\n",
              "      <td>U</td>\n",
              "      <td>LE3</td>\n",
              "      <td>T</td>\n",
              "      <td>2</td>\n",
              "      <td>2</td>\n",
              "      <td>other</td>\n",
              "      <td>other</td>\n",
              "      <td>...</td>\n",
              "      <td>4</td>\n",
              "      <td>4</td>\n",
              "      <td>4</td>\n",
              "      <td>1</td>\n",
              "      <td>1</td>\n",
              "      <td>3</td>\n",
              "      <td>0</td>\n",
              "      <td>13</td>\n",
              "      <td>12</td>\n",
              "      <td>13</td>\n",
              "    </tr>\n",
              "    <tr>\n",
              "      <th>7</th>\n",
              "      <td>GP</td>\n",
              "      <td>F</td>\n",
              "      <td>17</td>\n",
              "      <td>U</td>\n",
              "      <td>GT3</td>\n",
              "      <td>A</td>\n",
              "      <td>4</td>\n",
              "      <td>4</td>\n",
              "      <td>other</td>\n",
              "      <td>teacher</td>\n",
              "      <td>...</td>\n",
              "      <td>4</td>\n",
              "      <td>1</td>\n",
              "      <td>4</td>\n",
              "      <td>1</td>\n",
              "      <td>1</td>\n",
              "      <td>1</td>\n",
              "      <td>2</td>\n",
              "      <td>10</td>\n",
              "      <td>13</td>\n",
              "      <td>13</td>\n",
              "    </tr>\n",
              "    <tr>\n",
              "      <th>8</th>\n",
              "      <td>GP</td>\n",
              "      <td>M</td>\n",
              "      <td>15</td>\n",
              "      <td>U</td>\n",
              "      <td>LE3</td>\n",
              "      <td>A</td>\n",
              "      <td>3</td>\n",
              "      <td>2</td>\n",
              "      <td>services</td>\n",
              "      <td>other</td>\n",
              "      <td>...</td>\n",
              "      <td>4</td>\n",
              "      <td>2</td>\n",
              "      <td>2</td>\n",
              "      <td>1</td>\n",
              "      <td>1</td>\n",
              "      <td>1</td>\n",
              "      <td>0</td>\n",
              "      <td>15</td>\n",
              "      <td>16</td>\n",
              "      <td>17</td>\n",
              "    </tr>\n",
              "    <tr>\n",
              "      <th>9</th>\n",
              "      <td>GP</td>\n",
              "      <td>M</td>\n",
              "      <td>15</td>\n",
              "      <td>U</td>\n",
              "      <td>GT3</td>\n",
              "      <td>T</td>\n",
              "      <td>3</td>\n",
              "      <td>4</td>\n",
              "      <td>other</td>\n",
              "      <td>other</td>\n",
              "      <td>...</td>\n",
              "      <td>5</td>\n",
              "      <td>5</td>\n",
              "      <td>1</td>\n",
              "      <td>1</td>\n",
              "      <td>1</td>\n",
              "      <td>5</td>\n",
              "      <td>0</td>\n",
              "      <td>12</td>\n",
              "      <td>12</td>\n",
              "      <td>13</td>\n",
              "    </tr>\n",
              "  </tbody>\n",
              "</table>\n",
              "<p>10 rows × 33 columns</p>\n",
              "</div>"
            ],
            "text/plain": [
              "  school sex  age address famsize Pstatus  Medu  Fedu      Mjob      Fjob  \\\n",
              "0     GP   F   18       U     GT3       A     4     4   at_home   teacher   \n",
              "1     GP   F   17       U     GT3       T     1     1   at_home     other   \n",
              "2     GP   F   15       U     LE3       T     1     1   at_home     other   \n",
              "3     GP   F   15       U     GT3       T     4     2    health  services   \n",
              "4     GP   F   16       U     GT3       T     3     3     other     other   \n",
              "5     GP   M   16       U     LE3       T     4     3  services     other   \n",
              "6     GP   M   16       U     LE3       T     2     2     other     other   \n",
              "7     GP   F   17       U     GT3       A     4     4     other   teacher   \n",
              "8     GP   M   15       U     LE3       A     3     2  services     other   \n",
              "9     GP   M   15       U     GT3       T     3     4     other     other   \n",
              "\n",
              "   ... famrel freetime  goout  Dalc  Walc health absences  G1  G2  G3  \n",
              "0  ...      4        3      4     1     1      3        4   0  11  11  \n",
              "1  ...      5        3      3     1     1      3        2   9  11  11  \n",
              "2  ...      4        3      2     2     3      3        6  12  13  12  \n",
              "3  ...      3        2      2     1     1      5        0  14  14  14  \n",
              "4  ...      4        3      2     1     2      5        0  11  13  13  \n",
              "5  ...      5        4      2     1     2      5        6  12  12  13  \n",
              "6  ...      4        4      4     1     1      3        0  13  12  13  \n",
              "7  ...      4        1      4     1     1      1        2  10  13  13  \n",
              "8  ...      4        2      2     1     1      1        0  15  16  17  \n",
              "9  ...      5        5      1     1     1      5        0  12  12  13  \n",
              "\n",
              "[10 rows x 33 columns]"
            ]
          },
          "execution_count": 2,
          "metadata": {},
          "output_type": "execute_result"
        }
      ],
      "source": [
        "#display the data\n",
        "ourdata=pd.read_csv('student-por.csv')\n",
        "ourdata.head(10)"
      ]
    },
    {
      "cell_type": "code",
      "execution_count": null,
      "id": "ea8780f5",
      "metadata": {
        "id": "ea8780f5",
        "outputId": "4e320ffb-2c46-4681-c77e-52885640f805"
      },
      "outputs": [
        {
          "data": {
            "text/html": [
              "<div>\n",
              "<style scoped>\n",
              "    .dataframe tbody tr th:only-of-type {\n",
              "        vertical-align: middle;\n",
              "    }\n",
              "\n",
              "    .dataframe tbody tr th {\n",
              "        vertical-align: top;\n",
              "    }\n",
              "\n",
              "    .dataframe thead th {\n",
              "        text-align: right;\n",
              "    }\n",
              "</style>\n",
              "<table border=\"1\" class=\"dataframe\">\n",
              "  <thead>\n",
              "    <tr style=\"text-align: right;\">\n",
              "      <th></th>\n",
              "      <th>age</th>\n",
              "      <th>Medu</th>\n",
              "      <th>Fedu</th>\n",
              "      <th>traveltime</th>\n",
              "      <th>studytime</th>\n",
              "      <th>failures</th>\n",
              "      <th>famrel</th>\n",
              "      <th>freetime</th>\n",
              "      <th>goout</th>\n",
              "      <th>Dalc</th>\n",
              "      <th>Walc</th>\n",
              "      <th>health</th>\n",
              "      <th>absences</th>\n",
              "      <th>G1</th>\n",
              "      <th>G2</th>\n",
              "      <th>G3</th>\n",
              "    </tr>\n",
              "  </thead>\n",
              "  <tbody>\n",
              "    <tr>\n",
              "      <th>count</th>\n",
              "      <td>649.000000</td>\n",
              "      <td>649.000000</td>\n",
              "      <td>649.000000</td>\n",
              "      <td>649.000000</td>\n",
              "      <td>649.000000</td>\n",
              "      <td>649.000000</td>\n",
              "      <td>649.000000</td>\n",
              "      <td>649.000000</td>\n",
              "      <td>649.000000</td>\n",
              "      <td>649.000000</td>\n",
              "      <td>649.000000</td>\n",
              "      <td>649.000000</td>\n",
              "      <td>649.000000</td>\n",
              "      <td>649.000000</td>\n",
              "      <td>649.000000</td>\n",
              "      <td>649.000000</td>\n",
              "    </tr>\n",
              "    <tr>\n",
              "      <th>mean</th>\n",
              "      <td>16.744222</td>\n",
              "      <td>2.514638</td>\n",
              "      <td>2.306626</td>\n",
              "      <td>1.568567</td>\n",
              "      <td>1.930663</td>\n",
              "      <td>0.221880</td>\n",
              "      <td>3.930663</td>\n",
              "      <td>3.180277</td>\n",
              "      <td>3.184900</td>\n",
              "      <td>1.502311</td>\n",
              "      <td>2.280431</td>\n",
              "      <td>3.536210</td>\n",
              "      <td>3.659476</td>\n",
              "      <td>11.399076</td>\n",
              "      <td>11.570108</td>\n",
              "      <td>11.906009</td>\n",
              "    </tr>\n",
              "    <tr>\n",
              "      <th>std</th>\n",
              "      <td>1.218138</td>\n",
              "      <td>1.134552</td>\n",
              "      <td>1.099931</td>\n",
              "      <td>0.748660</td>\n",
              "      <td>0.829510</td>\n",
              "      <td>0.593235</td>\n",
              "      <td>0.955717</td>\n",
              "      <td>1.051093</td>\n",
              "      <td>1.175766</td>\n",
              "      <td>0.924834</td>\n",
              "      <td>1.284380</td>\n",
              "      <td>1.446259</td>\n",
              "      <td>4.640759</td>\n",
              "      <td>2.745265</td>\n",
              "      <td>2.913639</td>\n",
              "      <td>3.230656</td>\n",
              "    </tr>\n",
              "    <tr>\n",
              "      <th>min</th>\n",
              "      <td>15.000000</td>\n",
              "      <td>0.000000</td>\n",
              "      <td>0.000000</td>\n",
              "      <td>1.000000</td>\n",
              "      <td>1.000000</td>\n",
              "      <td>0.000000</td>\n",
              "      <td>1.000000</td>\n",
              "      <td>1.000000</td>\n",
              "      <td>1.000000</td>\n",
              "      <td>1.000000</td>\n",
              "      <td>1.000000</td>\n",
              "      <td>1.000000</td>\n",
              "      <td>0.000000</td>\n",
              "      <td>0.000000</td>\n",
              "      <td>0.000000</td>\n",
              "      <td>0.000000</td>\n",
              "    </tr>\n",
              "    <tr>\n",
              "      <th>25%</th>\n",
              "      <td>16.000000</td>\n",
              "      <td>2.000000</td>\n",
              "      <td>1.000000</td>\n",
              "      <td>1.000000</td>\n",
              "      <td>1.000000</td>\n",
              "      <td>0.000000</td>\n",
              "      <td>4.000000</td>\n",
              "      <td>3.000000</td>\n",
              "      <td>2.000000</td>\n",
              "      <td>1.000000</td>\n",
              "      <td>1.000000</td>\n",
              "      <td>2.000000</td>\n",
              "      <td>0.000000</td>\n",
              "      <td>10.000000</td>\n",
              "      <td>10.000000</td>\n",
              "      <td>10.000000</td>\n",
              "    </tr>\n",
              "    <tr>\n",
              "      <th>50%</th>\n",
              "      <td>17.000000</td>\n",
              "      <td>2.000000</td>\n",
              "      <td>2.000000</td>\n",
              "      <td>1.000000</td>\n",
              "      <td>2.000000</td>\n",
              "      <td>0.000000</td>\n",
              "      <td>4.000000</td>\n",
              "      <td>3.000000</td>\n",
              "      <td>3.000000</td>\n",
              "      <td>1.000000</td>\n",
              "      <td>2.000000</td>\n",
              "      <td>4.000000</td>\n",
              "      <td>2.000000</td>\n",
              "      <td>11.000000</td>\n",
              "      <td>11.000000</td>\n",
              "      <td>12.000000</td>\n",
              "    </tr>\n",
              "    <tr>\n",
              "      <th>75%</th>\n",
              "      <td>18.000000</td>\n",
              "      <td>4.000000</td>\n",
              "      <td>3.000000</td>\n",
              "      <td>2.000000</td>\n",
              "      <td>2.000000</td>\n",
              "      <td>0.000000</td>\n",
              "      <td>5.000000</td>\n",
              "      <td>4.000000</td>\n",
              "      <td>4.000000</td>\n",
              "      <td>2.000000</td>\n",
              "      <td>3.000000</td>\n",
              "      <td>5.000000</td>\n",
              "      <td>6.000000</td>\n",
              "      <td>13.000000</td>\n",
              "      <td>13.000000</td>\n",
              "      <td>14.000000</td>\n",
              "    </tr>\n",
              "    <tr>\n",
              "      <th>max</th>\n",
              "      <td>22.000000</td>\n",
              "      <td>4.000000</td>\n",
              "      <td>4.000000</td>\n",
              "      <td>4.000000</td>\n",
              "      <td>4.000000</td>\n",
              "      <td>3.000000</td>\n",
              "      <td>5.000000</td>\n",
              "      <td>5.000000</td>\n",
              "      <td>5.000000</td>\n",
              "      <td>5.000000</td>\n",
              "      <td>5.000000</td>\n",
              "      <td>5.000000</td>\n",
              "      <td>32.000000</td>\n",
              "      <td>19.000000</td>\n",
              "      <td>19.000000</td>\n",
              "      <td>19.000000</td>\n",
              "    </tr>\n",
              "  </tbody>\n",
              "</table>\n",
              "</div>"
            ],
            "text/plain": [
              "              age        Medu        Fedu  traveltime   studytime    failures  \\\n",
              "count  649.000000  649.000000  649.000000  649.000000  649.000000  649.000000   \n",
              "mean    16.744222    2.514638    2.306626    1.568567    1.930663    0.221880   \n",
              "std      1.218138    1.134552    1.099931    0.748660    0.829510    0.593235   \n",
              "min     15.000000    0.000000    0.000000    1.000000    1.000000    0.000000   \n",
              "25%     16.000000    2.000000    1.000000    1.000000    1.000000    0.000000   \n",
              "50%     17.000000    2.000000    2.000000    1.000000    2.000000    0.000000   \n",
              "75%     18.000000    4.000000    3.000000    2.000000    2.000000    0.000000   \n",
              "max     22.000000    4.000000    4.000000    4.000000    4.000000    3.000000   \n",
              "\n",
              "           famrel    freetime       goout        Dalc        Walc      health  \\\n",
              "count  649.000000  649.000000  649.000000  649.000000  649.000000  649.000000   \n",
              "mean     3.930663    3.180277    3.184900    1.502311    2.280431    3.536210   \n",
              "std      0.955717    1.051093    1.175766    0.924834    1.284380    1.446259   \n",
              "min      1.000000    1.000000    1.000000    1.000000    1.000000    1.000000   \n",
              "25%      4.000000    3.000000    2.000000    1.000000    1.000000    2.000000   \n",
              "50%      4.000000    3.000000    3.000000    1.000000    2.000000    4.000000   \n",
              "75%      5.000000    4.000000    4.000000    2.000000    3.000000    5.000000   \n",
              "max      5.000000    5.000000    5.000000    5.000000    5.000000    5.000000   \n",
              "\n",
              "         absences          G1          G2          G3  \n",
              "count  649.000000  649.000000  649.000000  649.000000  \n",
              "mean     3.659476   11.399076   11.570108   11.906009  \n",
              "std      4.640759    2.745265    2.913639    3.230656  \n",
              "min      0.000000    0.000000    0.000000    0.000000  \n",
              "25%      0.000000   10.000000   10.000000   10.000000  \n",
              "50%      2.000000   11.000000   11.000000   12.000000  \n",
              "75%      6.000000   13.000000   13.000000   14.000000  \n",
              "max     32.000000   19.000000   19.000000   19.000000  "
            ]
          },
          "execution_count": 3,
          "metadata": {},
          "output_type": "execute_result"
        }
      ],
      "source": [
        "#we can also describe the statistics of our data.\n",
        "ourdata.describe()"
      ]
    },
    {
      "cell_type": "code",
      "execution_count": null,
      "id": "82537fcd",
      "metadata": {
        "id": "82537fcd",
        "outputId": "6c860111-4695-446b-dbcd-212df346d584"
      },
      "outputs": [
        {
          "data": {
            "text/plain": [
              "age          -0.106505\n",
              "Medu          0.240151\n",
              "Fedu          0.211800\n",
              "traveltime   -0.127173\n",
              "studytime     0.249789\n",
              "failures     -0.393316\n",
              "famrel        0.063361\n",
              "freetime     -0.122705\n",
              "goout        -0.087641\n",
              "Dalc         -0.204719\n",
              "Walc         -0.176619\n",
              "health       -0.098851\n",
              "absences     -0.091379\n",
              "G1            0.826387\n",
              "G2            0.918548\n",
              "G3            1.000000\n",
              "Name: G3, dtype: float64"
            ]
          },
          "execution_count": 4,
          "metadata": {},
          "output_type": "execute_result"
        }
      ],
      "source": [
        "#we can also describe the co-relation between each features and our final grade G3.\n",
        "\n",
        "ourdata.corr().G3"
      ]
    },
    {
      "cell_type": "code",
      "execution_count": null,
      "id": "6664e1f1",
      "metadata": {
        "id": "6664e1f1",
        "outputId": "ab89c619-6e2d-4f02-d67a-a8320275bf55"
      },
      "outputs": [
        {
          "name": "stdout",
          "output_type": "stream",
          "text": [
            "<class 'pandas.core.frame.DataFrame'>\n",
            "RangeIndex: 649 entries, 0 to 648\n",
            "Data columns (total 33 columns):\n",
            " #   Column      Non-Null Count  Dtype \n",
            "---  ------      --------------  ----- \n",
            " 0   school      649 non-null    object\n",
            " 1   sex         649 non-null    object\n",
            " 2   age         649 non-null    int64 \n",
            " 3   address     649 non-null    object\n",
            " 4   famsize     649 non-null    object\n",
            " 5   Pstatus     649 non-null    object\n",
            " 6   Medu        649 non-null    int64 \n",
            " 7   Fedu        649 non-null    int64 \n",
            " 8   Mjob        649 non-null    object\n",
            " 9   Fjob        649 non-null    object\n",
            " 10  reason      649 non-null    object\n",
            " 11  guardian    649 non-null    object\n",
            " 12  traveltime  649 non-null    int64 \n",
            " 13  studytime   649 non-null    int64 \n",
            " 14  failures    649 non-null    int64 \n",
            " 15  schoolsup   649 non-null    object\n",
            " 16  famsup      649 non-null    object\n",
            " 17  paid        649 non-null    object\n",
            " 18  activities  649 non-null    object\n",
            " 19  nursery     649 non-null    object\n",
            " 20  higher      649 non-null    object\n",
            " 21  internet    649 non-null    object\n",
            " 22  romantic    649 non-null    object\n",
            " 23  famrel      649 non-null    int64 \n",
            " 24  freetime    649 non-null    int64 \n",
            " 25  goout       649 non-null    int64 \n",
            " 26  Dalc        649 non-null    int64 \n",
            " 27  Walc        649 non-null    int64 \n",
            " 28  health      649 non-null    int64 \n",
            " 29  absences    649 non-null    int64 \n",
            " 30  G1          649 non-null    int64 \n",
            " 31  G2          649 non-null    int64 \n",
            " 32  G3          649 non-null    int64 \n",
            "dtypes: int64(16), object(17)\n",
            "memory usage: 167.4+ KB\n"
          ]
        }
      ],
      "source": [
        "#from the portfolio 1 we know we can use info() to explore the data types of each column\n",
        "\n",
        "ourdata.info()\n",
        "\n",
        "#We can see that columns 2,6,7.... are intregers and columns 0,1,3,4... are not intregers"
      ]
    },
    {
      "cell_type": "code",
      "execution_count": null,
      "id": "bfe1c550",
      "metadata": {
        "id": "bfe1c550",
        "outputId": "4b766c98-b0cd-4b05-9e47-304ff085cff6"
      },
      "outputs": [
        {
          "data": {
            "text/plain": [
              "(649, 33)"
            ]
          },
          "execution_count": 6,
          "metadata": {},
          "output_type": "execute_result"
        }
      ],
      "source": [
        "#print the total shape of the data\n",
        "ourdata.shape"
      ]
    },
    {
      "cell_type": "code",
      "execution_count": null,
      "id": "2d5628c2",
      "metadata": {
        "id": "2d5628c2",
        "outputId": "a12a1b03-7b87-4b48-8b2b-9dd7ac13f78f"
      },
      "outputs": [
        {
          "name": "stdout",
          "output_type": "stream",
          "text": [
            "school        0\n",
            "sex           0\n",
            "age           0\n",
            "address       0\n",
            "famsize       0\n",
            "Pstatus       0\n",
            "Medu          0\n",
            "Fedu          0\n",
            "Mjob          0\n",
            "Fjob          0\n",
            "reason        0\n",
            "guardian      0\n",
            "traveltime    0\n",
            "studytime     0\n",
            "failures      0\n",
            "schoolsup     0\n",
            "famsup        0\n",
            "paid          0\n",
            "activities    0\n",
            "nursery       0\n",
            "higher        0\n",
            "internet      0\n",
            "romantic      0\n",
            "famrel        0\n",
            "freetime      0\n",
            "goout         0\n",
            "Dalc          0\n",
            "Walc          0\n",
            "health        0\n",
            "absences      0\n",
            "G1            0\n",
            "G2            0\n",
            "G3            0\n",
            "dtype: int64\n"
          ]
        }
      ],
      "source": [
        "#we can see there is no missing values so we dont need to remove anything.\n",
        "\n",
        "nan_count = ourdata.isna().sum()\n",
        "\n",
        "print(nan_count)"
      ]
    },
    {
      "cell_type": "markdown",
      "id": "39222186",
      "metadata": {
        "id": "39222186"
      },
      "source": [
        "#### Some extra descriptive statistics\n",
        "\n",
        "We have our dataset without missing values and we can explore futher into the data with some extra univariate analysis:\n",
        "\n",
        "for example we want to know the total unique elements of age and famsize(family size) and Fjob(father's job).\n"
      ]
    },
    {
      "cell_type": "code",
      "execution_count": null,
      "id": "ebf62f5d",
      "metadata": {
        "id": "ebf62f5d",
        "outputId": "a91a1b6d-f529-4607-c686-b2617e9c4397"
      },
      "outputs": [
        {
          "name": "stdout",
          "output_type": "stream",
          "text": [
            "the list of unique age is  [18 17 15 16 19 22 20 21]\n",
            "the list of unique family size is  ['GT3' 'LE3']\n",
            "the list of  father job is  ['teacher' 'other' 'services' 'health' 'at_home']\n"
          ]
        }
      ],
      "source": [
        "# We also can provide the data summarization as below:\n",
        "\n",
        "\n",
        "age_array = ourdata['age'].unique()\n",
        "print('the list of unique age is ', age_array)\n",
        "\n",
        "famsize_array = ourdata['famsize'].unique()\n",
        "print('the list of unique family size is ',famsize_array)\n",
        "\n",
        "\n",
        "Fjob_array = ourdata['Fjob'].unique()\n",
        "print('the list of  father job is ',Fjob_array)\n",
        "\n",
        "\n"
      ]
    },
    {
      "cell_type": "markdown",
      "id": "843df9d7",
      "metadata": {
        "id": "843df9d7"
      },
      "source": [
        "We can also group the students by genders with final grade and see the numbers between them:\n"
      ]
    },
    {
      "cell_type": "code",
      "execution_count": null,
      "id": "798a89b6",
      "metadata": {
        "id": "798a89b6",
        "outputId": "fb3322fe-7135-43b1-fd0a-0aa8b5dfb9b8"
      },
      "outputs": [
        {
          "data": {
            "text/html": [
              "<div>\n",
              "<style scoped>\n",
              "    .dataframe tbody tr th:only-of-type {\n",
              "        vertical-align: middle;\n",
              "    }\n",
              "\n",
              "    .dataframe tbody tr th {\n",
              "        vertical-align: top;\n",
              "    }\n",
              "\n",
              "    .dataframe thead th {\n",
              "        text-align: right;\n",
              "    }\n",
              "</style>\n",
              "<table border=\"1\" class=\"dataframe\">\n",
              "  <thead>\n",
              "    <tr style=\"text-align: right;\">\n",
              "      <th></th>\n",
              "      <th>sex</th>\n",
              "      <th>count</th>\n",
              "    </tr>\n",
              "  </thead>\n",
              "  <tbody>\n",
              "    <tr>\n",
              "      <th>0</th>\n",
              "      <td>F</td>\n",
              "      <td>383</td>\n",
              "    </tr>\n",
              "    <tr>\n",
              "      <th>1</th>\n",
              "      <td>M</td>\n",
              "      <td>266</td>\n",
              "    </tr>\n",
              "  </tbody>\n",
              "</table>\n",
              "</div>"
            ],
            "text/plain": [
              "  sex  count\n",
              "0   F    383\n",
              "1   M    266"
            ]
          },
          "execution_count": 9,
          "metadata": {},
          "output_type": "execute_result"
        }
      ],
      "source": [
        "gender_item_num = ourdata.groupby(['sex'])['G3'].count().reset_index(name='count')\n",
        "gender_item_num.head()"
      ]
    },
    {
      "cell_type": "markdown",
      "id": "8d0a9470",
      "metadata": {
        "id": "8d0a9470"
      },
      "source": [
        "We can also group students by their health and freetime with final grade and to see the numbers of data:"
      ]
    },
    {
      "cell_type": "code",
      "execution_count": null,
      "id": "d478bce4",
      "metadata": {
        "id": "d478bce4",
        "outputId": "695b06d5-6d99-456b-eb52-4834ec33a3e3"
      },
      "outputs": [
        {
          "data": {
            "text/html": [
              "<div>\n",
              "<style scoped>\n",
              "    .dataframe tbody tr th:only-of-type {\n",
              "        vertical-align: middle;\n",
              "    }\n",
              "\n",
              "    .dataframe tbody tr th {\n",
              "        vertical-align: top;\n",
              "    }\n",
              "\n",
              "    .dataframe thead th {\n",
              "        text-align: right;\n",
              "    }\n",
              "</style>\n",
              "<table border=\"1\" class=\"dataframe\">\n",
              "  <thead>\n",
              "    <tr style=\"text-align: right;\">\n",
              "      <th></th>\n",
              "      <th>health</th>\n",
              "      <th>freetime</th>\n",
              "      <th>count</th>\n",
              "    </tr>\n",
              "  </thead>\n",
              "  <tbody>\n",
              "    <tr>\n",
              "      <th>0</th>\n",
              "      <td>1</td>\n",
              "      <td>1</td>\n",
              "      <td>11</td>\n",
              "    </tr>\n",
              "    <tr>\n",
              "      <th>1</th>\n",
              "      <td>1</td>\n",
              "      <td>2</td>\n",
              "      <td>14</td>\n",
              "    </tr>\n",
              "    <tr>\n",
              "      <th>2</th>\n",
              "      <td>1</td>\n",
              "      <td>3</td>\n",
              "      <td>31</td>\n",
              "    </tr>\n",
              "    <tr>\n",
              "      <th>3</th>\n",
              "      <td>1</td>\n",
              "      <td>4</td>\n",
              "      <td>22</td>\n",
              "    </tr>\n",
              "    <tr>\n",
              "      <th>4</th>\n",
              "      <td>1</td>\n",
              "      <td>5</td>\n",
              "      <td>12</td>\n",
              "    </tr>\n",
              "  </tbody>\n",
              "</table>\n",
              "</div>"
            ],
            "text/plain": [
              "   health  freetime  count\n",
              "0       1         1     11\n",
              "1       1         2     14\n",
              "2       1         3     31\n",
              "3       1         4     22\n",
              "4       1         5     12"
            ]
          },
          "execution_count": 10,
          "metadata": {},
          "output_type": "execute_result"
        }
      ],
      "source": [
        "\n",
        "\n",
        "\n",
        "health_item_num = ourdata.groupby(['health',\"freetime\"])['G3'].count().reset_index(name='count')\n",
        "health_item_num.head()"
      ]
    },
    {
      "cell_type": "markdown",
      "id": "0c8710f3",
      "metadata": {
        "id": "0c8710f3"
      },
      "source": [
        "### To build a simple model,we can try to make a new column final_result to store our data in G3 such that all results of G3 less or equal to 11 to be 0 and all results of G3 greater than 11 to be 1."
      ]
    },
    {
      "cell_type": "code",
      "execution_count": null,
      "id": "2353a2d3",
      "metadata": {
        "id": "2353a2d3",
        "outputId": "ea2e0d8f-e3e3-45ef-e04d-2f0600321983"
      },
      "outputs": [
        {
          "data": {
            "text/html": [
              "<div>\n",
              "<style scoped>\n",
              "    .dataframe tbody tr th:only-of-type {\n",
              "        vertical-align: middle;\n",
              "    }\n",
              "\n",
              "    .dataframe tbody tr th {\n",
              "        vertical-align: top;\n",
              "    }\n",
              "\n",
              "    .dataframe thead th {\n",
              "        text-align: right;\n",
              "    }\n",
              "</style>\n",
              "<table border=\"1\" class=\"dataframe\">\n",
              "  <thead>\n",
              "    <tr style=\"text-align: right;\">\n",
              "      <th></th>\n",
              "      <th>school</th>\n",
              "      <th>sex</th>\n",
              "      <th>age</th>\n",
              "      <th>address</th>\n",
              "      <th>famsize</th>\n",
              "      <th>Pstatus</th>\n",
              "      <th>Medu</th>\n",
              "      <th>Fedu</th>\n",
              "      <th>Mjob</th>\n",
              "      <th>Fjob</th>\n",
              "      <th>...</th>\n",
              "      <th>freetime</th>\n",
              "      <th>goout</th>\n",
              "      <th>Dalc</th>\n",
              "      <th>Walc</th>\n",
              "      <th>health</th>\n",
              "      <th>absences</th>\n",
              "      <th>G1</th>\n",
              "      <th>G2</th>\n",
              "      <th>G3</th>\n",
              "      <th>final_result</th>\n",
              "    </tr>\n",
              "  </thead>\n",
              "  <tbody>\n",
              "    <tr>\n",
              "      <th>0</th>\n",
              "      <td>GP</td>\n",
              "      <td>F</td>\n",
              "      <td>18</td>\n",
              "      <td>U</td>\n",
              "      <td>GT3</td>\n",
              "      <td>A</td>\n",
              "      <td>4</td>\n",
              "      <td>4</td>\n",
              "      <td>at_home</td>\n",
              "      <td>teacher</td>\n",
              "      <td>...</td>\n",
              "      <td>3</td>\n",
              "      <td>4</td>\n",
              "      <td>1</td>\n",
              "      <td>1</td>\n",
              "      <td>3</td>\n",
              "      <td>4</td>\n",
              "      <td>0</td>\n",
              "      <td>11</td>\n",
              "      <td>11</td>\n",
              "      <td>0</td>\n",
              "    </tr>\n",
              "    <tr>\n",
              "      <th>1</th>\n",
              "      <td>GP</td>\n",
              "      <td>F</td>\n",
              "      <td>17</td>\n",
              "      <td>U</td>\n",
              "      <td>GT3</td>\n",
              "      <td>T</td>\n",
              "      <td>1</td>\n",
              "      <td>1</td>\n",
              "      <td>at_home</td>\n",
              "      <td>other</td>\n",
              "      <td>...</td>\n",
              "      <td>3</td>\n",
              "      <td>3</td>\n",
              "      <td>1</td>\n",
              "      <td>1</td>\n",
              "      <td>3</td>\n",
              "      <td>2</td>\n",
              "      <td>9</td>\n",
              "      <td>11</td>\n",
              "      <td>11</td>\n",
              "      <td>0</td>\n",
              "    </tr>\n",
              "    <tr>\n",
              "      <th>2</th>\n",
              "      <td>GP</td>\n",
              "      <td>F</td>\n",
              "      <td>15</td>\n",
              "      <td>U</td>\n",
              "      <td>LE3</td>\n",
              "      <td>T</td>\n",
              "      <td>1</td>\n",
              "      <td>1</td>\n",
              "      <td>at_home</td>\n",
              "      <td>other</td>\n",
              "      <td>...</td>\n",
              "      <td>3</td>\n",
              "      <td>2</td>\n",
              "      <td>2</td>\n",
              "      <td>3</td>\n",
              "      <td>3</td>\n",
              "      <td>6</td>\n",
              "      <td>12</td>\n",
              "      <td>13</td>\n",
              "      <td>12</td>\n",
              "      <td>1</td>\n",
              "    </tr>\n",
              "    <tr>\n",
              "      <th>3</th>\n",
              "      <td>GP</td>\n",
              "      <td>F</td>\n",
              "      <td>15</td>\n",
              "      <td>U</td>\n",
              "      <td>GT3</td>\n",
              "      <td>T</td>\n",
              "      <td>4</td>\n",
              "      <td>2</td>\n",
              "      <td>health</td>\n",
              "      <td>services</td>\n",
              "      <td>...</td>\n",
              "      <td>2</td>\n",
              "      <td>2</td>\n",
              "      <td>1</td>\n",
              "      <td>1</td>\n",
              "      <td>5</td>\n",
              "      <td>0</td>\n",
              "      <td>14</td>\n",
              "      <td>14</td>\n",
              "      <td>14</td>\n",
              "      <td>1</td>\n",
              "    </tr>\n",
              "    <tr>\n",
              "      <th>4</th>\n",
              "      <td>GP</td>\n",
              "      <td>F</td>\n",
              "      <td>16</td>\n",
              "      <td>U</td>\n",
              "      <td>GT3</td>\n",
              "      <td>T</td>\n",
              "      <td>3</td>\n",
              "      <td>3</td>\n",
              "      <td>other</td>\n",
              "      <td>other</td>\n",
              "      <td>...</td>\n",
              "      <td>3</td>\n",
              "      <td>2</td>\n",
              "      <td>1</td>\n",
              "      <td>2</td>\n",
              "      <td>5</td>\n",
              "      <td>0</td>\n",
              "      <td>11</td>\n",
              "      <td>13</td>\n",
              "      <td>13</td>\n",
              "      <td>1</td>\n",
              "    </tr>\n",
              "  </tbody>\n",
              "</table>\n",
              "<p>5 rows × 34 columns</p>\n",
              "</div>"
            ],
            "text/plain": [
              "  school sex  age address famsize Pstatus  Medu  Fedu     Mjob      Fjob  ...  \\\n",
              "0     GP   F   18       U     GT3       A     4     4  at_home   teacher  ...   \n",
              "1     GP   F   17       U     GT3       T     1     1  at_home     other  ...   \n",
              "2     GP   F   15       U     LE3       T     1     1  at_home     other  ...   \n",
              "3     GP   F   15       U     GT3       T     4     2   health  services  ...   \n",
              "4     GP   F   16       U     GT3       T     3     3    other     other  ...   \n",
              "\n",
              "  freetime goout  Dalc  Walc  health absences  G1  G2  G3 final_result  \n",
              "0        3     4     1     1       3        4   0  11  11            0  \n",
              "1        3     3     1     1       3        2   9  11  11            0  \n",
              "2        3     2     2     3       3        6  12  13  12            1  \n",
              "3        2     2     1     1       5        0  14  14  14            1  \n",
              "4        3     2     1     2       5        0  11  13  13            1  \n",
              "\n",
              "[5 rows x 34 columns]"
            ]
          },
          "execution_count": 11,
          "metadata": {},
          "output_type": "execute_result"
        }
      ],
      "source": [
        "##Here is our way to create a target feature called \"final_result\"\n",
        "\n",
        "ourdata=pd.read_csv('student-por.csv')\n",
        "ourdata_converted=ourdata.G3.isin([x for x in range(12,21)])\n",
        "ourdata.insert(33, \"final_result\", ourdata_converted, True)\n",
        "ourdata[\"final_result\"] = ourdata[\"final_result\"].astype(int)\n",
        "\n",
        "ourdata.head()"
      ]
    },
    {
      "cell_type": "markdown",
      "id": "38940fa2",
      "metadata": {
        "id": "38940fa2"
      },
      "source": [
        "#### We can explore some of the variable by plotting the box plot or using histrogram to find our the corelation between G3(final grade) and some of the features:\n"
      ]
    },
    {
      "cell_type": "code",
      "execution_count": null,
      "id": "4525977a",
      "metadata": {
        "id": "4525977a",
        "outputId": "b8b54ff4-af97-40e5-a852-c21d7d8d0b36"
      },
      "outputs": [
        {
          "data": {
            "image/png": "[encoded data removed]",
            "text/plain": [
              "<Figure size 640x480 with 1 Axes>"
            ]
          },
          "metadata": {},
          "output_type": "display_data"
        }
      ],
      "source": [
        "import matplotlib.pyplot as plt\n",
        "\n",
        "#use the boxplot function to plot figures for comparison for G3 VS gender\n",
        "boxplot = ourdata.boxplot(column=['G3' ], by = ['sex'])  #define the size and the propeties of the boxplot\n",
        "boxplot.plot()\n",
        "boxplot.set_xlabel('sex') #set x label\n",
        "boxplot.set_ylabel(\"'grade\") #set y label\n",
        "\n",
        "plt.title(\"Figure1:Correlation between final Grade & gender\")  #set title\n",
        "\n",
        "\n",
        "plt.show()"
      ]
    },
    {
      "cell_type": "code",
      "execution_count": null,
      "id": "15f8f73d",
      "metadata": {
        "id": "15f8f73d",
        "outputId": "856f27c5-c8f5-496a-e66a-f5a5cd011caf"
      },
      "outputs": [
        {
          "data": {
            "image/png": "[encoded data removed]",
            "text/plain": [
              "<Figure size 640x480 with 1 Axes>"
            ]
          },
          "metadata": {},
          "output_type": "display_data"
        }
      ],
      "source": [
        "import matplotlib.pyplot as plt\n",
        "\n",
        "#use the barplot function to plot figures for comparison for G3 VS studytimes\n",
        "boxplot =sns.barplot(ourdata, x='studytime', y='G3')  #define the size and the propeties of the boxplot\n",
        "boxplot.plot()\n",
        "boxplot.set_xlabel('studytime') #set x label\n",
        "boxplot.set_ylabel(\"'grade\") #set y label\n",
        "\n",
        "plt.title(\"Figure2:Correlation between G3 & studytime\")  #set title\n",
        "\n",
        "\n",
        "plt.show()"
      ]
    },
    {
      "cell_type": "code",
      "execution_count": null,
      "id": "25cb9bc6",
      "metadata": {
        "id": "25cb9bc6",
        "outputId": "bdc678fc-4e22-473e-a390-928a2a59b0a0"
      },
      "outputs": [
        {
          "data": {
            "image/png": "[encoded data removed]",
            "text/plain": [
              "<Figure size 640x480 with 1 Axes>"
            ]
          },
          "metadata": {},
          "output_type": "display_data"
        }
      ],
      "source": [
        "import matplotlib.pyplot as plt\n",
        "\n",
        "#use the barplot function to plot figures for comparison for G3 and freetime(and internet)\n",
        "\n",
        "\n",
        "boxplot=sns.barplot(ourdata, x=\"freetime\", y=\"G3\", hue=\"internet\")\n",
        "boxplot.plot()\n",
        "boxplot.set_xlabel('freetime') #set x label\n",
        "boxplot.set_ylabel(\"'grade\") #set y label\n",
        " #import the library matplotlib\n",
        "plt.title(\"Figure3:Correlation between final Grade & freetime(with internet)\")  #set title\n",
        "\n",
        "\n",
        "plt.show()"
      ]
    },
    {
      "cell_type": "markdown",
      "id": "8533c014",
      "metadata": {
        "id": "8533c014"
      },
      "source": [
        "### Comment:\n",
        "\n",
        "From the first graph we can see females performs better then males in the courses since the average G3 of girls in the boxplot is higher than boys.\n",
        "\n",
        "In the second graph,we can see that studytime also play significant effect since the averages G3 of studytime 3 and 4 are much better than 1 or 2.\n",
        "Although the G3 of studytime=4 is slightly less than G3 of studytime=3,this seems to have no significant difference(just little bit in the graph).\n",
        "\n",
        "In our third graph,it seems that the students who have internet performs better then the one with the students without internet.Because we observe that students with freetimes 2,3,4 and 5 have higher grades with internet except the students with freetime=1. We can also see the students having internet with freetime=2 seems to outperform students with other freetime in final grade (in average) and the students having internet with freetime=3 (in average) are the second-best.\n",
        "\n"
      ]
    },
    {
      "cell_type": "markdown",
      "id": "803d9ce9",
      "metadata": {
        "id": "803d9ce9"
      },
      "source": [
        "#### We can also plot the histogram with some datas to explore the outlier:"
      ]
    },
    {
      "cell_type": "code",
      "execution_count": null,
      "id": "8a8acfda",
      "metadata": {
        "id": "8a8acfda",
        "outputId": "cd2afaa7-aaf7-468b-b049-6a3acd5908c6"
      },
      "outputs": [
        {
          "data": {
            "text/plain": [
              "Text(0.5, 1.0, 'Figure 4: Our histogram of absences')"
            ]
          },
          "execution_count": 15,
          "metadata": {},
          "output_type": "execute_result"
        },
        {
          "data": {
            "image/png": "[encoded data removed]",
            "text/plain": [
              "<Figure size 640x480 with 1 Axes>"
            ]
          },
          "metadata": {},
          "output_type": "display_data"
        }
      ],
      "source": [
        "import seaborn as sns\n",
        "\n",
        "sns.histplot(data=ourdata, x='absences', bins=10)\n",
        "\n",
        "plt.title(\"Figure 4: Our histogram of absences\")"
      ]
    },
    {
      "cell_type": "code",
      "execution_count": null,
      "id": "978d1895",
      "metadata": {
        "id": "978d1895",
        "outputId": "4c893564-98df-4f4c-ccdb-08c6231212cb"
      },
      "outputs": [
        {
          "data": {
            "text/plain": [
              "Text(0.5, 1.0, 'Figure 5: Our histogram of ages of students')"
            ]
          },
          "execution_count": 16,
          "metadata": {},
          "output_type": "execute_result"
        },
        {
          "data": {
            "image/png": "[encoded data removed]",
            "text/plain": [
              "<Figure size 640x480 with 1 Axes>"
            ]
          },
          "metadata": {},
          "output_type": "display_data"
        }
      ],
      "source": [
        "import seaborn as sns\n",
        "\n",
        "sns.histplot(data=ourdata, x='age', bins=8)\n",
        "\n",
        "plt.title(\"Figure 5: Our histogram of ages of students\")"
      ]
    },
    {
      "cell_type": "markdown",
      "id": "7262a5b9",
      "metadata": {
        "id": "7262a5b9"
      },
      "source": [
        "### To remove the outliers,we can actually set up these rules to do it :\n",
        "From the prevous two graphs we can see that\n",
        "(1) A student who is absent than more than 30 days seems to be very uncommon and it is not the area of our interest,so we decide to remove these data or to seperate to analysis it.\n",
        "\n",
        "(2) A student who is 22 age or more seems to be too old to be a high school student in average (from the previous histrogram ,we can see that the number of students with age 22 or higher are very few)and we might need to collect more data to do analysis which is not our interest.Thefore,we decide to remove and seperate it.\n",
        "\n"
      ]
    },
    {
      "cell_type": "code",
      "execution_count": null,
      "id": "f17e1483",
      "metadata": {
        "id": "f17e1483",
        "outputId": "2a2365f3-da63-4783-8cd8-369f6670597b"
      },
      "outputs": [
        {
          "data": {
            "text/html": [
              "<div>\n",
              "<style scoped>\n",
              "    .dataframe tbody tr th:only-of-type {\n",
              "        vertical-align: middle;\n",
              "    }\n",
              "\n",
              "    .dataframe tbody tr th {\n",
              "        vertical-align: top;\n",
              "    }\n",
              "\n",
              "    .dataframe thead th {\n",
              "        text-align: right;\n",
              "    }\n",
              "</style>\n",
              "<table border=\"1\" class=\"dataframe\">\n",
              "  <thead>\n",
              "    <tr style=\"text-align: right;\">\n",
              "      <th></th>\n",
              "      <th>school</th>\n",
              "      <th>sex</th>\n",
              "      <th>age</th>\n",
              "      <th>address</th>\n",
              "      <th>famsize</th>\n",
              "      <th>Pstatus</th>\n",
              "      <th>Medu</th>\n",
              "      <th>Fedu</th>\n",
              "      <th>Mjob</th>\n",
              "      <th>Fjob</th>\n",
              "      <th>...</th>\n",
              "      <th>freetime</th>\n",
              "      <th>goout</th>\n",
              "      <th>Dalc</th>\n",
              "      <th>Walc</th>\n",
              "      <th>health</th>\n",
              "      <th>absences</th>\n",
              "      <th>G1</th>\n",
              "      <th>G2</th>\n",
              "      <th>G3</th>\n",
              "      <th>final_result</th>\n",
              "    </tr>\n",
              "  </thead>\n",
              "  <tbody>\n",
              "    <tr>\n",
              "      <th>279</th>\n",
              "      <td>GP</td>\n",
              "      <td>M</td>\n",
              "      <td>22</td>\n",
              "      <td>U</td>\n",
              "      <td>GT3</td>\n",
              "      <td>T</td>\n",
              "      <td>3</td>\n",
              "      <td>1</td>\n",
              "      <td>services</td>\n",
              "      <td>services</td>\n",
              "      <td>...</td>\n",
              "      <td>4</td>\n",
              "      <td>5</td>\n",
              "      <td>5</td>\n",
              "      <td>5</td>\n",
              "      <td>1</td>\n",
              "      <td>12</td>\n",
              "      <td>7</td>\n",
              "      <td>8</td>\n",
              "      <td>5</td>\n",
              "      <td>0</td>\n",
              "    </tr>\n",
              "  </tbody>\n",
              "</table>\n",
              "<p>1 rows × 34 columns</p>\n",
              "</div>"
            ],
            "text/plain": [
              "    school sex  age address famsize Pstatus  Medu  Fedu      Mjob      Fjob  \\\n",
              "279     GP   M   22       U     GT3       T     3     1  services  services   \n",
              "\n",
              "     ... freetime goout  Dalc  Walc  health absences G1 G2 G3 final_result  \n",
              "279  ...        4     5     5     5       1       12  7  8  5            0  \n",
              "\n",
              "[1 rows x 34 columns]"
            ]
          },
          "execution_count": 17,
          "metadata": {},
          "output_type": "execute_result"
        }
      ],
      "source": [
        "#We can also print out the data where age is equal to greater than 22.\n",
        "ourdata[ourdata.age>=22]\n"
      ]
    },
    {
      "cell_type": "code",
      "execution_count": null,
      "id": "a08846be",
      "metadata": {
        "id": "a08846be",
        "outputId": "3b36c52b-5221-42a0-905d-b3cb1efb7143"
      },
      "outputs": [
        {
          "data": {
            "text/html": [
              "<div>\n",
              "<style scoped>\n",
              "    .dataframe tbody tr th:only-of-type {\n",
              "        vertical-align: middle;\n",
              "    }\n",
              "\n",
              "    .dataframe tbody tr th {\n",
              "        vertical-align: top;\n",
              "    }\n",
              "\n",
              "    .dataframe thead th {\n",
              "        text-align: right;\n",
              "    }\n",
              "</style>\n",
              "<table border=\"1\" class=\"dataframe\">\n",
              "  <thead>\n",
              "    <tr style=\"text-align: right;\">\n",
              "      <th></th>\n",
              "      <th>school</th>\n",
              "      <th>sex</th>\n",
              "      <th>age</th>\n",
              "      <th>address</th>\n",
              "      <th>famsize</th>\n",
              "      <th>Pstatus</th>\n",
              "      <th>Medu</th>\n",
              "      <th>Fedu</th>\n",
              "      <th>Mjob</th>\n",
              "      <th>Fjob</th>\n",
              "      <th>...</th>\n",
              "      <th>freetime</th>\n",
              "      <th>goout</th>\n",
              "      <th>Dalc</th>\n",
              "      <th>Walc</th>\n",
              "      <th>health</th>\n",
              "      <th>absences</th>\n",
              "      <th>G1</th>\n",
              "      <th>G2</th>\n",
              "      <th>G3</th>\n",
              "      <th>final_result</th>\n",
              "    </tr>\n",
              "  </thead>\n",
              "  <tbody>\n",
              "    <tr>\n",
              "      <th>197</th>\n",
              "      <td>GP</td>\n",
              "      <td>F</td>\n",
              "      <td>17</td>\n",
              "      <td>U</td>\n",
              "      <td>LE3</td>\n",
              "      <td>T</td>\n",
              "      <td>3</td>\n",
              "      <td>3</td>\n",
              "      <td>other</td>\n",
              "      <td>other</td>\n",
              "      <td>...</td>\n",
              "      <td>3</td>\n",
              "      <td>3</td>\n",
              "      <td>2</td>\n",
              "      <td>3</td>\n",
              "      <td>1</td>\n",
              "      <td>32</td>\n",
              "      <td>14</td>\n",
              "      <td>13</td>\n",
              "      <td>14</td>\n",
              "      <td>1</td>\n",
              "    </tr>\n",
              "  </tbody>\n",
              "</table>\n",
              "<p>1 rows × 34 columns</p>\n",
              "</div>"
            ],
            "text/plain": [
              "    school sex  age address famsize Pstatus  Medu  Fedu   Mjob   Fjob  ...  \\\n",
              "197     GP   F   17       U     LE3       T     3     3  other  other  ...   \n",
              "\n",
              "    freetime goout  Dalc  Walc  health absences  G1  G2  G3 final_result  \n",
              "197        3     3     2     3       1       32  14  13  14            1  \n",
              "\n",
              "[1 rows x 34 columns]"
            ]
          },
          "execution_count": 18,
          "metadata": {},
          "output_type": "execute_result"
        }
      ],
      "source": [
        "#We can also print out the data where absenses are greater than 30 days\n",
        "\n",
        "ourdata[ourdata.absences>30]"
      ]
    },
    {
      "cell_type": "markdown",
      "id": "59d4294f",
      "metadata": {
        "id": "59d4294f"
      },
      "source": [
        "### Now,we can remove outliers and  add a column final_result as we describe before:"
      ]
    },
    {
      "cell_type": "code",
      "execution_count": null,
      "id": "4b8401b7",
      "metadata": {
        "id": "4b8401b7",
        "outputId": "6457fef0-20c3-4e71-b9ee-2883b3e43d31"
      },
      "outputs": [
        {
          "data": {
            "text/html": [
              "<div>\n",
              "<style scoped>\n",
              "    .dataframe tbody tr th:only-of-type {\n",
              "        vertical-align: middle;\n",
              "    }\n",
              "\n",
              "    .dataframe tbody tr th {\n",
              "        vertical-align: top;\n",
              "    }\n",
              "\n",
              "    .dataframe thead th {\n",
              "        text-align: right;\n",
              "    }\n",
              "</style>\n",
              "<table border=\"1\" class=\"dataframe\">\n",
              "  <thead>\n",
              "    <tr style=\"text-align: right;\">\n",
              "      <th></th>\n",
              "      <th>school</th>\n",
              "      <th>sex</th>\n",
              "      <th>age</th>\n",
              "      <th>address</th>\n",
              "      <th>famsize</th>\n",
              "      <th>Pstatus</th>\n",
              "      <th>Medu</th>\n",
              "      <th>Fedu</th>\n",
              "      <th>Mjob</th>\n",
              "      <th>Fjob</th>\n",
              "      <th>...</th>\n",
              "      <th>freetime</th>\n",
              "      <th>goout</th>\n",
              "      <th>Dalc</th>\n",
              "      <th>Walc</th>\n",
              "      <th>health</th>\n",
              "      <th>absences</th>\n",
              "      <th>G1</th>\n",
              "      <th>G2</th>\n",
              "      <th>G3</th>\n",
              "      <th>final_result</th>\n",
              "    </tr>\n",
              "  </thead>\n",
              "  <tbody>\n",
              "    <tr>\n",
              "      <th>0</th>\n",
              "      <td>GP</td>\n",
              "      <td>F</td>\n",
              "      <td>18</td>\n",
              "      <td>U</td>\n",
              "      <td>GT3</td>\n",
              "      <td>A</td>\n",
              "      <td>4</td>\n",
              "      <td>4</td>\n",
              "      <td>at_home</td>\n",
              "      <td>teacher</td>\n",
              "      <td>...</td>\n",
              "      <td>3</td>\n",
              "      <td>4</td>\n",
              "      <td>1</td>\n",
              "      <td>1</td>\n",
              "      <td>3</td>\n",
              "      <td>4</td>\n",
              "      <td>0</td>\n",
              "      <td>11</td>\n",
              "      <td>11</td>\n",
              "      <td>0</td>\n",
              "    </tr>\n",
              "    <tr>\n",
              "      <th>1</th>\n",
              "      <td>GP</td>\n",
              "      <td>F</td>\n",
              "      <td>17</td>\n",
              "      <td>U</td>\n",
              "      <td>GT3</td>\n",
              "      <td>T</td>\n",
              "      <td>1</td>\n",
              "      <td>1</td>\n",
              "      <td>at_home</td>\n",
              "      <td>other</td>\n",
              "      <td>...</td>\n",
              "      <td>3</td>\n",
              "      <td>3</td>\n",
              "      <td>1</td>\n",
              "      <td>1</td>\n",
              "      <td>3</td>\n",
              "      <td>2</td>\n",
              "      <td>9</td>\n",
              "      <td>11</td>\n",
              "      <td>11</td>\n",
              "      <td>0</td>\n",
              "    </tr>\n",
              "    <tr>\n",
              "      <th>2</th>\n",
              "      <td>GP</td>\n",
              "      <td>F</td>\n",
              "      <td>15</td>\n",
              "      <td>U</td>\n",
              "      <td>LE3</td>\n",
              "      <td>T</td>\n",
              "      <td>1</td>\n",
              "      <td>1</td>\n",
              "      <td>at_home</td>\n",
              "      <td>other</td>\n",
              "      <td>...</td>\n",
              "      <td>3</td>\n",
              "      <td>2</td>\n",
              "      <td>2</td>\n",
              "      <td>3</td>\n",
              "      <td>3</td>\n",
              "      <td>6</td>\n",
              "      <td>12</td>\n",
              "      <td>13</td>\n",
              "      <td>12</td>\n",
              "      <td>1</td>\n",
              "    </tr>\n",
              "    <tr>\n",
              "      <th>3</th>\n",
              "      <td>GP</td>\n",
              "      <td>F</td>\n",
              "      <td>15</td>\n",
              "      <td>U</td>\n",
              "      <td>GT3</td>\n",
              "      <td>T</td>\n",
              "      <td>4</td>\n",
              "      <td>2</td>\n",
              "      <td>health</td>\n",
              "      <td>services</td>\n",
              "      <td>...</td>\n",
              "      <td>2</td>\n",
              "      <td>2</td>\n",
              "      <td>1</td>\n",
              "      <td>1</td>\n",
              "      <td>5</td>\n",
              "      <td>0</td>\n",
              "      <td>14</td>\n",
              "      <td>14</td>\n",
              "      <td>14</td>\n",
              "      <td>1</td>\n",
              "    </tr>\n",
              "    <tr>\n",
              "      <th>4</th>\n",
              "      <td>GP</td>\n",
              "      <td>F</td>\n",
              "      <td>16</td>\n",
              "      <td>U</td>\n",
              "      <td>GT3</td>\n",
              "      <td>T</td>\n",
              "      <td>3</td>\n",
              "      <td>3</td>\n",
              "      <td>other</td>\n",
              "      <td>other</td>\n",
              "      <td>...</td>\n",
              "      <td>3</td>\n",
              "      <td>2</td>\n",
              "      <td>1</td>\n",
              "      <td>2</td>\n",
              "      <td>5</td>\n",
              "      <td>0</td>\n",
              "      <td>11</td>\n",
              "      <td>13</td>\n",
              "      <td>13</td>\n",
              "      <td>1</td>\n",
              "    </tr>\n",
              "    <tr>\n",
              "      <th>...</th>\n",
              "      <td>...</td>\n",
              "      <td>...</td>\n",
              "      <td>...</td>\n",
              "      <td>...</td>\n",
              "      <td>...</td>\n",
              "      <td>...</td>\n",
              "      <td>...</td>\n",
              "      <td>...</td>\n",
              "      <td>...</td>\n",
              "      <td>...</td>\n",
              "      <td>...</td>\n",
              "      <td>...</td>\n",
              "      <td>...</td>\n",
              "      <td>...</td>\n",
              "      <td>...</td>\n",
              "      <td>...</td>\n",
              "      <td>...</td>\n",
              "      <td>...</td>\n",
              "      <td>...</td>\n",
              "      <td>...</td>\n",
              "      <td>...</td>\n",
              "    </tr>\n",
              "    <tr>\n",
              "      <th>644</th>\n",
              "      <td>MS</td>\n",
              "      <td>F</td>\n",
              "      <td>19</td>\n",
              "      <td>R</td>\n",
              "      <td>GT3</td>\n",
              "      <td>T</td>\n",
              "      <td>2</td>\n",
              "      <td>3</td>\n",
              "      <td>services</td>\n",
              "      <td>other</td>\n",
              "      <td>...</td>\n",
              "      <td>4</td>\n",
              "      <td>2</td>\n",
              "      <td>1</td>\n",
              "      <td>2</td>\n",
              "      <td>5</td>\n",
              "      <td>4</td>\n",
              "      <td>10</td>\n",
              "      <td>11</td>\n",
              "      <td>10</td>\n",
              "      <td>0</td>\n",
              "    </tr>\n",
              "    <tr>\n",
              "      <th>645</th>\n",
              "      <td>MS</td>\n",
              "      <td>F</td>\n",
              "      <td>18</td>\n",
              "      <td>U</td>\n",
              "      <td>LE3</td>\n",
              "      <td>T</td>\n",
              "      <td>3</td>\n",
              "      <td>1</td>\n",
              "      <td>teacher</td>\n",
              "      <td>services</td>\n",
              "      <td>...</td>\n",
              "      <td>3</td>\n",
              "      <td>4</td>\n",
              "      <td>1</td>\n",
              "      <td>1</td>\n",
              "      <td>1</td>\n",
              "      <td>4</td>\n",
              "      <td>15</td>\n",
              "      <td>15</td>\n",
              "      <td>16</td>\n",
              "      <td>1</td>\n",
              "    </tr>\n",
              "    <tr>\n",
              "      <th>646</th>\n",
              "      <td>MS</td>\n",
              "      <td>F</td>\n",
              "      <td>18</td>\n",
              "      <td>U</td>\n",
              "      <td>GT3</td>\n",
              "      <td>T</td>\n",
              "      <td>1</td>\n",
              "      <td>1</td>\n",
              "      <td>other</td>\n",
              "      <td>other</td>\n",
              "      <td>...</td>\n",
              "      <td>1</td>\n",
              "      <td>1</td>\n",
              "      <td>1</td>\n",
              "      <td>1</td>\n",
              "      <td>5</td>\n",
              "      <td>6</td>\n",
              "      <td>11</td>\n",
              "      <td>12</td>\n",
              "      <td>9</td>\n",
              "      <td>0</td>\n",
              "    </tr>\n",
              "    <tr>\n",
              "      <th>647</th>\n",
              "      <td>MS</td>\n",
              "      <td>M</td>\n",
              "      <td>17</td>\n",
              "      <td>U</td>\n",
              "      <td>LE3</td>\n",
              "      <td>T</td>\n",
              "      <td>3</td>\n",
              "      <td>1</td>\n",
              "      <td>services</td>\n",
              "      <td>services</td>\n",
              "      <td>...</td>\n",
              "      <td>4</td>\n",
              "      <td>5</td>\n",
              "      <td>3</td>\n",
              "      <td>4</td>\n",
              "      <td>2</td>\n",
              "      <td>6</td>\n",
              "      <td>10</td>\n",
              "      <td>10</td>\n",
              "      <td>10</td>\n",
              "      <td>0</td>\n",
              "    </tr>\n",
              "    <tr>\n",
              "      <th>648</th>\n",
              "      <td>MS</td>\n",
              "      <td>M</td>\n",
              "      <td>18</td>\n",
              "      <td>R</td>\n",
              "      <td>LE3</td>\n",
              "      <td>T</td>\n",
              "      <td>3</td>\n",
              "      <td>2</td>\n",
              "      <td>services</td>\n",
              "      <td>other</td>\n",
              "      <td>...</td>\n",
              "      <td>4</td>\n",
              "      <td>1</td>\n",
              "      <td>3</td>\n",
              "      <td>4</td>\n",
              "      <td>5</td>\n",
              "      <td>4</td>\n",
              "      <td>10</td>\n",
              "      <td>11</td>\n",
              "      <td>11</td>\n",
              "      <td>0</td>\n",
              "    </tr>\n",
              "  </tbody>\n",
              "</table>\n",
              "<p>647 rows × 34 columns</p>\n",
              "</div>"
            ],
            "text/plain": [
              "    school sex  age address famsize Pstatus  Medu  Fedu      Mjob      Fjob  \\\n",
              "0       GP   F   18       U     GT3       A     4     4   at_home   teacher   \n",
              "1       GP   F   17       U     GT3       T     1     1   at_home     other   \n",
              "2       GP   F   15       U     LE3       T     1     1   at_home     other   \n",
              "3       GP   F   15       U     GT3       T     4     2    health  services   \n",
              "4       GP   F   16       U     GT3       T     3     3     other     other   \n",
              "..     ...  ..  ...     ...     ...     ...   ...   ...       ...       ...   \n",
              "644     MS   F   19       R     GT3       T     2     3  services     other   \n",
              "645     MS   F   18       U     LE3       T     3     1   teacher  services   \n",
              "646     MS   F   18       U     GT3       T     1     1     other     other   \n",
              "647     MS   M   17       U     LE3       T     3     1  services  services   \n",
              "648     MS   M   18       R     LE3       T     3     2  services     other   \n",
              "\n",
              "     ... freetime goout  Dalc  Walc  health absences  G1  G2  G3 final_result  \n",
              "0    ...        3     4     1     1       3        4   0  11  11            0  \n",
              "1    ...        3     3     1     1       3        2   9  11  11            0  \n",
              "2    ...        3     2     2     3       3        6  12  13  12            1  \n",
              "3    ...        2     2     1     1       5        0  14  14  14            1  \n",
              "4    ...        3     2     1     2       5        0  11  13  13            1  \n",
              "..   ...      ...   ...   ...   ...     ...      ...  ..  ..  ..          ...  \n",
              "644  ...        4     2     1     2       5        4  10  11  10            0  \n",
              "645  ...        3     4     1     1       1        4  15  15  16            1  \n",
              "646  ...        1     1     1     1       5        6  11  12   9            0  \n",
              "647  ...        4     5     3     4       2        6  10  10  10            0  \n",
              "648  ...        4     1     3     4       5        4  10  11  11            0  \n",
              "\n",
              "[647 rows x 34 columns]"
            ]
          },
          "execution_count": 19,
          "metadata": {},
          "output_type": "execute_result"
        }
      ],
      "source": [
        "\n",
        "# To set up the rule we can remove the outliers\n",
        "\n",
        "ourdata=pd.read_csv('student-por.csv')\n",
        "\n",
        "a=ourdata.G3.isin([x for x in range(12,21)])\n",
        "ourdata.insert(33, \"final_result\", a, True)\n",
        "ourdata[\"final_result\"] = ourdata[\"final_result\"].astype(int)\n",
        "\n",
        "# set all final result to be 0 if the value of G3<12,otherwise set the value to be 1.\n",
        "\n",
        "\n",
        "ourdata_new=ourdata[ourdata.age<=21]\n",
        "ourdata_new=ourdata_new[ourdata_new.absences<=30]\n",
        "\n",
        "#after removing the outlier,we store our cleaned dataframe into variable ourdata_new.\n",
        "ourdata_new"
      ]
    },
    {
      "cell_type": "markdown",
      "id": "0359daeb",
      "metadata": {
        "id": "0359daeb"
      },
      "source": [
        "#### After removing the outliers,we can print out the shape of our new dataframe:"
      ]
    },
    {
      "cell_type": "code",
      "execution_count": null,
      "id": "6ec3d829",
      "metadata": {
        "id": "6ec3d829",
        "outputId": "58180e23-aa4a-470f-fd93-16af97e7eec2"
      },
      "outputs": [
        {
          "data": {
            "text/plain": [
              "(647, 34)"
            ]
          },
          "execution_count": 20,
          "metadata": {},
          "output_type": "execute_result"
        }
      ],
      "source": [
        "ourdata_new.shape"
      ]
    },
    {
      "cell_type": "markdown",
      "id": "c4ec8cc2",
      "metadata": {
        "id": "c4ec8cc2"
      },
      "source": [
        "### After removeing the outliers,we can convert the object features into digit features by using an encoder:"
      ]
    },
    {
      "cell_type": "code",
      "execution_count": null,
      "id": "a97acc96",
      "metadata": {
        "id": "a97acc96",
        "outputId": "dc88a55d-ff23-4a4c-e0c1-b9effb8132ab"
      },
      "outputs": [
        {
          "data": {
            "text/html": [
              "<div>\n",
              "<style scoped>\n",
              "    .dataframe tbody tr th:only-of-type {\n",
              "        vertical-align: middle;\n",
              "    }\n",
              "\n",
              "    .dataframe tbody tr th {\n",
              "        vertical-align: top;\n",
              "    }\n",
              "\n",
              "    .dataframe thead th {\n",
              "        text-align: right;\n",
              "    }\n",
              "</style>\n",
              "<table border=\"1\" class=\"dataframe\">\n",
              "  <thead>\n",
              "    <tr style=\"text-align: right;\">\n",
              "      <th></th>\n",
              "      <th>sex</th>\n",
              "      <th>age</th>\n",
              "      <th>Medu</th>\n",
              "      <th>Fedu</th>\n",
              "      <th>traveltime</th>\n",
              "      <th>studytime</th>\n",
              "      <th>failures</th>\n",
              "      <th>schoolsup</th>\n",
              "      <th>famsup</th>\n",
              "      <th>paid</th>\n",
              "      <th>...</th>\n",
              "      <th>G2</th>\n",
              "      <th>final_result</th>\n",
              "      <th>address_code</th>\n",
              "      <th>famsize_code</th>\n",
              "      <th>school_code</th>\n",
              "      <th>Mjob_code</th>\n",
              "      <th>Fjob_code</th>\n",
              "      <th>reason_code</th>\n",
              "      <th>guardian_code</th>\n",
              "      <th>Pstatus_code</th>\n",
              "    </tr>\n",
              "  </thead>\n",
              "  <tbody>\n",
              "    <tr>\n",
              "      <th>0</th>\n",
              "      <td>0</td>\n",
              "      <td>18</td>\n",
              "      <td>4</td>\n",
              "      <td>4</td>\n",
              "      <td>2</td>\n",
              "      <td>2</td>\n",
              "      <td>0</td>\n",
              "      <td>1</td>\n",
              "      <td>0</td>\n",
              "      <td>0</td>\n",
              "      <td>...</td>\n",
              "      <td>11</td>\n",
              "      <td>0</td>\n",
              "      <td>1.0</td>\n",
              "      <td>0.0</td>\n",
              "      <td>0.0</td>\n",
              "      <td>0.0</td>\n",
              "      <td>4.0</td>\n",
              "      <td>0.0</td>\n",
              "      <td>1.0</td>\n",
              "      <td>0.0</td>\n",
              "    </tr>\n",
              "    <tr>\n",
              "      <th>1</th>\n",
              "      <td>0</td>\n",
              "      <td>17</td>\n",
              "      <td>1</td>\n",
              "      <td>1</td>\n",
              "      <td>1</td>\n",
              "      <td>2</td>\n",
              "      <td>0</td>\n",
              "      <td>0</td>\n",
              "      <td>1</td>\n",
              "      <td>0</td>\n",
              "      <td>...</td>\n",
              "      <td>11</td>\n",
              "      <td>0</td>\n",
              "      <td>1.0</td>\n",
              "      <td>0.0</td>\n",
              "      <td>0.0</td>\n",
              "      <td>0.0</td>\n",
              "      <td>2.0</td>\n",
              "      <td>0.0</td>\n",
              "      <td>0.0</td>\n",
              "      <td>1.0</td>\n",
              "    </tr>\n",
              "    <tr>\n",
              "      <th>2</th>\n",
              "      <td>0</td>\n",
              "      <td>15</td>\n",
              "      <td>1</td>\n",
              "      <td>1</td>\n",
              "      <td>1</td>\n",
              "      <td>2</td>\n",
              "      <td>0</td>\n",
              "      <td>1</td>\n",
              "      <td>0</td>\n",
              "      <td>0</td>\n",
              "      <td>...</td>\n",
              "      <td>13</td>\n",
              "      <td>1</td>\n",
              "      <td>1.0</td>\n",
              "      <td>1.0</td>\n",
              "      <td>0.0</td>\n",
              "      <td>0.0</td>\n",
              "      <td>2.0</td>\n",
              "      <td>2.0</td>\n",
              "      <td>1.0</td>\n",
              "      <td>1.0</td>\n",
              "    </tr>\n",
              "    <tr>\n",
              "      <th>3</th>\n",
              "      <td>0</td>\n",
              "      <td>15</td>\n",
              "      <td>4</td>\n",
              "      <td>2</td>\n",
              "      <td>1</td>\n",
              "      <td>3</td>\n",
              "      <td>0</td>\n",
              "      <td>0</td>\n",
              "      <td>1</td>\n",
              "      <td>0</td>\n",
              "      <td>...</td>\n",
              "      <td>14</td>\n",
              "      <td>1</td>\n",
              "      <td>1.0</td>\n",
              "      <td>0.0</td>\n",
              "      <td>0.0</td>\n",
              "      <td>1.0</td>\n",
              "      <td>3.0</td>\n",
              "      <td>1.0</td>\n",
              "      <td>1.0</td>\n",
              "      <td>1.0</td>\n",
              "    </tr>\n",
              "    <tr>\n",
              "      <th>4</th>\n",
              "      <td>0</td>\n",
              "      <td>16</td>\n",
              "      <td>3</td>\n",
              "      <td>3</td>\n",
              "      <td>1</td>\n",
              "      <td>2</td>\n",
              "      <td>0</td>\n",
              "      <td>0</td>\n",
              "      <td>1</td>\n",
              "      <td>0</td>\n",
              "      <td>...</td>\n",
              "      <td>13</td>\n",
              "      <td>1</td>\n",
              "      <td>1.0</td>\n",
              "      <td>0.0</td>\n",
              "      <td>0.0</td>\n",
              "      <td>2.0</td>\n",
              "      <td>2.0</td>\n",
              "      <td>1.0</td>\n",
              "      <td>0.0</td>\n",
              "      <td>1.0</td>\n",
              "    </tr>\n",
              "    <tr>\n",
              "      <th>...</th>\n",
              "      <td>...</td>\n",
              "      <td>...</td>\n",
              "      <td>...</td>\n",
              "      <td>...</td>\n",
              "      <td>...</td>\n",
              "      <td>...</td>\n",
              "      <td>...</td>\n",
              "      <td>...</td>\n",
              "      <td>...</td>\n",
              "      <td>...</td>\n",
              "      <td>...</td>\n",
              "      <td>...</td>\n",
              "      <td>...</td>\n",
              "      <td>...</td>\n",
              "      <td>...</td>\n",
              "      <td>...</td>\n",
              "      <td>...</td>\n",
              "      <td>...</td>\n",
              "      <td>...</td>\n",
              "      <td>...</td>\n",
              "      <td>...</td>\n",
              "    </tr>\n",
              "    <tr>\n",
              "      <th>644</th>\n",
              "      <td>0</td>\n",
              "      <td>19</td>\n",
              "      <td>2</td>\n",
              "      <td>3</td>\n",
              "      <td>1</td>\n",
              "      <td>3</td>\n",
              "      <td>1</td>\n",
              "      <td>0</td>\n",
              "      <td>0</td>\n",
              "      <td>0</td>\n",
              "      <td>...</td>\n",
              "      <td>11</td>\n",
              "      <td>0</td>\n",
              "      <td>0.0</td>\n",
              "      <td>0.0</td>\n",
              "      <td>1.0</td>\n",
              "      <td>3.0</td>\n",
              "      <td>2.0</td>\n",
              "      <td>0.0</td>\n",
              "      <td>1.0</td>\n",
              "      <td>1.0</td>\n",
              "    </tr>\n",
              "    <tr>\n",
              "      <th>645</th>\n",
              "      <td>0</td>\n",
              "      <td>18</td>\n",
              "      <td>3</td>\n",
              "      <td>1</td>\n",
              "      <td>1</td>\n",
              "      <td>2</td>\n",
              "      <td>0</td>\n",
              "      <td>0</td>\n",
              "      <td>1</td>\n",
              "      <td>0</td>\n",
              "      <td>...</td>\n",
              "      <td>15</td>\n",
              "      <td>1</td>\n",
              "      <td>1.0</td>\n",
              "      <td>1.0</td>\n",
              "      <td>1.0</td>\n",
              "      <td>4.0</td>\n",
              "      <td>3.0</td>\n",
              "      <td>0.0</td>\n",
              "      <td>1.0</td>\n",
              "      <td>1.0</td>\n",
              "    </tr>\n",
              "    <tr>\n",
              "      <th>646</th>\n",
              "      <td>0</td>\n",
              "      <td>18</td>\n",
              "      <td>1</td>\n",
              "      <td>1</td>\n",
              "      <td>2</td>\n",
              "      <td>2</td>\n",
              "      <td>0</td>\n",
              "      <td>0</td>\n",
              "      <td>0</td>\n",
              "      <td>0</td>\n",
              "      <td>...</td>\n",
              "      <td>12</td>\n",
              "      <td>0</td>\n",
              "      <td>1.0</td>\n",
              "      <td>0.0</td>\n",
              "      <td>1.0</td>\n",
              "      <td>2.0</td>\n",
              "      <td>2.0</td>\n",
              "      <td>0.0</td>\n",
              "      <td>1.0</td>\n",
              "      <td>1.0</td>\n",
              "    </tr>\n",
              "    <tr>\n",
              "      <th>647</th>\n",
              "      <td>1</td>\n",
              "      <td>17</td>\n",
              "      <td>3</td>\n",
              "      <td>1</td>\n",
              "      <td>2</td>\n",
              "      <td>1</td>\n",
              "      <td>0</td>\n",
              "      <td>0</td>\n",
              "      <td>0</td>\n",
              "      <td>0</td>\n",
              "      <td>...</td>\n",
              "      <td>10</td>\n",
              "      <td>0</td>\n",
              "      <td>1.0</td>\n",
              "      <td>1.0</td>\n",
              "      <td>1.0</td>\n",
              "      <td>3.0</td>\n",
              "      <td>3.0</td>\n",
              "      <td>0.0</td>\n",
              "      <td>1.0</td>\n",
              "      <td>1.0</td>\n",
              "    </tr>\n",
              "    <tr>\n",
              "      <th>648</th>\n",
              "      <td>1</td>\n",
              "      <td>18</td>\n",
              "      <td>3</td>\n",
              "      <td>2</td>\n",
              "      <td>3</td>\n",
              "      <td>1</td>\n",
              "      <td>0</td>\n",
              "      <td>0</td>\n",
              "      <td>0</td>\n",
              "      <td>0</td>\n",
              "      <td>...</td>\n",
              "      <td>11</td>\n",
              "      <td>0</td>\n",
              "      <td>0.0</td>\n",
              "      <td>1.0</td>\n",
              "      <td>1.0</td>\n",
              "      <td>3.0</td>\n",
              "      <td>2.0</td>\n",
              "      <td>0.0</td>\n",
              "      <td>1.0</td>\n",
              "      <td>1.0</td>\n",
              "    </tr>\n",
              "  </tbody>\n",
              "</table>\n",
              "<p>647 rows × 33 columns</p>\n",
              "</div>"
            ],
            "text/plain": [
              "     sex  age  Medu  Fedu  traveltime  studytime  failures  schoolsup  famsup  \\\n",
              "0      0   18     4     4           2          2         0          1       0   \n",
              "1      0   17     1     1           1          2         0          0       1   \n",
              "2      0   15     1     1           1          2         0          1       0   \n",
              "3      0   15     4     2           1          3         0          0       1   \n",
              "4      0   16     3     3           1          2         0          0       1   \n",
              "..   ...  ...   ...   ...         ...        ...       ...        ...     ...   \n",
              "644    0   19     2     3           1          3         1          0       0   \n",
              "645    0   18     3     1           1          2         0          0       1   \n",
              "646    0   18     1     1           2          2         0          0       0   \n",
              "647    1   17     3     1           2          1         0          0       0   \n",
              "648    1   18     3     2           3          1         0          0       0   \n",
              "\n",
              "     paid  ...  G2  final_result  address_code  famsize_code  school_code  \\\n",
              "0       0  ...  11             0           1.0           0.0          0.0   \n",
              "1       0  ...  11             0           1.0           0.0          0.0   \n",
              "2       0  ...  13             1           1.0           1.0          0.0   \n",
              "3       0  ...  14             1           1.0           0.0          0.0   \n",
              "4       0  ...  13             1           1.0           0.0          0.0   \n",
              "..    ...  ...  ..           ...           ...           ...          ...   \n",
              "644     0  ...  11             0           0.0           0.0          1.0   \n",
              "645     0  ...  15             1           1.0           1.0          1.0   \n",
              "646     0  ...  12             0           1.0           0.0          1.0   \n",
              "647     0  ...  10             0           1.0           1.0          1.0   \n",
              "648     0  ...  11             0           0.0           1.0          1.0   \n",
              "\n",
              "     Mjob_code  Fjob_code  reason_code  guardian_code  Pstatus_code  \n",
              "0          0.0        4.0          0.0            1.0           0.0  \n",
              "1          0.0        2.0          0.0            0.0           1.0  \n",
              "2          0.0        2.0          2.0            1.0           1.0  \n",
              "3          1.0        3.0          1.0            1.0           1.0  \n",
              "4          2.0        2.0          1.0            0.0           1.0  \n",
              "..         ...        ...          ...            ...           ...  \n",
              "644        3.0        2.0          0.0            1.0           1.0  \n",
              "645        4.0        3.0          0.0            1.0           1.0  \n",
              "646        2.0        2.0          0.0            1.0           1.0  \n",
              "647        3.0        3.0          0.0            1.0           1.0  \n",
              "648        3.0        2.0          0.0            1.0           1.0  \n",
              "\n",
              "[647 rows x 33 columns]"
            ]
          },
          "execution_count": 21,
          "metadata": {},
          "output_type": "execute_result"
        }
      ],
      "source": [
        "#Convert object features into digit features by using an encoder:\n",
        "ord_enc = OrdinalEncoder()\n",
        "\n",
        "ourdata_new[\"address_code\"] = ord_enc.fit_transform(ourdata_new[[\"address\"]])\n",
        "ourdata_new[\"famsize_code\"]=ord_enc.fit_transform(ourdata_new[[\"famsize\"]])\n",
        "ourdata_new[\"school_code\"]=ord_enc.fit_transform(ourdata_new[[\"school\"]])\n",
        "ourdata_new[\"Mjob_code\"]=ord_enc.fit_transform(ourdata_new[[\"Mjob\"]])\n",
        "ourdata_new[\"Fjob_code\"]=ord_enc.fit_transform(ourdata_new[[\"Fjob\"]])\n",
        "ourdata_new[\"reason_code\"]=ord_enc.fit_transform(ourdata_new[[\"reason\"]])\n",
        "ourdata_new[\"guardian_code\"]=ord_enc.fit_transform(ourdata_new[[\"guardian\"]])\n",
        "ourdata_new[\"Pstatus_code\"]=ord_enc.fit_transform(ourdata_new[[\"Pstatus\"]])\n",
        "\n",
        "\n",
        "ourdata_new.schoolsup.replace(('yes', 'no'), (1, 0), inplace=True)\n",
        "ourdata_new.famsup.replace(('yes', 'no'), (1, 0), inplace=True)\n",
        "ourdata_new.paid.replace(('yes', 'no'), (1, 0), inplace=True)\n",
        "ourdata_new.sex.replace(('M', 'F'), (1, 0), inplace=True)\n",
        "ourdata_new.activities.replace(('yes', 'no'), (1, 0), inplace=True)\n",
        "ourdata_new.nursery.replace(('yes', 'no'), (1, 0), inplace=True)\n",
        "ourdata_new.higher.replace(('yes', 'no'), (1, 0), inplace=True)\n",
        "ourdata_new.internet.replace(('yes', 'no'), (1, 0), inplace=True)\n",
        "ourdata_new.romantic.replace(('yes', 'no'), (1, 0), inplace=True)\n",
        "\n",
        "#next step we need to drop those category variables with object features and rename those digit features'ones\n",
        "ourdata_new=ourdata_new.drop(['address', 'famsize','school',\"Mjob\",\"Fjob\",\"reason\",\"guardian\",'Pstatus',\"G3\"],axis=1)\n",
        "\n",
        "\n",
        "ourdata_new"
      ]
    },
    {
      "cell_type": "markdown",
      "id": "3edc866c",
      "metadata": {
        "id": "3edc866c"
      },
      "source": [
        "#### We can explore further of our data by finding the relationship between differet features and rating after converting all features into numerical type:"
      ]
    },
    {
      "cell_type": "code",
      "execution_count": null,
      "id": "c395c2a4",
      "metadata": {
        "id": "c395c2a4",
        "outputId": "003883d7-0800-4988-ebe3-4e916962af9f"
      },
      "outputs": [
        {
          "data": {
            "text/plain": [
              "sex             -0.133145\n",
              "age             -0.093621\n",
              "Medu             0.261965\n",
              "Fedu             0.229151\n",
              "traveltime      -0.185915\n",
              "studytime        0.237677\n",
              "failures        -0.353884\n",
              "schoolsup       -0.055279\n",
              "famsup           0.019607\n",
              "paid            -0.011936\n",
              "activities       0.121517\n",
              "nursery          0.063306\n",
              "higher           0.318039\n",
              "internet         0.153762\n",
              "romantic        -0.045727\n",
              "famrel           0.075348\n",
              "freetime        -0.112649\n",
              "goout           -0.103673\n",
              "Dalc            -0.203767\n",
              "Walc            -0.168124\n",
              "health          -0.085604\n",
              "absences        -0.172439\n",
              "G1               0.727958\n",
              "G2               0.744014\n",
              "final_result     1.000000\n",
              "address_code     0.172789\n",
              "famsize_code    -0.002972\n",
              "school_code     -0.267900\n",
              "Mjob_code        0.215754\n",
              "Fjob_code        0.076207\n",
              "reason_code      0.126194\n",
              "guardian_code   -0.095052\n",
              "Pstatus_code    -0.000888\n",
              "Name: final_result, dtype: float64"
            ]
          },
          "execution_count": 22,
          "metadata": {},
          "output_type": "execute_result"
        }
      ],
      "source": [
        "##Let's check the corelation\n",
        "ourdata_new.corr().final_result"
      ]
    },
    {
      "cell_type": "code",
      "execution_count": null,
      "id": "bff33920",
      "metadata": {
        "id": "bff33920",
        "outputId": "f656a955-6919-4f47-de81-f5dac7fcfeaf"
      },
      "outputs": [
        {
          "data": {
            "image/png": "[encoded data removed]",
            "text/plain": [
              "<Figure size 640x480 with 2 Axes>"
            ]
          },
          "metadata": {},
          "output_type": "display_data"
        }
      ],
      "source": [
        "# We can also plot the graph:\n",
        "\n",
        "sns.heatmap(ourdata_new.corr(), cmap='Blues', annot=False)\n",
        "plt.show()"
      ]
    },
    {
      "cell_type": "markdown",
      "id": "b9efb578",
      "metadata": {
        "id": "b9efb578"
      },
      "source": [
        "#### Comment:\n",
        "From the avobe code we can see that G1 and G2 have the the two most corelated relationship { (0.744,0.728}) with the final_result.\n",
        "Also we can see that parent's cohabitation status (-0.000888) and family size (-0.002972) have the least two corelated relationship with the final_result.\n",
        " Also we can see the class failture and the higher(the students who wants to take higher education) have some corelated relationship (the asboluate values are higher than 0.31)with the final_result as well."
      ]
    },
    {
      "cell_type": "markdown",
      "id": "ddc85cc3",
      "metadata": {
        "id": "ddc85cc3"
      },
      "source": [
        "### Part(2) Logistic model:\n",
        "\n",
        "In this part we would use logistic model to compare the accuracy."
      ]
    },
    {
      "cell_type": "code",
      "execution_count": null,
      "id": "66ac9719",
      "metadata": {
        "id": "66ac9719",
        "outputId": "4fa15c5f-7e43-4df6-e936-11d5dffb667e"
      },
      "outputs": [
        {
          "name": "stdout",
          "output_type": "stream",
          "text": [
            "train.shape: (582, 33)\n",
            "test.shape: (65, 33)\n"
          ]
        }
      ],
      "source": [
        "#Split the dataset and train a logistic regression model to\n",
        "#predict 'rating' based on other features. Evaluate the accuracy of your model.\n",
        "# Split the data into training(90%) and testing data (10%).\n",
        "from sklearn.linear_model import LogisticRegression\n",
        "train, test = train_test_split(ourdata_new, test_size=0.10, random_state=143)\n",
        "print(\"train.shape:\",train.shape)\n",
        "print(\"test.shape:\",test.shape)\n",
        "\n",
        "X_train = train.drop([\"final_result\"], axis=1)\n",
        "y_train = train[\"final_result\"]\n",
        "X_test = test.drop([\"final_result\"], axis=1)\n",
        "y_test = test[\"final_result\"]\n",
        "\n",
        "\n",
        "\n",
        "#We can print out the shape of our training set and testing set as below"
      ]
    },
    {
      "cell_type": "code",
      "execution_count": null,
      "id": "9cd56eb3",
      "metadata": {
        "id": "9cd56eb3",
        "outputId": "e36acfd6-ef57-4b13-9593-e744bd6d5bba"
      },
      "outputs": [
        {
          "name": "stdout",
          "output_type": "stream",
          "text": [
            "Acc on test set using 1 features:  0.9384615384615385\n",
            "Acc on test set using 2 features:  0.9384615384615385\n",
            "Acc on test set using 3 features:  0.9384615384615385\n",
            "Acc on test set using 4 features:  0.9384615384615385\n",
            "Acc on test set using 5 features:  0.9384615384615385\n",
            "Acc on test set using 6 features:  0.9076923076923077\n",
            "Acc on test set using 7 features:  0.9076923076923077\n",
            "Acc on test set using 8 features:  0.9076923076923077\n",
            "Acc on test set using 9 features:  0.9076923076923077\n",
            "Acc on test set using 10 features:  0.9230769230769231\n",
            "Acc on test set using 11 features:  0.9230769230769231\n",
            "Acc on test set using 12 features:  0.9384615384615385\n",
            "Acc on test set using 13 features:  0.9384615384615385\n",
            "Acc on test set using 14 features:  0.9230769230769231\n",
            "Acc on test set using 15 features:  0.9230769230769231\n",
            "Acc on test set using 16 features:  0.9230769230769231\n",
            "Acc on test set using 17 features:  0.9230769230769231\n",
            "Acc on test set using 18 features:  0.9384615384615385\n",
            "Acc on test set using 19 features:  0.9384615384615385\n",
            "Acc on test set using 20 features:  0.9384615384615385\n",
            "Acc on test set using 21 features:  0.9230769230769231\n",
            "Acc on test set using 22 features:  0.9230769230769231\n",
            "Acc on test set using 23 features:  0.9230769230769231\n",
            "Acc on test set using 24 features:  0.9230769230769231\n",
            "Acc on test set using 25 features:  0.9230769230769231\n",
            "Acc on test set using 26 features:  0.9384615384615385\n",
            "Acc on test set using 27 features:  0.9384615384615385\n",
            "Acc on test set using 28 features:  0.9384615384615385\n",
            "Acc on test set using 29 features:  0.9230769230769231\n",
            "Acc on test set using 30 features:  0.9384615384615385\n",
            "Acc on test set using 31 features:  0.9384615384615385\n",
            "Acc on test set using 32 features:  0.9384615384615385\n"
          ]
        }
      ],
      "source": [
        "#Next we can use RFE object to explore the best features we can use in this model\n",
        "# creating RFE object\n",
        "\n",
        "# to increment number of features, one at each time\n",
        "acc_scores = []\n",
        "for i in range(1,33):\n",
        "    clf = LogisticRegression()\n",
        "    rfe = RFE(estimator=clf, n_features_to_select=i)\n",
        "    # training model\n",
        "    rfe.fit(X_train, y_train)\n",
        "    # predicting on test set\n",
        "    y_pred = rfe.predict(X_test)\n",
        "    acc_score = accuracy_score(y_test, y_pred)\n",
        "    # print this\n",
        "    print(\"Acc on test set using\", i, \"features: \", acc_score)\n",
        "    # append to the list\n",
        "    acc_scores.append(acc_score)"
      ]
    },
    {
      "cell_type": "markdown",
      "id": "e7505545",
      "metadata": {
        "id": "e7505545"
      },
      "source": [
        "In concludsion We can use the best 5 features to get the accuracy and the best accuracy is 0.9384615384615385.We can see the performanance has no much difference if we use all features which means those less important features might not affect the result much.\n"
      ]
    },
    {
      "cell_type": "code",
      "execution_count": null,
      "id": "ed9ba344",
      "metadata": {
        "id": "ed9ba344",
        "outputId": "10790ecb-391b-4801-913f-69b566f8df87"
      },
      "outputs": [
        {
          "name": "stdout",
          "output_type": "stream",
          "text": [
            "Column: 0, Selected True, Rank: 1.000\n",
            "Column: 1, Selected False, Rank: 3.000\n",
            "Column: 2, Selected False, Rank: 17.000\n",
            "Column: 3, Selected False, Rank: 14.000\n",
            "Column: 4, Selected False, Rank: 11.000\n",
            "Column: 5, Selected False, Rank: 8.000\n",
            "Column: 6, Selected True, Rank: 1.000\n",
            "Column: 7, Selected False, Rank: 27.000\n",
            "Column: 8, Selected False, Rank: 28.000\n",
            "Column: 9, Selected False, Rank: 15.000\n",
            "Column: 10, Selected False, Rank: 7.000\n",
            "Column: 11, Selected False, Rank: 5.000\n",
            "Column: 12, Selected False, Rank: 16.000\n",
            "Column: 13, Selected True, Rank: 1.000\n",
            "Column: 14, Selected False, Rank: 13.000\n",
            "Column: 15, Selected False, Rank: 10.000\n",
            "Column: 16, Selected False, Rank: 12.000\n",
            "Column: 17, Selected False, Rank: 25.000\n",
            "Column: 18, Selected False, Rank: 18.000\n",
            "Column: 19, Selected False, Rank: 21.000\n",
            "Column: 20, Selected False, Rank: 20.000\n",
            "Column: 21, Selected False, Rank: 22.000\n",
            "Column: 22, Selected False, Rank: 2.000\n",
            "Column: 23, Selected True, Rank: 1.000\n",
            "Column: 24, Selected False, Rank: 9.000\n",
            "Column: 25, Selected False, Rank: 4.000\n",
            "Column: 26, Selected False, Rank: 26.000\n",
            "Column: 27, Selected False, Rank: 6.000\n",
            "Column: 28, Selected False, Rank: 19.000\n",
            "Column: 29, Selected False, Rank: 23.000\n",
            "Column: 30, Selected False, Rank: 24.000\n",
            "Column: 31, Selected True, Rank: 1.000\n"
          ]
        }
      ],
      "source": [
        "# summarize all features\n",
        "#We can also store our columns with the ascending ranking orders into the dictionary columns_by_ranking\n",
        "lr_model = LogisticRegression()\n",
        "rfe = RFE(estimator=lr_model, n_features_to_select=5, step=1)\n",
        "rfe.fit(X_train, y_train)\n",
        "\n",
        "columns_by_ranking = {};\n",
        "\n",
        "for i in range(X_train.shape[1]):\n",
        "    print('Column: %d, Selected %s, Rank: %.3f' % (i, rfe.support_[i], rfe.ranking_[i]))\n",
        "    columns_by_ranking[i] = rfe.ranking_[i]\n",
        ""
      ]
    },
    {
      "cell_type": "markdown",
      "id": "33124b71",
      "metadata": {
        "id": "33124b71"
      },
      "source": [
        "## To see whether the logistic regression performing sccuessfully,we can make a base case with no-training.This means we predict all result to be 1 and we can see the performanace.\n",
        "\n"
      ]
    },
    {
      "cell_type": "code",
      "execution_count": null,
      "id": "8a48665f",
      "metadata": {
        "id": "8a48665f",
        "outputId": "b75c12cb-bbee-4801-ad2f-9512e082733d"
      },
      "outputs": [
        {
          "name": "stdout",
          "output_type": "stream",
          "text": [
            "accuracy_without_training : 0.5363214837712519\n"
          ]
        }
      ],
      "source": [
        "##print out the accuracy if we choose all rating to be 1 (without training).\n",
        "\n",
        "accuracy_without_training=len(ourdata_new[ourdata_new.final_result==1])/len(ourdata_new)\n",
        "\n",
        "print (\"accuracy_without_training :\",accuracy_without_training)"
      ]
    },
    {
      "cell_type": "markdown",
      "id": "44da400d",
      "metadata": {
        "id": "44da400d"
      },
      "source": [
        "### Comment :\n",
        "\n",
        "It seem that we get around 0.54 if we choose all rating to be 1,this implied our data of 1 and 0 are balance because the number of 1 and 0 in our final result are approxmately equal.We obtain a accuracy with 0.9384615384615385 in Logistic model which looks better than the non-training baseline result."
      ]
    },
    {
      "cell_type": "markdown",
      "id": "31652b95",
      "metadata": {
        "id": "31652b95"
      },
      "source": [
        "### We can also plot the accuracy score on test set VS No. of features:"
      ]
    },
    {
      "cell_type": "code",
      "execution_count": null,
      "id": "7177308c",
      "metadata": {
        "id": "7177308c",
        "outputId": "d7b93535-cddf-4c11-b6e0-20b7e47a9ba7"
      },
      "outputs": [
        {
          "data": {
            "text/plain": [
              "[<matplotlib.lines.Line2D at 0x17146067350>]"
            ]
          },
          "execution_count": 28,
          "metadata": {},
          "output_type": "execute_result"
        },
        {
          "data": {
            "image/png": "[encoded data removed]",
            "text/plain": [
              "<Figure size 640x480 with 1 Axes>"
            ]
          },
          "metadata": {},
          "output_type": "display_data"
        }
      ],
      "source": [
        "# Estimating accuracy score on test set using RFE by using different number of features\n",
        "estimator = LogisticRegression()\n",
        "acc_scores = []\n",
        "for i in range(1, 33):\n",
        "    selector = RFE(estimator,n_features_to_select=i)\n",
        "    selector = selector.fit(X_train, y_train)\n",
        "    supp = selector.get_support()\n",
        "\n",
        "    predicted = selector.predict(X_test)\n",
        "    acc_score = accuracy_score(y_test, predicted)\n",
        "    acc_scores.append(acc_score)\n",
        "\n",
        "best = 1\n",
        "for item in acc_scores:\n",
        "    if item < acc_scores[best - 1]:\n",
        "        best = acc_scores.index(item) + 1\n",
        "\n",
        "plt.grid()\n",
        "plt.xlabel('# No. of features')\n",
        "plt.ylabel('Accuracy score on test set')\n",
        "plt.title('Accuracy score on test set VS No. of features')\n",
        "plt.plot(range(1, 33), acc_scores, marker = 'o', color = 'lightblue', markeredgewidth = 1 ,markeredgecolor = 'lightblue', markerfacecolor = 'None')\n",
        "plt.plot(best, acc_scores[best-1], marker = 'o', markerfacecolor = 'lightblue')"
      ]
    },
    {
      "cell_type": "markdown",
      "id": "84eaf8d0",
      "metadata": {
        "id": "84eaf8d0"
      },
      "source": [
        "### Part(3) KNN model:\n",
        "\n",
        "We can use KNN model which is a techqiue we have learnt after week 7.\n",
        "\n",
        "Based on the best 5 features we obtain in the previous task,we can see if we can do it better."
      ]
    },
    {
      "cell_type": "code",
      "execution_count": null,
      "id": "bf56b9b3",
      "metadata": {
        "id": "bf56b9b3",
        "outputId": "afa5b68e-f176-4ba1-d575-2815042bed57"
      },
      "outputs": [
        {
          "data": {
            "text/plain": [
              "[0, 6, 13, 23, 31]"
            ]
          },
          "execution_count": 29,
          "metadata": {},
          "output_type": "execute_result"
        }
      ],
      "source": [
        "## We only need the best 5 features from all features and we print out the index of features:\n",
        "#We store the data into a dictionary dict we have done before and convert into list called column_by_ranking\n",
        "#and store the best five column index in the list called column_by_ranking_5_features.\n",
        "\n",
        "columns_by_ranking = sorted(columns_by_ranking.items(), key=lambda x:x[1])\n",
        "converted_columns_by_ranking = dict(columns_by_ranking)\n",
        "column_by_ranking=list(converted_columns_by_ranking.keys())\n",
        "column_by_ranking_5_features=column_by_ranking[0:5]\n",
        "our_data_select=ourdata_new.drop([\"final_result\"],axis=1)\n",
        "column_by_ranking_5_features\n"
      ]
    },
    {
      "cell_type": "code",
      "execution_count": null,
      "id": "fb012310",
      "metadata": {
        "id": "fb012310"
      },
      "outputs": [],
      "source": [
        "## Next we consider the whole data to do KNN validation\n",
        "our_data_select=ourdata_new.drop([\"final_result\"],axis=1)\n",
        "# X is out chosen dataframe of the 5 important features\n",
        "X=our_data_select.iloc[:, column_by_ranking_5_features]\n",
        "\n",
        "y=ourdata_new.final_result"
      ]
    },
    {
      "cell_type": "markdown",
      "id": "00a06de0",
      "metadata": {
        "id": "00a06de0"
      },
      "source": [
        "Next we can use hyper-parameter K in KNN with these 5 features to see the best accuracy and the best value.\n",
        "Here we use 10 cross validation to perform our task:"
      ]
    },
    {
      "cell_type": "code",
      "execution_count": null,
      "id": "05126b8c",
      "metadata": {
        "id": "05126b8c",
        "outputId": "63e2dd70-f3ce-4f17-8df5-2d942c132fb9"
      },
      "outputs": [
        {
          "name": "stdout",
          "output_type": "stream",
          "text": [
            "Best K value:  20\n",
            "The accuracy:  0.9381009615384615\n"
          ]
        }
      ],
      "source": [
        "#Tune the hyper-parameter K in KNN to see how it influences the prediction performance\n",
        "#Automatic model hyperparameter (algorithm parameter) tuning¶\n",
        "\n",
        "\n",
        "# Define search space for parameters\n",
        "parameter_grid = {'n_neighbors': range(1, 40)}\n",
        "\n",
        "# Create the machine learning model\n",
        "knn_clf = KNeighborsClassifier()\n",
        "clf = GridSearchCV(knn_clf, parameter_grid, scoring='accuracy', cv=10)\n",
        "clf.fit(X, y)\n",
        "\n",
        "# Identify the best parameter(s)\n",
        "print('Best K value: ', clf.best_params_['n_neighbors'])\n",
        "print('The accuracy: ', clf.best_score_)"
      ]
    },
    {
      "cell_type": "code",
      "execution_count": null,
      "id": "f58ede2a",
      "metadata": {
        "id": "f58ede2a",
        "outputId": "ca34adb6-e7bf-46c7-f8d9-cf8cc75f4c52"
      },
      "outputs": [
        {
          "data": {
            "image/png": "[encoded data removed]",
            "text/plain": [
              "<Figure size 640x480 with 1 Axes>"
            ]
          },
          "metadata": {},
          "output_type": "display_data"
        }
      ],
      "source": [
        "#we can also do Manual tuning as well.\n",
        "#Manual tuning with cross validation: We can plot the misclassification error versus\n",
        "\n",
        "\n",
        "from sklearn.model_selection import cross_val_score, KFold\n",
        "import matplotlib.pyplot as plt\n",
        "\n",
        "cv_scores = []\n",
        "cv_scores_std = []\n",
        "k_range = range(1, 72, 2)\n",
        "for i in k_range:\n",
        "    clf = KNeighborsClassifier(n_neighbors = i)\n",
        "    scores = cross_val_score(clf, X, y, scoring='accuracy', cv=KFold(n_splits=10, shuffle=True))\n",
        "    cv_scores.append(scores.mean())\n",
        "    cv_scores_std.append(scores.std())\n",
        "\n",
        "# Plot the relationship\n",
        "plt.errorbar(k_range, cv_scores, yerr=cv_scores_std, marker='X', label='Accuracy')\n",
        "plt.ylim([0.8, 1.1])\n",
        "plt.xlabel('$K$')\n",
        "plt.ylabel('Accuracy')\n",
        "plt.legend(loc='best')\n",
        "plt.show()"
      ]
    },
    {
      "cell_type": "markdown",
      "id": "9878a94b",
      "metadata": {
        "id": "9878a94b"
      },
      "source": [
        "####  Comment:\n",
        "\n",
        "It looks like the accuracy is around between 0.9 and 0.98 with most k values.\n",
        "It seems the accuracy less when k approches 0 because of the overfitting issures.\n",
        "\n",
        "\n",
        "\n",
        "#### Compare our KNN result with other methods:\n",
        "Comparing with the accuracy 0.9384615384615385 in logistic model,it seems we didnt get a better accuracy(0.9381009615384615) in KNN model.\n",
        "Two models seems to have no much difference in terms of accuracy."
      ]
    },
    {
      "cell_type": "markdown",
      "id": "7d9040b4",
      "metadata": {
        "id": "7d9040b4"
      },
      "source": [
        "### Part(4) multinomial Naive Bayes:\n",
        "\n",
        "We can also do multinomial Naive Bayes analysis which is very suitable for the data we have(they are not contionous type)."
      ]
    },
    {
      "cell_type": "code",
      "execution_count": null,
      "id": "f937b0c9",
      "metadata": {
        "id": "f937b0c9",
        "outputId": "531179fb-8157-402c-fdb2-7c76e8554124"
      },
      "outputs": [
        {
          "name": "stdout",
          "output_type": "stream",
          "text": [
            "(582, 33)\n",
            "(65, 33)\n",
            "Accuracy is: 0.6769\n",
            "\n"
          ]
        }
      ],
      "source": [
        "from sklearn.naive_bayes import MultinomialNB\n",
        "\n",
        "\n",
        "\n",
        "train, test = train_test_split(ourdata_new, test_size=0.10, random_state=143)\n",
        "#We use the best five features we obtain before\n",
        "\n",
        "X_train = train.iloc[:,column_by_ranking_5_features]\n",
        "y_train = train[\"final_result\"]\n",
        "X_test = test.iloc[:,column_by_ranking_5_features]\n",
        "y_test = test[\"final_result\"]\n",
        "\n",
        "print(train.shape)\n",
        "print(test.shape)\n",
        "\n",
        "clf_mnb=MultinomialNB(alpha=0)\n",
        "clf_mnb.fit(X_train,y_train)\n",
        "\n",
        "\n",
        "\n",
        "\n",
        "y_pred = clf_mnb.predict(X_test)\n",
        "accuracy = accuracy_score(y_test, y_pred)\n",
        "print('Accuracy is: %.4f\\n' % accuracy)"
      ]
    },
    {
      "cell_type": "code",
      "execution_count": null,
      "id": "c1e094cf",
      "metadata": {
        "id": "c1e094cf",
        "outputId": "79e59aa3-c1a1-4894-a390-d4c6c7b264af"
      },
      "outputs": [
        {
          "name": "stdout",
          "output_type": "stream",
          "text": [
            "Estimated probability of classess: \n",
            " [0.46391753 0.53608247]\n",
            "Estimated class-conditional probabilities for each feature: \n",
            " [[0.04088748 0.03835182 0.059271   0.78573693 0.07575277]\n",
            " [0.02065262 0.00185874 0.05349029 0.87381247 0.05018587]]\n"
          ]
        }
      ],
      "source": [
        "# Explore the learned model parameters (probabilities)\n",
        "# Note that the probabilities are in the logorithmic form. Why? The log-sum-exp trick for underflow of probability products\n",
        "print('Estimated probability of classess: \\n', np.e**clf_mnb.class_log_prior_)\n",
        "print('Estimated class-conditional probabilities for each feature: \\n', np.e**clf_mnb.feature_log_prob_)"
      ]
    },
    {
      "cell_type": "markdown",
      "id": "8e44f4a0",
      "metadata": {
        "id": "8e44f4a0"
      },
      "source": [
        "#### Comment:\n",
        "\n",
        "Our accuracy in multinomial Naive Bayes doesnt look really good compared with the KNN or logistic model but it is still better than the no-training case.\n"
      ]
    },
    {
      "cell_type": "markdown",
      "id": "2eb968d6",
      "metadata": {
        "id": "2eb968d6"
      },
      "source": [
        "#### PART(5): Comparison between Logistic model ,KNN model and Multinomial Naive Bayes :\n",
        "\n",
        "Compare the prediction accuaracy between KNN clasifier (use the optimal K) and Multinomial Naive Bayes and Logistic model.Here we use 10-cross validation to report the accuracy mean and standard deviation.\n",
        "\n",
        "\n",
        "We can determine which classifidation model is more accurate by using t-test to show if the difference is statistically significant."
      ]
    },
    {
      "cell_type": "code",
      "execution_count": null,
      "id": "85dd9882",
      "metadata": {
        "id": "85dd9882",
        "outputId": "205169c9-813b-4870-c6e0-bda9cde449d4"
      },
      "outputs": [
        {
          "name": "stdout",
          "output_type": "stream",
          "text": [
            "Multinomial Naive Bayes accuracy range: [0.6154, 0.8308]; mean: 0.7032; stf: 0.0608\n",
            "\n",
            "KNN Classifier accuracy range: [0.9062, 0.9692]; mean: 0.9381; stf: 0.0221\n",
            "\n",
            "Logistic Classifier accuracy range: [0.8615, 0.9692]; mean: 0.9289; stf: 0.0310\n",
            "\n"
          ]
        }
      ],
      "source": [
        "#Use the five best features again:\n",
        "column_by_ranking_5_features=column_by_ranking[0:5]\n",
        "our_data_select=ourdata_new.drop([\"final_result\"],axis=1)\n",
        "\n",
        "X=our_data_select.iloc[:, column_by_ranking_5_features]\n",
        "\n",
        "y=ourdata_new.final_result\n",
        "#to create our features set X and the target feature set y\n",
        "\n",
        "clf_log=LogisticRegression()\n",
        "clf_gnb=MultinomialNB()\n",
        "#Use our best k=20\n",
        "clf_knn=KNeighborsClassifier(n_neighbors=20)\n",
        "\n",
        "#print out the accuracy mean and standard deviation\n",
        "scores=cross_val_score(clf_gnb,X,y,scoring=\"accuracy\",cv=10)\n",
        "print ('Multinomial Naive Bayes accuracy range: [%.4f, %.4f]; mean: %.4f; stf: %.4f\\n'\n",
        "% (scores.min(),scores.max(),scores.mean(),scores.std()))\n",
        "scores_gnb=scores\n",
        "\n",
        "scores=cross_val_score(clf_knn,X,y,scoring=\"accuracy\",cv=10)\n",
        "print ('KNN Classifier accuracy range: [%.4f, %.4f]; mean: %.4f; stf: %.4f\\n'\n",
        "% (scores.min(),scores.max(),scores.mean(),scores.std()))\n",
        "scores_knn=scores\n",
        "\n",
        "scores=cross_val_score(clf_log,X,y,scoring=\"accuracy\",cv=10)\n",
        "print ('Logistic Classifier accuracy range: [%.4f, %.4f]; mean: %.4f; stf: %.4f\\n'\n",
        "% (scores.min(),scores.max(),scores.mean(),scores.std()))\n",
        "scores_log=scores\n",
        "\n",
        "\n",
        "\n",
        "\n"
      ]
    },
    {
      "cell_type": "code",
      "execution_count": null,
      "id": "4ef9fbe3",
      "metadata": {
        "id": "4ef9fbe3",
        "outputId": "5e3a2acf-9df2-4b3a-e1ed-6812b4ac899b"
      },
      "outputs": [
        {
          "name": "stdout",
          "output_type": "stream",
          "text": [
            "t, p: -10.8861, 0.0000\n",
            "\n"
          ]
        }
      ],
      "source": [
        "# Compare the performace between KNN model and Multinomial Naive Bayes :\n",
        "\n",
        "from scipy.stats import ttest_ind\n",
        "t,p=ttest_ind(scores_gnb,scores_knn)\n",
        "print ('t, p: %.4f, %.4f\\n'% (t,p))"
      ]
    },
    {
      "cell_type": "code",
      "execution_count": null,
      "id": "d6a56ee1",
      "metadata": {
        "id": "d6a56ee1",
        "outputId": "f551eaa7-2b5b-408c-d3af-b9c2637ac5f4"
      },
      "outputs": [
        {
          "name": "stdout",
          "output_type": "stream",
          "text": [
            "t, p: 9.9101, 0.0000\n",
            "\n"
          ]
        }
      ],
      "source": [
        "# Compare the performace between Multinomial Naive Baye model and KNN model :\n",
        "\n",
        "from scipy.stats import ttest_ind\n",
        "t,p=ttest_ind(scores_log,scores_gnb)\n",
        "print ('t, p: %.4f, %.4f\\n'% (t,p))"
      ]
    },
    {
      "cell_type": "code",
      "execution_count": null,
      "id": "66520c99",
      "metadata": {
        "id": "66520c99",
        "outputId": "3a28e6ef-9b8f-4bf4-9299-f65a2c5c21a4"
      },
      "outputs": [
        {
          "name": "stdout",
          "output_type": "stream",
          "text": [
            "t, p: 0.7276, 0.4762\n",
            "\n"
          ]
        }
      ],
      "source": [
        "# Compare the performace between KNN model and logistic model :\n",
        "\n",
        "from scipy.stats import ttest_ind\n",
        "t,p=ttest_ind(scores_knn,scores_log)\n",
        "print ('t, p: %.4f, %.4f\\n'% (t,p))"
      ]
    },
    {
      "cell_type": "markdown",
      "id": "bbe49efd",
      "metadata": {
        "id": "bbe49efd"
      },
      "source": [
        "### Comment on the t test :\n",
        "\n",
        "Using statistical test we can see there is no much difference between KNN model and logistic model since the p value is very high (>0.05).\n",
        "We can see that there is statistical difference between logistic model(or KNN model) and Multinomial Naive Bayes since the p value is less than 0.05."
      ]
    },
    {
      "cell_type": "markdown",
      "id": "da9004f6",
      "metadata": {
        "id": "da9004f6"
      },
      "source": [
        "#### We can also visulize our result of the average accuracy as analysed in part(5):"
      ]
    },
    {
      "cell_type": "code",
      "execution_count": null,
      "id": "014f130d",
      "metadata": {
        "id": "014f130d",
        "outputId": "e17c8db8-2d94-49c6-d6c1-e6a6ad9f848a"
      },
      "outputs": [
        {
          "data": {
            "image/png": "[encoded data removed]",
            "text/plain": [
              "<Figure size 640x480 with 1 Axes>"
            ]
          },
          "metadata": {},
          "output_type": "display_data"
        }
      ],
      "source": [
        "#visulize the result of accuracy:\n",
        "\n",
        "import matplotlib.pyplot as plt\n",
        "fig = plt.figure()\n",
        "ax = fig.add_axes([0,0,1,1])\n",
        "langs = [ \"Multinomial Naive Bayes Classifier\",\"KNN Classifier\",'Logistic Classifier']\n",
        "students = [0.7032,0.9381,0.9289]\n",
        "ax.bar(langs,students)\n",
        "\n",
        "\n",
        "plt.title('Accuracy VS classifier(with error bar)')\n",
        "plt.xlabel(\"Classifier\")\n",
        "plt.ylabel(\"The value of accuracy\")\n",
        "\n",
        "error_bar = [0.0608,0.0221,0.0310]\n",
        "\n",
        "plt.errorbar(langs, students, yerr=error_bar, fmt=\"o\", color=\"r\")\n",
        "\n",
        "\n",
        "plt.ylim([0.50, 1.01])\n",
        "plt.show()"
      ]
    },
    {
      "cell_type": "code",
      "execution_count": null,
      "id": "f2a08b84",
      "metadata": {
        "id": "f2a08b84"
      },
      "outputs": [],
      "source": [
        "### Comment: we can see that the accuracy between KNN and logistic model have not much difference but the\n",
        "#accuracy of KNN/Logistic model outperforms the accuracy of the Multinomial Naive Bayes"
      ]
    },
    {
      "cell_type": "markdown",
      "id": "95827c9e",
      "metadata": {
        "id": "95827c9e"
      },
      "source": [
        "### Part(6)  Dicussion and conclusion of the result:"
      ]
    },
    {
      "cell_type": "markdown",
      "id": "b9956739",
      "metadata": {
        "id": "b9956739"
      },
      "source": [
        "In part(1) we can see that G1 and G2 have the the two most corelated relationship { (0.744,0.728}) with the final_result.\n",
        "We can see that parent's cohabitation status (-0.000888) and family size (-0.002972) have the least two corelated relationship with the final_result.\n",
        "we can also see the class failture and the higher(the students who wants to take higher education) have some corelated relationship (the asboluate values are higher than 0.31)with the final_result as well.\n",
        "\n",
        "In part(2),We can see that the best five features (from RFE) to predict the final_result in our logistic model model is the sex,failures,internet,G2 and guardian.from the graph we plot in part (1) we can see girls performs better than boys in this course and we can see the students having internet performs better than the students without internet.(3)G2 is a best indicator since we can see the it has the strongest corelation between the G2 and final_result from part(1).Also faitures plays a significant roles as well.\n",
        "\n",
        "We notice that the best 5 features we obtain from the Corr.() with the final_result are different from the best 5 features we obtain from RFE,the reason might be we use different metrics here and some of the features are not sensitive to the logistic model we need.\n",
        "\n",
        "\n",
        "\n",
        "In part (2)(3)(4)(5), we can see that Three models (KNN,Multinomial Naive Bayes,Logistic) perform better than the one without training(accuracy around 0.53) which implied that both models can be used as prediction.\n",
        "\n",
        "\n",
        "\n",
        "\n",
        "Using two metrics to compare different accuracies(the accuracy of the logistic model/Multinomial Naive Bayes without cross validation by splitting into test-train set and the accuracy of the logistic model/Multinomial Naive Bayes with cross-validation with the whole databset),we can see that KNN and logistic model ourperform Multinomial Naive Bayes model because both models have a average accuracy higher than 0.9 and the best Multinomial Naive Bayes is still lower than the minimum best accuracy of the KNN/logistic model.\n",
        "\n",
        "\n",
        "Also it is hard to determine whether logistic model or KNN performs better or not and it seems there is no significance difference.For example the best value of KNN we obtain in part(3) is slightly less than the best value of the logistic model we obtain in part(2).And the average best value of KNN we obtain in part(5) is slightly higher than the best average value we obtain in part(5) by k-cross validation method.In both case we cannot see much difference.\n",
        "\n",
        "\n",
        "After we have done a t test and we see that p value is 0.4762 between KNN and logistic model.We see that the p value is too much  here,which implied they dont have much differece in the performance.\n",
        "\n",
        "However if we have done a t test between Multinomial Naive Bayes and KNN model/Logistic model,we can see that the p value is quiet small which implied there is statistical significance between these models.\n",
        "\n",
        "\n",
        "#### In conclusion,KNN model and logistic model performs really well(the best accuracy in average is greater than 0.9) and the Multinomial Naive Bayes is not very good(best accuracy around 0.7) but still better than non-training guessing.\n"
      ]
    },
    {
      "cell_type": "code",
      "execution_count": null,
      "id": "06bed550",
      "metadata": {
        "id": "06bed550"
      },
      "outputs": [],
      "source": []
    }
  ],
  "metadata": {
    "kernelspec": {
      "display_name": "Python 3 (ipykernel)",
      "language": "python",
      "name": "python3"
    },
    "language_info": {
      "codemirror_mode": {
        "name": "ipython",
        "version": 3
      },
      "file_extension": ".py",
      "mimetype": "text/x-python",
      "name": "python",
      "nbconvert_exporter": "python",
      "pygments_lexer": "ipython3",
      "version": "3.11.3"
    },
    "colab": {
      "provenance": [],
      "include_colab_link": true
    }
  },
  "nbformat": 4,
  "nbformat_minor": 5
}