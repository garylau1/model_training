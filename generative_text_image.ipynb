{
  "nbformat": 4,
  "nbformat_minor": 0,
  "metadata": {
    "colab": {
      "provenance": [],
      "gpuType": "T4",
      "authorship_tag": "ABX9TyNmxOyXMRE9zaIrhi0gsRkJ",
      "include_colab_link": true
    },
    "kernelspec": {
      "name": "python3",
      "display_name": "Python 3"
    },
    "language_info": {
      "name": "python"
    },
    "accelerator": "GPU"
  },
  "cells": [
    {
      "cell_type": "markdown",
      "metadata": {
        "id": "view-in-github",
        "colab_type": "text"
      },
      "source": [
        "<a href=\"https://colab.research.google.com/github/garylau1/model_training/blob/main/generative_text_image.ipynb\" target=\"_parent\"><img src=\"https://colab.research.google.com/assets/colab-badge.svg\" alt=\"Open In Colab\"/></a>"
      ]
    },
    {
      "cell_type": "code",
      "execution_count": 1,
      "metadata": {
        "id": "aai4nVzEOAhz"
      },
      "outputs": [],
      "source": [
        "import os\n",
        "import torch\n",
        "from torch import nn\n",
        "import urllib.request\n",
        "import tarfile\n",
        "from torch.utils.data import DataLoader,Dataset\n",
        "from torchvision import datasets, transforms\n",
        "import scipy.io\n",
        "from PIL import Image"
      ]
    },
    {
      "cell_type": "code",
      "source": [
        "image_dir=os.path.join(os.getcwd(),\"jpg\")\n",
        "data_dir=os.path.join(os.getcwd(),\"data.tgz\")"
      ],
      "metadata": {
        "id": "uVuUkoc9TnZT"
      },
      "execution_count": 2,
      "outputs": []
    },
    {
      "cell_type": "code",
      "source": [
        "import urllib.request\n",
        "urllib.request.urlretrieve(\"https://www.robots.ox.ac.uk/~vgg/data/flowers/102/102flowers.tgz\", data_dir)"
      ],
      "metadata": {
        "colab": {
          "base_uri": "https://localhost:8080/"
        },
        "id": "DOeYhbmuSJzR",
        "outputId": "f9c6a9e0-7e0e-4fa0-85da-8f7547a9d929"
      },
      "execution_count": 3,
      "outputs": [
        {
          "output_type": "execute_result",
          "data": {
            "text/plain": [
              "('/content/data.tgz', <http.client.HTTPMessage at 0x7f402ff5fa50>)"
            ]
          },
          "metadata": {},
          "execution_count": 3
        }
      ]
    },
    {
      "cell_type": "code",
      "source": [
        "urllib.request.urlretrieve(\"https://www.robots.ox.ac.uk/~vgg/data/flowers/102/imagelabels.mat\", \"imagelabels.mat\")\n"
      ],
      "metadata": {
        "colab": {
          "base_uri": "https://localhost:8080/"
        },
        "id": "5LwwUQ6b1lm6",
        "outputId": "a9381bab-f92e-4822-ef3b-c0e95707e46c"
      },
      "execution_count": 4,
      "outputs": [
        {
          "output_type": "execute_result",
          "data": {
            "text/plain": [
              "('imagelabels.mat', <http.client.HTTPMessage at 0x7f40305004d0>)"
            ]
          },
          "metadata": {},
          "execution_count": 4
        }
      ]
    },
    {
      "cell_type": "code",
      "source": [
        "with tarfile.open(\"/content/data.tgz\", \"r:gz\") as tar:\n",
        "    #tar.list()\n",
        "    tar.extractall(path=os.getcwd())\n",
        "\n",
        "transforms_=transforms.Compose([transforms.Resize((64,64)),transforms.ToTensor(),transforms.Normalize([0.5,0.5,0.5],[0.5,0.5,0.5])])\n",
        "\n",
        "transforms_"
      ],
      "metadata": {
        "id": "JYnbJndiUOyV",
        "colab": {
          "base_uri": "https://localhost:8080/"
        },
        "outputId": "216b0adf-56b6-41f6-cb30-dab17f432c07"
      },
      "execution_count": 19,
      "outputs": [
        {
          "output_type": "execute_result",
          "data": {
            "text/plain": [
              "Compose(\n",
              "    Resize(size=(64, 64), interpolation=bilinear, max_size=None, antialias=True)\n",
              "    ToTensor()\n",
              "    Normalize(mean=[0.5, 0.5, 0.5], std=[0.5, 0.5, 0.5])\n",
              ")"
            ]
          },
          "metadata": {},
          "execution_count": 19
        }
      ]
    },
    {
      "cell_type": "code",
      "source": [
        "class flower101(Dataset):\n",
        "  def __init__(self,image_dir,label_file,transform_):\n",
        "    self.image_dir=image_dir\n",
        "    self.name_list=[f for f in os.listdir(self.image_dir) if f.endswith(\".jpg\")]\n",
        "    self.transform_=transform_\n",
        "\n",
        "    self.name_list.sort()\n",
        "    self.label=scipy.io.loadmat(label_file)[\"labels\"].flatten()-1\n",
        "  def __len__(self):\n",
        "    return len(self.name_list)\n",
        "\n",
        "  def __getitem__(self,inx):\n",
        "    name1=self.name_list[inx]\n",
        "    image_path=os.path.join(self.image_dir,name1)\n",
        "    target_label=self.label[inx]\n",
        "    target_iamge=Image.open(image_path).convert(\"RGB\")\n",
        "\n",
        "    return self.transform_(target_iamge),torch.tensor(target_label,dtype=torch.long)\n",
        "\n"
      ],
      "metadata": {
        "id": "Ztq3wuqQXRHI"
      },
      "execution_count": 20,
      "outputs": []
    },
    {
      "cell_type": "code",
      "source": [
        "dataset=flower101(image_dir,\"/content/imagelabels.mat\",transforms_)\n",
        "\n",
        "dataloader = DataLoader(dataset, batch_size=64, shuffle=True)\n"
      ],
      "metadata": {
        "id": "3uiS2vK7ybBT"
      },
      "execution_count": 21,
      "outputs": []
    },
    {
      "cell_type": "markdown",
      "source": [
        "But in a first layer we didn't use it because uh, the, the first layer of the discriminator processes\n",
        "\n",
        "a raw input data, which can be noisy.\n",
        "\n",
        "And applying BatchNorm directly to this raw input could potentially normalize away useful features that\n",
        "\n",
        "are essential for distinguishing real image from generated ones.\n",
        "\n",
        "1. Smooth Transition of Features:\n",
        "Each layer of the generator refines the features from the previous layer. Early layers handle abstract, high-level patterns (like shapes or textures), while later layers deal with finer details (like edges or colors).\n",
        "Gradually reducing the channels ensures a smooth transition from abstract features to specific, meaningful patterns. A sudden reduction would discard too much information and likely result in poor-quality outputs.\n",
        "\n",
        "Preserving Rich Information:\n",
        "High-dimensional features (many channels) in early layers carry a wide variety of information needed to generate realistic details.\n",
        "If the channels were suddenly reduced, the generator might lose important information required to reconstruct the final image.\n",
        "\n",
        "\n",
        "Spatially, you focus narrows or dimension decrease, but you consider more aspects, which is the channel\n",
        "\n",
        "increase.\n",
        "\n",
        "So this was just an example.\n",
        "\n",
        "combines and refines these features, reducing redundancy and focusing on essential\n",
        "details needed\n",
        "\n",
        "from the image.\n",
        "\n"
      ],
      "metadata": {
        "id": "G4dfQhrFIaEy"
      }
    },
    {
      "cell_type": "code",
      "source": [
        "num_classes = 102\n",
        "class generator(nn.Module):\n",
        "  def __init__(self,latent_dim,label_dim):\n",
        "    super(generator,self).__init__()\n",
        "    self.embedding=nn.Embedding(num_classes, label_dim)\n",
        "    self.Sequential=nn.Sequential(nn.ConvTranspose2d(latent_dim+label_dim,512,4,1,0,bias=False),nn.BatchNorm2d(512),nn.ReLU(),\n",
        "                                  nn.ConvTranspose2d(512,256,4,2,1,bias=False),nn.BatchNorm2d(256),nn.ReLU(),\n",
        "                                  nn.ConvTranspose2d(256,128,4,2,1,bias=False),nn.BatchNorm2d(128),nn.ReLU(),\n",
        "                                  nn.ConvTranspose2d(128,64,4,2,1,bias=False),nn.BatchNorm2d(64),nn.ReLU(),\n",
        "                                  nn.ConvTranspose2d(64,3,4,2,1,bias=False),\n",
        "                                  nn.Tanh())\n",
        "\n",
        "  def forward(self,noise,label):\n",
        "    label_emd=self.embedding(label).unsqueeze(2).unsqueeze(3)   #label=(batch,embeddinglayer,1,1)\n",
        "    return self.Sequential(torch.cat((noise,label_emd),1))  #label has 4d and noise has 4d as well noise(batch,latent,1,1)\n",
        "\n",
        "\n",
        "class discriminator(nn.Module):\n",
        "  def __init__(self,label_dim):\n",
        "    super(discriminator,self).__init__()   #latent time is for nosie vector #extra information for label\n",
        "    self.embedding=nn.Embedding(num_classes, label_dim)\n",
        "    self.Sequential=nn.Sequential(nn.Conv2d(3+label_dim,64,4,2,1,bias=False),nn.LeakyReLU(0.2,inplace=True),  #not batch-normalizeise useful feature\n",
        "                                  nn.Conv2d(64,128,4,2,1,bias=False),nn.BatchNorm2d(128),nn.LeakyReLU(0.2,inplace=True),\n",
        "                                  nn.Conv2d(128,256,4,2,1,bias=False),nn.BatchNorm2d(256),nn.LeakyReLU(0.2,inplace=True),\n",
        "                                  nn.Conv2d(256,512,4,2,1,bias=False),nn.BatchNorm2d(512),nn.LeakyReLU(0.2,inplace=True),\n",
        "                                  nn.Conv2d(512,1,4,1,0,bias=False),\n",
        "                                  nn.Sigmoid())\n",
        "  def forward(self,input,label):\n",
        "    label_emd=self.embedding(label).unsqueeze(2).unsqueeze(3)\n",
        "    label_expand=label_emd.expand(label_emd.shape[0],label_emd.shape[1],input.size(2),input.size(3))\n",
        "\n",
        "\n",
        "    return self.Sequential(torch.cat((input,label_expand),1)).view(-1,1)\n",
        "    #img=(64,3,64,64) + ( 64,label_dim ,64,64)\n",
        "\n",
        "\n",
        "\n"
      ],
      "metadata": {
        "id": "MphhBftD1r7o"
      },
      "execution_count": 22,
      "outputs": []
    },
    {
      "cell_type": "code",
      "source": [
        "latent_dim=100\n",
        "label_dim=50\n",
        "num_classes=102\n",
        "device = 'cuda' if torch.cuda.is_available() else 'cpu'\n",
        "\n",
        "G=generator(latent_dim,label_dim).to(device)\n",
        "D=discriminator(label_dim).to(device)\n",
        "\n",
        "G_optim=torch.optim.Adam(G.parameters(),lr=0.0002)\n",
        "D_optim=torch.optim.Adam(D.parameters(),lr=0.0002)\n",
        "loss_fn=nn.BCELoss()\n"
      ],
      "metadata": {
        "id": "Z3tOgIM_tV2E"
      },
      "execution_count": 23,
      "outputs": []
    },
    {
      "cell_type": "code",
      "source": [
        "for epoch in range(100):\n",
        "  for i ,(input,label) in enumerate(dataloader):\n",
        "    batch_size=input.size(0)\n",
        "    noise_vector=torch.randn(batch_size,latent_dim,1,1,device=device)\n",
        "    label_input=label.to(device)\n",
        "    input=input.to(device)\n",
        "    #generator for D\n",
        "    fake_image=G(noise_vector,label_input)\n",
        "\n",
        "    real_output=D(input,label_input)\n",
        "\n",
        "    fake_output=D(fake_image.detach(),label_input)\n",
        "\n",
        "    real_label=torch.ones(batch_size,1,device=device)\n",
        "    fake_label=torch.zeros(batch_size,1,device=device)\n",
        "\n",
        "    D_loss_real=loss_fn(real_output,real_label)\n",
        "    D_loss_fake=loss_fn(fake_output,fake_label)\n",
        "\n",
        "    D_loss=(D_loss_real+D_loss_fake)*0.5\n",
        "\n",
        "    D_optim.zero_grad()\n",
        "    D_loss.backward()\n",
        "    D_optim.step()\n",
        "  ####################################################\n",
        "    G_optim.zero_grad()\n",
        "    noise_vector=torch.randn(batch_size,latent_dim,1,1,device=device)\n",
        "    fake_image=G(noise_vector,label_input)\n",
        "\n",
        "\n",
        "    fake_output=D(fake_image,label_input)\n",
        "\n",
        "    G_loss_fake=loss_fn(fake_output,real_label)\n",
        "\n",
        "    G_loss=G_loss_fake\n",
        "\n",
        "\n",
        "    G_loss.backward()\n",
        "    G_optim.step()\n",
        "  print (f\"We are in {epoch+1} |lost_G : {G_loss.item()} | lost_D : {D_loss.item()}\")\n"
      ],
      "metadata": {
        "id": "033coMfP3AIU",
        "colab": {
          "base_uri": "https://localhost:8080/",
          "height": 1000
        },
        "outputId": "7ad4cc9b-1aa0-40af-f72e-c78b6a7996c7"
      },
      "execution_count": 24,
      "outputs": [
        {
          "output_type": "stream",
          "name": "stdout",
          "text": [
            "We are in 1 |lost_G : 3.50449275970459 | lost_D : 0.36042240262031555\n",
            "We are in 2 |lost_G : 4.401219844818115 | lost_D : 0.07404661178588867\n",
            "We are in 3 |lost_G : 6.464813709259033 | lost_D : 0.10056091845035553\n",
            "We are in 4 |lost_G : 6.534204483032227 | lost_D : 0.022053971886634827\n",
            "We are in 5 |lost_G : 6.209323406219482 | lost_D : 0.11866077780723572\n",
            "We are in 6 |lost_G : 7.632361888885498 | lost_D : 0.023633962497115135\n",
            "We are in 7 |lost_G : 4.659491062164307 | lost_D : 0.16376987099647522\n",
            "We are in 8 |lost_G : 3.048154592514038 | lost_D : 0.07136330008506775\n",
            "We are in 9 |lost_G : 1.6829785108566284 | lost_D : 0.14957664906978607\n",
            "We are in 10 |lost_G : 5.988478183746338 | lost_D : 0.19450736045837402\n",
            "We are in 11 |lost_G : 6.707306385040283 | lost_D : 0.1356380432844162\n",
            "We are in 12 |lost_G : 2.4507386684417725 | lost_D : 0.2411803901195526\n",
            "We are in 13 |lost_G : 3.1665937900543213 | lost_D : 0.26796770095825195\n",
            "We are in 14 |lost_G : 2.7393922805786133 | lost_D : 0.1793912649154663\n",
            "We are in 15 |lost_G : 1.2689568996429443 | lost_D : 0.6306911706924438\n",
            "We are in 16 |lost_G : 3.8412344455718994 | lost_D : 0.19514307379722595\n",
            "We are in 17 |lost_G : 3.437551975250244 | lost_D : 0.23902837932109833\n",
            "We are in 18 |lost_G : 5.326676368713379 | lost_D : 0.1992502361536026\n",
            "We are in 19 |lost_G : 3.0218448638916016 | lost_D : 0.45528143644332886\n",
            "We are in 20 |lost_G : 9.825729370117188 | lost_D : 0.09264399111270905\n",
            "We are in 21 |lost_G : 4.371091365814209 | lost_D : 0.16841775178909302\n",
            "We are in 22 |lost_G : 3.590956926345825 | lost_D : 0.2376992106437683\n",
            "We are in 23 |lost_G : 1.4268993139266968 | lost_D : 0.6440584659576416\n",
            "We are in 24 |lost_G : 3.657534599304199 | lost_D : 0.3197930157184601\n",
            "We are in 25 |lost_G : 2.8307831287384033 | lost_D : 0.188719242811203\n",
            "We are in 26 |lost_G : 2.6012797355651855 | lost_D : 0.10390147566795349\n",
            "We are in 27 |lost_G : 3.2862372398376465 | lost_D : 0.22145113348960876\n",
            "We are in 28 |lost_G : 5.712862014770508 | lost_D : 0.24630959331989288\n",
            "We are in 29 |lost_G : 4.272400379180908 | lost_D : 0.04234530031681061\n",
            "We are in 30 |lost_G : 2.943190813064575 | lost_D : 0.09083424508571625\n",
            "We are in 31 |lost_G : 2.9341752529144287 | lost_D : 0.20685067772865295\n",
            "We are in 32 |lost_G : 3.857055425643921 | lost_D : 0.15840090811252594\n",
            "We are in 33 |lost_G : 2.5659258365631104 | lost_D : 0.37009090185165405\n",
            "We are in 34 |lost_G : 4.0747222900390625 | lost_D : 0.1602267622947693\n",
            "We are in 35 |lost_G : 3.0666582584381104 | lost_D : 0.1310889720916748\n",
            "We are in 36 |lost_G : 4.328640937805176 | lost_D : 0.16718031466007233\n",
            "We are in 37 |lost_G : 5.597718238830566 | lost_D : 0.337849497795105\n",
            "We are in 38 |lost_G : 2.3720076084136963 | lost_D : 0.15313772857189178\n",
            "We are in 39 |lost_G : 2.3486239910125732 | lost_D : 0.3014352023601532\n",
            "We are in 40 |lost_G : 3.4089579582214355 | lost_D : 0.19520865380764008\n",
            "We are in 41 |lost_G : 3.6429290771484375 | lost_D : 0.3403894901275635\n",
            "We are in 42 |lost_G : 2.9706006050109863 | lost_D : 0.20688581466674805\n",
            "We are in 43 |lost_G : 2.129481554031372 | lost_D : 0.2726048529148102\n",
            "We are in 44 |lost_G : 3.992422580718994 | lost_D : 0.07772624492645264\n",
            "We are in 45 |lost_G : 5.035143852233887 | lost_D : 0.25749993324279785\n",
            "We are in 46 |lost_G : 3.2805182933807373 | lost_D : 0.3619913160800934\n"
          ]
        },
        {
          "output_type": "error",
          "ename": "KeyboardInterrupt",
          "evalue": "",
          "traceback": [
            "\u001b[0;31m---------------------------------------------------------------------------\u001b[0m",
            "\u001b[0;31mKeyboardInterrupt\u001b[0m                         Traceback (most recent call last)",
            "\u001b[0;32m<ipython-input-24-5b31c8f995ba>\u001b[0m in \u001b[0;36m<cell line: 0>\u001b[0;34m()\u001b[0m\n\u001b[1;32m      1\u001b[0m \u001b[0;32mfor\u001b[0m \u001b[0mepoch\u001b[0m \u001b[0;32min\u001b[0m \u001b[0mrange\u001b[0m\u001b[0;34m(\u001b[0m\u001b[0;36m100\u001b[0m\u001b[0;34m)\u001b[0m\u001b[0;34m:\u001b[0m\u001b[0;34m\u001b[0m\u001b[0;34m\u001b[0m\u001b[0m\n\u001b[0;32m----> 2\u001b[0;31m   \u001b[0;32mfor\u001b[0m \u001b[0mi\u001b[0m \u001b[0;34m,\u001b[0m\u001b[0;34m(\u001b[0m\u001b[0minput\u001b[0m\u001b[0;34m,\u001b[0m\u001b[0mlabel\u001b[0m\u001b[0;34m)\u001b[0m \u001b[0;32min\u001b[0m \u001b[0menumerate\u001b[0m\u001b[0;34m(\u001b[0m\u001b[0mdataloader\u001b[0m\u001b[0;34m)\u001b[0m\u001b[0;34m:\u001b[0m\u001b[0;34m\u001b[0m\u001b[0;34m\u001b[0m\u001b[0m\n\u001b[0m\u001b[1;32m      3\u001b[0m     \u001b[0mbatch_size\u001b[0m\u001b[0;34m=\u001b[0m\u001b[0minput\u001b[0m\u001b[0;34m.\u001b[0m\u001b[0msize\u001b[0m\u001b[0;34m(\u001b[0m\u001b[0;36m0\u001b[0m\u001b[0;34m)\u001b[0m\u001b[0;34m\u001b[0m\u001b[0;34m\u001b[0m\u001b[0m\n\u001b[1;32m      4\u001b[0m     \u001b[0mnoise_vector\u001b[0m\u001b[0;34m=\u001b[0m\u001b[0mtorch\u001b[0m\u001b[0;34m.\u001b[0m\u001b[0mrandn\u001b[0m\u001b[0;34m(\u001b[0m\u001b[0mbatch_size\u001b[0m\u001b[0;34m,\u001b[0m\u001b[0mlatent_dim\u001b[0m\u001b[0;34m,\u001b[0m\u001b[0;36m1\u001b[0m\u001b[0;34m,\u001b[0m\u001b[0;36m1\u001b[0m\u001b[0;34m,\u001b[0m\u001b[0mdevice\u001b[0m\u001b[0;34m=\u001b[0m\u001b[0mdevice\u001b[0m\u001b[0;34m)\u001b[0m\u001b[0;34m\u001b[0m\u001b[0;34m\u001b[0m\u001b[0m\n\u001b[1;32m      5\u001b[0m     \u001b[0mlabel_input\u001b[0m\u001b[0;34m=\u001b[0m\u001b[0mlabel\u001b[0m\u001b[0;34m.\u001b[0m\u001b[0mto\u001b[0m\u001b[0;34m(\u001b[0m\u001b[0mdevice\u001b[0m\u001b[0;34m)\u001b[0m\u001b[0;34m\u001b[0m\u001b[0;34m\u001b[0m\u001b[0m\n",
            "\u001b[0;32m/usr/local/lib/python3.11/dist-packages/torch/utils/data/dataloader.py\u001b[0m in \u001b[0;36m__next__\u001b[0;34m(self)\u001b[0m\n\u001b[1;32m    699\u001b[0m                 \u001b[0;31m# TODO(https://github.com/pytorch/pytorch/issues/76750)\u001b[0m\u001b[0;34m\u001b[0m\u001b[0;34m\u001b[0m\u001b[0m\n\u001b[1;32m    700\u001b[0m                 \u001b[0mself\u001b[0m\u001b[0;34m.\u001b[0m\u001b[0m_reset\u001b[0m\u001b[0;34m(\u001b[0m\u001b[0;34m)\u001b[0m  \u001b[0;31m# type: ignore[call-arg]\u001b[0m\u001b[0;34m\u001b[0m\u001b[0;34m\u001b[0m\u001b[0m\n\u001b[0;32m--> 701\u001b[0;31m             \u001b[0mdata\u001b[0m \u001b[0;34m=\u001b[0m \u001b[0mself\u001b[0m\u001b[0;34m.\u001b[0m\u001b[0m_next_data\u001b[0m\u001b[0;34m(\u001b[0m\u001b[0;34m)\u001b[0m\u001b[0;34m\u001b[0m\u001b[0;34m\u001b[0m\u001b[0m\n\u001b[0m\u001b[1;32m    702\u001b[0m             \u001b[0mself\u001b[0m\u001b[0;34m.\u001b[0m\u001b[0m_num_yielded\u001b[0m \u001b[0;34m+=\u001b[0m \u001b[0;36m1\u001b[0m\u001b[0;34m\u001b[0m\u001b[0;34m\u001b[0m\u001b[0m\n\u001b[1;32m    703\u001b[0m             if (\n",
            "\u001b[0;32m/usr/local/lib/python3.11/dist-packages/torch/utils/data/dataloader.py\u001b[0m in \u001b[0;36m_next_data\u001b[0;34m(self)\u001b[0m\n\u001b[1;32m    755\u001b[0m     \u001b[0;32mdef\u001b[0m \u001b[0m_next_data\u001b[0m\u001b[0;34m(\u001b[0m\u001b[0mself\u001b[0m\u001b[0;34m)\u001b[0m\u001b[0;34m:\u001b[0m\u001b[0;34m\u001b[0m\u001b[0;34m\u001b[0m\u001b[0m\n\u001b[1;32m    756\u001b[0m         \u001b[0mindex\u001b[0m \u001b[0;34m=\u001b[0m \u001b[0mself\u001b[0m\u001b[0;34m.\u001b[0m\u001b[0m_next_index\u001b[0m\u001b[0;34m(\u001b[0m\u001b[0;34m)\u001b[0m  \u001b[0;31m# may raise StopIteration\u001b[0m\u001b[0;34m\u001b[0m\u001b[0;34m\u001b[0m\u001b[0m\n\u001b[0;32m--> 757\u001b[0;31m         \u001b[0mdata\u001b[0m \u001b[0;34m=\u001b[0m \u001b[0mself\u001b[0m\u001b[0;34m.\u001b[0m\u001b[0m_dataset_fetcher\u001b[0m\u001b[0;34m.\u001b[0m\u001b[0mfetch\u001b[0m\u001b[0;34m(\u001b[0m\u001b[0mindex\u001b[0m\u001b[0;34m)\u001b[0m  \u001b[0;31m# may raise StopIteration\u001b[0m\u001b[0;34m\u001b[0m\u001b[0;34m\u001b[0m\u001b[0m\n\u001b[0m\u001b[1;32m    758\u001b[0m         \u001b[0;32mif\u001b[0m \u001b[0mself\u001b[0m\u001b[0;34m.\u001b[0m\u001b[0m_pin_memory\u001b[0m\u001b[0;34m:\u001b[0m\u001b[0;34m\u001b[0m\u001b[0;34m\u001b[0m\u001b[0m\n\u001b[1;32m    759\u001b[0m             \u001b[0mdata\u001b[0m \u001b[0;34m=\u001b[0m \u001b[0m_utils\u001b[0m\u001b[0;34m.\u001b[0m\u001b[0mpin_memory\u001b[0m\u001b[0;34m.\u001b[0m\u001b[0mpin_memory\u001b[0m\u001b[0;34m(\u001b[0m\u001b[0mdata\u001b[0m\u001b[0;34m,\u001b[0m \u001b[0mself\u001b[0m\u001b[0;34m.\u001b[0m\u001b[0m_pin_memory_device\u001b[0m\u001b[0;34m)\u001b[0m\u001b[0;34m\u001b[0m\u001b[0;34m\u001b[0m\u001b[0m\n",
            "\u001b[0;32m/usr/local/lib/python3.11/dist-packages/torch/utils/data/_utils/fetch.py\u001b[0m in \u001b[0;36mfetch\u001b[0;34m(self, possibly_batched_index)\u001b[0m\n\u001b[1;32m     50\u001b[0m                 \u001b[0mdata\u001b[0m \u001b[0;34m=\u001b[0m \u001b[0mself\u001b[0m\u001b[0;34m.\u001b[0m\u001b[0mdataset\u001b[0m\u001b[0;34m.\u001b[0m\u001b[0m__getitems__\u001b[0m\u001b[0;34m(\u001b[0m\u001b[0mpossibly_batched_index\u001b[0m\u001b[0;34m)\u001b[0m\u001b[0;34m\u001b[0m\u001b[0;34m\u001b[0m\u001b[0m\n\u001b[1;32m     51\u001b[0m             \u001b[0;32melse\u001b[0m\u001b[0;34m:\u001b[0m\u001b[0;34m\u001b[0m\u001b[0;34m\u001b[0m\u001b[0m\n\u001b[0;32m---> 52\u001b[0;31m                 \u001b[0mdata\u001b[0m \u001b[0;34m=\u001b[0m \u001b[0;34m[\u001b[0m\u001b[0mself\u001b[0m\u001b[0;34m.\u001b[0m\u001b[0mdataset\u001b[0m\u001b[0;34m[\u001b[0m\u001b[0midx\u001b[0m\u001b[0;34m]\u001b[0m \u001b[0;32mfor\u001b[0m \u001b[0midx\u001b[0m \u001b[0;32min\u001b[0m \u001b[0mpossibly_batched_index\u001b[0m\u001b[0;34m]\u001b[0m\u001b[0;34m\u001b[0m\u001b[0;34m\u001b[0m\u001b[0m\n\u001b[0m\u001b[1;32m     53\u001b[0m         \u001b[0;32melse\u001b[0m\u001b[0;34m:\u001b[0m\u001b[0;34m\u001b[0m\u001b[0;34m\u001b[0m\u001b[0m\n\u001b[1;32m     54\u001b[0m             \u001b[0mdata\u001b[0m \u001b[0;34m=\u001b[0m \u001b[0mself\u001b[0m\u001b[0;34m.\u001b[0m\u001b[0mdataset\u001b[0m\u001b[0;34m[\u001b[0m\u001b[0mpossibly_batched_index\u001b[0m\u001b[0;34m]\u001b[0m\u001b[0;34m\u001b[0m\u001b[0;34m\u001b[0m\u001b[0m\n",
            "\u001b[0;32m/usr/local/lib/python3.11/dist-packages/torch/utils/data/_utils/fetch.py\u001b[0m in \u001b[0;36m<listcomp>\u001b[0;34m(.0)\u001b[0m\n\u001b[1;32m     50\u001b[0m                 \u001b[0mdata\u001b[0m \u001b[0;34m=\u001b[0m \u001b[0mself\u001b[0m\u001b[0;34m.\u001b[0m\u001b[0mdataset\u001b[0m\u001b[0;34m.\u001b[0m\u001b[0m__getitems__\u001b[0m\u001b[0;34m(\u001b[0m\u001b[0mpossibly_batched_index\u001b[0m\u001b[0;34m)\u001b[0m\u001b[0;34m\u001b[0m\u001b[0;34m\u001b[0m\u001b[0m\n\u001b[1;32m     51\u001b[0m             \u001b[0;32melse\u001b[0m\u001b[0;34m:\u001b[0m\u001b[0;34m\u001b[0m\u001b[0;34m\u001b[0m\u001b[0m\n\u001b[0;32m---> 52\u001b[0;31m                 \u001b[0mdata\u001b[0m \u001b[0;34m=\u001b[0m \u001b[0;34m[\u001b[0m\u001b[0mself\u001b[0m\u001b[0;34m.\u001b[0m\u001b[0mdataset\u001b[0m\u001b[0;34m[\u001b[0m\u001b[0midx\u001b[0m\u001b[0;34m]\u001b[0m \u001b[0;32mfor\u001b[0m \u001b[0midx\u001b[0m \u001b[0;32min\u001b[0m \u001b[0mpossibly_batched_index\u001b[0m\u001b[0;34m]\u001b[0m\u001b[0;34m\u001b[0m\u001b[0;34m\u001b[0m\u001b[0m\n\u001b[0m\u001b[1;32m     53\u001b[0m         \u001b[0;32melse\u001b[0m\u001b[0;34m:\u001b[0m\u001b[0;34m\u001b[0m\u001b[0;34m\u001b[0m\u001b[0m\n\u001b[1;32m     54\u001b[0m             \u001b[0mdata\u001b[0m \u001b[0;34m=\u001b[0m \u001b[0mself\u001b[0m\u001b[0;34m.\u001b[0m\u001b[0mdataset\u001b[0m\u001b[0;34m[\u001b[0m\u001b[0mpossibly_batched_index\u001b[0m\u001b[0;34m]\u001b[0m\u001b[0;34m\u001b[0m\u001b[0;34m\u001b[0m\u001b[0m\n",
            "\u001b[0;32m<ipython-input-20-f8d3d454014b>\u001b[0m in \u001b[0;36m__getitem__\u001b[0;34m(self, inx)\u001b[0m\n\u001b[1;32m     14\u001b[0m     \u001b[0mimage_path\u001b[0m\u001b[0;34m=\u001b[0m\u001b[0mos\u001b[0m\u001b[0;34m.\u001b[0m\u001b[0mpath\u001b[0m\u001b[0;34m.\u001b[0m\u001b[0mjoin\u001b[0m\u001b[0;34m(\u001b[0m\u001b[0mself\u001b[0m\u001b[0;34m.\u001b[0m\u001b[0mimage_dir\u001b[0m\u001b[0;34m,\u001b[0m\u001b[0mname1\u001b[0m\u001b[0;34m)\u001b[0m\u001b[0;34m\u001b[0m\u001b[0;34m\u001b[0m\u001b[0m\n\u001b[1;32m     15\u001b[0m     \u001b[0mtarget_label\u001b[0m\u001b[0;34m=\u001b[0m\u001b[0mself\u001b[0m\u001b[0;34m.\u001b[0m\u001b[0mlabel\u001b[0m\u001b[0;34m[\u001b[0m\u001b[0minx\u001b[0m\u001b[0;34m]\u001b[0m\u001b[0;34m\u001b[0m\u001b[0;34m\u001b[0m\u001b[0m\n\u001b[0;32m---> 16\u001b[0;31m     \u001b[0mtarget_iamge\u001b[0m\u001b[0;34m=\u001b[0m\u001b[0mImage\u001b[0m\u001b[0;34m.\u001b[0m\u001b[0mopen\u001b[0m\u001b[0;34m(\u001b[0m\u001b[0mimage_path\u001b[0m\u001b[0;34m)\u001b[0m\u001b[0;34m.\u001b[0m\u001b[0mconvert\u001b[0m\u001b[0;34m(\u001b[0m\u001b[0;34m\"RGB\"\u001b[0m\u001b[0;34m)\u001b[0m\u001b[0;34m\u001b[0m\u001b[0;34m\u001b[0m\u001b[0m\n\u001b[0m\u001b[1;32m     17\u001b[0m \u001b[0;34m\u001b[0m\u001b[0m\n\u001b[1;32m     18\u001b[0m     \u001b[0;32mreturn\u001b[0m \u001b[0mself\u001b[0m\u001b[0;34m.\u001b[0m\u001b[0mtransform_\u001b[0m\u001b[0;34m(\u001b[0m\u001b[0mtarget_iamge\u001b[0m\u001b[0;34m)\u001b[0m\u001b[0;34m,\u001b[0m\u001b[0mtorch\u001b[0m\u001b[0;34m.\u001b[0m\u001b[0mtensor\u001b[0m\u001b[0;34m(\u001b[0m\u001b[0mtarget_label\u001b[0m\u001b[0;34m,\u001b[0m\u001b[0mdtype\u001b[0m\u001b[0;34m=\u001b[0m\u001b[0mtorch\u001b[0m\u001b[0;34m.\u001b[0m\u001b[0mlong\u001b[0m\u001b[0;34m)\u001b[0m\u001b[0;34m\u001b[0m\u001b[0;34m\u001b[0m\u001b[0m\n",
            "\u001b[0;32m/usr/local/lib/python3.11/dist-packages/PIL/Image.py\u001b[0m in \u001b[0;36mconvert\u001b[0;34m(self, mode, matrix, dither, palette, colors)\u001b[0m\n\u001b[1;32m    994\u001b[0m                 \u001b[0mmode\u001b[0m \u001b[0;34m=\u001b[0m \u001b[0;34m\"RGBA\"\u001b[0m\u001b[0;34m\u001b[0m\u001b[0;34m\u001b[0m\u001b[0m\n\u001b[1;32m    995\u001b[0m         \u001b[0;32mif\u001b[0m \u001b[0;32mnot\u001b[0m \u001b[0mmode\u001b[0m \u001b[0;32mor\u001b[0m \u001b[0;34m(\u001b[0m\u001b[0mmode\u001b[0m \u001b[0;34m==\u001b[0m \u001b[0mself\u001b[0m\u001b[0;34m.\u001b[0m\u001b[0mmode\u001b[0m \u001b[0;32mand\u001b[0m \u001b[0;32mnot\u001b[0m \u001b[0mmatrix\u001b[0m\u001b[0;34m)\u001b[0m\u001b[0;34m:\u001b[0m\u001b[0;34m\u001b[0m\u001b[0;34m\u001b[0m\u001b[0m\n\u001b[0;32m--> 996\u001b[0;31m             \u001b[0;32mreturn\u001b[0m \u001b[0mself\u001b[0m\u001b[0;34m.\u001b[0m\u001b[0mcopy\u001b[0m\u001b[0;34m(\u001b[0m\u001b[0;34m)\u001b[0m\u001b[0;34m\u001b[0m\u001b[0;34m\u001b[0m\u001b[0m\n\u001b[0m\u001b[1;32m    997\u001b[0m \u001b[0;34m\u001b[0m\u001b[0m\n\u001b[1;32m    998\u001b[0m         \u001b[0;32mif\u001b[0m \u001b[0mmatrix\u001b[0m\u001b[0;34m:\u001b[0m\u001b[0;34m\u001b[0m\u001b[0;34m\u001b[0m\u001b[0m\n",
            "\u001b[0;32m/usr/local/lib/python3.11/dist-packages/PIL/Image.py\u001b[0m in \u001b[0;36mcopy\u001b[0;34m(self)\u001b[0m\n\u001b[1;32m   1272\u001b[0m         \"\"\"\n\u001b[1;32m   1273\u001b[0m         \u001b[0mself\u001b[0m\u001b[0;34m.\u001b[0m\u001b[0mload\u001b[0m\u001b[0;34m(\u001b[0m\u001b[0;34m)\u001b[0m\u001b[0;34m\u001b[0m\u001b[0;34m\u001b[0m\u001b[0m\n\u001b[0;32m-> 1274\u001b[0;31m         \u001b[0;32mreturn\u001b[0m \u001b[0mself\u001b[0m\u001b[0;34m.\u001b[0m\u001b[0m_new\u001b[0m\u001b[0;34m(\u001b[0m\u001b[0mself\u001b[0m\u001b[0;34m.\u001b[0m\u001b[0mim\u001b[0m\u001b[0;34m.\u001b[0m\u001b[0mcopy\u001b[0m\u001b[0;34m(\u001b[0m\u001b[0;34m)\u001b[0m\u001b[0;34m)\u001b[0m\u001b[0;34m\u001b[0m\u001b[0;34m\u001b[0m\u001b[0m\n\u001b[0m\u001b[1;32m   1275\u001b[0m \u001b[0;34m\u001b[0m\u001b[0m\n\u001b[1;32m   1276\u001b[0m     \u001b[0m__copy__\u001b[0m \u001b[0;34m=\u001b[0m \u001b[0mcopy\u001b[0m\u001b[0;34m\u001b[0m\u001b[0;34m\u001b[0m\u001b[0m\n",
            "\u001b[0;31mKeyboardInterrupt\u001b[0m: "
          ]
        }
      ]
    },
    {
      "cell_type": "code",
      "source": [
        "def create_image(label_input,G=G):\n",
        "  G.eval()\n",
        "  noise_vector=torch.randn(1,latent_dim,1,1,device=device)\n",
        "  label_input=torch.tensor([label_input]).to(torch.int64).to(device)\n",
        "  with torch.no_grad():\n",
        "      fake_image=G(noise_vector,label_input)\n",
        "      fake_image=fake_image.detach().cpu().squeeze().permute(1,2,0).numpy()\n",
        "      fake_image=(fake_image+1)/2\n",
        "\n",
        "  import numpy as np\n",
        "  import matplotlib.pyplot as plt\n",
        "  plt.imshow(fake_image)\n",
        "  plt.axis(\"off\")\n",
        "  plt.show()\n",
        "\n",
        "\n"
      ],
      "metadata": {
        "id": "eKyPf1poLn-_"
      },
      "execution_count": 25,
      "outputs": []
    },
    {
      "cell_type": "code",
      "source": [
        "import random\n",
        "create_image(random.randint(0, 101),G=G)"
      ],
      "metadata": {
        "id": "I4BoVYPnLoIn",
        "colab": {
          "base_uri": "https://localhost:8080/",
          "height": 406
        },
        "outputId": "faf550df-b3bd-4030-db19-77213b1f9a39"
      },
      "execution_count": 34,
      "outputs": [
        {
          "output_type": "display_data",
          "data": {
            "text/plain": [
              "<Figure size 640x480 with 1 Axes>"
            ],
            "image/png": "[encoded data removed]"
          },
          "metadata": {}
        }
      ]
    },
    {
      "cell_type": "code",
      "source": [],
      "metadata": {
        "id": "M6yWTfn33Adz"
      },
      "execution_count": null,
      "outputs": []
    }
  ]
}